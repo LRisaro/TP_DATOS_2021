{
  "nbformat": 4,
  "nbformat_minor": 0,
  "metadata": {
    "colab": {
      "name": "SVM_Modelo.ipynb",
      "provenance": []
    },
    "kernelspec": {
      "display_name": "Python 3",
      "name": "python3"
    },
    "language_info": {
      "name": "python"
    }
  },
  "cells": [
    {
      "cell_type": "markdown",
      "metadata": {
        "id": "pypfX0rzAsRy"
      },
      "source": [
        "# SVM Modelo"
      ]
    },
    {
      "cell_type": "code",
      "metadata": {
        "id": "rEm2GOBvApR0"
      },
      "source": [
        "import pandas as pd\n",
        "import preprocessing as pp\n",
        "from sklearn.svm import SVC\n",
        "from sklearn.preprocessing import OrdinalEncoder\n",
        "from sklearn.metrics import accuracy_score\n",
        "from sklearn.model_selection import train_test_split\n",
        "from sklearn.metrics import precision_score\n",
        "from sklearn.metrics import recall_score\n",
        "from sklearn.metrics import f1_score\n",
        "from sklearn.metrics import confusion_matrix\n",
        "import matplotlib.pyplot as plt\n",
        "from sklearn.metrics import roc_curve, auc\n",
        "from sklearn.metrics import roc_auc_score"
      ],
      "execution_count": 1,
      "outputs": []
    },
    {
      "cell_type": "code",
      "metadata": {
        "id": "ZLlPYnhRAwcc"
      },
      "source": [
        "# Devuelve set de datos en un dataframe\n",
        "def getDataTrain():\n",
        "  return pd.read_csv(\"https://docs.google.com/spreadsheets/d/1-DWTP8uwVS-dZY402-dm0F9ICw_6PNqDGLmH0u8Eqa0/export?format=csv&gid=2054774482\") "
      ],
      "execution_count": 2,
      "outputs": []
    },
    {
      "cell_type": "code",
      "metadata": {
        "id": "xIuk89UL8j3N"
      },
      "source": [
        "# Devuelve set de datos para predecir en un dataframe\n",
        "def getDataValidation():\n",
        "  return pd.read_csv(\"https://docs.google.com/spreadsheets/d/1ObsojtXfzvwicsFieGINPx500oGbUoaVTERTc69pzxE/export?format=csv&gid=972751642\")  "
      ],
      "execution_count": 3,
      "outputs": []
    },
    {
      "cell_type": "code",
      "metadata": {
        "id": "fcbA_cESsbNy"
      },
      "source": [
        "# Devuelve el archivo de salida con las predicciones\n",
        "def getResult(predictions_final, file_name):\n",
        "  pd_predictions_final = pd.DataFrame(columns=[\"id\", \"tiene_alto_valor_adquisitivo\"])\n",
        "  pd_predictions_final.tiene_alto_valor_adquisitivo = predictions_final\n",
        "  pd_predictions_final['id'] = pd_predictions_final.index + 1\n",
        "  pd_predictions_final.set_index('id', inplace=True)\n",
        "  pd_predictions_final.to_csv(file_name)"
      ],
      "execution_count": 4,
      "outputs": []
    },
    {
      "cell_type": "code",
      "metadata": {
        "id": "EBjBmYum8vfq"
      },
      "source": [
        "# Divido el set en entrenamiento y validacion\n",
        "def getSetEntrenamientoYTest():\n",
        "  dfTrain = getDataTrain()\n",
        "  dfTrain_feature_engineering = pp.feature_engineering_KNN_SVM_Naive_Bayes(dfTrain)\n",
        "  X = dfTrain_feature_engineering.drop(columns = 'tiene_alto_valor_adquisitivo')\n",
        "  y = dfTrain_feature_engineering.tiene_alto_valor_adquisitivo\n",
        "  X_train, X_test, y_train, y_test = train_test_split(X, y, test_size=0.20)\n",
        "  return X_train, X_test, y_train, y_test"
      ],
      "execution_count": 5,
      "outputs": []
    },
    {
      "cell_type": "markdown",
      "metadata": {
        "id": "luT3-vGo9cOy"
      },
      "source": [
        "# Entrenamiento SVM "
      ]
    },
    {
      "cell_type": "code",
      "metadata": {
        "id": "XZf4w6ho9bgA"
      },
      "source": [
        "X_train, X_test, y_train, y_test = getSetEntrenamientoYTest()"
      ],
      "execution_count": 6,
      "outputs": []
    },
    {
      "cell_type": "code",
      "metadata": {
        "id": "UiZU2BUh9noB"
      },
      "source": [
        "clf = SVC()\n",
        "clf.fit(X_train, y_train)\n",
        "y_pred = clf.predict(X_test)"
      ],
      "execution_count": 7,
      "outputs": []
    },
    {
      "cell_type": "markdown",
      "metadata": {
        "id": "LO_tsM1Q-Bia"
      },
      "source": [
        "# Metricas"
      ]
    },
    {
      "cell_type": "code",
      "metadata": {
        "id": "F1W12tcV-C4D"
      },
      "source": [
        "def plot_roc(_fpr, _tpr, x):\n",
        "    roc_auc = auc(_fpr, _tpr)\n",
        "\n",
        "    plt.figure(figsize=(15, 10))\n",
        "    plt.plot(_fpr, _tpr, color='darkorange', lw=2, label=f'ROC curve (area = {roc_auc:.2f})')\n",
        "    plt.scatter(_fpr, x)\n",
        "    plt.plot([0, 1], [0, 1], color='navy', lw=2, linestyle='--')\n",
        "    plt.xlim([0.0, 1.0])\n",
        "    plt.ylim([0.0, 1.05])\n",
        "    plt.xlabel('False Positive Rate')\n",
        "    plt.ylabel('True Positive Rate')\n",
        "    plt.title('Receiver operating characteristic')\n",
        "    plt.legend(loc=\"lower right\")\n",
        "    plt.show()"
      ],
      "execution_count": 8,
      "outputs": []
    },
    {
      "cell_type": "markdown",
      "metadata": {
        "id": "jvuJVw7i-mHk"
      },
      "source": [
        "# Accuracy"
      ]
    },
    {
      "cell_type": "code",
      "metadata": {
        "colab": {
          "base_uri": "https://localhost:8080/"
        },
        "id": "pNV1QGp8-j62",
        "outputId": "2b7703eb-4ed6-4560-ccd7-276bfc7489dd"
      },
      "source": [
        "accuracy_score(y_test, y_pred)"
      ],
      "execution_count": 9,
      "outputs": [
        {
          "output_type": "execute_result",
          "data": {
            "text/plain": [
              "0.8363273453093812"
            ]
          },
          "metadata": {
            "tags": []
          },
          "execution_count": 9
        }
      ]
    },
    {
      "cell_type": "markdown",
      "metadata": {
        "id": "c2q4JpF6-zrQ"
      },
      "source": [
        "# Precision"
      ]
    },
    {
      "cell_type": "code",
      "metadata": {
        "colab": {
          "base_uri": "https://localhost:8080/"
        },
        "id": "MjD2-JN0-osj",
        "outputId": "ef71a01c-a288-4662-aa19-213b906fe874"
      },
      "source": [
        "precision_score(y_test, y_pred)"
      ],
      "execution_count": 10,
      "outputs": [
        {
          "output_type": "execute_result",
          "data": {
            "text/plain": [
              "0.7444551591128254"
            ]
          },
          "metadata": {
            "tags": []
          },
          "execution_count": 10
        }
      ]
    },
    {
      "cell_type": "markdown",
      "metadata": {
        "id": "laLLLRQp-33m"
      },
      "source": [
        "# Recall"
      ]
    },
    {
      "cell_type": "code",
      "metadata": {
        "colab": {
          "base_uri": "https://localhost:8080/"
        },
        "id": "t2SWqt2a-1q6",
        "outputId": "ba76c14e-0304-49f9-ff22-45c9408f0d36"
      },
      "source": [
        "recall_score(y_test, y_pred, pos_label=0)"
      ],
      "execution_count": 11,
      "outputs": [
        {
          "output_type": "execute_result",
          "data": {
            "text/plain": [
              "0.9463562753036437"
            ]
          },
          "metadata": {
            "tags": []
          },
          "execution_count": 11
        }
      ]
    },
    {
      "cell_type": "markdown",
      "metadata": {
        "id": "labXGvFh_CpM"
      },
      "source": [
        "# F1 Score"
      ]
    },
    {
      "cell_type": "code",
      "metadata": {
        "colab": {
          "base_uri": "https://localhost:8080/"
        },
        "id": "xUl31AQL-94w",
        "outputId": "335f5a66-1b01-45b3-978e-df6a72218baa"
      },
      "source": [
        "f1_score(y_test, y_pred)"
      ],
      "execution_count": 12,
      "outputs": [
        {
          "output_type": "execute_result",
          "data": {
            "text/plain": [
              "0.5915708812260536"
            ]
          },
          "metadata": {
            "tags": []
          },
          "execution_count": 12
        }
      ]
    },
    {
      "cell_type": "markdown",
      "metadata": {
        "id": "AfiDCz9O_IJC"
      },
      "source": [
        "# Matriz de confusion"
      ]
    },
    {
      "cell_type": "code",
      "metadata": {
        "colab": {
          "base_uri": "https://localhost:8080/"
        },
        "id": "_PDUVjD2_Fpp",
        "outputId": "0bd4e067-8849-4b25-8817-3c809fa4c675"
      },
      "source": [
        "confusion_matrix(y_test, y_pred)"
      ],
      "execution_count": 13,
      "outputs": [
        {
          "output_type": "execute_result",
          "data": {
            "text/plain": [
              "array([[4675,  265],\n",
              "       [ 801,  772]])"
            ]
          },
          "metadata": {
            "tags": []
          },
          "execution_count": 13
        }
      ]
    },
    {
      "cell_type": "markdown",
      "metadata": {
        "id": "y9B3d2aXAA2T"
      },
      "source": [
        "# AUC-ROC"
      ]
    },
    {
      "cell_type": "code",
      "metadata": {
        "colab": {
          "base_uri": "https://localhost:8080/",
          "height": 639
        },
        "id": "Gtxj_6Ay_KIN",
        "outputId": "fa7808ea-e7a9-42a7-f061-e12ee0638f6f"
      },
      "source": [
        "fpr, tpr, thresholds = roc_curve(y_test, y_pred)\n",
        "plot_roc(fpr, tpr, thresholds)\n",
        "display(roc_auc_score(y_test, y_pred))"
      ],
      "execution_count": 14,
      "outputs": [
        {
          "output_type": "display_data",
          "data": {
            "image/png": "[encoded data removed]",
            "text/plain": [
              "<Figure size 1080x720 with 1 Axes>"
            ]
          },
          "metadata": {
            "tags": [],
            "needs_background": "light"
          }
        },
        {
          "output_type": "display_data",
          "data": {
            "text/plain": [
              "0.7185691103155218"
            ]
          },
          "metadata": {
            "tags": []
          }
        }
      ]
    },
    {
      "cell_type": "markdown",
      "metadata": {
        "id": "X9_WSb8zAHOK"
      },
      "source": [
        "# Prediccion"
      ]
    },
    {
      "cell_type": "code",
      "metadata": {
        "colab": {
          "base_uri": "https://localhost:8080/"
        },
        "id": "cJVgCfXvAC-p",
        "outputId": "e0285220-36f6-4446-96ab-d0b961f9e298"
      },
      "source": [
        "# Obtengo el set para predecir\n",
        "dfObjetivo = getDataValidation()\n",
        "\n",
        "# Elimino columnas \"representatividad_poblacional\" y \"id\"\n",
        "dfObjetivo.drop(columns = ['representatividad_poblacional', 'id'], inplace = True)\n",
        "\n",
        "# Aplico feature engineering\n",
        "dfObjetivo_feature_engineering = pp.feature_engineering_KNN_SVM_Naive_Bayes(dfObjetivo)\n",
        "\n",
        "predicciones = clf.predict(dfObjetivo_feature_engineering)\n",
        "predicciones"
      ],
      "execution_count": 15,
      "outputs": [
        {
          "output_type": "execute_result",
          "data": {
            "text/plain": [
              "array([0, 0, 0, ..., 1, 1, 1])"
            ]
          },
          "metadata": {
            "tags": []
          },
          "execution_count": 15
        }
      ]
    },
    {
      "cell_type": "code",
      "metadata": {
        "id": "xBmIV_XutMV_"
      },
      "source": [
        "getResult(predicciones, 'pd_predictions_final_svm.csv')"
      ],
      "execution_count": 16,
      "outputs": []
    },
    {
      "cell_type": "markdown",
      "metadata": {
        "id": "-1UxXk0pAqqR"
      },
      "source": [
        "# Entrenamiento SVM con lineal kernel"
      ]
    },
    {
      "cell_type": "code",
      "metadata": {
        "id": "TvPK44qsBMzi"
      },
      "source": [
        "# X_train, X_val_dev, y_train, y_val_dev = getSetEntrenamientoYTest()\n",
        "# clf = SVC(kernel='linear', C=5843)\n",
        "# clf.fit(X_train, y_train)\n",
        "# y_pred = clf.predict(X_test)"
      ],
      "execution_count": 17,
      "outputs": []
    },
    {
      "cell_type": "markdown",
      "metadata": {
        "id": "_GViF4BIfR5k"
      },
      "source": [
        "## No termina la ejecucion con lineal kernel"
      ]
    },
    {
      "cell_type": "markdown",
      "metadata": {
        "id": "Bl8n5qnFf_iw"
      },
      "source": [
        "# Entrenamiento SVM con polinomial kernel"
      ]
    },
    {
      "cell_type": "code",
      "metadata": {
        "id": "8HoCUeJjfg3p"
      },
      "source": [
        "# X_train, X_val_dev, y_train, y_val_dev = getSetEntrenamientoYTest()\n",
        "# metrics = []\n",
        "# for c in range(1, 100, 10):\n",
        "#     for d in range(1, 100, 10):\n",
        "#         for g in range(1, 100, 10):\n",
        "#             for r in range(1, 100, 10):\n",
        "#                 clf = SVC(kernel='poly', C=c, degree=d, gamma=g, coef0=r)\n",
        "#                 clf.fit(X_train, y_train)\n",
        "#                 metrics.append(\n",
        "#                     (c, d, g, r, (clf.predict(X_val_dev) == y_val_dev).sum())\n",
        "#                 )\n",
        "\n",
        "# dd = pd.DataFrame(metrics, columns=['c', 'degree', 'gamma', 'r', 'correct_in_val-dev'])\n",
        "# dd[dd['correct_in_val-dev'] == dd['correct_in_val-dev'].max()]"
      ],
      "execution_count": 18,
      "outputs": []
    },
    {
      "cell_type": "markdown",
      "metadata": {
        "id": "5wQL6JB9hE8F"
      },
      "source": [
        "# Entrenamiento SVM con radial kernel"
      ]
    },
    {
      "cell_type": "code",
      "metadata": {
        "colab": {
          "base_uri": "https://localhost:8080/",
          "height": 81
        },
        "id": "SkqOqw4fgMd4",
        "outputId": "5607d7aa-86c4-4c73-d690-7324af40c4f4"
      },
      "source": [
        "X_train, X_val_dev, y_train, y_val_dev = getSetEntrenamientoYTest()\n",
        "\n",
        "metrics = []\n",
        "for c in range(1, 10, 10):\n",
        "    for g in range(1, 10, 10):\n",
        "        clf = SVC(kernel='rbf', C=c, gamma=g)\n",
        "        clf.fit(X_train, y_train)\n",
        "        metrics.append((c, g, (clf.predict(X_val_dev) == y_val_dev).sum()))\n",
        "\n",
        "dd = pd.DataFrame(metrics, columns=['c', 'gamma', 'correct_in_val-dev'])\n",
        "dd[dd['correct_in_val-dev'] == dd['correct_in_val-dev'].max()]"
      ],
      "execution_count": 19,
      "outputs": [
        {
          "output_type": "execute_result",
          "data": {
            "text/html": [
              "<div>\n",
              "<style scoped>\n",
              "    .dataframe tbody tr th:only-of-type {\n",
              "        vertical-align: middle;\n",
              "    }\n",
              "\n",
              "    .dataframe tbody tr th {\n",
              "        vertical-align: top;\n",
              "    }\n",
              "\n",
              "    .dataframe thead th {\n",
              "        text-align: right;\n",
              "    }\n",
              "</style>\n",
              "<table border=\"1\" class=\"dataframe\">\n",
              "  <thead>\n",
              "    <tr style=\"text-align: right;\">\n",
              "      <th></th>\n",
              "      <th>c</th>\n",
              "      <th>gamma</th>\n",
              "      <th>correct_in_val-dev</th>\n",
              "    </tr>\n",
              "  </thead>\n",
              "  <tbody>\n",
              "    <tr>\n",
              "      <th>0</th>\n",
              "      <td>1</td>\n",
              "      <td>1</td>\n",
              "      <td>5075</td>\n",
              "    </tr>\n",
              "  </tbody>\n",
              "</table>\n",
              "</div>"
            ],
            "text/plain": [
              "   c  gamma  correct_in_val-dev\n",
              "0  1      1                5075"
            ]
          },
          "metadata": {
            "tags": []
          },
          "execution_count": 19
        }
      ]
    },
    {
      "cell_type": "code",
      "metadata": {
        "colab": {
          "base_uri": "https://localhost:8080/"
        },
        "id": "TBzFXqVquwxx",
        "outputId": "bdc7fc99-8898-404b-8515-5b8a679e3891"
      },
      "source": [
        "clf = SVC(kernel='rbf', C=1, gamma=1)\n",
        "clf.fit(X_train, y_train)"
      ],
      "execution_count": 20,
      "outputs": [
        {
          "output_type": "execute_result",
          "data": {
            "text/plain": [
              "SVC(C=1, break_ties=False, cache_size=200, class_weight=None, coef0=0.0,\n",
              "    decision_function_shape='ovr', degree=3, gamma=1, kernel='rbf', max_iter=-1,\n",
              "    probability=False, random_state=None, shrinking=True, tol=0.001,\n",
              "    verbose=False)"
            ]
          },
          "metadata": {
            "tags": []
          },
          "execution_count": 20
        }
      ]
    },
    {
      "cell_type": "markdown",
      "metadata": {
        "id": "e_T_aJYXu-EQ"
      },
      "source": [
        "# Prediccion"
      ]
    },
    {
      "cell_type": "code",
      "metadata": {
        "colab": {
          "base_uri": "https://localhost:8080/"
        },
        "id": "mkDreoTuu-Og",
        "outputId": "b949acd4-ba2a-4237-95b5-1b6cc494a674"
      },
      "source": [
        "# Obtengo el set para predecir\n",
        "dfObjetivo = getDataValidation()\n",
        "\n",
        "# Elimino columnas \"representatividad_poblacional\" y \"id\"\n",
        "dfObjetivo.drop(columns = ['representatividad_poblacional', 'id'], inplace = True)\n",
        "\n",
        "# Aplico feature engineering\n",
        "dfObjetivo_feature_engineering = pp.feature_engineering_KNN_SVM_Naive_Bayes(dfObjetivo)\n",
        "\n",
        "predicciones = clf.predict(dfObjetivo_feature_engineering)\n",
        "predicciones"
      ],
      "execution_count": 21,
      "outputs": [
        {
          "output_type": "execute_result",
          "data": {
            "text/plain": [
              "array([0, 0, 0, ..., 0, 0, 0])"
            ]
          },
          "metadata": {
            "tags": []
          },
          "execution_count": 21
        }
      ]
    },
    {
      "cell_type": "code",
      "metadata": {
        "id": "9fK2zY3PhJKL"
      },
      "source": [
        "getResult(predicciones, 'pd_predictions_final_svm_radial_kernel.csv')"
      ],
      "execution_count": 22,
      "outputs": []
    }
  ]
}