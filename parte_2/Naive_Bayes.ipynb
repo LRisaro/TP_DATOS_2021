{
  "nbformat": 4,
  "nbformat_minor": 0,
  "metadata": {
    "colab": {
      "name": "Naive_Bayes.ipynb",
      "provenance": [],
      "collapsed_sections": []
    },
    "kernelspec": {
      "name": "python3",
      "display_name": "Python 3"
    },
    "language_info": {
      "name": "python"
    }
  },
  "cells": [
    {
      "cell_type": "markdown",
      "metadata": {
        "id": "mDSEUdBfgnPM"
      },
      "source": [
        "# Naive Bayes"
      ]
    },
    {
      "cell_type": "code",
      "metadata": {
        "id": "HIwpFVUdf0om"
      },
      "source": [
        "import pandas as pd\n",
        "import preprocessing as pp\n",
        "import formatPredictions as fp\n",
        "import metrics as m\n",
        "import datasets as datasets\n",
        "from sklearn.model_selection import RandomizedSearchCV\n",
        "from pprint import pprint\n",
        "\n",
        "# Importacion Naive Bayes\n",
        "from sklearn.naive_bayes import GaussianNB\n",
        "from sklearn.naive_bayes import MultinomialNB\n",
        "\n",
        "# Importacion preprocesamiento\n",
        "from sklearn.model_selection import train_test_split"
      ],
      "execution_count": 1,
      "outputs": []
    },
    {
      "cell_type": "markdown",
      "metadata": {
        "id": "mqevpG--L8Vc"
      },
      "source": [
        "# Analisis de hiperparametros\n"
      ]
    },
    {
      "cell_type": "markdown",
      "metadata": {
        "id": "jx92F2V2MDoJ"
      },
      "source": [
        "### Random Hyperparameter Grid con todos los features"
      ]
    },
    {
      "cell_type": "code",
      "metadata": {
        "id": "Hg0hO5lNQxaA"
      },
      "source": [
        "dfTrain = datasets.getDataTrain()\n",
        "dfTrain_feature_engineering = pp.preprocessing_con_todos_los_features(dfTrain)\n",
        "X = dfTrain_feature_engineering.drop(columns = 'tiene_alto_valor_adquisitivo')\n",
        "y = dfTrain_feature_engineering.tiene_alto_valor_adquisitivo\n",
        "X_train, X_test, y_train, y_test = train_test_split(X, y,  random_state = pp.GetSeedForTrainSplit(), test_size=0.20)"
      ],
      "execution_count": 2,
      "outputs": []
    },
    {
      "cell_type": "code",
      "metadata": {
        "id": "5H4DLvK3MH8c"
      },
      "source": [
        "alpha = [1, 1.5, 2, 2.5, 3, 3.5, 8.5, 10, 10.5]\n",
        "fit_prior = [True, False]\n"
      ],
      "execution_count": 3,
      "outputs": []
    },
    {
      "cell_type": "code",
      "metadata": {
        "id": "lgwQZpxQMJgl"
      },
      "source": [
        "# Creo la grilla de parametros\n",
        "random_grid = {'alpha': alpha,\n",
        "               'fit_prior': fit_prior}"
      ],
      "execution_count": 4,
      "outputs": []
    },
    {
      "cell_type": "code",
      "metadata": {
        "colab": {
          "base_uri": "https://localhost:8080/"
        },
        "id": "Xw5p23_vMLGt",
        "outputId": "682d27bf-c139-45b0-b513-6a5408ffb4bb"
      },
      "source": [
        "pprint(random_grid)"
      ],
      "execution_count": 5,
      "outputs": [
        {
          "output_type": "stream",
          "text": [
            "{'alpha': [1, 1.5, 2, 2.5, 3, 3.5, 8.5, 10, 10.5], 'fit_prior': [True, False]}\n"
          ],
          "name": "stdout"
        }
      ]
    },
    {
      "cell_type": "code",
      "metadata": {
        "id": "vd_QlWcNM8jt"
      },
      "source": [
        "# Creo el modelo\n",
        "mnb = MultinomialNB()"
      ],
      "execution_count": 6,
      "outputs": []
    },
    {
      "cell_type": "code",
      "metadata": {
        "id": "LsSSSTWJM--n"
      },
      "source": [
        "mnb_random = RandomizedSearchCV(estimator = mnb, param_distributions = random_grid, n_iter = 50, cv = 3, verbose=2, random_state= pp.GetSeedForTrainSplit(), n_jobs = -1)"
      ],
      "execution_count": 7,
      "outputs": []
    },
    {
      "cell_type": "code",
      "metadata": {
        "colab": {
          "base_uri": "https://localhost:8080/"
        },
        "id": "l6Q8GzufNAie",
        "outputId": "79ce5297-ec8d-42be-c845-667e2a28e753"
      },
      "source": [
        "mnb_random.fit(X_train, y_train)"
      ],
      "execution_count": 8,
      "outputs": [
        {
          "output_type": "stream",
          "text": [
            "Fitting 3 folds for each of 18 candidates, totalling 54 fits\n"
          ],
          "name": "stdout"
        },
        {
          "output_type": "stream",
          "text": [
            "/usr/local/lib/python3.7/dist-packages/sklearn/model_selection/_search.py:281: UserWarning: The total space of parameters 18 is smaller than n_iter=50. Running 18 iterations. For exhaustive searches, use GridSearchCV.\n",
            "  % (grid_size, self.n_iter, grid_size), UserWarning)\n",
            "[Parallel(n_jobs=-1)]: Using backend LokyBackend with 2 concurrent workers.\n",
            "[Parallel(n_jobs=-1)]: Done  54 out of  54 | elapsed:    2.4s finished\n"
          ],
          "name": "stderr"
        },
        {
          "output_type": "execute_result",
          "data": {
            "text/plain": [
              "RandomizedSearchCV(cv=3, error_score=nan,\n",
              "                   estimator=MultinomialNB(alpha=1.0, class_prior=None,\n",
              "                                           fit_prior=True),\n",
              "                   iid='deprecated', n_iter=50, n_jobs=-1,\n",
              "                   param_distributions={'alpha': [1, 1.5, 2, 2.5, 3, 3.5, 8.5,\n",
              "                                                  10, 10.5],\n",
              "                                        'fit_prior': [True, False]},\n",
              "                   pre_dispatch='2*n_jobs', random_state=15, refit=True,\n",
              "                   return_train_score=False, scoring=None, verbose=2)"
            ]
          },
          "metadata": {
            "tags": []
          },
          "execution_count": 8
        }
      ]
    },
    {
      "cell_type": "code",
      "metadata": {
        "colab": {
          "base_uri": "https://localhost:8080/"
        },
        "id": "5VShb5CWNcn_",
        "outputId": "95499885-4e4b-4d2a-92f7-3dc4cb013e7c"
      },
      "source": [
        "mnb_random.best_params_"
      ],
      "execution_count": 9,
      "outputs": [
        {
          "output_type": "execute_result",
          "data": {
            "text/plain": [
              "{'alpha': 10, 'fit_prior': True}"
            ]
          },
          "metadata": {
            "tags": []
          },
          "execution_count": 9
        }
      ]
    },
    {
      "cell_type": "markdown",
      "metadata": {
        "id": "NrS8pfnKOYqz"
      },
      "source": [
        "### Random Hyperparameter Grid con seleccion"
      ]
    },
    {
      "cell_type": "code",
      "metadata": {
        "id": "IRaNDAo2OfyP"
      },
      "source": [
        "dfTrain = datasets.getDataTrain()\n",
        "dfTrain_feature_engineering_con_seleccio = pp.feature_engineering_con_seleccion(dfTrain)\n",
        "X = dfTrain_feature_engineering_con_seleccio.drop(columns = 'tiene_alto_valor_adquisitivo')\n",
        "y = dfTrain_feature_engineering_con_seleccio.tiene_alto_valor_adquisitivo\n",
        "X_train_seleccion, X_test_seleccion, y_train_seleccion, y_test_seleccion = train_test_split(X, y,  random_state = pp.GetSeedForTrainSplit(), test_size=0.20)"
      ],
      "execution_count": 10,
      "outputs": []
    },
    {
      "cell_type": "code",
      "metadata": {
        "id": "h3Y8hSiGOqaO"
      },
      "source": [
        "alpha = [1, 1.5, 2, 2.5, 3, 3.5, 8.5, 10, 10.5]\n",
        "fit_prior = [True, False]"
      ],
      "execution_count": 11,
      "outputs": []
    },
    {
      "cell_type": "code",
      "metadata": {
        "id": "fMmwzaToOvQ1"
      },
      "source": [
        "# Creo la grilla de parametros\n",
        "random_grid = {'alpha': alpha,\n",
        "               'fit_prior': fit_prior}"
      ],
      "execution_count": 12,
      "outputs": []
    },
    {
      "cell_type": "code",
      "metadata": {
        "colab": {
          "base_uri": "https://localhost:8080/"
        },
        "id": "yFF38LS9OxGn",
        "outputId": "9a94b94c-c918-4438-f3a3-d8c65d73a6d7"
      },
      "source": [
        "pprint(random_grid)"
      ],
      "execution_count": 13,
      "outputs": [
        {
          "output_type": "stream",
          "text": [
            "{'alpha': [1, 1.5, 2, 2.5, 3, 3.5, 8.5, 10, 10.5], 'fit_prior': [True, False]}\n"
          ],
          "name": "stdout"
        }
      ]
    },
    {
      "cell_type": "code",
      "metadata": {
        "id": "sAj46IPqOylj"
      },
      "source": [
        "# Creo el modelo\n",
        "mnb = MultinomialNB()"
      ],
      "execution_count": 14,
      "outputs": []
    },
    {
      "cell_type": "code",
      "metadata": {
        "id": "VAb1ypV-O1bx"
      },
      "source": [
        "mnb_random_seleccion = RandomizedSearchCV(estimator = mnb, param_distributions = random_grid, n_iter = 50, cv = 3, verbose=2, random_state= pp.GetSeedForTrainSplit(), n_jobs = -1)"
      ],
      "execution_count": 15,
      "outputs": []
    },
    {
      "cell_type": "code",
      "metadata": {
        "colab": {
          "base_uri": "https://localhost:8080/"
        },
        "id": "yZIU7q3fO2oq",
        "outputId": "268be032-0c44-4877-a8e7-af0d6f9b75da"
      },
      "source": [
        "mnb_random_seleccion.fit(X_train_seleccion, y_train_seleccion)"
      ],
      "execution_count": 16,
      "outputs": [
        {
          "output_type": "stream",
          "text": [
            "Fitting 3 folds for each of 18 candidates, totalling 54 fits\n"
          ],
          "name": "stdout"
        },
        {
          "output_type": "stream",
          "text": [
            "/usr/local/lib/python3.7/dist-packages/sklearn/model_selection/_search.py:281: UserWarning: The total space of parameters 18 is smaller than n_iter=50. Running 18 iterations. For exhaustive searches, use GridSearchCV.\n",
            "  % (grid_size, self.n_iter, grid_size), UserWarning)\n",
            "[Parallel(n_jobs=-1)]: Using backend LokyBackend with 2 concurrent workers.\n",
            "[Parallel(n_jobs=-1)]: Done  54 out of  54 | elapsed:    0.7s finished\n"
          ],
          "name": "stderr"
        },
        {
          "output_type": "execute_result",
          "data": {
            "text/plain": [
              "RandomizedSearchCV(cv=3, error_score=nan,\n",
              "                   estimator=MultinomialNB(alpha=1.0, class_prior=None,\n",
              "                                           fit_prior=True),\n",
              "                   iid='deprecated', n_iter=50, n_jobs=-1,\n",
              "                   param_distributions={'alpha': [1, 1.5, 2, 2.5, 3, 3.5, 8.5,\n",
              "                                                  10, 10.5],\n",
              "                                        'fit_prior': [True, False]},\n",
              "                   pre_dispatch='2*n_jobs', random_state=15, refit=True,\n",
              "                   return_train_score=False, scoring=None, verbose=2)"
            ]
          },
          "metadata": {
            "tags": []
          },
          "execution_count": 16
        }
      ]
    },
    {
      "cell_type": "code",
      "metadata": {
        "colab": {
          "base_uri": "https://localhost:8080/"
        },
        "id": "fbIQndg0PCt5",
        "outputId": "e41c81ad-2c85-4c43-ad67-87a1b4ee3276"
      },
      "source": [
        "mnb_random_seleccion.best_params_"
      ],
      "execution_count": 17,
      "outputs": [
        {
          "output_type": "execute_result",
          "data": {
            "text/plain": [
              "{'alpha': 1, 'fit_prior': True}"
            ]
          },
          "metadata": {
            "tags": []
          },
          "execution_count": 17
        }
      ]
    },
    {
      "cell_type": "markdown",
      "metadata": {
        "id": "LJD6ciAu8m2F"
      },
      "source": [
        "# Entrenamiento aplicando Multinomial"
      ]
    },
    {
      "cell_type": "markdown",
      "metadata": {
        "id": "2INpa0lXRpL7"
      },
      "source": [
        "# Entrenamiento con todos los features"
      ]
    },
    {
      "cell_type": "code",
      "metadata": {
        "id": "J4vEpOcY8soz"
      },
      "source": [
        "mnb_con_todos_los_features = MultinomialNB( fit_prior= True, alpha=10)\n",
        "mnb_con_todos_los_features.fit(X_train, y_train)\n",
        "y_pred = mnb_con_todos_los_features.predict(X_test)"
      ],
      "execution_count": 18,
      "outputs": []
    },
    {
      "cell_type": "code",
      "metadata": {
        "colab": {
          "base_uri": "https://localhost:8080/"
        },
        "id": "cVkO2HGCQPTg",
        "outputId": "736844ef-3bc6-4a5f-8927-06934893b9e9"
      },
      "source": [
        "X_test.info"
      ],
      "execution_count": 19,
      "outputs": [
        {
          "output_type": "execute_result",
          "data": {
            "text/plain": [
              "<bound method DataFrame.info of        anios_estudiados  edad  ...  trabajo_transporte  trabajo_ventas\n",
              "10125                13    47  ...                   0               0\n",
              "11478                 6    73  ...                   0               0\n",
              "4224                 14    18  ...                   0               0\n",
              "6592                 13    66  ...                   0               1\n",
              "21910                12    39  ...                   0               0\n",
              "...                 ...   ...  ...                 ...             ...\n",
              "11239                13    35  ...                   0               0\n",
              "27630                13    33  ...                   0               0\n",
              "21899                14    67  ...                   0               0\n",
              "2542                 14    25  ...                   0               1\n",
              "30780                13    29  ...                   0               1\n",
              "\n",
              "[6513 rows x 42 columns]>"
            ]
          },
          "metadata": {
            "tags": []
          },
          "execution_count": 19
        }
      ]
    },
    {
      "cell_type": "markdown",
      "metadata": {
        "id": "RmRunHkG_XxR"
      },
      "source": [
        "# Metricas"
      ]
    },
    {
      "cell_type": "code",
      "metadata": {
        "colab": {
          "base_uri": "https://localhost:8080/",
          "height": 876
        },
        "id": "vP5tudUkw9eN",
        "outputId": "d8ef568c-600f-4a1e-88ba-0f7337ee5729"
      },
      "source": [
        "m.getMetrics(y_test, y_pred, mnb_con_todos_los_features.predict_proba(X_test)[:,1])"
      ],
      "execution_count": 20,
      "outputs": [
        {
          "output_type": "stream",
          "text": [
            "\u001b[1mAccuracy\u001b[0m: 0.7851988331030247\n",
            "\n",
            "\u001b[1mPrecision\u001b[0m: 0.5400479616306955\n",
            "\n",
            "\u001b[1mRecall\u001b[0m: 0.8061451384677583\n",
            "\n",
            "\u001b[1mF1 Score\u001b[0m: 0.6168173103259381\n",
            "\n",
            "\u001b[1mMatriz de confusion: \u001b[0m\n",
            "[[3988  959]\n",
            " [ 440 1126]]\n",
            "\n",
            "\u001b[1mAUC-ROC: \u001b[0m\n",
            "\n"
          ],
          "name": "stdout"
        },
        {
          "output_type": "display_data",
          "data": {
            "image/png": "[encoded data removed]",
            "text/plain": [
              "<Figure size 1080x720 with 1 Axes>"
            ]
          },
          "metadata": {
            "tags": [],
            "needs_background": "light"
          }
        },
        {
          "output_type": "display_data",
          "data": {
            "text/plain": [
              "0.8594790604158874"
            ]
          },
          "metadata": {
            "tags": []
          }
        }
      ]
    },
    {
      "cell_type": "markdown",
      "metadata": {
        "id": "1PyBv2wfRt_c"
      },
      "source": [
        "# Entrenamiento con seleccion"
      ]
    },
    {
      "cell_type": "code",
      "metadata": {
        "id": "TU1yOqNGLITn"
      },
      "source": [
        "dfTrain = datasets.getDataTrain()\n",
        "dfTrain_feature_engineering = pp.feature_engineering_con_seleccion(dfTrain)\n",
        "X = dfTrain_feature_engineering.drop(columns = 'tiene_alto_valor_adquisitivo')\n",
        "y = dfTrain_feature_engineering.tiene_alto_valor_adquisitivo\n",
        "X_train, X_test, y_train, y_test = train_test_split(X, y,  random_state = pp.GetSeedForTrainSplit(), test_size=0.20)"
      ],
      "execution_count": 21,
      "outputs": []
    },
    {
      "cell_type": "code",
      "metadata": {
        "id": "WjPQGbe2RyTu"
      },
      "source": [
        "mnb_con_seleccion = MultinomialNB(fit_prior= True, alpha=1)\n",
        "mnb_con_seleccion.fit(X_train, y_train)\n",
        "y_pred = mnb_con_seleccion.predict(X_test)"
      ],
      "execution_count": 22,
      "outputs": []
    },
    {
      "cell_type": "markdown",
      "metadata": {
        "id": "HZQluV1vR4gm"
      },
      "source": [
        "# Metricas"
      ]
    },
    {
      "cell_type": "code",
      "metadata": {
        "colab": {
          "base_uri": "https://localhost:8080/",
          "height": 876
        },
        "id": "pi01sukGR510",
        "outputId": "bf0e083e-1f92-4b06-a1d9-5202719b3044"
      },
      "source": [
        "m.getMetrics(y_test, y_pred, mnb_con_seleccion.predict_proba(X_test)[:,1])"
      ],
      "execution_count": 23,
      "outputs": [
        {
          "output_type": "stream",
          "text": [
            "\u001b[1mAccuracy\u001b[0m: 0.806540764624597\n",
            "\n",
            "\u001b[1mPrecision\u001b[0m: 0.6830143540669856\n",
            "\n",
            "\u001b[1mRecall\u001b[0m: 0.9464321811198706\n",
            "\n",
            "\u001b[1mF1 Score\u001b[0m: 0.47543713572023316\n",
            "\n",
            "\u001b[1mMatriz de confusion: \u001b[0m\n",
            "[[4682  265]\n",
            " [ 995  571]]\n",
            "\n",
            "\u001b[1mAUC-ROC: \u001b[0m\n",
            "\n"
          ],
          "name": "stdout"
        },
        {
          "output_type": "display_data",
          "data": {
            "image/png": "[encoded data removed]",
            "text/plain": [
              "<Figure size 1080x720 with 1 Axes>"
            ]
          },
          "metadata": {
            "tags": [],
            "needs_background": "light"
          }
        },
        {
          "output_type": "display_data",
          "data": {
            "text/plain": [
              "0.8368801247243773"
            ]
          },
          "metadata": {
            "tags": []
          }
        }
      ]
    },
    {
      "cell_type": "markdown",
      "metadata": {
        "id": "CN7gZPesAVzP"
      },
      "source": [
        "# Prediccion"
      ]
    },
    {
      "cell_type": "code",
      "metadata": {
        "id": "_UqOhwF3ASA4"
      },
      "source": [
        "# Obtengo el set para predecir\n",
        "dfObjetivo = datasets.getDataHoldout()\n",
        "\n",
        "# Elimino columnas \"representatividad_poblacional\" y \"id\"\n",
        "dfObjetivo.drop(columns = ['representatividad_poblacional', 'id'], inplace = True)\n",
        "\n",
        "# Aplico feature engineering\n",
        "dfObjetivo_feature_engineering = pp.preprocessing_con_todos_los_features(dfObjetivo)\n"
      ],
      "execution_count": 24,
      "outputs": []
    },
    {
      "cell_type": "code",
      "metadata": {
        "colab": {
          "base_uri": "https://localhost:8080/"
        },
        "id": "KY2u9QVyQEiX",
        "outputId": "22886929-85ed-4b96-8ef6-d16c9cfd0b5f"
      },
      "source": [
        "dfObjetivo_feature_engineering.info"
      ],
      "execution_count": 25,
      "outputs": [
        {
          "output_type": "execute_result",
          "data": {
            "text/plain": [
              "<bound method DataFrame.info of        anios_estudiados  edad  ...  trabajo_transporte  trabajo_ventas\n",
              "0                    11    25  ...                   0               0\n",
              "1                    13    38  ...                   0               0\n",
              "2                    16    28  ...                   0               0\n",
              "3                    14    44  ...                   0               0\n",
              "4                    14    18  ...                   0               0\n",
              "...                 ...   ...  ...                 ...             ...\n",
              "16276                17    39  ...                   0               0\n",
              "16277                13    64  ...                   0               0\n",
              "16278                17    38  ...                   0               0\n",
              "16279                17    44  ...                   0               0\n",
              "16280                17    35  ...                   0               0\n",
              "\n",
              "[16281 rows x 42 columns]>"
            ]
          },
          "metadata": {
            "tags": []
          },
          "execution_count": 25
        }
      ]
    },
    {
      "cell_type": "code",
      "metadata": {
        "colab": {
          "base_uri": "https://localhost:8080/"
        },
        "id": "TMlY56FpQDvS",
        "outputId": "58ee170e-4884-495e-a6b2-92e269b08b0d"
      },
      "source": [
        "predicciones = mnb_con_todos_los_features.predict(dfObjetivo_feature_engineering)\n",
        "predicciones"
      ],
      "execution_count": 26,
      "outputs": [
        {
          "output_type": "execute_result",
          "data": {
            "text/plain": [
              "array([0, 0, 1, ..., 1, 0, 1])"
            ]
          },
          "metadata": {
            "tags": []
          },
          "execution_count": 26
        }
      ]
    },
    {
      "cell_type": "code",
      "metadata": {
        "id": "emUpXatKrXAr"
      },
      "source": [
        "fp.exportPredictions(fp.formatPredictions(predicciones), \"Naive Bayes\")"
      ],
      "execution_count": 27,
      "outputs": []
    }
  ]
}