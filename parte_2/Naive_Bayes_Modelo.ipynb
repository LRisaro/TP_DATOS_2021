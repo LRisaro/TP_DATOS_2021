{
  "nbformat": 4,
  "nbformat_minor": 0,
  "metadata": {
    "colab": {
      "name": "Naive_Bayes_Modelo.ipynb",
      "provenance": []
    },
    "kernelspec": {
      "name": "python3",
      "display_name": "Python 3"
    },
    "language_info": {
      "name": "python"
    }
  },
  "cells": [
    {
      "cell_type": "markdown",
      "metadata": {
        "id": "mDSEUdBfgnPM"
      },
      "source": [
        "# Naive Bayes Modelo"
      ]
    },
    {
      "cell_type": "code",
      "metadata": {
        "id": "HIwpFVUdf0om"
      },
      "source": [
        "import pandas as pd\n",
        "from sklearn.naive_bayes import GaussianNB\n",
        "from sklearn.naive_bayes import MultinomialNB\n",
        "from sklearn.preprocessing import OrdinalEncoder\n",
        "from sklearn.metrics import accuracy_score\n",
        "from sklearn.model_selection import train_test_split\n",
        "from sklearn.metrics import precision_score\n",
        "from sklearn.metrics import recall_score\n",
        "from sklearn.metrics import f1_score\n",
        "from sklearn.metrics import confusion_matrix\n",
        "import matplotlib.pyplot as plt\n",
        "from sklearn.metrics import roc_curve, auc\n",
        "from sklearn.metrics import roc_auc_score"
      ],
      "execution_count": 1,
      "outputs": []
    },
    {
      "cell_type": "code",
      "metadata": {
        "id": "sv9njwLskfGi"
      },
      "source": [
        "# Devuelve set de datos en un dataframe\n",
        "def getDataTrain():\n",
        "  return pd.read_csv(\"https://docs.google.com/spreadsheets/d/1-DWTP8uwVS-dZY402-dm0F9ICw_6PNqDGLmH0u8Eqa0/export?format=csv&gid=2054774482\")  "
      ],
      "execution_count": 2,
      "outputs": []
    },
    {
      "cell_type": "code",
      "metadata": {
        "id": "UWSKlyYRkfkV"
      },
      "source": [
        "# Devuelve set de datos para predecir en un dataframe\n",
        "def getDataValidation():\n",
        "  return pd.read_csv(\"https://docs.google.com/spreadsheets/d/1ObsojtXfzvwicsFieGINPx500oGbUoaVTERTc69pzxE/export?format=csv&gid=972751642\")  "
      ],
      "execution_count": 3,
      "outputs": []
    },
    {
      "cell_type": "code",
      "metadata": {
        "id": "ZgcxLC-UrFkd"
      },
      "source": [
        "# Devuelve el archivo de salida con las predicciones\n",
        "def getResult(predictions_final, file_name):\n",
        "  pd_predictions_final = pd.DataFrame(columns=[\"id\", \"tiene_alto_valor_adquisitivo\"])\n",
        "  pd_predictions_final.tiene_alto_valor_adquisitivo = predictions_final\n",
        "  pd_predictions_final['id'] = pd_predictions_final.index + 1\n",
        "  pd_predictions_final.set_index('id', inplace=True)\n",
        "  pd_predictions_final.to_csv(file_name)"
      ],
      "execution_count": 4,
      "outputs": []
    },
    {
      "cell_type": "markdown",
      "metadata": {
        "id": "cyvRZLNL8bXT"
      },
      "source": [
        "# Feature engineering"
      ]
    },
    {
      "cell_type": "code",
      "metadata": {
        "id": "eIGpfQPvknbC"
      },
      "source": [
        "def featureEngineering(df):\n",
        "    df_clean = df.copy()\n",
        "\n",
        "    df_clean[\"educacion_alcanzada\"].replace({\"preescolar\" : 1, \"1-4_grado\": 2, \"5-6_grado\": 3, \"7-8_grado\" : 4, \"9_grado\" : 5, \"1_anio\" : 6, \"2_anio\" : 7, \"3_anio\" : 8, \"4_anio\" : 9, \"5_anio\" : 10, \"universidad_1_anio\" : 11, \n",
        "      \"universidad_2_anio\" : 12, \"universidad_3_anio\" : 13, \"universidad_4_anio\" : 14, \"universiada_5_anio\" : 15, \"universiada_6_anio\" : 16}, inplace = True)\n",
        "    \n",
        "    df_clean.rol_familiar_registrado.replace(to_replace=[\"casada\"], value=[\"casado\"], inplace=True)\n",
        "    df_clean[\"opera_en_bolsa\"] = df_clean[\"ganancia_perdida_declarada_bolsa_argentina\"].apply(lambda x: 1 if x != 0 else 0)\n",
        "\n",
        "    # Tratamiento de NaN\n",
        "    df_clean.fillna('NaN', inplace=True)\n",
        "\n",
        "    # Conversion de variables\n",
        "    ordinalEncoder = OrdinalEncoder(dtype='int')\n",
        "    columns_to_encode = ['barrio', 'categoria_de_trabajo', 'estado_marital', 'genero', 'religion', 'rol_familiar_registrado', 'trabajo']\n",
        "    try:\n",
        "      df_clean[['barrio_encoded', 'categoria_de_trabajo_encoded', 'estado_marital_encoded', 'genero_encoded', 'religion_encoded', 'rol_familiar_registrado_encoded', 'trabajo_encoded']] \\\n",
        "        = ordinalEncoder.fit_transform(df_clean[columns_to_encode].astype(str))\n",
        "    except Exception as exception:\n",
        "      print(f'Error en ordinal encoder: {exception}')\n",
        "\n",
        "    # Elimino columnas\n",
        "    df_clean.drop(columns = ['barrio', 'ganancia_perdida_declarada_bolsa_argentina', 'categoria_de_trabajo', 'estado_marital', 'genero', 'religion', 'rol_familiar_registrado', 'trabajo'], inplace = True)\n",
        "    \n",
        "    return df_clean"
      ],
      "execution_count": 5,
      "outputs": []
    },
    {
      "cell_type": "code",
      "metadata": {
        "id": "oT9mNgq92rGi"
      },
      "source": [
        "# Divido el set en entrenamiento y validacion\n",
        "def getSetEntrenamientoYTest():\n",
        "  dfTrain = getDataTrain()\n",
        "  dfTrain_feature_engineering = featureEngineering(dfTrain)\n",
        "  X = dfTrain_feature_engineering.drop(columns = 'tiene_alto_valor_adquisitivo')\n",
        "  y = dfTrain_feature_engineering.tiene_alto_valor_adquisitivo\n",
        "  X_train, X_test, y_train, y_test = train_test_split(X, y, test_size=0.20)\n",
        "  return X_train, X_test, y_train, y_test"
      ],
      "execution_count": 6,
      "outputs": []
    },
    {
      "cell_type": "markdown",
      "metadata": {
        "id": "u_D1fQvtkoXj"
      },
      "source": [
        "# Entrenamiento aplicando Gaussian "
      ]
    },
    {
      "cell_type": "code",
      "metadata": {
        "id": "qyqZfjDM2vHA"
      },
      "source": [
        "X_train, X_test, y_train, y_test = getSetEntrenamientoYTest()\n",
        "gnb = GaussianNB()\n",
        "gnb.fit(X_train, y_train)\n",
        "y_pred = gnb.predict(X_test)"
      ],
      "execution_count": 7,
      "outputs": []
    },
    {
      "cell_type": "markdown",
      "metadata": {
        "id": "aH5yHpLW6OGl"
      },
      "source": [
        "# Metricas"
      ]
    },
    {
      "cell_type": "code",
      "metadata": {
        "id": "eT1qMfWm63RW"
      },
      "source": [
        "def plot_roc(_fpr, _tpr, x):\n",
        "    roc_auc = auc(_fpr, _tpr)\n",
        "\n",
        "    plt.figure(figsize=(15, 10))\n",
        "    plt.plot(_fpr, _tpr, color='darkorange', lw=2, label=f'ROC curve (area = {roc_auc:.2f})')\n",
        "    plt.scatter(_fpr, x)\n",
        "    plt.plot([0, 1], [0, 1], color='navy', lw=2, linestyle='--')\n",
        "    plt.xlim([0.0, 1.0])\n",
        "    plt.ylim([0.0, 1.05])\n",
        "    plt.xlabel('False Positive Rate')\n",
        "    plt.ylabel('True Positive Rate')\n",
        "    plt.title('Receiver operating characteristic')\n",
        "    plt.legend(loc=\"lower right\")\n",
        "    plt.show()"
      ],
      "execution_count": 8,
      "outputs": []
    },
    {
      "cell_type": "markdown",
      "metadata": {
        "id": "P5O_UeERAIr9"
      },
      "source": [
        "# Accuracy"
      ]
    },
    {
      "cell_type": "code",
      "metadata": {
        "colab": {
          "base_uri": "https://localhost:8080/"
        },
        "id": "m5oRJ2kQ6Qz4",
        "outputId": "a7eaf496-16cf-4425-ad0a-08d3b332f74a"
      },
      "source": [
        "accuracy_score(y_test, y_pred)"
      ],
      "execution_count": 9,
      "outputs": [
        {
          "output_type": "execute_result",
          "data": {
            "text/plain": [
              "0.7953324120988792"
            ]
          },
          "metadata": {
            "tags": []
          },
          "execution_count": 9
        }
      ]
    },
    {
      "cell_type": "markdown",
      "metadata": {
        "id": "EriBJtZO6ibv"
      },
      "source": [
        "# Precision"
      ]
    },
    {
      "cell_type": "code",
      "metadata": {
        "colab": {
          "base_uri": "https://localhost:8080/"
        },
        "id": "htlBiO8S6dqn",
        "outputId": "27d0938b-1629-4366-b765-9d249970c1ec"
      },
      "source": [
        "precision_score(y_test, y_pred)"
      ],
      "execution_count": 10,
      "outputs": [
        {
          "output_type": "execute_result",
          "data": {
            "text/plain": [
              "0.5597952536063285"
            ]
          },
          "metadata": {
            "tags": []
          },
          "execution_count": 10
        }
      ]
    },
    {
      "cell_type": "markdown",
      "metadata": {
        "id": "WaIewzE06olz"
      },
      "source": [
        "# Recall"
      ]
    },
    {
      "cell_type": "code",
      "metadata": {
        "colab": {
          "base_uri": "https://localhost:8080/"
        },
        "id": "uz9PE3WV6gaJ",
        "outputId": "82f00273-90ab-4c29-a097-e8fc32ae218f"
      },
      "source": [
        "recall_score(y_test, y_pred, pos_label=0)"
      ],
      "execution_count": 11,
      "outputs": [
        {
          "output_type": "execute_result",
          "data": {
            "text/plain": [
              "0.8078407475116799"
            ]
          },
          "metadata": {
            "tags": []
          },
          "execution_count": 11
        }
      ]
    },
    {
      "cell_type": "markdown",
      "metadata": {
        "id": "XQYwENn56tdR"
      },
      "source": [
        "# F1 Score"
      ]
    },
    {
      "cell_type": "code",
      "metadata": {
        "colab": {
          "base_uri": "https://localhost:8080/"
        },
        "id": "BPfDaGZL6oDZ",
        "outputId": "0bab6b26-6e25-4ff8-8342-e309c0445e09"
      },
      "source": [
        "f1_score(y_test, y_pred)"
      ],
      "execution_count": 12,
      "outputs": [
        {
          "output_type": "execute_result",
          "data": {
            "text/plain": [
              "0.6434875635196576"
            ]
          },
          "metadata": {
            "tags": []
          },
          "execution_count": 12
        }
      ]
    },
    {
      "cell_type": "markdown",
      "metadata": {
        "id": "LbUNfoII63ws"
      },
      "source": [
        "# Matriz de confusion"
      ]
    },
    {
      "cell_type": "code",
      "metadata": {
        "colab": {
          "base_uri": "https://localhost:8080/"
        },
        "id": "kbhAfvz06s0L",
        "outputId": "13c4ada6-208c-45bc-b631-077e0261af02"
      },
      "source": [
        "confusion_matrix(y_test, y_pred)"
      ],
      "execution_count": 13,
      "outputs": [
        {
          "output_type": "execute_result",
          "data": {
            "text/plain": [
              "array([[3977,  946],\n",
              "       [ 387, 1203]])"
            ]
          },
          "metadata": {
            "tags": []
          },
          "execution_count": 13
        }
      ]
    },
    {
      "cell_type": "markdown",
      "metadata": {
        "id": "X5C_RJc_67lj"
      },
      "source": [
        "# AUC-ROC"
      ]
    },
    {
      "cell_type": "code",
      "metadata": {
        "colab": {
          "base_uri": "https://localhost:8080/",
          "height": 639
        },
        "id": "i6YA0UP66_jm",
        "outputId": "21de4f76-f681-4cf0-965e-9028538e78f4"
      },
      "source": [
        "fpr, tpr, thresholds = roc_curve(y_test, y_pred)\n",
        "plot_roc(fpr, tpr, thresholds)\n",
        "display(roc_auc_score(y_test, y_pred))"
      ],
      "execution_count": 14,
      "outputs": [
        {
          "output_type": "display_data",
          "data": {
            "image/png": "[encoded data removed]",
            "text/plain": [
              "<Figure size 1080x720 with 1 Axes>"
            ]
          },
          "metadata": {
            "tags": [],
            "needs_background": "light"
          }
        },
        {
          "output_type": "display_data",
          "data": {
            "text/plain": [
              "0.7822222605482927"
            ]
          },
          "metadata": {
            "tags": []
          }
        }
      ]
    },
    {
      "cell_type": "markdown",
      "metadata": {
        "id": "ptV9ZGsK7EK7"
      },
      "source": [
        "# Prediccion"
      ]
    },
    {
      "cell_type": "code",
      "metadata": {
        "colab": {
          "base_uri": "https://localhost:8080/"
        },
        "id": "_I-iabyZ7ApR",
        "outputId": "70c4006e-1c01-43bc-f331-032f94a767b8"
      },
      "source": [
        "# Obtengo el set para predecir\n",
        "dfObjetivo = getDataValidation()\n",
        "\n",
        "# Elimino columnas \"representatividad_poblacional\" y \"id\"\n",
        "dfObjetivo.drop(columns = ['representatividad_poblacional', 'id'], inplace = True)\n",
        "\n",
        "# Aplico feature engineering\n",
        "dfObjetivo_feature_engineering = featureEngineering(dfObjetivo)\n",
        "\n",
        "predicciones = gnb.predict(dfObjetivo_feature_engineering)\n",
        "predicciones"
      ],
      "execution_count": 15,
      "outputs": [
        {
          "output_type": "execute_result",
          "data": {
            "text/plain": [
              "array([0, 1, 1, ..., 1, 1, 1])"
            ]
          },
          "metadata": {
            "tags": []
          },
          "execution_count": 15
        }
      ]
    },
    {
      "cell_type": "code",
      "metadata": {
        "id": "IIgida2UrK4M"
      },
      "source": [
        "getResult(predicciones, 'pd_predictions_final_naive_bayes_gaussian.csv')"
      ],
      "execution_count": 16,
      "outputs": []
    },
    {
      "cell_type": "markdown",
      "metadata": {
        "id": "LJD6ciAu8m2F"
      },
      "source": [
        "# Entrenamiento aplicando Multinomial"
      ]
    },
    {
      "cell_type": "code",
      "metadata": {
        "id": "J4vEpOcY8soz"
      },
      "source": [
        "X_train, X_test, y_train, y_test = getSetEntrenamientoYTest()\n",
        "mnb = MultinomialNB()\n",
        "mnb.fit(X_train, y_train)\n",
        "y_pred = mnb.predict(X_test)"
      ],
      "execution_count": 17,
      "outputs": []
    },
    {
      "cell_type": "markdown",
      "metadata": {
        "id": "RmRunHkG_XxR"
      },
      "source": [
        "# Metricas\n",
        "\n",
        "# Accuracy"
      ]
    },
    {
      "cell_type": "code",
      "metadata": {
        "colab": {
          "base_uri": "https://localhost:8080/"
        },
        "id": "8df8SeGP9xdS",
        "outputId": "422d7ab2-aa6d-4646-bc56-9e1bb0f75807"
      },
      "source": [
        "accuracy_score(y_test, y_pred)"
      ],
      "execution_count": 18,
      "outputs": [
        {
          "output_type": "execute_result",
          "data": {
            "text/plain": [
              "0.7457392906494703"
            ]
          },
          "metadata": {
            "tags": []
          },
          "execution_count": 18
        }
      ]
    },
    {
      "cell_type": "markdown",
      "metadata": {
        "id": "-pVn-IbP_gq6"
      },
      "source": [
        "# Precision"
      ]
    },
    {
      "cell_type": "code",
      "metadata": {
        "colab": {
          "base_uri": "https://localhost:8080/"
        },
        "id": "Bq5KztDr9zxE",
        "outputId": "01aa15b1-0d14-405c-a943-a4a097106221"
      },
      "source": [
        "precision_score(y_test, y_pred)"
      ],
      "execution_count": 19,
      "outputs": [
        {
          "output_type": "execute_result",
          "data": {
            "text/plain": [
              "0.48332694518972785"
            ]
          },
          "metadata": {
            "tags": []
          },
          "execution_count": 19
        }
      ]
    },
    {
      "cell_type": "markdown",
      "metadata": {
        "id": "dz3FMiPn_faY"
      },
      "source": [
        "# Recall"
      ]
    },
    {
      "cell_type": "code",
      "metadata": {
        "colab": {
          "base_uri": "https://localhost:8080/"
        },
        "id": "6sQDyIpV90Lf",
        "outputId": "1e94b279-8fd7-4165-849a-4bc55eb763a0"
      },
      "source": [
        "recall_score(y_test, y_pred, pos_label=0)"
      ],
      "execution_count": 20,
      "outputs": [
        {
          "output_type": "execute_result",
          "data": {
            "text/plain": [
              "0.7273462783171522"
            ]
          },
          "metadata": {
            "tags": []
          },
          "execution_count": 20
        }
      ]
    },
    {
      "cell_type": "markdown",
      "metadata": {
        "id": "T1rJFuZ2_mER"
      },
      "source": [
        "# F1 Score"
      ]
    },
    {
      "cell_type": "code",
      "metadata": {
        "colab": {
          "base_uri": "https://localhost:8080/"
        },
        "id": "emXLdBep-PTm",
        "outputId": "38711c5d-85c2-4ca8-ad18-e0ec2f6e966e"
      },
      "source": [
        "f1_score(y_test, y_pred)"
      ],
      "execution_count": 21,
      "outputs": [
        {
          "output_type": "execute_result",
          "data": {
            "text/plain": [
              "0.6036381043561513"
            ]
          },
          "metadata": {
            "tags": []
          },
          "execution_count": 21
        }
      ]
    },
    {
      "cell_type": "markdown",
      "metadata": {
        "id": "rtUQQ0p0_oZp"
      },
      "source": [
        "# Matriz de confusion"
      ]
    },
    {
      "cell_type": "code",
      "metadata": {
        "colab": {
          "base_uri": "https://localhost:8080/"
        },
        "id": "PHczeqPT-TiT",
        "outputId": "35ddf0fa-e2d8-40cf-e5cb-b4f4fc6b91ff"
      },
      "source": [
        "confusion_matrix(y_test, y_pred)"
      ],
      "execution_count": 22,
      "outputs": [
        {
          "output_type": "execute_result",
          "data": {
            "text/plain": [
              "array([[3596, 1348],\n",
              "       [ 308, 1261]])"
            ]
          },
          "metadata": {
            "tags": []
          },
          "execution_count": 22
        }
      ]
    },
    {
      "cell_type": "code",
      "metadata": {
        "colab": {
          "base_uri": "https://localhost:8080/",
          "height": 639
        },
        "id": "vvsAR30-_2mb",
        "outputId": "198cf343-af5d-4d0c-844b-405c9711847e"
      },
      "source": [
        "fpr, tpr, thresholds = roc_curve(y_test, y_pred)\n",
        "plot_roc(fpr, tpr, thresholds)\n",
        "display(roc_auc_score(y_test, y_pred))"
      ],
      "execution_count": 23,
      "outputs": [
        {
          "output_type": "display_data",
          "data": {
            "image/png": "[encoded data removed]",
            "text/plain": [
              "<Figure size 1080x720 with 1 Axes>"
            ]
          },
          "metadata": {
            "tags": [],
            "needs_background": "light"
          }
        },
        {
          "output_type": "display_data",
          "data": {
            "text/plain": [
              "0.7655214501847073"
            ]
          },
          "metadata": {
            "tags": []
          }
        }
      ]
    },
    {
      "cell_type": "markdown",
      "metadata": {
        "id": "CN7gZPesAVzP"
      },
      "source": [
        "# Prediccion"
      ]
    },
    {
      "cell_type": "code",
      "metadata": {
        "colab": {
          "base_uri": "https://localhost:8080/"
        },
        "id": "_UqOhwF3ASA4",
        "outputId": "af67685d-c4ca-4059-ceca-c702f3634288"
      },
      "source": [
        "# Obtengo el set para predecir\n",
        "dfObjetivo = getDataValidation()\n",
        "\n",
        "# Elimino columnas \"representatividad_poblacional\" y \"id\"\n",
        "dfObjetivo.drop(columns = ['representatividad_poblacional', 'id'], inplace = True)\n",
        "\n",
        "# Aplico feature engineering\n",
        "dfObjetivo_feature_engineering = featureEngineering(dfObjetivo)\n",
        "\n",
        "predicciones = mnb.predict(dfObjetivo_feature_engineering)\n",
        "predicciones"
      ],
      "execution_count": 24,
      "outputs": [
        {
          "output_type": "execute_result",
          "data": {
            "text/plain": [
              "array([0, 1, 1, ..., 1, 1, 1])"
            ]
          },
          "metadata": {
            "tags": []
          },
          "execution_count": 24
        }
      ]
    },
    {
      "cell_type": "code",
      "metadata": {
        "id": "emUpXatKrXAr"
      },
      "source": [
        "getResult(predicciones, 'pd_predictions_final_naive_bayes_multinomial.csv')"
      ],
      "execution_count": 25,
      "outputs": []
    }
  ]
}