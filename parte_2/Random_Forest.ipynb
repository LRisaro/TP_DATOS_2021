{
  "nbformat": 4,
  "nbformat_minor": 0,
  "metadata": {
    "colab": {
      "name": "Random_Forest",
      "provenance": [],
      "collapsed_sections": []
    },
    "kernelspec": {
      "name": "python3",
      "display_name": "Python 3"
    },
    "language_info": {
      "name": "python"
    }
  },
  "cells": [
    {
      "cell_type": "code",
      "metadata": {
        "id": "hGcR2TGXlAON"
      },
      "source": [
        "import pandas as pd\n",
        "import numpy as np\n",
        "\n",
        "#Importacion arboles\n",
        "from sklearn.ensemble import RandomForestClassifier, RandomForestRegressor\n",
        "from sklearn.ensemble import ExtraTreesClassifier\n",
        "\n",
        "#Importacion preprocesamiento\n",
        "from sklearn.model_selection import train_test_split\n",
        "from sklearn import preprocessing\n",
        "\n",
        "#Importacion metricas\n",
        "from sklearn.metrics import accuracy_score\n",
        "from sklearn.metrics import confusion_matrix\n",
        "from sklearn.metrics import precision_score\n",
        "from sklearn.metrics import recall_score\n",
        "from sklearn.metrics import f1_score\n",
        "from sklearn.metrics import mean_squared_error\n",
        "from sklearn.metrics import roc_curve, auc\n",
        "from sklearn.metrics import roc_auc_score\n",
        "\n",
        "#Librerias para visualizacion\n",
        "import seaborn as sb\n",
        "import matplotlib.pyplot as plt"
      ],
      "execution_count": 1,
      "outputs": []
    },
    {
      "cell_type": "code",
      "metadata": {
        "id": "Qaet0so4lC4V"
      },
      "source": [
        "def getData():\n",
        "  return pd.read_csv(\"https://docs.google.com/spreadsheets/d/1-DWTP8uwVS-dZY402-dm0F9ICw_6PNqDGLmH0u8Eqa0/export?format=csv&gid=2054774482\")"
      ],
      "execution_count": 2,
      "outputs": []
    },
    {
      "cell_type": "code",
      "metadata": {
        "colab": {
          "base_uri": "https://localhost:8080/",
          "height": 224
        },
        "id": "_5VyPsfTlEKt",
        "outputId": "4611b91f-d58f-4790-8323-4b4971276862"
      },
      "source": [
        "df = getData()\n",
        "df.head()"
      ],
      "execution_count": 3,
      "outputs": [
        {
          "output_type": "execute_result",
          "data": {
            "text/html": [
              "<div>\n",
              "<style scoped>\n",
              "    .dataframe tbody tr th:only-of-type {\n",
              "        vertical-align: middle;\n",
              "    }\n",
              "\n",
              "    .dataframe tbody tr th {\n",
              "        vertical-align: top;\n",
              "    }\n",
              "\n",
              "    .dataframe thead th {\n",
              "        text-align: right;\n",
              "    }\n",
              "</style>\n",
              "<table border=\"1\" class=\"dataframe\">\n",
              "  <thead>\n",
              "    <tr style=\"text-align: right;\">\n",
              "      <th></th>\n",
              "      <th>anios_estudiados</th>\n",
              "      <th>barrio</th>\n",
              "      <th>categoria_de_trabajo</th>\n",
              "      <th>edad</th>\n",
              "      <th>educacion_alcanzada</th>\n",
              "      <th>estado_marital</th>\n",
              "      <th>ganancia_perdida_declarada_bolsa_argentina</th>\n",
              "      <th>genero</th>\n",
              "      <th>horas_trabajo_registradas</th>\n",
              "      <th>religion</th>\n",
              "      <th>rol_familiar_registrado</th>\n",
              "      <th>tiene_alto_valor_adquisitivo</th>\n",
              "      <th>trabajo</th>\n",
              "    </tr>\n",
              "  </thead>\n",
              "  <tbody>\n",
              "    <tr>\n",
              "      <th>0</th>\n",
              "      <td>17</td>\n",
              "      <td>Palermo</td>\n",
              "      <td>empleado_provincial</td>\n",
              "      <td>39</td>\n",
              "      <td>universidad_3_anio</td>\n",
              "      <td>sin_matrimonio</td>\n",
              "      <td>2174</td>\n",
              "      <td>hombre</td>\n",
              "      <td>40</td>\n",
              "      <td>cristianismo</td>\n",
              "      <td>sin_familia</td>\n",
              "      <td>0</td>\n",
              "      <td>entretenimiento</td>\n",
              "    </tr>\n",
              "    <tr>\n",
              "      <th>1</th>\n",
              "      <td>17</td>\n",
              "      <td>Palermo</td>\n",
              "      <td>monotibutista</td>\n",
              "      <td>50</td>\n",
              "      <td>universidad_3_anio</td>\n",
              "      <td>matrimonio_civil</td>\n",
              "      <td>0</td>\n",
              "      <td>hombre</td>\n",
              "      <td>13</td>\n",
              "      <td>cristianismo</td>\n",
              "      <td>casado</td>\n",
              "      <td>0</td>\n",
              "      <td>directivo_gerente</td>\n",
              "    </tr>\n",
              "    <tr>\n",
              "      <th>2</th>\n",
              "      <td>13</td>\n",
              "      <td>Palermo</td>\n",
              "      <td>relacion_de_dependencia</td>\n",
              "      <td>38</td>\n",
              "      <td>4_anio</td>\n",
              "      <td>divorciado</td>\n",
              "      <td>0</td>\n",
              "      <td>hombre</td>\n",
              "      <td>40</td>\n",
              "      <td>cristianismo</td>\n",
              "      <td>sin_familia</td>\n",
              "      <td>0</td>\n",
              "      <td>limpiador</td>\n",
              "    </tr>\n",
              "    <tr>\n",
              "      <th>3</th>\n",
              "      <td>11</td>\n",
              "      <td>Palermo</td>\n",
              "      <td>relacion_de_dependencia</td>\n",
              "      <td>53</td>\n",
              "      <td>2_anio</td>\n",
              "      <td>matrimonio_civil</td>\n",
              "      <td>0</td>\n",
              "      <td>hombre</td>\n",
              "      <td>40</td>\n",
              "      <td>judaismo</td>\n",
              "      <td>casado</td>\n",
              "      <td>0</td>\n",
              "      <td>limpiador</td>\n",
              "    </tr>\n",
              "    <tr>\n",
              "      <th>4</th>\n",
              "      <td>17</td>\n",
              "      <td>Balvanera</td>\n",
              "      <td>relacion_de_dependencia</td>\n",
              "      <td>28</td>\n",
              "      <td>universidad_3_anio</td>\n",
              "      <td>matrimonio_civil</td>\n",
              "      <td>0</td>\n",
              "      <td>mujer</td>\n",
              "      <td>40</td>\n",
              "      <td>judaismo</td>\n",
              "      <td>casada</td>\n",
              "      <td>0</td>\n",
              "      <td>profesional_especializado</td>\n",
              "    </tr>\n",
              "  </tbody>\n",
              "</table>\n",
              "</div>"
            ],
            "text/plain": [
              "   anios_estudiados  ...                    trabajo\n",
              "0                17  ...            entretenimiento\n",
              "1                17  ...          directivo_gerente\n",
              "2                13  ...                  limpiador\n",
              "3                11  ...                  limpiador\n",
              "4                17  ...  profesional_especializado\n",
              "\n",
              "[5 rows x 13 columns]"
            ]
          },
          "metadata": {
            "tags": []
          },
          "execution_count": 3
        }
      ]
    },
    {
      "cell_type": "code",
      "metadata": {
        "id": "s82fIzvvnFne"
      },
      "source": [
        "# df_edit = pd.DataFrame()\n",
        "# df_edit = df.drop(columns = [\"edad\", \"horas_trabajo_registradas\", \"barrio\"])\n",
        "# df_edit[\"opera_en_bolsa\"] = df_edit[\"ganancia_perdida_declarada_bolsa_argentina\"].apply(lambda x: 1 if x != 0 else 0)\n",
        "# df_edit[\"es_hombre\"] = df_edit[\"genero\"].apply(lambda x: 1 if x == \"hombre\" else 0)\n",
        "# df_edit.rol_familiar_registrado.replace(to_replace=[\"casada\"],  value=[\"casado\"], inplace=True)\n",
        "\n",
        "# df_edit.drop(columns = [\"genero\", \"ganancia_perdida_declarada_bolsa_argentina\", \"anios_estudiados\"], inplace=True)\n",
        "\n",
        "# df_edit.head()"
      ],
      "execution_count": 4,
      "outputs": []
    },
    {
      "cell_type": "code",
      "metadata": {
        "id": "DUfiWQx4Y-sH"
      },
      "source": [
        "# df_edit = pd.DataFrame()\n",
        "# df_edit = df.copy()\n",
        "# df_edit[\"opera_en_bolsa\"] = df_edit[\"ganancia_perdida_declarada_bolsa_argentina\"].apply(lambda x: 1 if x != 0 else 0)\n",
        "# df_edit[\"edad_10_y_20\"] = df_edit[\"edad\"].apply(lambda x: 1 if x > 10 and x <= 20 else 0)\n",
        "# df_edit[\"edad_21_y_30\"] = df_edit[\"edad\"].apply(lambda x: 1 if x > 20 and x <= 30 else 0)\n",
        "# df_edit[\"edad_31_y_40\"] = df_edit[\"edad\"].apply(lambda x: 1 if x > 30 and x <= 40 else 0)\n",
        "# df_edit[\"edad_41_y_50\"] = df_edit[\"edad\"].apply(lambda x: 1 if x > 40 and x <= 50 else 0)\n",
        "# df_edit[\"edad_51_y_60\"] = df_edit[\"edad\"].apply(lambda x: 1 if x > 50 and x <= 60 else 0)\n",
        "# df_edit[\"edad_61_y_70\"] = df_edit[\"edad\"].apply(lambda x: 1 if x > 60 and x <= 70 else 0)\n",
        "# df_edit[\"edad_71_y_80\"] = df_edit[\"edad\"].apply(lambda x: 1 if x > 70 and x <= 80 else 0)\n",
        "# df_edit[\"edad_81_y_90\"] = df_edit[\"edad\"].apply(lambda x: 1 if x > 80 and x <= 90 else 0)\n",
        "# df_edit[\"es_hombre\"] = df_edit[\"genero\"].apply(lambda x: 1 if x == \"hombre\" else 0)\n",
        "# df_edit.rol_familiar_registrado.replace(to_replace=[\"casada\"],  value=[\"casado\"], inplace=True)\n",
        "\n",
        "# df_edit.drop(columns = [\"horas_trabajo_registradas\", \"barrio\", \"genero\", \"ganancia_perdida_declarada_bolsa_argentina\", \"anios_estudiados\"], inplace=True)\n",
        "\n",
        "# df_edit.head()"
      ],
      "execution_count": 5,
      "outputs": []
    },
    {
      "cell_type": "code",
      "metadata": {
        "id": "ZYzn9Wu7pXSS"
      },
      "source": [
        "def set_value_row_casado_trabajo(row):\n",
        "    if (row.rol_familiar_registrado == \"casado\" and (row.trabajo == \"profesional_especializado\" or row.trabajo == \"directivo_gerente\" )):\n",
        "      return 1                 \n",
        "    else:\n",
        "      return 0\n",
        "      \n",
        "def feature_engineering(df):\n",
        "    \"Hace las transformaciones de datos necesarias.\"\n",
        "    df[\"opera_en_bolsa\"] = df[\"ganancia_perdida_declarada_bolsa_argentina\"].apply(lambda x: 1 if x != 0 else 0)\n",
        "    df[\"es_hombre\"] = df[\"genero\"].apply(lambda x: 1 if x == \"hombre\" else 0)\n",
        "    df.rol_familiar_registrado.replace(to_replace=[\"casada\"],  value=[\"casado\"], inplace=True)\n",
        "    df[\"casado_trabajo\"] = df.apply(lambda row: set_value_row_casado_trabajo(row), axis= 1)\n",
        "\n",
        "    df.drop(columns = [\"edad\", \"horas_trabajo_registradas\", \"barrio\", \"genero\", \"ganancia_perdida_declarada_bolsa_argentina\", \"anios_estudiados\"], inplace=True)\n",
        "\n",
        "    df = pd.get_dummies(df, drop_first=True, columns=[\"categoria_de_trabajo\", \"educacion_alcanzada\", \"estado_marital\", \"religion\", \"rol_familiar_registrado\", \"trabajo\"])\n",
        "\n",
        "    label_encoder = preprocessing.LabelEncoder()\n",
        "    label_encoder.fit(df.tiene_alto_valor_adquisitivo)\n",
        "\n",
        "    X = df.drop(columns=['tiene_alto_valor_adquisitivo'])\n",
        "    y = label_encoder.transform(df.tiene_alto_valor_adquisitivo)\n",
        "\n",
        "    return X, y, df, label_encoder"
      ],
      "execution_count": 7,
      "outputs": []
    },
    {
      "cell_type": "code",
      "metadata": {
        "colab": {
          "base_uri": "https://localhost:8080/",
          "height": 241
        },
        "id": "StWLLyzQyQeA",
        "outputId": "628473ff-f31c-4d17-913d-0b949b0c657a"
      },
      "source": [
        "df_edit = pd.DataFrame()\n",
        "df_edit = df.copy()\n",
        "\n",
        "X, y, df_new, y_encoder = feature_engineering(df_edit)\n",
        "df_new.head()"
      ],
      "execution_count": 8,
      "outputs": [
        {
          "output_type": "execute_result",
          "data": {
            "text/html": [
              "<div>\n",
              "<style scoped>\n",
              "    .dataframe tbody tr th:only-of-type {\n",
              "        vertical-align: middle;\n",
              "    }\n",
              "\n",
              "    .dataframe tbody tr th {\n",
              "        vertical-align: top;\n",
              "    }\n",
              "\n",
              "    .dataframe thead th {\n",
              "        text-align: right;\n",
              "    }\n",
              "</style>\n",
              "<table border=\"1\" class=\"dataframe\">\n",
              "  <thead>\n",
              "    <tr style=\"text-align: right;\">\n",
              "      <th></th>\n",
              "      <th>tiene_alto_valor_adquisitivo</th>\n",
              "      <th>opera_en_bolsa</th>\n",
              "      <th>es_hombre</th>\n",
              "      <th>casado_trabajo</th>\n",
              "      <th>categoria_de_trabajo_empleado_municipal</th>\n",
              "      <th>categoria_de_trabajo_empleado_provincial</th>\n",
              "      <th>categoria_de_trabajo_monotibutista</th>\n",
              "      <th>categoria_de_trabajo_relacion_de_dependencia</th>\n",
              "      <th>categoria_de_trabajo_responsable_inscripto</th>\n",
              "      <th>categoria_de_trabajo_sin_trabajo</th>\n",
              "      <th>categoria_de_trabajo_trabajo_voluntariado</th>\n",
              "      <th>educacion_alcanzada_1_anio</th>\n",
              "      <th>educacion_alcanzada_2_anio</th>\n",
              "      <th>educacion_alcanzada_3_anio</th>\n",
              "      <th>educacion_alcanzada_4_anio</th>\n",
              "      <th>educacion_alcanzada_5-6_grado</th>\n",
              "      <th>educacion_alcanzada_5_anio</th>\n",
              "      <th>educacion_alcanzada_7-8_grado</th>\n",
              "      <th>educacion_alcanzada_9_grado</th>\n",
              "      <th>educacion_alcanzada_preescolar</th>\n",
              "      <th>educacion_alcanzada_universiada_5_anio</th>\n",
              "      <th>educacion_alcanzada_universiada_6_anio</th>\n",
              "      <th>educacion_alcanzada_universidad_1_anio</th>\n",
              "      <th>educacion_alcanzada_universidad_2_anio</th>\n",
              "      <th>educacion_alcanzada_universidad_3_anio</th>\n",
              "      <th>educacion_alcanzada_universidad_4_anio</th>\n",
              "      <th>estado_marital_matrimonio_civil</th>\n",
              "      <th>estado_marital_matrimonio_militar</th>\n",
              "      <th>estado_marital_pareja_no_presente</th>\n",
              "      <th>estado_marital_separado</th>\n",
              "      <th>estado_marital_sin_matrimonio</th>\n",
              "      <th>estado_marital_viudo_a</th>\n",
              "      <th>religion_budismo</th>\n",
              "      <th>religion_cristianismo</th>\n",
              "      <th>religion_judaismo</th>\n",
              "      <th>religion_otro</th>\n",
              "      <th>rol_familiar_registrado_con_hijos</th>\n",
              "      <th>rol_familiar_registrado_otro</th>\n",
              "      <th>rol_familiar_registrado_sin_familia</th>\n",
              "      <th>rol_familiar_registrado_soltero_a</th>\n",
              "      <th>trabajo_ejercito</th>\n",
              "      <th>trabajo_entretenimiento</th>\n",
              "      <th>trabajo_inspector</th>\n",
              "      <th>trabajo_limpiador</th>\n",
              "      <th>trabajo_otros</th>\n",
              "      <th>trabajo_profesional_especializado</th>\n",
              "      <th>trabajo_reparador</th>\n",
              "      <th>trabajo_sector_primario</th>\n",
              "      <th>trabajo_seguridad</th>\n",
              "      <th>trabajo_servicio_domestico</th>\n",
              "      <th>trabajo_soporte_tecnico</th>\n",
              "      <th>trabajo_transporte</th>\n",
              "      <th>trabajo_ventas</th>\n",
              "    </tr>\n",
              "  </thead>\n",
              "  <tbody>\n",
              "    <tr>\n",
              "      <th>0</th>\n",
              "      <td>0</td>\n",
              "      <td>1</td>\n",
              "      <td>1</td>\n",
              "      <td>0</td>\n",
              "      <td>0</td>\n",
              "      <td>1</td>\n",
              "      <td>0</td>\n",
              "      <td>0</td>\n",
              "      <td>0</td>\n",
              "      <td>0</td>\n",
              "      <td>0</td>\n",
              "      <td>0</td>\n",
              "      <td>0</td>\n",
              "      <td>0</td>\n",
              "      <td>0</td>\n",
              "      <td>0</td>\n",
              "      <td>0</td>\n",
              "      <td>0</td>\n",
              "      <td>0</td>\n",
              "      <td>0</td>\n",
              "      <td>0</td>\n",
              "      <td>0</td>\n",
              "      <td>0</td>\n",
              "      <td>0</td>\n",
              "      <td>1</td>\n",
              "      <td>0</td>\n",
              "      <td>0</td>\n",
              "      <td>0</td>\n",
              "      <td>0</td>\n",
              "      <td>0</td>\n",
              "      <td>1</td>\n",
              "      <td>0</td>\n",
              "      <td>0</td>\n",
              "      <td>1</td>\n",
              "      <td>0</td>\n",
              "      <td>0</td>\n",
              "      <td>0</td>\n",
              "      <td>0</td>\n",
              "      <td>1</td>\n",
              "      <td>0</td>\n",
              "      <td>0</td>\n",
              "      <td>1</td>\n",
              "      <td>0</td>\n",
              "      <td>0</td>\n",
              "      <td>0</td>\n",
              "      <td>0</td>\n",
              "      <td>0</td>\n",
              "      <td>0</td>\n",
              "      <td>0</td>\n",
              "      <td>0</td>\n",
              "      <td>0</td>\n",
              "      <td>0</td>\n",
              "      <td>0</td>\n",
              "    </tr>\n",
              "    <tr>\n",
              "      <th>1</th>\n",
              "      <td>0</td>\n",
              "      <td>0</td>\n",
              "      <td>1</td>\n",
              "      <td>1</td>\n",
              "      <td>0</td>\n",
              "      <td>0</td>\n",
              "      <td>1</td>\n",
              "      <td>0</td>\n",
              "      <td>0</td>\n",
              "      <td>0</td>\n",
              "      <td>0</td>\n",
              "      <td>0</td>\n",
              "      <td>0</td>\n",
              "      <td>0</td>\n",
              "      <td>0</td>\n",
              "      <td>0</td>\n",
              "      <td>0</td>\n",
              "      <td>0</td>\n",
              "      <td>0</td>\n",
              "      <td>0</td>\n",
              "      <td>0</td>\n",
              "      <td>0</td>\n",
              "      <td>0</td>\n",
              "      <td>0</td>\n",
              "      <td>1</td>\n",
              "      <td>0</td>\n",
              "      <td>1</td>\n",
              "      <td>0</td>\n",
              "      <td>0</td>\n",
              "      <td>0</td>\n",
              "      <td>0</td>\n",
              "      <td>0</td>\n",
              "      <td>0</td>\n",
              "      <td>1</td>\n",
              "      <td>0</td>\n",
              "      <td>0</td>\n",
              "      <td>0</td>\n",
              "      <td>0</td>\n",
              "      <td>0</td>\n",
              "      <td>0</td>\n",
              "      <td>0</td>\n",
              "      <td>0</td>\n",
              "      <td>0</td>\n",
              "      <td>0</td>\n",
              "      <td>0</td>\n",
              "      <td>0</td>\n",
              "      <td>0</td>\n",
              "      <td>0</td>\n",
              "      <td>0</td>\n",
              "      <td>0</td>\n",
              "      <td>0</td>\n",
              "      <td>0</td>\n",
              "      <td>0</td>\n",
              "    </tr>\n",
              "    <tr>\n",
              "      <th>2</th>\n",
              "      <td>0</td>\n",
              "      <td>0</td>\n",
              "      <td>1</td>\n",
              "      <td>0</td>\n",
              "      <td>0</td>\n",
              "      <td>0</td>\n",
              "      <td>0</td>\n",
              "      <td>1</td>\n",
              "      <td>0</td>\n",
              "      <td>0</td>\n",
              "      <td>0</td>\n",
              "      <td>0</td>\n",
              "      <td>0</td>\n",
              "      <td>0</td>\n",
              "      <td>1</td>\n",
              "      <td>0</td>\n",
              "      <td>0</td>\n",
              "      <td>0</td>\n",
              "      <td>0</td>\n",
              "      <td>0</td>\n",
              "      <td>0</td>\n",
              "      <td>0</td>\n",
              "      <td>0</td>\n",
              "      <td>0</td>\n",
              "      <td>0</td>\n",
              "      <td>0</td>\n",
              "      <td>0</td>\n",
              "      <td>0</td>\n",
              "      <td>0</td>\n",
              "      <td>0</td>\n",
              "      <td>0</td>\n",
              "      <td>0</td>\n",
              "      <td>0</td>\n",
              "      <td>1</td>\n",
              "      <td>0</td>\n",
              "      <td>0</td>\n",
              "      <td>0</td>\n",
              "      <td>0</td>\n",
              "      <td>1</td>\n",
              "      <td>0</td>\n",
              "      <td>0</td>\n",
              "      <td>0</td>\n",
              "      <td>0</td>\n",
              "      <td>1</td>\n",
              "      <td>0</td>\n",
              "      <td>0</td>\n",
              "      <td>0</td>\n",
              "      <td>0</td>\n",
              "      <td>0</td>\n",
              "      <td>0</td>\n",
              "      <td>0</td>\n",
              "      <td>0</td>\n",
              "      <td>0</td>\n",
              "    </tr>\n",
              "    <tr>\n",
              "      <th>3</th>\n",
              "      <td>0</td>\n",
              "      <td>0</td>\n",
              "      <td>1</td>\n",
              "      <td>0</td>\n",
              "      <td>0</td>\n",
              "      <td>0</td>\n",
              "      <td>0</td>\n",
              "      <td>1</td>\n",
              "      <td>0</td>\n",
              "      <td>0</td>\n",
              "      <td>0</td>\n",
              "      <td>0</td>\n",
              "      <td>1</td>\n",
              "      <td>0</td>\n",
              "      <td>0</td>\n",
              "      <td>0</td>\n",
              "      <td>0</td>\n",
              "      <td>0</td>\n",
              "      <td>0</td>\n",
              "      <td>0</td>\n",
              "      <td>0</td>\n",
              "      <td>0</td>\n",
              "      <td>0</td>\n",
              "      <td>0</td>\n",
              "      <td>0</td>\n",
              "      <td>0</td>\n",
              "      <td>1</td>\n",
              "      <td>0</td>\n",
              "      <td>0</td>\n",
              "      <td>0</td>\n",
              "      <td>0</td>\n",
              "      <td>0</td>\n",
              "      <td>0</td>\n",
              "      <td>0</td>\n",
              "      <td>1</td>\n",
              "      <td>0</td>\n",
              "      <td>0</td>\n",
              "      <td>0</td>\n",
              "      <td>0</td>\n",
              "      <td>0</td>\n",
              "      <td>0</td>\n",
              "      <td>0</td>\n",
              "      <td>0</td>\n",
              "      <td>1</td>\n",
              "      <td>0</td>\n",
              "      <td>0</td>\n",
              "      <td>0</td>\n",
              "      <td>0</td>\n",
              "      <td>0</td>\n",
              "      <td>0</td>\n",
              "      <td>0</td>\n",
              "      <td>0</td>\n",
              "      <td>0</td>\n",
              "    </tr>\n",
              "    <tr>\n",
              "      <th>4</th>\n",
              "      <td>0</td>\n",
              "      <td>0</td>\n",
              "      <td>0</td>\n",
              "      <td>1</td>\n",
              "      <td>0</td>\n",
              "      <td>0</td>\n",
              "      <td>0</td>\n",
              "      <td>1</td>\n",
              "      <td>0</td>\n",
              "      <td>0</td>\n",
              "      <td>0</td>\n",
              "      <td>0</td>\n",
              "      <td>0</td>\n",
              "      <td>0</td>\n",
              "      <td>0</td>\n",
              "      <td>0</td>\n",
              "      <td>0</td>\n",
              "      <td>0</td>\n",
              "      <td>0</td>\n",
              "      <td>0</td>\n",
              "      <td>0</td>\n",
              "      <td>0</td>\n",
              "      <td>0</td>\n",
              "      <td>0</td>\n",
              "      <td>1</td>\n",
              "      <td>0</td>\n",
              "      <td>1</td>\n",
              "      <td>0</td>\n",
              "      <td>0</td>\n",
              "      <td>0</td>\n",
              "      <td>0</td>\n",
              "      <td>0</td>\n",
              "      <td>0</td>\n",
              "      <td>0</td>\n",
              "      <td>1</td>\n",
              "      <td>0</td>\n",
              "      <td>0</td>\n",
              "      <td>0</td>\n",
              "      <td>0</td>\n",
              "      <td>0</td>\n",
              "      <td>0</td>\n",
              "      <td>0</td>\n",
              "      <td>0</td>\n",
              "      <td>0</td>\n",
              "      <td>0</td>\n",
              "      <td>1</td>\n",
              "      <td>0</td>\n",
              "      <td>0</td>\n",
              "      <td>0</td>\n",
              "      <td>0</td>\n",
              "      <td>0</td>\n",
              "      <td>0</td>\n",
              "      <td>0</td>\n",
              "    </tr>\n",
              "  </tbody>\n",
              "</table>\n",
              "</div>"
            ],
            "text/plain": [
              "   tiene_alto_valor_adquisitivo  ...  trabajo_ventas\n",
              "0                             0  ...               0\n",
              "1                             0  ...               0\n",
              "2                             0  ...               0\n",
              "3                             0  ...               0\n",
              "4                             0  ...               0\n",
              "\n",
              "[5 rows x 53 columns]"
            ]
          },
          "metadata": {
            "tags": []
          },
          "execution_count": 8
        }
      ]
    },
    {
      "cell_type": "code",
      "metadata": {
        "colab": {
          "base_uri": "https://localhost:8080/"
        },
        "id": "FDJP1Gf90WTl",
        "outputId": "e25e70b0-6092-4b38-cb94-57c2b68a065d"
      },
      "source": [
        "print(\"Cantidad de features en el nuevo set\")\n",
        "print(len(df_new.columns))"
      ],
      "execution_count": 9,
      "outputs": [
        {
          "output_type": "stream",
          "text": [
            "Cantidad de features en el nuevo set\n",
            "53\n"
          ],
          "name": "stdout"
        }
      ]
    },
    {
      "cell_type": "code",
      "metadata": {
        "id": "TNB8tfXmuOja"
      },
      "source": [
        "# Obtengo los sets de entrenamiento y test\n",
        "X_train, X_test, y_train, y_test = train_test_split(X, y, test_size=0.20)"
      ],
      "execution_count": 10,
      "outputs": []
    },
    {
      "cell_type": "code",
      "metadata": {
        "id": "Rh2m3-Y9qPyU"
      },
      "source": [
        "# n_estimators es el numero de arboles\n",
        "classifier=RandomForestClassifier(n_estimators=50, max_depth=5, random_state=0)\n",
        "\n",
        "# Entrenar\n",
        "classifier.fit(X_train, y_train)\n",
        "\n",
        "# Predecir\n",
        "predictions=classifier.predict(X_test)"
      ],
      "execution_count": 11,
      "outputs": []
    },
    {
      "cell_type": "code",
      "metadata": {
        "colab": {
          "base_uri": "https://localhost:8080/"
        },
        "id": "0KMRevHou8PC",
        "outputId": "b475366d-e876-4b0f-fa1a-5ca0743fdb36"
      },
      "source": [
        "# Obtener metricas de error\n",
        "print(\"Matriz de confusion\")\n",
        "print(confusion_matrix(y_test, predictions))\n",
        "print(\"\\n\")\n",
        "\n",
        "print(\"Porcentaje de aciertos\")\n",
        "print(round(accuracy_score(y_test, predictions),3))\n",
        "print(\"\\n\")\n",
        "\n",
        "print(\"Precision\")\n",
        "print(round(precision_score(y_test, predictions),3))\n",
        "print(\"\\n\")\n",
        "\n",
        "print(\"Recall\")\n",
        "print(round(recall_score(y_test, predictions),3))\n",
        "print(\"\\n\")\n",
        "\n",
        "print(\"F1 Score\")\n",
        "print(round(f1_score(y_test, predictions),3))"
      ],
      "execution_count": 12,
      "outputs": [
        {
          "output_type": "stream",
          "text": [
            "Matriz de confusion\n",
            "[[4763  153]\n",
            " [ 990  607]]\n",
            "\n",
            "\n",
            "Porcentaje de aciertos\n",
            "0.825\n",
            "\n",
            "\n",
            "Precision\n",
            "0.799\n",
            "\n",
            "\n",
            "Recall\n",
            "0.38\n",
            "\n",
            "\n",
            "F1 Score\n",
            "0.515\n"
          ],
          "name": "stdout"
        }
      ]
    },
    {
      "cell_type": "code",
      "metadata": {
        "id": "2WPZ9cif8SfE"
      },
      "source": [
        "def plot_roc(_fpr, _tpr, x):\n",
        "    roc_auc = auc(_fpr, _tpr)\n",
        "\n",
        "    plt.figure(figsize=(15, 10))\n",
        "    plt.plot(_fpr, _tpr, color='darkorange', lw=2, label=f'ROC curve (area = {roc_auc:.2f})')\n",
        "    plt.scatter(_fpr, x)\n",
        "    plt.plot([0, 1], [0, 1], color='navy', lw=2, linestyle='--')\n",
        "    plt.xlim([0.0, 1.0])\n",
        "    plt.ylim([0.0, 1.05])\n",
        "    plt.xlabel('False Positive Rate')\n",
        "    plt.ylabel('True Positive Rate')\n",
        "    plt.title('Receiver operating characteristic')\n",
        "    plt.legend(loc=\"lower right\")\n",
        "    plt.show()"
      ],
      "execution_count": 13,
      "outputs": []
    },
    {
      "cell_type": "code",
      "metadata": {
        "colab": {
          "base_uri": "https://localhost:8080/",
          "height": 638
        },
        "id": "2AL7P4dT8Xly",
        "outputId": "5506dda4-e3f3-4996-8701-20abecd93e18"
      },
      "source": [
        "fpr, tpr, thresholds = roc_curve(y_test, predictions)\n",
        "plot_roc(fpr, tpr, thresholds)\n",
        "display(roc_auc_score(y_test, predictions))"
      ],
      "execution_count": 14,
      "outputs": [
        {
          "output_type": "display_data",
          "data": {
            "image/png": "[encoded data removed]",
            "text/plain": [
              "<Figure size 1080x720 with 1 Axes>"
            ]
          },
          "metadata": {
            "tags": [],
            "needs_background": "light"
          }
        },
        {
          "output_type": "display_data",
          "data": {
            "text/plain": [
              "0.6744824001267632"
            ]
          },
          "metadata": {
            "tags": []
          }
        }
      ]
    },
    {
      "cell_type": "code",
      "metadata": {
        "id": "ljMxBomAz4Ox",
        "colab": {
          "base_uri": "https://localhost:8080/",
          "height": 516
        },
        "outputId": "e6f1991b-f040-4735-d071-8c2ff18e1057"
      },
      "source": [
        "# Ver la importancia de cada feature para este algoritmo\n",
        "model = ExtraTreesClassifier()\n",
        "model.fit(X_train,y_train)\n",
        "\n",
        "print(model.feature_importances_)\n",
        "\n",
        "# Graficar importancia de cada uno\n",
        "plt.bar(range(len(model.feature_importances_)), model.feature_importances_)\n",
        "plt.title('Importacia de cada feature creado para la prediccion', )\n",
        "plt.xlabel('Indice de los features en el df')\n",
        "plt.ylabel('Importacia en la prediccion')\n",
        "plt.show()"
      ],
      "execution_count": 15,
      "outputs": [
        {
          "output_type": "stream",
          "text": [
            "[1.06898813e-01 4.12627431e-02 1.38929714e-01 1.30007052e-02\n",
            " 1.21604124e-02 1.71828678e-02 2.22388803e-02 1.47368807e-02\n",
            " 6.68381021e-06 3.77708333e-04 5.20292319e-03 6.42838496e-03\n",
            " 2.89974917e-03 1.84514037e-02 2.95166935e-03 1.41301248e-02\n",
            " 7.47824661e-03 5.18885623e-03 3.93358792e-04 1.48887606e-02\n",
            " 1.31150714e-02 7.98806256e-03 6.95037326e-03 3.78376975e-02\n",
            " 2.80864877e-02 1.59752215e-01 1.07462771e-03 3.24710841e-03\n",
            " 5.74261805e-03 6.45233597e-02 5.93534118e-03 8.13615031e-03\n",
            " 1.48054646e-02 9.77322643e-03 2.90368828e-03 2.33837321e-02\n",
            " 5.64779939e-03 1.93662516e-02 1.25755670e-02 3.55523073e-05\n",
            " 1.17929134e-02 6.15214074e-03 5.75315794e-03 1.33207916e-02\n",
            " 3.16174137e-02 9.99416119e-03 7.54720833e-03 6.55347658e-03\n",
            " 6.06019292e-04 1.05720202e-02 6.48436594e-03 1.39170500e-02]\n"
          ],
          "name": "stdout"
        },
        {
          "output_type": "display_data",
          "data": {
            "image/png": "[encoded data removed]",
            "text/plain": [
              "<Figure size 432x288 with 1 Axes>"
            ]
          },
          "metadata": {
            "tags": [],
            "needs_background": "light"
          }
        }
      ]
    },
    {
      "cell_type": "code",
      "metadata": {
        "colab": {
          "base_uri": "https://localhost:8080/",
          "height": 282
        },
        "id": "-sGu0NXtwCe7",
        "outputId": "305e6c64-f726-4aac-f2f8-4a166c8b751b"
      },
      "source": [
        "# Ver aporte de cada arbol\n",
        "trees=range(50)\n",
        "accuracy=np.zeros(50)\n",
        "\n",
        "for idx in range(len(trees)):\n",
        "    classifier=RandomForestClassifier(n_estimators=idx + 1)\n",
        "    classifier=classifier.fit(X_train, y_train)\n",
        "    predictions=classifier.predict(X_test)\n",
        "    accuracy[idx]=accuracy_score(y_test, predictions)\n",
        "\n",
        "plt.cla()\n",
        "plt.plot(trees, accuracy)"
      ],
      "execution_count": 16,
      "outputs": [
        {
          "output_type": "execute_result",
          "data": {
            "text/plain": [
              "[<matplotlib.lines.Line2D at 0x7f954325fdd0>]"
            ]
          },
          "metadata": {
            "tags": []
          },
          "execution_count": 16
        },
        {
          "output_type": "display_data",
          "data": {
            "image/png": "[encoded data removed]",
            "text/plain": [
              "<Figure size 432x288 with 1 Axes>"
            ]
          },
          "metadata": {
            "tags": [],
            "needs_background": "light"
          }
        }
      ]
    }
  ]
}