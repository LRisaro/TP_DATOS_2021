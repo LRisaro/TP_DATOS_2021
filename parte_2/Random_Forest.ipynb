{
  "nbformat": 4,
  "nbformat_minor": 0,
  "metadata": {
    "colab": {
      "name": "Random_Forest.ipynb",
      "provenance": [],
      "collapsed_sections": []
    },
    "kernelspec": {
      "name": "python3",
      "display_name": "Python 3"
    },
    "language_info": {
      "name": "python"
    }
  },
  "cells": [
    {
      "cell_type": "code",
      "metadata": {
        "id": "hGcR2TGXlAON"
      },
      "source": [
        "import pandas as pd\n",
        "import numpy as np\n",
        "import preprocessing as pp\n",
        "import formatPredictions as fp\n",
        "import datasets as datasets\n",
        "\n",
        "#Importacion arboles\n",
        "from sklearn.ensemble import RandomForestClassifier, RandomForestRegressor\n",
        "from sklearn.ensemble import ExtraTreesClassifier\n",
        "\n",
        "#Importacion preprocesamiento\n",
        "from sklearn.model_selection import train_test_split\n",
        "\n",
        "#Importacion metricas\n",
        "import metrics as m\n",
        "from sklearn.model_selection import RandomizedSearchCV, GridSearchCV\n",
        "from sklearn.metrics import roc_curve, auc, roc_auc_score, accuracy_score\n",
        "\n",
        "#Librerias para visualizacion\n",
        "from pprint import pprint\n",
        "import seaborn as sb\n",
        "import matplotlib.pyplot as plt"
      ],
      "execution_count": 1,
      "outputs": []
    },
    {
      "cell_type": "code",
      "metadata": {
        "colab": {
          "base_uri": "https://localhost:8080/",
          "height": 224
        },
        "id": "_5VyPsfTlEKt",
        "outputId": "42d32bf7-b603-4e78-f61f-104e7953375f"
      },
      "source": [
        "df = datasets.getDataTrain()\n",
        "df.head()"
      ],
      "execution_count": 2,
      "outputs": [
        {
          "output_type": "execute_result",
          "data": {
            "text/html": [
              "<div>\n",
              "<style scoped>\n",
              "    .dataframe tbody tr th:only-of-type {\n",
              "        vertical-align: middle;\n",
              "    }\n",
              "\n",
              "    .dataframe tbody tr th {\n",
              "        vertical-align: top;\n",
              "    }\n",
              "\n",
              "    .dataframe thead th {\n",
              "        text-align: right;\n",
              "    }\n",
              "</style>\n",
              "<table border=\"1\" class=\"dataframe\">\n",
              "  <thead>\n",
              "    <tr style=\"text-align: right;\">\n",
              "      <th></th>\n",
              "      <th>anios_estudiados</th>\n",
              "      <th>barrio</th>\n",
              "      <th>categoria_de_trabajo</th>\n",
              "      <th>edad</th>\n",
              "      <th>educacion_alcanzada</th>\n",
              "      <th>estado_marital</th>\n",
              "      <th>ganancia_perdida_declarada_bolsa_argentina</th>\n",
              "      <th>genero</th>\n",
              "      <th>horas_trabajo_registradas</th>\n",
              "      <th>religion</th>\n",
              "      <th>rol_familiar_registrado</th>\n",
              "      <th>tiene_alto_valor_adquisitivo</th>\n",
              "      <th>trabajo</th>\n",
              "    </tr>\n",
              "  </thead>\n",
              "  <tbody>\n",
              "    <tr>\n",
              "      <th>0</th>\n",
              "      <td>17</td>\n",
              "      <td>Palermo</td>\n",
              "      <td>empleado_provincial</td>\n",
              "      <td>39</td>\n",
              "      <td>universidad_3_anio</td>\n",
              "      <td>sin_matrimonio</td>\n",
              "      <td>2174</td>\n",
              "      <td>hombre</td>\n",
              "      <td>40</td>\n",
              "      <td>cristianismo</td>\n",
              "      <td>sin_familia</td>\n",
              "      <td>0</td>\n",
              "      <td>entretenimiento</td>\n",
              "    </tr>\n",
              "    <tr>\n",
              "      <th>1</th>\n",
              "      <td>17</td>\n",
              "      <td>Palermo</td>\n",
              "      <td>monotibutista</td>\n",
              "      <td>50</td>\n",
              "      <td>universidad_3_anio</td>\n",
              "      <td>matrimonio_civil</td>\n",
              "      <td>0</td>\n",
              "      <td>hombre</td>\n",
              "      <td>13</td>\n",
              "      <td>cristianismo</td>\n",
              "      <td>casado</td>\n",
              "      <td>0</td>\n",
              "      <td>directivo_gerente</td>\n",
              "    </tr>\n",
              "    <tr>\n",
              "      <th>2</th>\n",
              "      <td>13</td>\n",
              "      <td>Palermo</td>\n",
              "      <td>relacion_de_dependencia</td>\n",
              "      <td>38</td>\n",
              "      <td>4_anio</td>\n",
              "      <td>divorciado</td>\n",
              "      <td>0</td>\n",
              "      <td>hombre</td>\n",
              "      <td>40</td>\n",
              "      <td>cristianismo</td>\n",
              "      <td>sin_familia</td>\n",
              "      <td>0</td>\n",
              "      <td>limpiador</td>\n",
              "    </tr>\n",
              "    <tr>\n",
              "      <th>3</th>\n",
              "      <td>11</td>\n",
              "      <td>Palermo</td>\n",
              "      <td>relacion_de_dependencia</td>\n",
              "      <td>53</td>\n",
              "      <td>2_anio</td>\n",
              "      <td>matrimonio_civil</td>\n",
              "      <td>0</td>\n",
              "      <td>hombre</td>\n",
              "      <td>40</td>\n",
              "      <td>judaismo</td>\n",
              "      <td>casado</td>\n",
              "      <td>0</td>\n",
              "      <td>limpiador</td>\n",
              "    </tr>\n",
              "    <tr>\n",
              "      <th>4</th>\n",
              "      <td>17</td>\n",
              "      <td>Balvanera</td>\n",
              "      <td>relacion_de_dependencia</td>\n",
              "      <td>28</td>\n",
              "      <td>universidad_3_anio</td>\n",
              "      <td>matrimonio_civil</td>\n",
              "      <td>0</td>\n",
              "      <td>mujer</td>\n",
              "      <td>40</td>\n",
              "      <td>judaismo</td>\n",
              "      <td>casada</td>\n",
              "      <td>0</td>\n",
              "      <td>profesional_especializado</td>\n",
              "    </tr>\n",
              "  </tbody>\n",
              "</table>\n",
              "</div>"
            ],
            "text/plain": [
              "   anios_estudiados  ...                    trabajo\n",
              "0                17  ...            entretenimiento\n",
              "1                17  ...          directivo_gerente\n",
              "2                13  ...                  limpiador\n",
              "3                11  ...                  limpiador\n",
              "4                17  ...  profesional_especializado\n",
              "\n",
              "[5 rows x 13 columns]"
            ]
          },
          "metadata": {
            "tags": []
          },
          "execution_count": 2
        }
      ]
    },
    {
      "cell_type": "code",
      "metadata": {
        "colab": {
          "base_uri": "https://localhost:8080/",
          "height": 241
        },
        "id": "StWLLyzQyQeA",
        "outputId": "5405c2f6-e50f-4ee7-dc8a-4ef740de11ef"
      },
      "source": [
        "df_edit = pd.DataFrame()\n",
        "df_edit = df.copy()\n",
        "\n",
        "X, y, df_new = pp.feature_engineering_original_set(df_edit)\n",
        "df_new.head()"
      ],
      "execution_count": 3,
      "outputs": [
        {
          "output_type": "execute_result",
          "data": {
            "text/html": [
              "<div>\n",
              "<style scoped>\n",
              "    .dataframe tbody tr th:only-of-type {\n",
              "        vertical-align: middle;\n",
              "    }\n",
              "\n",
              "    .dataframe tbody tr th {\n",
              "        vertical-align: top;\n",
              "    }\n",
              "\n",
              "    .dataframe thead th {\n",
              "        text-align: right;\n",
              "    }\n",
              "</style>\n",
              "<table border=\"1\" class=\"dataframe\">\n",
              "  <thead>\n",
              "    <tr style=\"text-align: right;\">\n",
              "      <th></th>\n",
              "      <th>tiene_alto_valor_adquisitivo</th>\n",
              "      <th>opera_en_bolsa</th>\n",
              "      <th>es_hombre</th>\n",
              "      <th>casado_trabajo</th>\n",
              "      <th>categoria_de_trabajo_empleado_municipal</th>\n",
              "      <th>categoria_de_trabajo_empleado_provincial</th>\n",
              "      <th>categoria_de_trabajo_monotibutista</th>\n",
              "      <th>categoria_de_trabajo_relacion_de_dependencia</th>\n",
              "      <th>categoria_de_trabajo_responsable_inscripto</th>\n",
              "      <th>categoria_de_trabajo_sin_trabajo</th>\n",
              "      <th>categoria_de_trabajo_trabajo_voluntariado</th>\n",
              "      <th>educacion_alcanzada_1_anio</th>\n",
              "      <th>educacion_alcanzada_2_anio</th>\n",
              "      <th>educacion_alcanzada_3_anio</th>\n",
              "      <th>educacion_alcanzada_4_anio</th>\n",
              "      <th>educacion_alcanzada_5-6_grado</th>\n",
              "      <th>educacion_alcanzada_5_anio</th>\n",
              "      <th>educacion_alcanzada_7-8_grado</th>\n",
              "      <th>educacion_alcanzada_9_grado</th>\n",
              "      <th>educacion_alcanzada_preescolar</th>\n",
              "      <th>educacion_alcanzada_universiada_5_anio</th>\n",
              "      <th>educacion_alcanzada_universiada_6_anio</th>\n",
              "      <th>educacion_alcanzada_universidad_1_anio</th>\n",
              "      <th>educacion_alcanzada_universidad_2_anio</th>\n",
              "      <th>educacion_alcanzada_universidad_3_anio</th>\n",
              "      <th>educacion_alcanzada_universidad_4_anio</th>\n",
              "      <th>estado_marital_matrimonio_civil</th>\n",
              "      <th>estado_marital_matrimonio_militar</th>\n",
              "      <th>estado_marital_pareja_no_presente</th>\n",
              "      <th>estado_marital_separado</th>\n",
              "      <th>estado_marital_sin_matrimonio</th>\n",
              "      <th>estado_marital_viudo_a</th>\n",
              "      <th>religion_budismo</th>\n",
              "      <th>religion_cristianismo</th>\n",
              "      <th>religion_judaismo</th>\n",
              "      <th>religion_otro</th>\n",
              "      <th>rol_familiar_registrado_con_hijos</th>\n",
              "      <th>rol_familiar_registrado_otro</th>\n",
              "      <th>rol_familiar_registrado_sin_familia</th>\n",
              "      <th>rol_familiar_registrado_soltero_a</th>\n",
              "      <th>trabajo_ejercito</th>\n",
              "      <th>trabajo_entretenimiento</th>\n",
              "      <th>trabajo_inspector</th>\n",
              "      <th>trabajo_limpiador</th>\n",
              "      <th>trabajo_otros</th>\n",
              "      <th>trabajo_profesional_especializado</th>\n",
              "      <th>trabajo_reparador</th>\n",
              "      <th>trabajo_sector_primario</th>\n",
              "      <th>trabajo_seguridad</th>\n",
              "      <th>trabajo_servicio_domestico</th>\n",
              "      <th>trabajo_soporte_tecnico</th>\n",
              "      <th>trabajo_transporte</th>\n",
              "      <th>trabajo_ventas</th>\n",
              "    </tr>\n",
              "  </thead>\n",
              "  <tbody>\n",
              "    <tr>\n",
              "      <th>0</th>\n",
              "      <td>0</td>\n",
              "      <td>1</td>\n",
              "      <td>1</td>\n",
              "      <td>0</td>\n",
              "      <td>0</td>\n",
              "      <td>1</td>\n",
              "      <td>0</td>\n",
              "      <td>0</td>\n",
              "      <td>0</td>\n",
              "      <td>0</td>\n",
              "      <td>0</td>\n",
              "      <td>0</td>\n",
              "      <td>0</td>\n",
              "      <td>0</td>\n",
              "      <td>0</td>\n",
              "      <td>0</td>\n",
              "      <td>0</td>\n",
              "      <td>0</td>\n",
              "      <td>0</td>\n",
              "      <td>0</td>\n",
              "      <td>0</td>\n",
              "      <td>0</td>\n",
              "      <td>0</td>\n",
              "      <td>0</td>\n",
              "      <td>1</td>\n",
              "      <td>0</td>\n",
              "      <td>0</td>\n",
              "      <td>0</td>\n",
              "      <td>0</td>\n",
              "      <td>0</td>\n",
              "      <td>1</td>\n",
              "      <td>0</td>\n",
              "      <td>0</td>\n",
              "      <td>1</td>\n",
              "      <td>0</td>\n",
              "      <td>0</td>\n",
              "      <td>0</td>\n",
              "      <td>0</td>\n",
              "      <td>1</td>\n",
              "      <td>0</td>\n",
              "      <td>0</td>\n",
              "      <td>1</td>\n",
              "      <td>0</td>\n",
              "      <td>0</td>\n",
              "      <td>0</td>\n",
              "      <td>0</td>\n",
              "      <td>0</td>\n",
              "      <td>0</td>\n",
              "      <td>0</td>\n",
              "      <td>0</td>\n",
              "      <td>0</td>\n",
              "      <td>0</td>\n",
              "      <td>0</td>\n",
              "    </tr>\n",
              "    <tr>\n",
              "      <th>1</th>\n",
              "      <td>0</td>\n",
              "      <td>0</td>\n",
              "      <td>1</td>\n",
              "      <td>1</td>\n",
              "      <td>0</td>\n",
              "      <td>0</td>\n",
              "      <td>1</td>\n",
              "      <td>0</td>\n",
              "      <td>0</td>\n",
              "      <td>0</td>\n",
              "      <td>0</td>\n",
              "      <td>0</td>\n",
              "      <td>0</td>\n",
              "      <td>0</td>\n",
              "      <td>0</td>\n",
              "      <td>0</td>\n",
              "      <td>0</td>\n",
              "      <td>0</td>\n",
              "      <td>0</td>\n",
              "      <td>0</td>\n",
              "      <td>0</td>\n",
              "      <td>0</td>\n",
              "      <td>0</td>\n",
              "      <td>0</td>\n",
              "      <td>1</td>\n",
              "      <td>0</td>\n",
              "      <td>1</td>\n",
              "      <td>0</td>\n",
              "      <td>0</td>\n",
              "      <td>0</td>\n",
              "      <td>0</td>\n",
              "      <td>0</td>\n",
              "      <td>0</td>\n",
              "      <td>1</td>\n",
              "      <td>0</td>\n",
              "      <td>0</td>\n",
              "      <td>0</td>\n",
              "      <td>0</td>\n",
              "      <td>0</td>\n",
              "      <td>0</td>\n",
              "      <td>0</td>\n",
              "      <td>0</td>\n",
              "      <td>0</td>\n",
              "      <td>0</td>\n",
              "      <td>0</td>\n",
              "      <td>0</td>\n",
              "      <td>0</td>\n",
              "      <td>0</td>\n",
              "      <td>0</td>\n",
              "      <td>0</td>\n",
              "      <td>0</td>\n",
              "      <td>0</td>\n",
              "      <td>0</td>\n",
              "    </tr>\n",
              "    <tr>\n",
              "      <th>2</th>\n",
              "      <td>0</td>\n",
              "      <td>0</td>\n",
              "      <td>1</td>\n",
              "      <td>0</td>\n",
              "      <td>0</td>\n",
              "      <td>0</td>\n",
              "      <td>0</td>\n",
              "      <td>1</td>\n",
              "      <td>0</td>\n",
              "      <td>0</td>\n",
              "      <td>0</td>\n",
              "      <td>0</td>\n",
              "      <td>0</td>\n",
              "      <td>0</td>\n",
              "      <td>1</td>\n",
              "      <td>0</td>\n",
              "      <td>0</td>\n",
              "      <td>0</td>\n",
              "      <td>0</td>\n",
              "      <td>0</td>\n",
              "      <td>0</td>\n",
              "      <td>0</td>\n",
              "      <td>0</td>\n",
              "      <td>0</td>\n",
              "      <td>0</td>\n",
              "      <td>0</td>\n",
              "      <td>0</td>\n",
              "      <td>0</td>\n",
              "      <td>0</td>\n",
              "      <td>0</td>\n",
              "      <td>0</td>\n",
              "      <td>0</td>\n",
              "      <td>0</td>\n",
              "      <td>1</td>\n",
              "      <td>0</td>\n",
              "      <td>0</td>\n",
              "      <td>0</td>\n",
              "      <td>0</td>\n",
              "      <td>1</td>\n",
              "      <td>0</td>\n",
              "      <td>0</td>\n",
              "      <td>0</td>\n",
              "      <td>0</td>\n",
              "      <td>1</td>\n",
              "      <td>0</td>\n",
              "      <td>0</td>\n",
              "      <td>0</td>\n",
              "      <td>0</td>\n",
              "      <td>0</td>\n",
              "      <td>0</td>\n",
              "      <td>0</td>\n",
              "      <td>0</td>\n",
              "      <td>0</td>\n",
              "    </tr>\n",
              "    <tr>\n",
              "      <th>3</th>\n",
              "      <td>0</td>\n",
              "      <td>0</td>\n",
              "      <td>1</td>\n",
              "      <td>0</td>\n",
              "      <td>0</td>\n",
              "      <td>0</td>\n",
              "      <td>0</td>\n",
              "      <td>1</td>\n",
              "      <td>0</td>\n",
              "      <td>0</td>\n",
              "      <td>0</td>\n",
              "      <td>0</td>\n",
              "      <td>1</td>\n",
              "      <td>0</td>\n",
              "      <td>0</td>\n",
              "      <td>0</td>\n",
              "      <td>0</td>\n",
              "      <td>0</td>\n",
              "      <td>0</td>\n",
              "      <td>0</td>\n",
              "      <td>0</td>\n",
              "      <td>0</td>\n",
              "      <td>0</td>\n",
              "      <td>0</td>\n",
              "      <td>0</td>\n",
              "      <td>0</td>\n",
              "      <td>1</td>\n",
              "      <td>0</td>\n",
              "      <td>0</td>\n",
              "      <td>0</td>\n",
              "      <td>0</td>\n",
              "      <td>0</td>\n",
              "      <td>0</td>\n",
              "      <td>0</td>\n",
              "      <td>1</td>\n",
              "      <td>0</td>\n",
              "      <td>0</td>\n",
              "      <td>0</td>\n",
              "      <td>0</td>\n",
              "      <td>0</td>\n",
              "      <td>0</td>\n",
              "      <td>0</td>\n",
              "      <td>0</td>\n",
              "      <td>1</td>\n",
              "      <td>0</td>\n",
              "      <td>0</td>\n",
              "      <td>0</td>\n",
              "      <td>0</td>\n",
              "      <td>0</td>\n",
              "      <td>0</td>\n",
              "      <td>0</td>\n",
              "      <td>0</td>\n",
              "      <td>0</td>\n",
              "    </tr>\n",
              "    <tr>\n",
              "      <th>4</th>\n",
              "      <td>0</td>\n",
              "      <td>0</td>\n",
              "      <td>0</td>\n",
              "      <td>1</td>\n",
              "      <td>0</td>\n",
              "      <td>0</td>\n",
              "      <td>0</td>\n",
              "      <td>1</td>\n",
              "      <td>0</td>\n",
              "      <td>0</td>\n",
              "      <td>0</td>\n",
              "      <td>0</td>\n",
              "      <td>0</td>\n",
              "      <td>0</td>\n",
              "      <td>0</td>\n",
              "      <td>0</td>\n",
              "      <td>0</td>\n",
              "      <td>0</td>\n",
              "      <td>0</td>\n",
              "      <td>0</td>\n",
              "      <td>0</td>\n",
              "      <td>0</td>\n",
              "      <td>0</td>\n",
              "      <td>0</td>\n",
              "      <td>1</td>\n",
              "      <td>0</td>\n",
              "      <td>1</td>\n",
              "      <td>0</td>\n",
              "      <td>0</td>\n",
              "      <td>0</td>\n",
              "      <td>0</td>\n",
              "      <td>0</td>\n",
              "      <td>0</td>\n",
              "      <td>0</td>\n",
              "      <td>1</td>\n",
              "      <td>0</td>\n",
              "      <td>0</td>\n",
              "      <td>0</td>\n",
              "      <td>0</td>\n",
              "      <td>0</td>\n",
              "      <td>0</td>\n",
              "      <td>0</td>\n",
              "      <td>0</td>\n",
              "      <td>0</td>\n",
              "      <td>0</td>\n",
              "      <td>1</td>\n",
              "      <td>0</td>\n",
              "      <td>0</td>\n",
              "      <td>0</td>\n",
              "      <td>0</td>\n",
              "      <td>0</td>\n",
              "      <td>0</td>\n",
              "      <td>0</td>\n",
              "    </tr>\n",
              "  </tbody>\n",
              "</table>\n",
              "</div>"
            ],
            "text/plain": [
              "   tiene_alto_valor_adquisitivo  ...  trabajo_ventas\n",
              "0                             0  ...               0\n",
              "1                             0  ...               0\n",
              "2                             0  ...               0\n",
              "3                             0  ...               0\n",
              "4                             0  ...               0\n",
              "\n",
              "[5 rows x 53 columns]"
            ]
          },
          "metadata": {
            "tags": []
          },
          "execution_count": 3
        }
      ]
    },
    {
      "cell_type": "code",
      "metadata": {
        "colab": {
          "base_uri": "https://localhost:8080/"
        },
        "id": "FDJP1Gf90WTl",
        "outputId": "e2dc9b88-096f-47a8-ba97-6ae848d5f585"
      },
      "source": [
        "print(\"Cantidad de features en el nuevo set\")\n",
        "print(len(df_new.columns))"
      ],
      "execution_count": 4,
      "outputs": [
        {
          "output_type": "stream",
          "text": [
            "Cantidad de features en el nuevo set\n",
            "53\n"
          ],
          "name": "stdout"
        }
      ]
    },
    {
      "cell_type": "code",
      "metadata": {
        "id": "TNB8tfXmuOja"
      },
      "source": [
        "# Obtengo los sets de entrenamiento y test\n",
        "X_train, X_test, y_train, y_test = train_test_split(X, y, random_state = pp.GetSeedForTrainSplit(), test_size=0.20)"
      ],
      "execution_count": 5,
      "outputs": []
    },
    {
      "cell_type": "markdown",
      "metadata": {
        "id": "eaVM5JHxfhKx"
      },
      "source": [
        "# Analisis de hiperparametros"
      ]
    },
    {
      "cell_type": "markdown",
      "metadata": {
        "id": "AJmSMJaCkyny"
      },
      "source": [
        "##Random Hyperparameter Grid"
      ]
    },
    {
      "cell_type": "code",
      "metadata": {
        "id": "YisW8ve1gBLS"
      },
      "source": [
        "# Numero de arboles en random forest\n",
        "n_estimators = [10, 20, 30, 40, 50]\n",
        "# Numero de features a considerar en cada split\n",
        "max_features = ['auto', 'sqrt']\n",
        "# Maxima profundidad de los arboles\n",
        "max_depth = [1 ,2, 3, 4, 5, 6, 7, 8, 9, 10]\n",
        "max_depth.append(None)\n",
        "#Minima cantidad de muestras para splitear un nodo\n",
        "min_samples_split = [2, 5, 10]\n",
        "# Minima cantidad de muestras en cada hoja \n",
        "min_samples_leaf = [1, 2, 4]\n",
        "# Metodo para seleccionar las muestras para el entrenamiento de cada arbol\n",
        "bootstrap = [True, False]"
      ],
      "execution_count": 6,
      "outputs": []
    },
    {
      "cell_type": "code",
      "metadata": {
        "id": "rUdOB3FSgIpg"
      },
      "source": [
        "# Creo la grilla de parametros\n",
        "random_grid = {'n_estimators': n_estimators,\n",
        "               'max_features': max_features,\n",
        "               'max_depth': max_depth,\n",
        "               'min_samples_split': min_samples_split,\n",
        "               'min_samples_leaf': min_samples_leaf,\n",
        "               'bootstrap': bootstrap}"
      ],
      "execution_count": 7,
      "outputs": []
    },
    {
      "cell_type": "code",
      "metadata": {
        "colab": {
          "base_uri": "https://localhost:8080/"
        },
        "id": "-w11dZSMgJ_A",
        "outputId": "4ce27e5e-104a-4eb0-b537-7286fe5d42ae"
      },
      "source": [
        "pprint(random_grid)"
      ],
      "execution_count": 8,
      "outputs": [
        {
          "output_type": "stream",
          "text": [
            "{'bootstrap': [True, False],\n",
            " 'max_depth': [1, 2, 3, 4, 5, 6, 7, 8, 9, 10, None],\n",
            " 'max_features': ['auto', 'sqrt'],\n",
            " 'min_samples_leaf': [1, 2, 4],\n",
            " 'min_samples_split': [2, 5, 10],\n",
            " 'n_estimators': [10, 20, 30, 40, 50]}\n"
          ],
          "name": "stdout"
        }
      ]
    },
    {
      "cell_type": "code",
      "metadata": {
        "id": "6AHynB4ffiXz"
      },
      "source": [
        "# Creo el modelo\n",
        "rf = RandomForestClassifier()"
      ],
      "execution_count": 9,
      "outputs": []
    },
    {
      "cell_type": "code",
      "metadata": {
        "id": "hLr_mDLofrxa"
      },
      "source": [
        "# Busco hiperparametros usando 3 fold cross validation con 50 iteraciones cada uno (150 fits).\n",
        "rf_random = RandomizedSearchCV(estimator = rf, param_distributions = random_grid, n_iter = 50, cv = 3, verbose=2, random_state= pp.GetSeedForTrainSplit(), n_jobs = -1)"
      ],
      "execution_count": 10,
      "outputs": []
    },
    {
      "cell_type": "code",
      "metadata": {
        "colab": {
          "base_uri": "https://localhost:8080/"
        },
        "id": "WTWsYkyWgzra",
        "outputId": "aaf3e593-81ef-47ae-d217-e5dcfe211b2f"
      },
      "source": [
        "rf_random.fit(X_train, y_train)"
      ],
      "execution_count": 11,
      "outputs": [
        {
          "output_type": "stream",
          "text": [
            "Fitting 3 folds for each of 50 candidates, totalling 150 fits\n"
          ],
          "name": "stdout"
        },
        {
          "output_type": "stream",
          "text": [
            "[Parallel(n_jobs=-1)]: Using backend LokyBackend with 2 concurrent workers.\n",
            "[Parallel(n_jobs=-1)]: Done  37 tasks      | elapsed:   10.9s\n",
            "[Parallel(n_jobs=-1)]: Done 150 out of 150 | elapsed:   37.3s finished\n"
          ],
          "name": "stderr"
        },
        {
          "output_type": "execute_result",
          "data": {
            "text/plain": [
              "RandomizedSearchCV(cv=3, error_score=nan,\n",
              "                   estimator=RandomForestClassifier(bootstrap=True,\n",
              "                                                    ccp_alpha=0.0,\n",
              "                                                    class_weight=None,\n",
              "                                                    criterion='gini',\n",
              "                                                    max_depth=None,\n",
              "                                                    max_features='auto',\n",
              "                                                    max_leaf_nodes=None,\n",
              "                                                    max_samples=None,\n",
              "                                                    min_impurity_decrease=0.0,\n",
              "                                                    min_impurity_split=None,\n",
              "                                                    min_samples_leaf=1,\n",
              "                                                    min_samples_split=2,\n",
              "                                                    min_weight_fraction_leaf=0.0,\n",
              "                                                    n_estimators=100,\n",
              "                                                    n_jobs...\n",
              "                                                    warm_start=False),\n",
              "                   iid='deprecated', n_iter=50, n_jobs=-1,\n",
              "                   param_distributions={'bootstrap': [True, False],\n",
              "                                        'max_depth': [1, 2, 3, 4, 5, 6, 7, 8, 9,\n",
              "                                                      10, None],\n",
              "                                        'max_features': ['auto', 'sqrt'],\n",
              "                                        'min_samples_leaf': [1, 2, 4],\n",
              "                                        'min_samples_split': [2, 5, 10],\n",
              "                                        'n_estimators': [10, 20, 30, 40, 50]},\n",
              "                   pre_dispatch='2*n_jobs', random_state=15, refit=True,\n",
              "                   return_train_score=False, scoring=None, verbose=2)"
            ]
          },
          "metadata": {
            "tags": []
          },
          "execution_count": 11
        }
      ]
    },
    {
      "cell_type": "code",
      "metadata": {
        "colab": {
          "base_uri": "https://localhost:8080/"
        },
        "id": "690XhnGshZNH",
        "outputId": "0c7daf4b-a90e-4215-d95a-c0c7af4f36da"
      },
      "source": [
        "rf_random.best_params_"
      ],
      "execution_count": 12,
      "outputs": [
        {
          "output_type": "execute_result",
          "data": {
            "text/plain": [
              "{'bootstrap': True,\n",
              " 'max_depth': None,\n",
              " 'max_features': 'sqrt',\n",
              " 'min_samples_leaf': 4,\n",
              " 'min_samples_split': 10,\n",
              " 'n_estimators': 30}"
            ]
          },
          "metadata": {
            "tags": []
          },
          "execution_count": 12
        }
      ]
    },
    {
      "cell_type": "markdown",
      "metadata": {
        "id": "6GRX_MSIkrHn"
      },
      "source": [
        "## Grid Search con Cross Validation"
      ]
    },
    {
      "cell_type": "code",
      "metadata": {
        "id": "GcuWdI_AjKBV"
      },
      "source": [
        "# Creo el modelo\n",
        "rf = RandomForestClassifier()"
      ],
      "execution_count": 13,
      "outputs": []
    },
    {
      "cell_type": "code",
      "metadata": {
        "id": "64H1KLEojKw1"
      },
      "source": [
        "# Numero de arboles en random forest\n",
        "n_estimators = [10, 20, 30, 40, 50]\n",
        "# Numero de features a considerar en cada split\n",
        "max_features = ['auto', 'sqrt']\n",
        "# Maxima profundidad de los arboles\n",
        "max_depth = [1 ,2, 3, 4, 5, 6, 7, 8, 9, 10]\n",
        "max_depth.append(None)\n",
        "#Minima cantidad de muestras para splitear un nodo\n",
        "min_samples_split = [2, 5, 10]\n",
        "# Minima cantidad de muestras en cada hoja \n",
        "min_samples_leaf = [1, 2, 4]\n",
        "# Metodo para seleccionar las muestras para el entrenamiento de cada arbol\n",
        "bootstrap = [True, False]"
      ],
      "execution_count": 14,
      "outputs": []
    },
    {
      "cell_type": "code",
      "metadata": {
        "id": "mxVULVq1ltBs"
      },
      "source": [
        "param_grid  = {'n_estimators': n_estimators,\n",
        "               'max_features': max_features,\n",
        "               'max_depth': max_depth,\n",
        "               'min_samples_split': min_samples_split,\n",
        "               'min_samples_leaf': min_samples_leaf,\n",
        "               'bootstrap': bootstrap}"
      ],
      "execution_count": 15,
      "outputs": []
    },
    {
      "cell_type": "code",
      "metadata": {
        "colab": {
          "base_uri": "https://localhost:8080/"
        },
        "id": "Sm1rOehTlzeo",
        "outputId": "628ea1ba-ccfd-4453-e9bc-879acc9bbcc2"
      },
      "source": [
        "pprint(param_grid)"
      ],
      "execution_count": 16,
      "outputs": [
        {
          "output_type": "stream",
          "text": [
            "{'bootstrap': [True, False],\n",
            " 'max_depth': [1, 2, 3, 4, 5, 6, 7, 8, 9, 10, None],\n",
            " 'max_features': ['auto', 'sqrt'],\n",
            " 'min_samples_leaf': [1, 2, 4],\n",
            " 'min_samples_split': [2, 5, 10],\n",
            " 'n_estimators': [10, 20, 30, 40, 50]}\n"
          ],
          "name": "stdout"
        }
      ]
    },
    {
      "cell_type": "code",
      "metadata": {
        "id": "NnbiiG8ejkT6"
      },
      "source": [
        "# Instancio el modelo de grid search\n",
        "grid_search = GridSearchCV(estimator = rf, param_grid = param_grid, cv = 3, n_jobs = -1, verbose = 2)"
      ],
      "execution_count": 17,
      "outputs": []
    },
    {
      "cell_type": "code",
      "metadata": {
        "colab": {
          "base_uri": "https://localhost:8080/"
        },
        "id": "kC88c4CVjmX6",
        "outputId": "36a411ad-dcde-4c7d-b556-f07b33f13229"
      },
      "source": [
        "grid_search.fit(X_train, y_train)"
      ],
      "execution_count": 18,
      "outputs": [
        {
          "output_type": "stream",
          "text": [
            "Fitting 3 folds for each of 1980 candidates, totalling 5940 fits\n"
          ],
          "name": "stdout"
        },
        {
          "output_type": "stream",
          "text": [
            "[Parallel(n_jobs=-1)]: Using backend LokyBackend with 2 concurrent workers.\n",
            "[Parallel(n_jobs=-1)]: Done  70 tasks      | elapsed:    8.1s\n",
            "[Parallel(n_jobs=-1)]: Done 312 tasks      | elapsed:   36.4s\n",
            "[Parallel(n_jobs=-1)]: Done 718 tasks      | elapsed:  1.5min\n",
            "[Parallel(n_jobs=-1)]: Done 1284 tasks      | elapsed:  3.1min\n",
            "[Parallel(n_jobs=-1)]: Done 2014 tasks      | elapsed:  5.5min\n",
            "[Parallel(n_jobs=-1)]: Done 2544 tasks      | elapsed:  7.6min\n",
            "[Parallel(n_jobs=-1)]: Done 3071 tasks      | elapsed: 10.0min\n",
            "[Parallel(n_jobs=-1)]: Done 3678 tasks      | elapsed: 11.3min\n",
            "[Parallel(n_jobs=-1)]: Done 4367 tasks      | elapsed: 13.3min\n",
            "[Parallel(n_jobs=-1)]: Done 5136 tasks      | elapsed: 16.2min\n",
            "[Parallel(n_jobs=-1)]: Done 5940 out of 5940 | elapsed: 20.7min finished\n"
          ],
          "name": "stderr"
        },
        {
          "output_type": "execute_result",
          "data": {
            "text/plain": [
              "GridSearchCV(cv=3, error_score=nan,\n",
              "             estimator=RandomForestClassifier(bootstrap=True, ccp_alpha=0.0,\n",
              "                                              class_weight=None,\n",
              "                                              criterion='gini', max_depth=None,\n",
              "                                              max_features='auto',\n",
              "                                              max_leaf_nodes=None,\n",
              "                                              max_samples=None,\n",
              "                                              min_impurity_decrease=0.0,\n",
              "                                              min_impurity_split=None,\n",
              "                                              min_samples_leaf=1,\n",
              "                                              min_samples_split=2,\n",
              "                                              min_weight_fraction_leaf=0.0,\n",
              "                                              n_estimators=100, n_jobs=None,...\n",
              "                                              random_state=None, verbose=0,\n",
              "                                              warm_start=False),\n",
              "             iid='deprecated', n_jobs=-1,\n",
              "             param_grid={'bootstrap': [True, False],\n",
              "                         'max_depth': [1, 2, 3, 4, 5, 6, 7, 8, 9, 10, None],\n",
              "                         'max_features': ['auto', 'sqrt'],\n",
              "                         'min_samples_leaf': [1, 2, 4],\n",
              "                         'min_samples_split': [2, 5, 10],\n",
              "                         'n_estimators': [10, 20, 30, 40, 50]},\n",
              "             pre_dispatch='2*n_jobs', refit=True, return_train_score=False,\n",
              "             scoring=None, verbose=2)"
            ]
          },
          "metadata": {
            "tags": []
          },
          "execution_count": 18
        }
      ]
    },
    {
      "cell_type": "code",
      "metadata": {
        "colab": {
          "base_uri": "https://localhost:8080/"
        },
        "id": "-935E8x4lmvg",
        "outputId": "8be6a090-c28a-405d-e322-ce3e97717909"
      },
      "source": [
        "grid_search.best_params_"
      ],
      "execution_count": 19,
      "outputs": [
        {
          "output_type": "execute_result",
          "data": {
            "text/plain": [
              "{'bootstrap': True,\n",
              " 'max_depth': None,\n",
              " 'max_features': 'auto',\n",
              " 'min_samples_leaf': 2,\n",
              " 'min_samples_split': 10,\n",
              " 'n_estimators': 30}"
            ]
          },
          "metadata": {
            "tags": []
          },
          "execution_count": 19
        }
      ]
    },
    {
      "cell_type": "markdown",
      "metadata": {
        "id": "_U4XqyydhMJ9"
      },
      "source": [
        "# Predicciones sobre el set de entrenamiento"
      ]
    },
    {
      "cell_type": "code",
      "metadata": {
        "id": "Rh2m3-Y9qPyU"
      },
      "source": [
        "# n_estimators es el numero de arboles\n",
        "classifier_random=RandomForestClassifier(bootstrap= False, n_estimators=30, max_depth= None, max_features= 'sqrt', min_samples_leaf=2, min_samples_split=10, random_state=15)\n",
        "classifier_gridSearch=RandomForestClassifier(bootstrap= False, n_estimators=40, max_depth= None, max_features= 'auto', min_samples_leaf=4, min_samples_split=2, random_state=15)\n",
        "\n",
        "# Entrenar\n",
        "classifier_random.fit(X_train, y_train)\n",
        "classifier_gridSearch.fit(X_train, y_train)\n",
        "# Predecir\n",
        "predictions_random=classifier_random.predict(X_test)\n",
        "predictions_gridSearch=classifier_gridSearch.predict(X_test)"
      ],
      "execution_count": 20,
      "outputs": []
    },
    {
      "cell_type": "code",
      "metadata": {
        "colab": {
          "base_uri": "https://localhost:8080/",
          "height": 876
        },
        "id": "0KMRevHou8PC",
        "outputId": "f3e45449-5875-445f-a073-f1f9046ade38"
      },
      "source": [
        "# Obtener metricas random\n",
        "m.getMetrics(y_test, predictions_random, classifier_random.predict_proba(X_test)[:,1])"
      ],
      "execution_count": 21,
      "outputs": [
        {
          "output_type": "stream",
          "text": [
            "\u001b[1mAccuracy\u001b[0m: 0.8387839705204975\n",
            "\n",
            "\u001b[1mPrecision\u001b[0m: 0.6951588502269289\n",
            "\n",
            "\u001b[1mRecall\u001b[0m: 0.9185364867596523\n",
            "\n",
            "\u001b[1mF1 Score\u001b[0m: 0.636426592797784\n",
            "\n",
            "\u001b[1mMatriz de confusion: \u001b[0m\n",
            "[[4544  403]\n",
            " [ 647  919]]\n",
            "\n",
            "\u001b[1mAUC-ROC: \u001b[0m\n",
            "\n"
          ],
          "name": "stdout"
        },
        {
          "output_type": "display_data",
          "data": {
            "image/png": "[encoded data removed]",
            "text/plain": [
              "<Figure size 1080x720 with 1 Axes>"
            ]
          },
          "metadata": {
            "tags": [],
            "needs_background": "light"
          }
        },
        {
          "output_type": "display_data",
          "data": {
            "text/plain": [
              "0.8885216500524977"
            ]
          },
          "metadata": {
            "tags": []
          }
        }
      ]
    },
    {
      "cell_type": "code",
      "metadata": {
        "colab": {
          "base_uri": "https://localhost:8080/",
          "height": 876
        },
        "id": "hN1dSnJ-6XJQ",
        "outputId": "5c1ab982-7dca-48e6-d41d-9f675ed39d11"
      },
      "source": [
        "# Obtener metricas random\n",
        "m.getMetrics(y_test, predictions_gridSearch, classifier_gridSearch.predict_proba(X_test)[:,1])"
      ],
      "execution_count": 22,
      "outputs": [
        {
          "output_type": "stream",
          "text": [
            "\u001b[1mAccuracy\u001b[0m: 0.8387839705204975\n",
            "\n",
            "\u001b[1mPrecision\u001b[0m: 0.6925373134328359\n",
            "\n",
            "\u001b[1mRecall\u001b[0m: 0.9167172023448554\n",
            "\n",
            "\u001b[1mF1 Score\u001b[0m: 0.6386785960082588\n",
            "\n",
            "\u001b[1mMatriz de confusion: \u001b[0m\n",
            "[[4535  412]\n",
            " [ 638  928]]\n",
            "\n",
            "\u001b[1mAUC-ROC: \u001b[0m\n",
            "\n"
          ],
          "name": "stdout"
        },
        {
          "output_type": "display_data",
          "data": {
            "image/png": "[encoded data removed]",
            "text/plain": [
              "<Figure size 1080x720 with 1 Axes>"
            ]
          },
          "metadata": {
            "tags": [],
            "needs_background": "light"
          }
        },
        {
          "output_type": "display_data",
          "data": {
            "text/plain": [
              "0.8903083412138011"
            ]
          },
          "metadata": {
            "tags": []
          }
        }
      ]
    },
    {
      "cell_type": "markdown",
      "metadata": {
        "id": "K6qZdMgYVe3n"
      },
      "source": [
        "# Analisis de features de random forest"
      ]
    },
    {
      "cell_type": "code",
      "metadata": {
        "id": "ljMxBomAz4Ox",
        "colab": {
          "base_uri": "https://localhost:8080/",
          "height": 516
        },
        "outputId": "80024a3b-e88b-4252-e059-cb5dbe3d7825"
      },
      "source": [
        "# Ver la importancia de cada feature para este algoritmo\n",
        "model = ExtraTreesClassifier()\n",
        "model.fit(X_train,y_train)\n",
        "\n",
        "print(model.feature_importances_)\n",
        "\n",
        "# Graficar importancia de cada uno\n",
        "plt.bar(range(len(model.feature_importances_)), model.feature_importances_)\n",
        "plt.title('Importacia de cada feature creado para la prediccion', )\n",
        "plt.xlabel('Indice de los features en el df')\n",
        "plt.ylabel('Importacia en la prediccion')\n",
        "plt.show()"
      ],
      "execution_count": 23,
      "outputs": [
        {
          "output_type": "stream",
          "text": [
            "[1.10419331e-01 3.94141180e-02 1.42082086e-01 1.21872661e-02\n",
            " 1.19657886e-02 1.70143635e-02 2.17645883e-02 1.36475341e-02\n",
            " 7.53742971e-06 1.53402718e-04 5.50077961e-03 6.66034867e-03\n",
            " 3.19793347e-03 1.86520474e-02 3.39223276e-03 1.40312334e-02\n",
            " 8.52436907e-03 4.81623936e-03 3.98137251e-04 1.32966746e-02\n",
            " 1.30796023e-02 7.00175607e-03 6.78195703e-03 3.80792963e-02\n",
            " 2.44740590e-02 1.28747736e-01 1.13273417e-03 3.50442199e-03\n",
            " 6.14074116e-03 7.47694597e-02 6.55363378e-03 7.93019757e-03\n",
            " 1.37476152e-02 1.06924403e-02 3.49950627e-03 2.83871440e-02\n",
            " 5.97583060e-03 3.44272995e-02 1.59756797e-02 5.71620736e-05\n",
            " 1.26163218e-02 6.52805252e-03 5.80863861e-03 1.51973239e-02\n",
            " 2.63722122e-02 1.00255849e-02 7.54121593e-03 6.49836723e-03\n",
            " 7.18957593e-04 1.07455941e-02 6.81898092e-03 1.30444667e-02]\n"
          ],
          "name": "stdout"
        },
        {
          "output_type": "display_data",
          "data": {
            "image/png": "[encoded data removed]",
            "text/plain": [
              "<Figure size 432x288 with 1 Axes>"
            ]
          },
          "metadata": {
            "tags": [],
            "needs_background": "light"
          }
        }
      ]
    },
    {
      "cell_type": "code",
      "metadata": {
        "colab": {
          "base_uri": "https://localhost:8080/",
          "height": 295
        },
        "id": "-sGu0NXtwCe7",
        "outputId": "f78dc610-03a6-4000-a36d-0cd6c8cd68a2"
      },
      "source": [
        "# Ver aporte de cada arbol\n",
        "trees=range(50)\n",
        "accuracy=np.zeros(50)\n",
        "\n",
        "for idx in range(len(trees)):\n",
        "    classifier=RandomForestClassifier(n_estimators=idx + 1)\n",
        "    classifier=classifier.fit(X_train, y_train)\n",
        "    predictions=classifier.predict(X_test)\n",
        "    accuracy[idx]=accuracy_score(y_test, predictions)\n",
        "\n",
        "plt.cla()\n",
        "plt.plot(trees, accuracy)\n",
        "\n",
        "plt.title('Aporte de cada arbol para la prediccion', )\n",
        "plt.xlabel('Indice de los arboles')\n",
        "plt.ylabel('Aporte en la prediccion')\n",
        "plt.show()"
      ],
      "execution_count": 24,
      "outputs": [
        {
          "output_type": "display_data",
          "data": {
            "image/png": "[encoded data removed]",
            "text/plain": [
              "<Figure size 432x288 with 1 Axes>"
            ]
          },
          "metadata": {
            "tags": [],
            "needs_background": "light"
          }
        }
      ]
    },
    {
      "cell_type": "markdown",
      "metadata": {
        "id": "0mwA7TiBJ4-c"
      },
      "source": [
        "# Prediccion sobre el archivo final"
      ]
    },
    {
      "cell_type": "code",
      "metadata": {
        "colab": {
          "base_uri": "https://localhost:8080/",
          "height": 224
        },
        "id": "53mJ4Y0gKCUN",
        "outputId": "ac488c25-5b10-4582-9cb2-87ae62ff54d6"
      },
      "source": [
        "data_test_final = datasets.getDataHoldout()\n",
        "data_test_final.drop(columns = [\"representatividad_poblacional\"], inplace=True)\n",
        "df.rename(columns={'ganancia_perdida_declarada_bolsa_argentina': 'ganancia_perdida_declarada_bolsa_argentina'}, inplace=True)\n",
        "data_test_final.head()"
      ],
      "execution_count": 25,
      "outputs": [
        {
          "output_type": "execute_result",
          "data": {
            "text/html": [
              "<div>\n",
              "<style scoped>\n",
              "    .dataframe tbody tr th:only-of-type {\n",
              "        vertical-align: middle;\n",
              "    }\n",
              "\n",
              "    .dataframe tbody tr th {\n",
              "        vertical-align: top;\n",
              "    }\n",
              "\n",
              "    .dataframe thead th {\n",
              "        text-align: right;\n",
              "    }\n",
              "</style>\n",
              "<table border=\"1\" class=\"dataframe\">\n",
              "  <thead>\n",
              "    <tr style=\"text-align: right;\">\n",
              "      <th></th>\n",
              "      <th>id</th>\n",
              "      <th>anios_estudiados</th>\n",
              "      <th>barrio</th>\n",
              "      <th>categoria_de_trabajo</th>\n",
              "      <th>edad</th>\n",
              "      <th>educacion_alcanzada</th>\n",
              "      <th>estado_marital</th>\n",
              "      <th>ganancia_perdida_declarada_bolsa_argentina</th>\n",
              "      <th>genero</th>\n",
              "      <th>horas_trabajo_registradas</th>\n",
              "      <th>religion</th>\n",
              "      <th>rol_familiar_registrado</th>\n",
              "      <th>trabajo</th>\n",
              "    </tr>\n",
              "  </thead>\n",
              "  <tbody>\n",
              "    <tr>\n",
              "      <th>0</th>\n",
              "      <td>1</td>\n",
              "      <td>11</td>\n",
              "      <td>Palermo</td>\n",
              "      <td>relacion_de_dependencia</td>\n",
              "      <td>25</td>\n",
              "      <td>2_anio</td>\n",
              "      <td>sin_matrimonio</td>\n",
              "      <td>0</td>\n",
              "      <td>hombre</td>\n",
              "      <td>40</td>\n",
              "      <td>judaismo</td>\n",
              "      <td>con_hijos</td>\n",
              "      <td>inspector</td>\n",
              "    </tr>\n",
              "    <tr>\n",
              "      <th>1</th>\n",
              "      <td>2</td>\n",
              "      <td>13</td>\n",
              "      <td>Palermo</td>\n",
              "      <td>relacion_de_dependencia</td>\n",
              "      <td>38</td>\n",
              "      <td>4_anio</td>\n",
              "      <td>matrimonio_civil</td>\n",
              "      <td>0</td>\n",
              "      <td>hombre</td>\n",
              "      <td>50</td>\n",
              "      <td>cristianismo</td>\n",
              "      <td>casado</td>\n",
              "      <td>sector_primario</td>\n",
              "    </tr>\n",
              "    <tr>\n",
              "      <th>2</th>\n",
              "      <td>3</td>\n",
              "      <td>16</td>\n",
              "      <td>Palermo</td>\n",
              "      <td>empleado_municipal</td>\n",
              "      <td>28</td>\n",
              "      <td>universidad_2_anio</td>\n",
              "      <td>matrimonio_civil</td>\n",
              "      <td>0</td>\n",
              "      <td>hombre</td>\n",
              "      <td>40</td>\n",
              "      <td>cristianismo</td>\n",
              "      <td>casado</td>\n",
              "      <td>seguridad</td>\n",
              "    </tr>\n",
              "    <tr>\n",
              "      <th>3</th>\n",
              "      <td>4</td>\n",
              "      <td>14</td>\n",
              "      <td>Palermo</td>\n",
              "      <td>relacion_de_dependencia</td>\n",
              "      <td>44</td>\n",
              "      <td>5_anio</td>\n",
              "      <td>matrimonio_civil</td>\n",
              "      <td>7688</td>\n",
              "      <td>hombre</td>\n",
              "      <td>40</td>\n",
              "      <td>judaismo</td>\n",
              "      <td>casado</td>\n",
              "      <td>inspector</td>\n",
              "    </tr>\n",
              "    <tr>\n",
              "      <th>4</th>\n",
              "      <td>5</td>\n",
              "      <td>14</td>\n",
              "      <td>Palermo</td>\n",
              "      <td>NaN</td>\n",
              "      <td>18</td>\n",
              "      <td>5_anio</td>\n",
              "      <td>sin_matrimonio</td>\n",
              "      <td>0</td>\n",
              "      <td>mujer</td>\n",
              "      <td>30</td>\n",
              "      <td>cristianismo</td>\n",
              "      <td>con_hijos</td>\n",
              "      <td>NaN</td>\n",
              "    </tr>\n",
              "  </tbody>\n",
              "</table>\n",
              "</div>"
            ],
            "text/plain": [
              "   id  anios_estudiados  ... rol_familiar_registrado          trabajo\n",
              "0   1                11  ...               con_hijos        inspector\n",
              "1   2                13  ...                  casado  sector_primario\n",
              "2   3                16  ...                  casado        seguridad\n",
              "3   4                14  ...                  casado        inspector\n",
              "4   5                14  ...               con_hijos              NaN\n",
              "\n",
              "[5 rows x 13 columns]"
            ]
          },
          "metadata": {
            "tags": []
          },
          "execution_count": 25
        }
      ]
    },
    {
      "cell_type": "code",
      "metadata": {
        "colab": {
          "base_uri": "https://localhost:8080/",
          "height": 241
        },
        "id": "FeHuQwkVMIb9",
        "outputId": "fa9ce0ad-a796-4928-9bd8-578e98964ff8"
      },
      "source": [
        "df_test_final = pp.feature_engineering_original_set(data_test_final)\n",
        "df_test_final.head()"
      ],
      "execution_count": 26,
      "outputs": [
        {
          "output_type": "execute_result",
          "data": {
            "text/html": [
              "<div>\n",
              "<style scoped>\n",
              "    .dataframe tbody tr th:only-of-type {\n",
              "        vertical-align: middle;\n",
              "    }\n",
              "\n",
              "    .dataframe tbody tr th {\n",
              "        vertical-align: top;\n",
              "    }\n",
              "\n",
              "    .dataframe thead th {\n",
              "        text-align: right;\n",
              "    }\n",
              "</style>\n",
              "<table border=\"1\" class=\"dataframe\">\n",
              "  <thead>\n",
              "    <tr style=\"text-align: right;\">\n",
              "      <th></th>\n",
              "      <th>id</th>\n",
              "      <th>opera_en_bolsa</th>\n",
              "      <th>es_hombre</th>\n",
              "      <th>casado_trabajo</th>\n",
              "      <th>categoria_de_trabajo_empleado_municipal</th>\n",
              "      <th>categoria_de_trabajo_empleado_provincial</th>\n",
              "      <th>categoria_de_trabajo_monotibutista</th>\n",
              "      <th>categoria_de_trabajo_relacion_de_dependencia</th>\n",
              "      <th>categoria_de_trabajo_responsable_inscripto</th>\n",
              "      <th>categoria_de_trabajo_sin_trabajo</th>\n",
              "      <th>categoria_de_trabajo_trabajo_voluntariado</th>\n",
              "      <th>educacion_alcanzada_1_anio</th>\n",
              "      <th>educacion_alcanzada_2_anio</th>\n",
              "      <th>educacion_alcanzada_3_anio</th>\n",
              "      <th>educacion_alcanzada_4_anio</th>\n",
              "      <th>educacion_alcanzada_5-6_grado</th>\n",
              "      <th>educacion_alcanzada_5_anio</th>\n",
              "      <th>educacion_alcanzada_7-8_grado</th>\n",
              "      <th>educacion_alcanzada_9_grado</th>\n",
              "      <th>educacion_alcanzada_preescolar</th>\n",
              "      <th>educacion_alcanzada_universiada_5_anio</th>\n",
              "      <th>educacion_alcanzada_universiada_6_anio</th>\n",
              "      <th>educacion_alcanzada_universidad_1_anio</th>\n",
              "      <th>educacion_alcanzada_universidad_2_anio</th>\n",
              "      <th>educacion_alcanzada_universidad_3_anio</th>\n",
              "      <th>educacion_alcanzada_universidad_4_anio</th>\n",
              "      <th>estado_marital_matrimonio_civil</th>\n",
              "      <th>estado_marital_matrimonio_militar</th>\n",
              "      <th>estado_marital_pareja_no_presente</th>\n",
              "      <th>estado_marital_separado</th>\n",
              "      <th>estado_marital_sin_matrimonio</th>\n",
              "      <th>estado_marital_viudo_a</th>\n",
              "      <th>religion_budismo</th>\n",
              "      <th>religion_cristianismo</th>\n",
              "      <th>religion_judaismo</th>\n",
              "      <th>religion_otro</th>\n",
              "      <th>rol_familiar_registrado_con_hijos</th>\n",
              "      <th>rol_familiar_registrado_otro</th>\n",
              "      <th>rol_familiar_registrado_sin_familia</th>\n",
              "      <th>rol_familiar_registrado_soltero_a</th>\n",
              "      <th>trabajo_ejercito</th>\n",
              "      <th>trabajo_entretenimiento</th>\n",
              "      <th>trabajo_inspector</th>\n",
              "      <th>trabajo_limpiador</th>\n",
              "      <th>trabajo_otros</th>\n",
              "      <th>trabajo_profesional_especializado</th>\n",
              "      <th>trabajo_reparador</th>\n",
              "      <th>trabajo_sector_primario</th>\n",
              "      <th>trabajo_seguridad</th>\n",
              "      <th>trabajo_servicio_domestico</th>\n",
              "      <th>trabajo_soporte_tecnico</th>\n",
              "      <th>trabajo_transporte</th>\n",
              "      <th>trabajo_ventas</th>\n",
              "    </tr>\n",
              "  </thead>\n",
              "  <tbody>\n",
              "    <tr>\n",
              "      <th>0</th>\n",
              "      <td>1</td>\n",
              "      <td>0</td>\n",
              "      <td>1</td>\n",
              "      <td>0</td>\n",
              "      <td>0</td>\n",
              "      <td>0</td>\n",
              "      <td>0</td>\n",
              "      <td>1</td>\n",
              "      <td>0</td>\n",
              "      <td>0</td>\n",
              "      <td>0</td>\n",
              "      <td>0</td>\n",
              "      <td>1</td>\n",
              "      <td>0</td>\n",
              "      <td>0</td>\n",
              "      <td>0</td>\n",
              "      <td>0</td>\n",
              "      <td>0</td>\n",
              "      <td>0</td>\n",
              "      <td>0</td>\n",
              "      <td>0</td>\n",
              "      <td>0</td>\n",
              "      <td>0</td>\n",
              "      <td>0</td>\n",
              "      <td>0</td>\n",
              "      <td>0</td>\n",
              "      <td>0</td>\n",
              "      <td>0</td>\n",
              "      <td>0</td>\n",
              "      <td>0</td>\n",
              "      <td>1</td>\n",
              "      <td>0</td>\n",
              "      <td>0</td>\n",
              "      <td>0</td>\n",
              "      <td>1</td>\n",
              "      <td>0</td>\n",
              "      <td>1</td>\n",
              "      <td>0</td>\n",
              "      <td>0</td>\n",
              "      <td>0</td>\n",
              "      <td>0</td>\n",
              "      <td>0</td>\n",
              "      <td>1</td>\n",
              "      <td>0</td>\n",
              "      <td>0</td>\n",
              "      <td>0</td>\n",
              "      <td>0</td>\n",
              "      <td>0</td>\n",
              "      <td>0</td>\n",
              "      <td>0</td>\n",
              "      <td>0</td>\n",
              "      <td>0</td>\n",
              "      <td>0</td>\n",
              "    </tr>\n",
              "    <tr>\n",
              "      <th>1</th>\n",
              "      <td>2</td>\n",
              "      <td>0</td>\n",
              "      <td>1</td>\n",
              "      <td>0</td>\n",
              "      <td>0</td>\n",
              "      <td>0</td>\n",
              "      <td>0</td>\n",
              "      <td>1</td>\n",
              "      <td>0</td>\n",
              "      <td>0</td>\n",
              "      <td>0</td>\n",
              "      <td>0</td>\n",
              "      <td>0</td>\n",
              "      <td>0</td>\n",
              "      <td>1</td>\n",
              "      <td>0</td>\n",
              "      <td>0</td>\n",
              "      <td>0</td>\n",
              "      <td>0</td>\n",
              "      <td>0</td>\n",
              "      <td>0</td>\n",
              "      <td>0</td>\n",
              "      <td>0</td>\n",
              "      <td>0</td>\n",
              "      <td>0</td>\n",
              "      <td>0</td>\n",
              "      <td>1</td>\n",
              "      <td>0</td>\n",
              "      <td>0</td>\n",
              "      <td>0</td>\n",
              "      <td>0</td>\n",
              "      <td>0</td>\n",
              "      <td>0</td>\n",
              "      <td>1</td>\n",
              "      <td>0</td>\n",
              "      <td>0</td>\n",
              "      <td>0</td>\n",
              "      <td>0</td>\n",
              "      <td>0</td>\n",
              "      <td>0</td>\n",
              "      <td>0</td>\n",
              "      <td>0</td>\n",
              "      <td>0</td>\n",
              "      <td>0</td>\n",
              "      <td>0</td>\n",
              "      <td>0</td>\n",
              "      <td>0</td>\n",
              "      <td>1</td>\n",
              "      <td>0</td>\n",
              "      <td>0</td>\n",
              "      <td>0</td>\n",
              "      <td>0</td>\n",
              "      <td>0</td>\n",
              "    </tr>\n",
              "    <tr>\n",
              "      <th>2</th>\n",
              "      <td>3</td>\n",
              "      <td>0</td>\n",
              "      <td>1</td>\n",
              "      <td>0</td>\n",
              "      <td>1</td>\n",
              "      <td>0</td>\n",
              "      <td>0</td>\n",
              "      <td>0</td>\n",
              "      <td>0</td>\n",
              "      <td>0</td>\n",
              "      <td>0</td>\n",
              "      <td>0</td>\n",
              "      <td>0</td>\n",
              "      <td>0</td>\n",
              "      <td>0</td>\n",
              "      <td>0</td>\n",
              "      <td>0</td>\n",
              "      <td>0</td>\n",
              "      <td>0</td>\n",
              "      <td>0</td>\n",
              "      <td>0</td>\n",
              "      <td>0</td>\n",
              "      <td>0</td>\n",
              "      <td>1</td>\n",
              "      <td>0</td>\n",
              "      <td>0</td>\n",
              "      <td>1</td>\n",
              "      <td>0</td>\n",
              "      <td>0</td>\n",
              "      <td>0</td>\n",
              "      <td>0</td>\n",
              "      <td>0</td>\n",
              "      <td>0</td>\n",
              "      <td>1</td>\n",
              "      <td>0</td>\n",
              "      <td>0</td>\n",
              "      <td>0</td>\n",
              "      <td>0</td>\n",
              "      <td>0</td>\n",
              "      <td>0</td>\n",
              "      <td>0</td>\n",
              "      <td>0</td>\n",
              "      <td>0</td>\n",
              "      <td>0</td>\n",
              "      <td>0</td>\n",
              "      <td>0</td>\n",
              "      <td>0</td>\n",
              "      <td>0</td>\n",
              "      <td>1</td>\n",
              "      <td>0</td>\n",
              "      <td>0</td>\n",
              "      <td>0</td>\n",
              "      <td>0</td>\n",
              "    </tr>\n",
              "    <tr>\n",
              "      <th>3</th>\n",
              "      <td>4</td>\n",
              "      <td>1</td>\n",
              "      <td>1</td>\n",
              "      <td>0</td>\n",
              "      <td>0</td>\n",
              "      <td>0</td>\n",
              "      <td>0</td>\n",
              "      <td>1</td>\n",
              "      <td>0</td>\n",
              "      <td>0</td>\n",
              "      <td>0</td>\n",
              "      <td>0</td>\n",
              "      <td>0</td>\n",
              "      <td>0</td>\n",
              "      <td>0</td>\n",
              "      <td>0</td>\n",
              "      <td>1</td>\n",
              "      <td>0</td>\n",
              "      <td>0</td>\n",
              "      <td>0</td>\n",
              "      <td>0</td>\n",
              "      <td>0</td>\n",
              "      <td>0</td>\n",
              "      <td>0</td>\n",
              "      <td>0</td>\n",
              "      <td>0</td>\n",
              "      <td>1</td>\n",
              "      <td>0</td>\n",
              "      <td>0</td>\n",
              "      <td>0</td>\n",
              "      <td>0</td>\n",
              "      <td>0</td>\n",
              "      <td>0</td>\n",
              "      <td>0</td>\n",
              "      <td>1</td>\n",
              "      <td>0</td>\n",
              "      <td>0</td>\n",
              "      <td>0</td>\n",
              "      <td>0</td>\n",
              "      <td>0</td>\n",
              "      <td>0</td>\n",
              "      <td>0</td>\n",
              "      <td>1</td>\n",
              "      <td>0</td>\n",
              "      <td>0</td>\n",
              "      <td>0</td>\n",
              "      <td>0</td>\n",
              "      <td>0</td>\n",
              "      <td>0</td>\n",
              "      <td>0</td>\n",
              "      <td>0</td>\n",
              "      <td>0</td>\n",
              "      <td>0</td>\n",
              "    </tr>\n",
              "    <tr>\n",
              "      <th>4</th>\n",
              "      <td>5</td>\n",
              "      <td>0</td>\n",
              "      <td>0</td>\n",
              "      <td>0</td>\n",
              "      <td>0</td>\n",
              "      <td>0</td>\n",
              "      <td>0</td>\n",
              "      <td>0</td>\n",
              "      <td>0</td>\n",
              "      <td>0</td>\n",
              "      <td>0</td>\n",
              "      <td>0</td>\n",
              "      <td>0</td>\n",
              "      <td>0</td>\n",
              "      <td>0</td>\n",
              "      <td>0</td>\n",
              "      <td>1</td>\n",
              "      <td>0</td>\n",
              "      <td>0</td>\n",
              "      <td>0</td>\n",
              "      <td>0</td>\n",
              "      <td>0</td>\n",
              "      <td>0</td>\n",
              "      <td>0</td>\n",
              "      <td>0</td>\n",
              "      <td>0</td>\n",
              "      <td>0</td>\n",
              "      <td>0</td>\n",
              "      <td>0</td>\n",
              "      <td>0</td>\n",
              "      <td>1</td>\n",
              "      <td>0</td>\n",
              "      <td>0</td>\n",
              "      <td>1</td>\n",
              "      <td>0</td>\n",
              "      <td>0</td>\n",
              "      <td>1</td>\n",
              "      <td>0</td>\n",
              "      <td>0</td>\n",
              "      <td>0</td>\n",
              "      <td>0</td>\n",
              "      <td>0</td>\n",
              "      <td>0</td>\n",
              "      <td>0</td>\n",
              "      <td>0</td>\n",
              "      <td>0</td>\n",
              "      <td>0</td>\n",
              "      <td>0</td>\n",
              "      <td>0</td>\n",
              "      <td>0</td>\n",
              "      <td>0</td>\n",
              "      <td>0</td>\n",
              "      <td>0</td>\n",
              "    </tr>\n",
              "  </tbody>\n",
              "</table>\n",
              "</div>"
            ],
            "text/plain": [
              "   id  opera_en_bolsa  ...  trabajo_transporte  trabajo_ventas\n",
              "0   1               0  ...                   0               0\n",
              "1   2               0  ...                   0               0\n",
              "2   3               0  ...                   0               0\n",
              "3   4               1  ...                   0               0\n",
              "4   5               0  ...                   0               0\n",
              "\n",
              "[5 rows x 53 columns]"
            ]
          },
          "metadata": {
            "tags": []
          },
          "execution_count": 26
        }
      ]
    },
    {
      "cell_type": "code",
      "metadata": {
        "colab": {
          "base_uri": "https://localhost:8080/"
        },
        "id": "AKOwfpLyN-2f",
        "outputId": "03c475f5-5598-472f-eafa-767f0c96e808"
      },
      "source": [
        "len(df_test_final.columns)"
      ],
      "execution_count": 27,
      "outputs": [
        {
          "output_type": "execute_result",
          "data": {
            "text/plain": [
              "53"
            ]
          },
          "metadata": {
            "tags": []
          },
          "execution_count": 27
        }
      ]
    },
    {
      "cell_type": "code",
      "metadata": {
        "colab": {
          "base_uri": "https://localhost:8080/",
          "height": 241
        },
        "id": "XCObVtSuN6qs",
        "outputId": "38d5d14a-4c83-46d7-8ba6-520611a8a88c"
      },
      "source": [
        "df_test_final.iloc[:, 1:53].head()"
      ],
      "execution_count": 28,
      "outputs": [
        {
          "output_type": "execute_result",
          "data": {
            "text/html": [
              "<div>\n",
              "<style scoped>\n",
              "    .dataframe tbody tr th:only-of-type {\n",
              "        vertical-align: middle;\n",
              "    }\n",
              "\n",
              "    .dataframe tbody tr th {\n",
              "        vertical-align: top;\n",
              "    }\n",
              "\n",
              "    .dataframe thead th {\n",
              "        text-align: right;\n",
              "    }\n",
              "</style>\n",
              "<table border=\"1\" class=\"dataframe\">\n",
              "  <thead>\n",
              "    <tr style=\"text-align: right;\">\n",
              "      <th></th>\n",
              "      <th>opera_en_bolsa</th>\n",
              "      <th>es_hombre</th>\n",
              "      <th>casado_trabajo</th>\n",
              "      <th>categoria_de_trabajo_empleado_municipal</th>\n",
              "      <th>categoria_de_trabajo_empleado_provincial</th>\n",
              "      <th>categoria_de_trabajo_monotibutista</th>\n",
              "      <th>categoria_de_trabajo_relacion_de_dependencia</th>\n",
              "      <th>categoria_de_trabajo_responsable_inscripto</th>\n",
              "      <th>categoria_de_trabajo_sin_trabajo</th>\n",
              "      <th>categoria_de_trabajo_trabajo_voluntariado</th>\n",
              "      <th>educacion_alcanzada_1_anio</th>\n",
              "      <th>educacion_alcanzada_2_anio</th>\n",
              "      <th>educacion_alcanzada_3_anio</th>\n",
              "      <th>educacion_alcanzada_4_anio</th>\n",
              "      <th>educacion_alcanzada_5-6_grado</th>\n",
              "      <th>educacion_alcanzada_5_anio</th>\n",
              "      <th>educacion_alcanzada_7-8_grado</th>\n",
              "      <th>educacion_alcanzada_9_grado</th>\n",
              "      <th>educacion_alcanzada_preescolar</th>\n",
              "      <th>educacion_alcanzada_universiada_5_anio</th>\n",
              "      <th>educacion_alcanzada_universiada_6_anio</th>\n",
              "      <th>educacion_alcanzada_universidad_1_anio</th>\n",
              "      <th>educacion_alcanzada_universidad_2_anio</th>\n",
              "      <th>educacion_alcanzada_universidad_3_anio</th>\n",
              "      <th>educacion_alcanzada_universidad_4_anio</th>\n",
              "      <th>estado_marital_matrimonio_civil</th>\n",
              "      <th>estado_marital_matrimonio_militar</th>\n",
              "      <th>estado_marital_pareja_no_presente</th>\n",
              "      <th>estado_marital_separado</th>\n",
              "      <th>estado_marital_sin_matrimonio</th>\n",
              "      <th>estado_marital_viudo_a</th>\n",
              "      <th>religion_budismo</th>\n",
              "      <th>religion_cristianismo</th>\n",
              "      <th>religion_judaismo</th>\n",
              "      <th>religion_otro</th>\n",
              "      <th>rol_familiar_registrado_con_hijos</th>\n",
              "      <th>rol_familiar_registrado_otro</th>\n",
              "      <th>rol_familiar_registrado_sin_familia</th>\n",
              "      <th>rol_familiar_registrado_soltero_a</th>\n",
              "      <th>trabajo_ejercito</th>\n",
              "      <th>trabajo_entretenimiento</th>\n",
              "      <th>trabajo_inspector</th>\n",
              "      <th>trabajo_limpiador</th>\n",
              "      <th>trabajo_otros</th>\n",
              "      <th>trabajo_profesional_especializado</th>\n",
              "      <th>trabajo_reparador</th>\n",
              "      <th>trabajo_sector_primario</th>\n",
              "      <th>trabajo_seguridad</th>\n",
              "      <th>trabajo_servicio_domestico</th>\n",
              "      <th>trabajo_soporte_tecnico</th>\n",
              "      <th>trabajo_transporte</th>\n",
              "      <th>trabajo_ventas</th>\n",
              "    </tr>\n",
              "  </thead>\n",
              "  <tbody>\n",
              "    <tr>\n",
              "      <th>0</th>\n",
              "      <td>0</td>\n",
              "      <td>1</td>\n",
              "      <td>0</td>\n",
              "      <td>0</td>\n",
              "      <td>0</td>\n",
              "      <td>0</td>\n",
              "      <td>1</td>\n",
              "      <td>0</td>\n",
              "      <td>0</td>\n",
              "      <td>0</td>\n",
              "      <td>0</td>\n",
              "      <td>1</td>\n",
              "      <td>0</td>\n",
              "      <td>0</td>\n",
              "      <td>0</td>\n",
              "      <td>0</td>\n",
              "      <td>0</td>\n",
              "      <td>0</td>\n",
              "      <td>0</td>\n",
              "      <td>0</td>\n",
              "      <td>0</td>\n",
              "      <td>0</td>\n",
              "      <td>0</td>\n",
              "      <td>0</td>\n",
              "      <td>0</td>\n",
              "      <td>0</td>\n",
              "      <td>0</td>\n",
              "      <td>0</td>\n",
              "      <td>0</td>\n",
              "      <td>1</td>\n",
              "      <td>0</td>\n",
              "      <td>0</td>\n",
              "      <td>0</td>\n",
              "      <td>1</td>\n",
              "      <td>0</td>\n",
              "      <td>1</td>\n",
              "      <td>0</td>\n",
              "      <td>0</td>\n",
              "      <td>0</td>\n",
              "      <td>0</td>\n",
              "      <td>0</td>\n",
              "      <td>1</td>\n",
              "      <td>0</td>\n",
              "      <td>0</td>\n",
              "      <td>0</td>\n",
              "      <td>0</td>\n",
              "      <td>0</td>\n",
              "      <td>0</td>\n",
              "      <td>0</td>\n",
              "      <td>0</td>\n",
              "      <td>0</td>\n",
              "      <td>0</td>\n",
              "    </tr>\n",
              "    <tr>\n",
              "      <th>1</th>\n",
              "      <td>0</td>\n",
              "      <td>1</td>\n",
              "      <td>0</td>\n",
              "      <td>0</td>\n",
              "      <td>0</td>\n",
              "      <td>0</td>\n",
              "      <td>1</td>\n",
              "      <td>0</td>\n",
              "      <td>0</td>\n",
              "      <td>0</td>\n",
              "      <td>0</td>\n",
              "      <td>0</td>\n",
              "      <td>0</td>\n",
              "      <td>1</td>\n",
              "      <td>0</td>\n",
              "      <td>0</td>\n",
              "      <td>0</td>\n",
              "      <td>0</td>\n",
              "      <td>0</td>\n",
              "      <td>0</td>\n",
              "      <td>0</td>\n",
              "      <td>0</td>\n",
              "      <td>0</td>\n",
              "      <td>0</td>\n",
              "      <td>0</td>\n",
              "      <td>1</td>\n",
              "      <td>0</td>\n",
              "      <td>0</td>\n",
              "      <td>0</td>\n",
              "      <td>0</td>\n",
              "      <td>0</td>\n",
              "      <td>0</td>\n",
              "      <td>1</td>\n",
              "      <td>0</td>\n",
              "      <td>0</td>\n",
              "      <td>0</td>\n",
              "      <td>0</td>\n",
              "      <td>0</td>\n",
              "      <td>0</td>\n",
              "      <td>0</td>\n",
              "      <td>0</td>\n",
              "      <td>0</td>\n",
              "      <td>0</td>\n",
              "      <td>0</td>\n",
              "      <td>0</td>\n",
              "      <td>0</td>\n",
              "      <td>1</td>\n",
              "      <td>0</td>\n",
              "      <td>0</td>\n",
              "      <td>0</td>\n",
              "      <td>0</td>\n",
              "      <td>0</td>\n",
              "    </tr>\n",
              "    <tr>\n",
              "      <th>2</th>\n",
              "      <td>0</td>\n",
              "      <td>1</td>\n",
              "      <td>0</td>\n",
              "      <td>1</td>\n",
              "      <td>0</td>\n",
              "      <td>0</td>\n",
              "      <td>0</td>\n",
              "      <td>0</td>\n",
              "      <td>0</td>\n",
              "      <td>0</td>\n",
              "      <td>0</td>\n",
              "      <td>0</td>\n",
              "      <td>0</td>\n",
              "      <td>0</td>\n",
              "      <td>0</td>\n",
              "      <td>0</td>\n",
              "      <td>0</td>\n",
              "      <td>0</td>\n",
              "      <td>0</td>\n",
              "      <td>0</td>\n",
              "      <td>0</td>\n",
              "      <td>0</td>\n",
              "      <td>1</td>\n",
              "      <td>0</td>\n",
              "      <td>0</td>\n",
              "      <td>1</td>\n",
              "      <td>0</td>\n",
              "      <td>0</td>\n",
              "      <td>0</td>\n",
              "      <td>0</td>\n",
              "      <td>0</td>\n",
              "      <td>0</td>\n",
              "      <td>1</td>\n",
              "      <td>0</td>\n",
              "      <td>0</td>\n",
              "      <td>0</td>\n",
              "      <td>0</td>\n",
              "      <td>0</td>\n",
              "      <td>0</td>\n",
              "      <td>0</td>\n",
              "      <td>0</td>\n",
              "      <td>0</td>\n",
              "      <td>0</td>\n",
              "      <td>0</td>\n",
              "      <td>0</td>\n",
              "      <td>0</td>\n",
              "      <td>0</td>\n",
              "      <td>1</td>\n",
              "      <td>0</td>\n",
              "      <td>0</td>\n",
              "      <td>0</td>\n",
              "      <td>0</td>\n",
              "    </tr>\n",
              "    <tr>\n",
              "      <th>3</th>\n",
              "      <td>1</td>\n",
              "      <td>1</td>\n",
              "      <td>0</td>\n",
              "      <td>0</td>\n",
              "      <td>0</td>\n",
              "      <td>0</td>\n",
              "      <td>1</td>\n",
              "      <td>0</td>\n",
              "      <td>0</td>\n",
              "      <td>0</td>\n",
              "      <td>0</td>\n",
              "      <td>0</td>\n",
              "      <td>0</td>\n",
              "      <td>0</td>\n",
              "      <td>0</td>\n",
              "      <td>1</td>\n",
              "      <td>0</td>\n",
              "      <td>0</td>\n",
              "      <td>0</td>\n",
              "      <td>0</td>\n",
              "      <td>0</td>\n",
              "      <td>0</td>\n",
              "      <td>0</td>\n",
              "      <td>0</td>\n",
              "      <td>0</td>\n",
              "      <td>1</td>\n",
              "      <td>0</td>\n",
              "      <td>0</td>\n",
              "      <td>0</td>\n",
              "      <td>0</td>\n",
              "      <td>0</td>\n",
              "      <td>0</td>\n",
              "      <td>0</td>\n",
              "      <td>1</td>\n",
              "      <td>0</td>\n",
              "      <td>0</td>\n",
              "      <td>0</td>\n",
              "      <td>0</td>\n",
              "      <td>0</td>\n",
              "      <td>0</td>\n",
              "      <td>0</td>\n",
              "      <td>1</td>\n",
              "      <td>0</td>\n",
              "      <td>0</td>\n",
              "      <td>0</td>\n",
              "      <td>0</td>\n",
              "      <td>0</td>\n",
              "      <td>0</td>\n",
              "      <td>0</td>\n",
              "      <td>0</td>\n",
              "      <td>0</td>\n",
              "      <td>0</td>\n",
              "    </tr>\n",
              "    <tr>\n",
              "      <th>4</th>\n",
              "      <td>0</td>\n",
              "      <td>0</td>\n",
              "      <td>0</td>\n",
              "      <td>0</td>\n",
              "      <td>0</td>\n",
              "      <td>0</td>\n",
              "      <td>0</td>\n",
              "      <td>0</td>\n",
              "      <td>0</td>\n",
              "      <td>0</td>\n",
              "      <td>0</td>\n",
              "      <td>0</td>\n",
              "      <td>0</td>\n",
              "      <td>0</td>\n",
              "      <td>0</td>\n",
              "      <td>1</td>\n",
              "      <td>0</td>\n",
              "      <td>0</td>\n",
              "      <td>0</td>\n",
              "      <td>0</td>\n",
              "      <td>0</td>\n",
              "      <td>0</td>\n",
              "      <td>0</td>\n",
              "      <td>0</td>\n",
              "      <td>0</td>\n",
              "      <td>0</td>\n",
              "      <td>0</td>\n",
              "      <td>0</td>\n",
              "      <td>0</td>\n",
              "      <td>1</td>\n",
              "      <td>0</td>\n",
              "      <td>0</td>\n",
              "      <td>1</td>\n",
              "      <td>0</td>\n",
              "      <td>0</td>\n",
              "      <td>1</td>\n",
              "      <td>0</td>\n",
              "      <td>0</td>\n",
              "      <td>0</td>\n",
              "      <td>0</td>\n",
              "      <td>0</td>\n",
              "      <td>0</td>\n",
              "      <td>0</td>\n",
              "      <td>0</td>\n",
              "      <td>0</td>\n",
              "      <td>0</td>\n",
              "      <td>0</td>\n",
              "      <td>0</td>\n",
              "      <td>0</td>\n",
              "      <td>0</td>\n",
              "      <td>0</td>\n",
              "      <td>0</td>\n",
              "    </tr>\n",
              "  </tbody>\n",
              "</table>\n",
              "</div>"
            ],
            "text/plain": [
              "   opera_en_bolsa  es_hombre  ...  trabajo_transporte  trabajo_ventas\n",
              "0               0          1  ...                   0               0\n",
              "1               0          1  ...                   0               0\n",
              "2               0          1  ...                   0               0\n",
              "3               1          1  ...                   0               0\n",
              "4               0          0  ...                   0               0\n",
              "\n",
              "[5 rows x 52 columns]"
            ]
          },
          "metadata": {
            "tags": []
          },
          "execution_count": 28
        }
      ]
    },
    {
      "cell_type": "code",
      "metadata": {
        "colab": {
          "base_uri": "https://localhost:8080/"
        },
        "id": "kFlvbkgDJ9Kd",
        "outputId": "9a16d088-207a-4637-d628-233a6ee46c14"
      },
      "source": [
        "# Predecir\n",
        "predictions_final=classifier_gridSearch.predict(df_test_final.iloc[:, 1:53])\n",
        "\n",
        "predictions_final"
      ],
      "execution_count": 29,
      "outputs": [
        {
          "output_type": "execute_result",
          "data": {
            "text/plain": [
              "array([0, 0, 1, ..., 1, 0, 1])"
            ]
          },
          "metadata": {
            "tags": []
          },
          "execution_count": 29
        }
      ]
    },
    {
      "cell_type": "code",
      "metadata": {
        "id": "k9Ujfzi4V9B6"
      },
      "source": [
        "fp.exportPredictions(fp.formatPredictions(predictions_final), \"predictions_final_random_forest\")"
      ],
      "execution_count": 30,
      "outputs": []
    }
  ]
}