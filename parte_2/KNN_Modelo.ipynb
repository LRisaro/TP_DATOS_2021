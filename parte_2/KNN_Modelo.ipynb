{
  "nbformat": 4,
  "nbformat_minor": 0,
  "metadata": {
    "colab": {
      "name": "KNN_Modelo.ipynb",
      "provenance": [],
      "collapsed_sections": []
    },
    "kernelspec": {
      "name": "python3",
      "display_name": "Python 3"
    },
    "language_info": {
      "name": "python"
    }
  },
  "cells": [
    {
      "cell_type": "markdown",
      "metadata": {
        "id": "Kobejz79yfo0"
      },
      "source": [
        "# KNN Modelo\n"
      ]
    },
    {
      "cell_type": "code",
      "metadata": {
        "id": "kjOqCjWkxM_J"
      },
      "source": [
        "import pandas as pd\n",
        "import preprocessing as pp\n",
        "from sklearn.neighbors import KNeighborsClassifier\n",
        "from sklearn.metrics import accuracy_score\n",
        "from sklearn.model_selection import train_test_split\n",
        "from sklearn.metrics import precision_score\n",
        "from sklearn.metrics import recall_score\n",
        "from sklearn.metrics import f1_score\n",
        "from sklearn.metrics import confusion_matrix\n",
        "import matplotlib.pyplot as plt\n",
        "from sklearn.metrics import roc_curve, auc\n",
        "from sklearn.metrics import roc_auc_score"
      ],
      "execution_count": 20,
      "outputs": []
    },
    {
      "cell_type": "code",
      "metadata": {
        "id": "b5qltpyjyJKw"
      },
      "source": [
        "# Devuelve set de datos en un dataframe\n",
        "def getDataTrain():\n",
        "  return pd.read_csv(\"https://docs.google.com/spreadsheets/d/1-DWTP8uwVS-dZY402-dm0F9ICw_6PNqDGLmH0u8Eqa0/export?format=csv&gid=2054774482\")  "
      ],
      "execution_count": 21,
      "outputs": []
    },
    {
      "cell_type": "code",
      "metadata": {
        "id": "B5ZZ8-6eChlp"
      },
      "source": [
        "# Devuelve set de datos para predecir en un dataframe\n",
        "def getDataValidation():\n",
        "  return pd.read_csv(\"https://docs.google.com/spreadsheets/d/1ObsojtXfzvwicsFieGINPx500oGbUoaVTERTc69pzxE/export?format=csv&gid=972751642\")  "
      ],
      "execution_count": 22,
      "outputs": []
    },
    {
      "cell_type": "code",
      "metadata": {
        "id": "FSRbKaI7jgdQ"
      },
      "source": [
        "# Devuelve el archivo de salida con las predicciones\n",
        "def getResult(predictions_final, file_name):\n",
        "  pd_predictions_final = pd.DataFrame(columns=[\"id\", \"tiene_alto_valor_adquisitivo\"])\n",
        "  pd_predictions_final.tiene_alto_valor_adquisitivo = predictions_final\n",
        "  pd_predictions_final['id'] = pd_predictions_final.index + 1\n",
        "  pd_predictions_final.set_index('id', inplace=True)\n",
        "  pd_predictions_final.to_csv(file_name)"
      ],
      "execution_count": 23,
      "outputs": []
    },
    {
      "cell_type": "code",
      "metadata": {
        "id": "jhNN4L11xdU0"
      },
      "source": [
        "# Divido el set en entrenamiento y validacion\n",
        "dfTrain = getDataTrain()\n",
        "dfTrain_feature_engineering = pp.feature_engineering_KNN_SVM_Naive_Bayes(dfTrain)\n",
        "X = dfTrain_feature_engineering.drop(columns = 'tiene_alto_valor_adquisitivo')\n",
        "y = dfTrain_feature_engineering.tiene_alto_valor_adquisitivo\n",
        "X_train, X_test, y_train, y_test = train_test_split(X, y, test_size=0.20)"
      ],
      "execution_count": 24,
      "outputs": []
    },
    {
      "cell_type": "code",
      "metadata": {
        "id": "Bu-Kmk-oxxWw"
      },
      "source": [
        "knn = KNeighborsClassifier()\n",
        "knn.fit(X_train, y_train)\n",
        "y_pred = knn.predict(X_test)"
      ],
      "execution_count": 25,
      "outputs": []
    },
    {
      "cell_type": "markdown",
      "metadata": {
        "id": "nYuSWR6v2g0Z"
      },
      "source": [
        "# Metricas\n",
        "\n",
        "# Accuracy"
      ]
    },
    {
      "cell_type": "code",
      "metadata": {
        "colab": {
          "base_uri": "https://localhost:8080/"
        },
        "id": "woF4Mcwwy5p3",
        "outputId": "d80b755f-084c-4433-ab6f-7efacd2a0831"
      },
      "source": [
        "accuracy_score(y_test, y_pred)"
      ],
      "execution_count": 26,
      "outputs": [
        {
          "output_type": "execute_result",
          "data": {
            "text/plain": [
              "0.8071549209273761"
            ]
          },
          "metadata": {
            "tags": []
          },
          "execution_count": 26
        }
      ]
    },
    {
      "cell_type": "markdown",
      "metadata": {
        "id": "QB2Aosrg21y3"
      },
      "source": [
        "# Precision"
      ]
    },
    {
      "cell_type": "code",
      "metadata": {
        "colab": {
          "base_uri": "https://localhost:8080/"
        },
        "id": "DWqFY46j2jQc",
        "outputId": "6543d91b-cb06-44ed-afce-0dafa715e02a"
      },
      "source": [
        "precision_score(y_test, y_pred)"
      ],
      "execution_count": 27,
      "outputs": [
        {
          "output_type": "execute_result",
          "data": {
            "text/plain": [
              "0.597864768683274"
            ]
          },
          "metadata": {
            "tags": []
          },
          "execution_count": 27
        }
      ]
    },
    {
      "cell_type": "markdown",
      "metadata": {
        "id": "84fFQAer29xx"
      },
      "source": [
        "# Recall"
      ]
    },
    {
      "cell_type": "code",
      "metadata": {
        "colab": {
          "base_uri": "https://localhost:8080/"
        },
        "id": "L1Gsir152_m9",
        "outputId": "23bd338d-b853-4395-ce46-9345ea65627b"
      },
      "source": [
        "recall_score(y_test, y_pred, pos_label=0)"
      ],
      "execution_count": 28,
      "outputs": [
        {
          "output_type": "execute_result",
          "data": {
            "text/plain": [
              "0.8865917302288238"
            ]
          },
          "metadata": {
            "tags": []
          },
          "execution_count": 28
        }
      ]
    },
    {
      "cell_type": "markdown",
      "metadata": {
        "id": "r4AN7q4b3Lbu"
      },
      "source": [
        "# F1 Score"
      ]
    },
    {
      "cell_type": "code",
      "metadata": {
        "colab": {
          "base_uri": "https://localhost:8080/"
        },
        "id": "MaDVQFEd3NPf",
        "outputId": "82276814-a14e-463d-b6f6-af5bc5c77650"
      },
      "source": [
        "f1_score(y_test, y_pred)"
      ],
      "execution_count": 29,
      "outputs": [
        {
          "output_type": "execute_result",
          "data": {
            "text/plain": [
              "0.5722070844686648"
            ]
          },
          "metadata": {
            "tags": []
          },
          "execution_count": 29
        }
      ]
    },
    {
      "cell_type": "markdown",
      "metadata": {
        "id": "Xz5vuJcg3SBy"
      },
      "source": [
        "# Matriz de confusion"
      ]
    },
    {
      "cell_type": "code",
      "metadata": {
        "colab": {
          "base_uri": "https://localhost:8080/"
        },
        "id": "-gjgSbDT3UJ8",
        "outputId": "864ef301-ae35-4707-cac1-d3ced231c23e"
      },
      "source": [
        "confusion_matrix(y_test, y_pred)"
      ],
      "execution_count": 30,
      "outputs": [
        {
          "output_type": "execute_result",
          "data": {
            "text/plain": [
              "array([[4417,  565],\n",
              "       [ 691,  840]])"
            ]
          },
          "metadata": {
            "tags": []
          },
          "execution_count": 30
        }
      ]
    },
    {
      "cell_type": "markdown",
      "metadata": {
        "id": "2vN50_-36OPY"
      },
      "source": [
        "# AUC-ROC"
      ]
    },
    {
      "cell_type": "code",
      "metadata": {
        "id": "m-PP8RR16G2r"
      },
      "source": [
        "def plot_roc(_fpr, _tpr, x):\n",
        "    roc_auc = auc(_fpr, _tpr)\n",
        "\n",
        "    plt.figure(figsize=(15, 10))\n",
        "    plt.plot(_fpr, _tpr, color='darkorange', lw=2, label=f'ROC curve (area = {roc_auc:.2f})')\n",
        "    plt.scatter(_fpr, x)\n",
        "    plt.plot([0, 1], [0, 1], color='navy', lw=2, linestyle='--')\n",
        "    plt.xlim([0.0, 1.0])\n",
        "    plt.ylim([0.0, 1.05])\n",
        "    plt.xlabel('False Positive Rate')\n",
        "    plt.ylabel('True Positive Rate')\n",
        "    plt.title('Receiver operating characteristic')\n",
        "    plt.legend(loc=\"lower right\")\n",
        "    plt.show()"
      ],
      "execution_count": 31,
      "outputs": []
    },
    {
      "cell_type": "code",
      "metadata": {
        "colab": {
          "base_uri": "https://localhost:8080/",
          "height": 639
        },
        "id": "zg-4O8df6ZLM",
        "outputId": "c38751e6-2c80-4e86-97eb-38ad9f944e4d"
      },
      "source": [
        "fpr, tpr, thresholds = roc_curve(y_test, y_pred)\n",
        "plot_roc(fpr, tpr, thresholds)\n",
        "display(roc_auc_score(y_test, y_pred))"
      ],
      "execution_count": 32,
      "outputs": [
        {
          "output_type": "display_data",
          "data": {
            "image/png": "[encoded data removed]",
            "text/plain": [
              "<Figure size 1080x720 with 1 Axes>"
            ]
          },
          "metadata": {
            "tags": [],
            "needs_background": "light"
          }
        },
        {
          "output_type": "display_data",
          "data": {
            "text/plain": [
              "0.7176263680536672"
            ]
          },
          "metadata": {
            "tags": []
          }
        }
      ]
    },
    {
      "cell_type": "markdown",
      "metadata": {
        "id": "PIPs2AWdSRfI"
      },
      "source": [
        "# Prediccion"
      ]
    },
    {
      "cell_type": "code",
      "metadata": {
        "id": "SlGNDK-exyEh",
        "colab": {
          "base_uri": "https://localhost:8080/"
        },
        "outputId": "705d45f6-06e6-4c12-e0ab-17d083767ec3"
      },
      "source": [
        "# Obtengo el set para predecir\n",
        "dfObjetivo = getDataValidation()\n",
        "\n",
        "# Elimino columnas \"representatividad_poblacional\" y \"id\"\n",
        "dfObjetivo.drop(columns = ['representatividad_poblacional', 'id'], inplace = True)\n",
        "\n",
        "# Aplico feature engineering\n",
        "dfObjetivo_feature_engineering = pp.feature_engineering_KNN_SVM_Naive_Bayes(dfObjetivo)\n",
        "\n",
        "predicciones = knn.predict(dfObjetivo_feature_engineering)\n",
        "predicciones"
      ],
      "execution_count": 33,
      "outputs": [
        {
          "output_type": "execute_result",
          "data": {
            "text/plain": [
              "array([0, 0, 0, ..., 1, 1, 1])"
            ]
          },
          "metadata": {
            "tags": []
          },
          "execution_count": 33
        }
      ]
    },
    {
      "cell_type": "code",
      "metadata": {
        "id": "6-wqLOErEQCj"
      },
      "source": [
        "getResult(predicciones, 'pd_predictions_final_knn.csv')"
      ],
      "execution_count": 34,
      "outputs": []
    }
  ]
}