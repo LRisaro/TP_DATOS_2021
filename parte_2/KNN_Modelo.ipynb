{
  "nbformat": 4,
  "nbformat_minor": 0,
  "metadata": {
    "colab": {
      "name": "KNN Modelo.ipynb",
      "provenance": [],
      "collapsed_sections": []
    },
    "kernelspec": {
      "name": "python3",
      "display_name": "Python 3"
    },
    "language_info": {
      "name": "python"
    }
  },
  "cells": [
    {
      "cell_type": "markdown",
      "metadata": {
        "id": "Kobejz79yfo0"
      },
      "source": [
        "# KNN Modelo\n"
      ]
    },
    {
      "cell_type": "code",
      "metadata": {
        "id": "kjOqCjWkxM_J"
      },
      "source": [
        "import pandas as pd\n",
        "from sklearn.neighbors import KNeighborsClassifier\n",
        "from sklearn.preprocessing import OrdinalEncoder\n",
        "from sklearn.metrics import accuracy_score\n",
        "from sklearn.model_selection import train_test_split\n",
        "from sklearn.metrics import precision_score\n",
        "from sklearn.metrics import recall_score\n",
        "from sklearn.metrics import f1_score\n",
        "from sklearn.metrics import confusion_matrix\n",
        "import matplotlib.pyplot as plt\n",
        "from sklearn.metrics import roc_curve, auc\n",
        "from sklearn.metrics import roc_auc_score"
      ],
      "execution_count": 35,
      "outputs": []
    },
    {
      "cell_type": "code",
      "metadata": {
        "id": "b5qltpyjyJKw"
      },
      "source": [
        "# Devuelve set de datos en un dataframe\n",
        "def getDataTrain():\n",
        "  return pd.read_csv(\"https://docs.google.com/spreadsheets/d/1-DWTP8uwVS-dZY402-dm0F9ICw_6PNqDGLmH0u8Eqa0/export?format=csv&gid=2054774482\")  "
      ],
      "execution_count": 36,
      "outputs": []
    },
    {
      "cell_type": "code",
      "metadata": {
        "id": "B5ZZ8-6eChlp"
      },
      "source": [
        "# Devuelve set de datos para predecir en un dataframe\n",
        "def getDataValidation():\n",
        "  return pd.read_csv(\"https://docs.google.com/spreadsheets/d/1ObsojtXfzvwicsFieGINPx500oGbUoaVTERTc69pzxE/export?format=csv&gid=972751642\")  "
      ],
      "execution_count": 37,
      "outputs": []
    },
    {
      "cell_type": "markdown",
      "metadata": {
        "id": "N1WcpWXTSetk"
      },
      "source": [
        "# Entrenamiento"
      ]
    },
    {
      "cell_type": "code",
      "metadata": {
        "id": "kfnAVjxS24Ju"
      },
      "source": [
        "def featureEngineering(df):\n",
        "    df_clean = df.copy()\n",
        "\n",
        "    df_clean[\"educacion_alcanzada\"].replace({\"preescolar\" : 1, \"1-4_grado\": 2, \"5-6_grado\": 3, \"7-8_grado\" : 4, \"9_grado\" : 5, \"1_anio\" : 6, \"2_anio\" : 7, \"3_anio\" : 8, \"4_anio\" : 9, \"5_anio\" : 10, \"universidad_1_anio\" : 11, \n",
        "      \"universidad_2_anio\" : 12, \"universidad_3_anio\" : 13, \"universidad_4_anio\" : 14, \"universiada_5_anio\" : 15, \"universiada_6_anio\" : 16}, inplace = True)\n",
        "    \n",
        "    df_clean.rol_familiar_registrado.replace(to_replace=[\"casada\"], value=[\"casado\"], inplace=True)\n",
        "    df_clean[\"opera_en_bolsa\"] = df_clean[\"ganancia_perdida_declarada_bolsa_argentina\"].apply(lambda x: 1 if x != 0 else 0)\n",
        "\n",
        "    # Tratamiento de NaN\n",
        "    df_clean.fillna('NaN', inplace=True)\n",
        "\n",
        "    # Conversion de variables\n",
        "    ordinalEncoder = OrdinalEncoder(dtype='int')\n",
        "    columns_to_encode = ['barrio', 'categoria_de_trabajo', 'estado_marital', 'genero', 'religion', 'rol_familiar_registrado', 'trabajo']\n",
        "    try:\n",
        "      df_clean[['barrio_encoded', 'categoria_de_trabajo_encoded', 'estado_marital_encoded', 'genero_encoded', 'religion_encoded', 'rol_familiar_registrado_encoded', 'trabajo_encoded']] \\\n",
        "        = ordinalEncoder.fit_transform(df_clean[columns_to_encode].astype(str))\n",
        "    except Exception as exception:\n",
        "      print(f'Error en ordinal encoder: {exception}')\n",
        "\n",
        "    # Elimino columnas\n",
        "    df_clean.drop(columns = ['barrio', 'ganancia_perdida_declarada_bolsa_argentina', 'categoria_de_trabajo', 'estado_marital', 'genero', 'religion', 'rol_familiar_registrado', 'trabajo'], inplace = True)\n",
        "    \n",
        "    return df_clean"
      ],
      "execution_count": 38,
      "outputs": []
    },
    {
      "cell_type": "code",
      "metadata": {
        "id": "jhNN4L11xdU0"
      },
      "source": [
        "# Divido el set en entrenamiento y validacion\n",
        "dfTrain = getDataTrain()\n",
        "dfTrain_feature_engineering = featureEngineering(dfTrain)\n",
        "X = dfTrain_feature_engineering.drop(columns = 'tiene_alto_valor_adquisitivo')\n",
        "y = dfTrain_feature_engineering.tiene_alto_valor_adquisitivo\n",
        "X_train, X_test, y_train, y_test = train_test_split(X, y, test_size=0.20)"
      ],
      "execution_count": 39,
      "outputs": []
    },
    {
      "cell_type": "code",
      "metadata": {
        "id": "Bu-Kmk-oxxWw"
      },
      "source": [
        "knn = KNeighborsClassifier()\n",
        "knn.fit(X_train, y_train)\n",
        "y_pred = knn.predict(X_test)"
      ],
      "execution_count": 40,
      "outputs": []
    },
    {
      "cell_type": "markdown",
      "metadata": {
        "id": "nYuSWR6v2g0Z"
      },
      "source": [
        "# Metricas\n",
        "\n",
        "# Accuracy"
      ]
    },
    {
      "cell_type": "code",
      "metadata": {
        "colab": {
          "base_uri": "https://localhost:8080/"
        },
        "id": "woF4Mcwwy5p3",
        "outputId": "1274d796-eeeb-4f96-deec-626199e10859"
      },
      "source": [
        "accuracy_score(y_test, y_pred)"
      ],
      "execution_count": 41,
      "outputs": [
        {
          "output_type": "execute_result",
          "data": {
            "text/plain": [
              "0.8073084600030708"
            ]
          },
          "metadata": {
            "tags": []
          },
          "execution_count": 41
        }
      ]
    },
    {
      "cell_type": "markdown",
      "metadata": {
        "id": "QB2Aosrg21y3"
      },
      "source": [
        "# Precision"
      ]
    },
    {
      "cell_type": "code",
      "metadata": {
        "colab": {
          "base_uri": "https://localhost:8080/"
        },
        "id": "DWqFY46j2jQc",
        "outputId": "cbc3181c-4093-4a73-9707-70ddc1570634"
      },
      "source": [
        "precision_score(y_test, y_pred)"
      ],
      "execution_count": 42,
      "outputs": [
        {
          "output_type": "execute_result",
          "data": {
            "text/plain": [
              "0.6299496040316774"
            ]
          },
          "metadata": {
            "tags": []
          },
          "execution_count": 42
        }
      ]
    },
    {
      "cell_type": "markdown",
      "metadata": {
        "id": "84fFQAer29xx"
      },
      "source": [
        "# Recall"
      ]
    },
    {
      "cell_type": "code",
      "metadata": {
        "colab": {
          "base_uri": "https://localhost:8080/"
        },
        "id": "L1Gsir152_m9",
        "outputId": "26148b4c-0666-42ae-bbba-08ce94df2e5a"
      },
      "source": [
        "recall_score(y_test, y_pred, pos_label=0)"
      ],
      "execution_count": 43,
      "outputs": [
        {
          "output_type": "execute_result",
          "data": {
            "text/plain": [
              "0.8950377782315704"
            ]
          },
          "metadata": {
            "tags": []
          },
          "execution_count": 43
        }
      ]
    },
    {
      "cell_type": "markdown",
      "metadata": {
        "id": "r4AN7q4b3Lbu"
      },
      "source": [
        "# F1 Score"
      ]
    },
    {
      "cell_type": "code",
      "metadata": {
        "colab": {
          "base_uri": "https://localhost:8080/"
        },
        "id": "MaDVQFEd3NPf",
        "outputId": "a6cb788b-44c4-4907-bd71-862d9e2afe3d"
      },
      "source": [
        "f1_score(y_test, y_pred)"
      ],
      "execution_count": 44,
      "outputs": [
        {
          "output_type": "execute_result",
          "data": {
            "text/plain": [
              "0.5823627287853577"
            ]
          },
          "metadata": {
            "tags": []
          },
          "execution_count": 44
        }
      ]
    },
    {
      "cell_type": "markdown",
      "metadata": {
        "id": "Xz5vuJcg3SBy"
      },
      "source": [
        "# Matriz de confusion"
      ]
    },
    {
      "cell_type": "code",
      "metadata": {
        "colab": {
          "base_uri": "https://localhost:8080/"
        },
        "id": "-gjgSbDT3UJ8",
        "outputId": "6404d5dd-f828-40cc-9364-bb79ff5db00a"
      },
      "source": [
        "confusion_matrix(y_test, y_pred)"
      ],
      "execution_count": 45,
      "outputs": [
        {
          "output_type": "execute_result",
          "data": {
            "text/plain": [
              "array([[4383,  514],\n",
              "       [ 741,  875]])"
            ]
          },
          "metadata": {
            "tags": []
          },
          "execution_count": 45
        }
      ]
    },
    {
      "cell_type": "markdown",
      "metadata": {
        "id": "2vN50_-36OPY"
      },
      "source": [
        "# AUC-ROC"
      ]
    },
    {
      "cell_type": "code",
      "metadata": {
        "id": "m-PP8RR16G2r"
      },
      "source": [
        "def plot_roc(_fpr, _tpr, x):\n",
        "    roc_auc = auc(_fpr, _tpr)\n",
        "\n",
        "    plt.figure(figsize=(15, 10))\n",
        "    plt.plot(_fpr, _tpr, color='darkorange', lw=2, label=f'ROC curve (area = {roc_auc:.2f})')\n",
        "    plt.scatter(_fpr, x)\n",
        "    plt.plot([0, 1], [0, 1], color='navy', lw=2, linestyle='--')\n",
        "    plt.xlim([0.0, 1.0])\n",
        "    plt.ylim([0.0, 1.05])\n",
        "    plt.xlabel('False Positive Rate')\n",
        "    plt.ylabel('True Positive Rate')\n",
        "    plt.title('Receiver operating characteristic')\n",
        "    plt.legend(loc=\"lower right\")\n",
        "    plt.show()"
      ],
      "execution_count": 46,
      "outputs": []
    },
    {
      "cell_type": "code",
      "metadata": {
        "colab": {
          "base_uri": "https://localhost:8080/",
          "height": 639
        },
        "id": "zg-4O8df6ZLM",
        "outputId": "3b79a76a-0cda-46c5-cfc6-64b7be06623f"
      },
      "source": [
        "fpr, tpr, thresholds = roc_curve(y_test, y_pred)\n",
        "plot_roc(fpr, tpr, thresholds)\n",
        "display(roc_auc_score(y_test, y_pred))"
      ],
      "execution_count": 47,
      "outputs": [
        {
          "output_type": "display_data",
          "data": {
            "image/png": "[encoded data removed]",
            "text/plain": [
              "<Figure size 1080x720 with 1 Axes>"
            ]
          },
          "metadata": {
            "tags": [],
            "needs_background": "light"
          }
        },
        {
          "output_type": "display_data",
          "data": {
            "text/plain": [
              "0.7182490871355872"
            ]
          },
          "metadata": {
            "tags": []
          }
        }
      ]
    },
    {
      "cell_type": "markdown",
      "metadata": {
        "id": "PIPs2AWdSRfI"
      },
      "source": [
        "# Prediccion"
      ]
    },
    {
      "cell_type": "code",
      "metadata": {
        "id": "SlGNDK-exyEh",
        "colab": {
          "base_uri": "https://localhost:8080/"
        },
        "outputId": "1b1b7548-1f8d-449c-db32-3dcf02186510"
      },
      "source": [
        "# Obtengo el set para predecir\n",
        "dfObjetivo = getDataValidation()\n",
        "\n",
        "# Elimino columnas \"representatividad_poblacional\" y \"id\"\n",
        "dfObjetivo.drop(columns = ['representatividad_poblacional', 'id'], inplace = True)\n",
        "\n",
        "# Aplico feature engineering\n",
        "dfObjetivo_feature_engineering = featureEngineering(dfObjetivo)\n",
        "\n",
        "predicciones = knn.predict(dfObjetivo_feature_engineering)\n",
        "predicciones"
      ],
      "execution_count": 32,
      "outputs": [
        {
          "output_type": "execute_result",
          "data": {
            "text/plain": [
              "array([0, 0, 0, ..., 1, 1, 1])"
            ]
          },
          "metadata": {
            "tags": []
          },
          "execution_count": 32
        }
      ]
    },
    {
      "cell_type": "code",
      "metadata": {
        "id": "6-wqLOErEQCj"
      },
      "source": [
        ""
      ],
      "execution_count": null,
      "outputs": []
    }
  ]
}