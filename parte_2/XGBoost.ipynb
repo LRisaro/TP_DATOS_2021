{
  "nbformat": 4,
  "nbformat_minor": 0,
  "metadata": {
    "colab": {
      "name": "XGBoostV2.ipynb",
      "provenance": [],
      "collapsed_sections": []
    },
    "kernelspec": {
      "name": "python3",
      "display_name": "Python 3"
    },
    "language_info": {
      "name": "python"
    }
  },
  "cells": [
    {
      "cell_type": "code",
      "metadata": {
        "id": "f2zirFUoHcPr"
      },
      "source": [
        "import pandas as pd\n",
        "import numpy as np\n",
        "import preprocessing as pp\n",
        "import formatPredictions as fp\n",
        "import datasets as datasets\n",
        "\n",
        "#Importacion xgboost\n",
        "import xgboost as xgb\n",
        "\n",
        "#Importacion preprocesamiento\n",
        "from sklearn.model_selection import train_test_split\n",
        "\n",
        "#Importacion metricas\n",
        "import metrics as m\n",
        "from sklearn.metrics import roc_auc_score\n",
        "\n",
        "#Librerias para visualizacion\n",
        "import seaborn as sb\n",
        "import matplotlib.pyplot as plt"
      ],
      "execution_count": 65,
      "outputs": []
    },
    {
      "cell_type": "code",
      "metadata": {
        "colab": {
          "base_uri": "https://localhost:8080/",
          "height": 224
        },
        "id": "w9XBXytyHmVJ",
        "outputId": "83332bc6-6ac9-4048-f55c-64ab9862d1bb"
      },
      "source": [
        "df = datasets.getDataTrain()\n",
        "df.head()"
      ],
      "execution_count": 2,
      "outputs": [
        {
          "output_type": "execute_result",
          "data": {
            "text/html": [
              "<div>\n",
              "<style scoped>\n",
              "    .dataframe tbody tr th:only-of-type {\n",
              "        vertical-align: middle;\n",
              "    }\n",
              "\n",
              "    .dataframe tbody tr th {\n",
              "        vertical-align: top;\n",
              "    }\n",
              "\n",
              "    .dataframe thead th {\n",
              "        text-align: right;\n",
              "    }\n",
              "</style>\n",
              "<table border=\"1\" class=\"dataframe\">\n",
              "  <thead>\n",
              "    <tr style=\"text-align: right;\">\n",
              "      <th></th>\n",
              "      <th>anios_estudiados</th>\n",
              "      <th>barrio</th>\n",
              "      <th>categoria_de_trabajo</th>\n",
              "      <th>edad</th>\n",
              "      <th>educacion_alcanzada</th>\n",
              "      <th>estado_marital</th>\n",
              "      <th>ganancia_perdida_declarada_bolsa_argentina</th>\n",
              "      <th>genero</th>\n",
              "      <th>horas_trabajo_registradas</th>\n",
              "      <th>religion</th>\n",
              "      <th>rol_familiar_registrado</th>\n",
              "      <th>tiene_alto_valor_adquisitivo</th>\n",
              "      <th>trabajo</th>\n",
              "    </tr>\n",
              "  </thead>\n",
              "  <tbody>\n",
              "    <tr>\n",
              "      <th>0</th>\n",
              "      <td>17</td>\n",
              "      <td>Palermo</td>\n",
              "      <td>empleado_provincial</td>\n",
              "      <td>39</td>\n",
              "      <td>universidad_3_anio</td>\n",
              "      <td>sin_matrimonio</td>\n",
              "      <td>2174</td>\n",
              "      <td>hombre</td>\n",
              "      <td>40</td>\n",
              "      <td>cristianismo</td>\n",
              "      <td>sin_familia</td>\n",
              "      <td>0</td>\n",
              "      <td>entretenimiento</td>\n",
              "    </tr>\n",
              "    <tr>\n",
              "      <th>1</th>\n",
              "      <td>17</td>\n",
              "      <td>Palermo</td>\n",
              "      <td>monotibutista</td>\n",
              "      <td>50</td>\n",
              "      <td>universidad_3_anio</td>\n",
              "      <td>matrimonio_civil</td>\n",
              "      <td>0</td>\n",
              "      <td>hombre</td>\n",
              "      <td>13</td>\n",
              "      <td>cristianismo</td>\n",
              "      <td>casado</td>\n",
              "      <td>0</td>\n",
              "      <td>directivo_gerente</td>\n",
              "    </tr>\n",
              "    <tr>\n",
              "      <th>2</th>\n",
              "      <td>13</td>\n",
              "      <td>Palermo</td>\n",
              "      <td>relacion_de_dependencia</td>\n",
              "      <td>38</td>\n",
              "      <td>4_anio</td>\n",
              "      <td>divorciado</td>\n",
              "      <td>0</td>\n",
              "      <td>hombre</td>\n",
              "      <td>40</td>\n",
              "      <td>cristianismo</td>\n",
              "      <td>sin_familia</td>\n",
              "      <td>0</td>\n",
              "      <td>limpiador</td>\n",
              "    </tr>\n",
              "    <tr>\n",
              "      <th>3</th>\n",
              "      <td>11</td>\n",
              "      <td>Palermo</td>\n",
              "      <td>relacion_de_dependencia</td>\n",
              "      <td>53</td>\n",
              "      <td>2_anio</td>\n",
              "      <td>matrimonio_civil</td>\n",
              "      <td>0</td>\n",
              "      <td>hombre</td>\n",
              "      <td>40</td>\n",
              "      <td>judaismo</td>\n",
              "      <td>casado</td>\n",
              "      <td>0</td>\n",
              "      <td>limpiador</td>\n",
              "    </tr>\n",
              "    <tr>\n",
              "      <th>4</th>\n",
              "      <td>17</td>\n",
              "      <td>Balvanera</td>\n",
              "      <td>relacion_de_dependencia</td>\n",
              "      <td>28</td>\n",
              "      <td>universidad_3_anio</td>\n",
              "      <td>matrimonio_civil</td>\n",
              "      <td>0</td>\n",
              "      <td>mujer</td>\n",
              "      <td>40</td>\n",
              "      <td>judaismo</td>\n",
              "      <td>casada</td>\n",
              "      <td>0</td>\n",
              "      <td>profesional_especializado</td>\n",
              "    </tr>\n",
              "  </tbody>\n",
              "</table>\n",
              "</div>"
            ],
            "text/plain": [
              "   anios_estudiados  ...                    trabajo\n",
              "0                17  ...            entretenimiento\n",
              "1                17  ...          directivo_gerente\n",
              "2                13  ...                  limpiador\n",
              "3                11  ...                  limpiador\n",
              "4                17  ...  profesional_especializado\n",
              "\n",
              "[5 rows x 13 columns]"
            ]
          },
          "metadata": {
            "tags": []
          },
          "execution_count": 2
        }
      ]
    },
    {
      "cell_type": "code",
      "metadata": {
        "colab": {
          "base_uri": "https://localhost:8080/",
          "height": 241
        },
        "id": "Xyywmf3xIHa4",
        "outputId": "ec4f0a60-b4a1-40dd-99fd-12bd9b0d27db"
      },
      "source": [
        "df_edit = pd.DataFrame()\n",
        "df_edit = df.copy()\n",
        "\n",
        "X, y, df_new, y_encoder = pp.feature_engineering_xg_rf(df_edit)\n",
        "\n",
        "df_new.head()"
      ],
      "execution_count": 3,
      "outputs": [
        {
          "output_type": "execute_result",
          "data": {
            "text/html": [
              "<div>\n",
              "<style scoped>\n",
              "    .dataframe tbody tr th:only-of-type {\n",
              "        vertical-align: middle;\n",
              "    }\n",
              "\n",
              "    .dataframe tbody tr th {\n",
              "        vertical-align: top;\n",
              "    }\n",
              "\n",
              "    .dataframe thead th {\n",
              "        text-align: right;\n",
              "    }\n",
              "</style>\n",
              "<table border=\"1\" class=\"dataframe\">\n",
              "  <thead>\n",
              "    <tr style=\"text-align: right;\">\n",
              "      <th></th>\n",
              "      <th>tiene_alto_valor_adquisitivo</th>\n",
              "      <th>opera_en_bolsa</th>\n",
              "      <th>es_hombre</th>\n",
              "      <th>casado_trabajo</th>\n",
              "      <th>categoria_de_trabajo_empleado_provincial</th>\n",
              "      <th>categoria_de_trabajo_monotibutista</th>\n",
              "      <th>categoria_de_trabajo_relacion_de_dependencia</th>\n",
              "      <th>categoria_de_trabajo_responsable_inscripto</th>\n",
              "      <th>categoria_de_trabajo_sin_trabajo</th>\n",
              "      <th>categoria_de_trabajo_trabajo_voluntariado</th>\n",
              "      <th>educacion_alcanzada_2_anio</th>\n",
              "      <th>educacion_alcanzada_3_anio</th>\n",
              "      <th>educacion_alcanzada_4_anio</th>\n",
              "      <th>educacion_alcanzada_5-6_grado</th>\n",
              "      <th>educacion_alcanzada_5_anio</th>\n",
              "      <th>educacion_alcanzada_7-8_grado</th>\n",
              "      <th>educacion_alcanzada_9_grado</th>\n",
              "      <th>educacion_alcanzada_preescolar</th>\n",
              "      <th>educacion_alcanzada_universiada_5_anio</th>\n",
              "      <th>educacion_alcanzada_universiada_6_anio</th>\n",
              "      <th>educacion_alcanzada_universidad_1_anio</th>\n",
              "      <th>educacion_alcanzada_universidad_2_anio</th>\n",
              "      <th>educacion_alcanzada_universidad_3_anio</th>\n",
              "      <th>educacion_alcanzada_universidad_4_anio</th>\n",
              "      <th>estado_marital_matrimonio_militar</th>\n",
              "      <th>estado_marital_pareja_no_presente</th>\n",
              "      <th>estado_marital_separado</th>\n",
              "      <th>estado_marital_sin_matrimonio</th>\n",
              "      <th>estado_marital_viudo_a</th>\n",
              "      <th>religion_cristianismo</th>\n",
              "      <th>religion_judaismo</th>\n",
              "      <th>religion_otro</th>\n",
              "      <th>rol_familiar_registrado_otro</th>\n",
              "      <th>rol_familiar_registrado_sin_familia</th>\n",
              "      <th>rol_familiar_registrado_soltero_a</th>\n",
              "      <th>trabajo_entretenimiento</th>\n",
              "      <th>trabajo_inspector</th>\n",
              "      <th>trabajo_limpiador</th>\n",
              "      <th>trabajo_otros</th>\n",
              "      <th>trabajo_profesional_especializado</th>\n",
              "      <th>trabajo_reparador</th>\n",
              "      <th>trabajo_sector_primario</th>\n",
              "      <th>trabajo_seguridad</th>\n",
              "      <th>trabajo_servicio_domestico</th>\n",
              "      <th>trabajo_soporte_tecnico</th>\n",
              "      <th>trabajo_transporte</th>\n",
              "      <th>trabajo_ventas</th>\n",
              "    </tr>\n",
              "  </thead>\n",
              "  <tbody>\n",
              "    <tr>\n",
              "      <th>0</th>\n",
              "      <td>0</td>\n",
              "      <td>1</td>\n",
              "      <td>1</td>\n",
              "      <td>0</td>\n",
              "      <td>1</td>\n",
              "      <td>0</td>\n",
              "      <td>0</td>\n",
              "      <td>0</td>\n",
              "      <td>0</td>\n",
              "      <td>0</td>\n",
              "      <td>0</td>\n",
              "      <td>0</td>\n",
              "      <td>0</td>\n",
              "      <td>0</td>\n",
              "      <td>0</td>\n",
              "      <td>0</td>\n",
              "      <td>0</td>\n",
              "      <td>0</td>\n",
              "      <td>0</td>\n",
              "      <td>0</td>\n",
              "      <td>0</td>\n",
              "      <td>0</td>\n",
              "      <td>1</td>\n",
              "      <td>0</td>\n",
              "      <td>0</td>\n",
              "      <td>0</td>\n",
              "      <td>0</td>\n",
              "      <td>1</td>\n",
              "      <td>0</td>\n",
              "      <td>1</td>\n",
              "      <td>0</td>\n",
              "      <td>0</td>\n",
              "      <td>0</td>\n",
              "      <td>1</td>\n",
              "      <td>0</td>\n",
              "      <td>1</td>\n",
              "      <td>0</td>\n",
              "      <td>0</td>\n",
              "      <td>0</td>\n",
              "      <td>0</td>\n",
              "      <td>0</td>\n",
              "      <td>0</td>\n",
              "      <td>0</td>\n",
              "      <td>0</td>\n",
              "      <td>0</td>\n",
              "      <td>0</td>\n",
              "      <td>0</td>\n",
              "    </tr>\n",
              "    <tr>\n",
              "      <th>1</th>\n",
              "      <td>0</td>\n",
              "      <td>0</td>\n",
              "      <td>1</td>\n",
              "      <td>1</td>\n",
              "      <td>0</td>\n",
              "      <td>1</td>\n",
              "      <td>0</td>\n",
              "      <td>0</td>\n",
              "      <td>0</td>\n",
              "      <td>0</td>\n",
              "      <td>0</td>\n",
              "      <td>0</td>\n",
              "      <td>0</td>\n",
              "      <td>0</td>\n",
              "      <td>0</td>\n",
              "      <td>0</td>\n",
              "      <td>0</td>\n",
              "      <td>0</td>\n",
              "      <td>0</td>\n",
              "      <td>0</td>\n",
              "      <td>0</td>\n",
              "      <td>0</td>\n",
              "      <td>1</td>\n",
              "      <td>0</td>\n",
              "      <td>0</td>\n",
              "      <td>0</td>\n",
              "      <td>0</td>\n",
              "      <td>0</td>\n",
              "      <td>0</td>\n",
              "      <td>1</td>\n",
              "      <td>0</td>\n",
              "      <td>0</td>\n",
              "      <td>0</td>\n",
              "      <td>0</td>\n",
              "      <td>0</td>\n",
              "      <td>0</td>\n",
              "      <td>0</td>\n",
              "      <td>0</td>\n",
              "      <td>0</td>\n",
              "      <td>0</td>\n",
              "      <td>0</td>\n",
              "      <td>0</td>\n",
              "      <td>0</td>\n",
              "      <td>0</td>\n",
              "      <td>0</td>\n",
              "      <td>0</td>\n",
              "      <td>0</td>\n",
              "    </tr>\n",
              "    <tr>\n",
              "      <th>2</th>\n",
              "      <td>0</td>\n",
              "      <td>0</td>\n",
              "      <td>1</td>\n",
              "      <td>0</td>\n",
              "      <td>0</td>\n",
              "      <td>0</td>\n",
              "      <td>1</td>\n",
              "      <td>0</td>\n",
              "      <td>0</td>\n",
              "      <td>0</td>\n",
              "      <td>0</td>\n",
              "      <td>0</td>\n",
              "      <td>1</td>\n",
              "      <td>0</td>\n",
              "      <td>0</td>\n",
              "      <td>0</td>\n",
              "      <td>0</td>\n",
              "      <td>0</td>\n",
              "      <td>0</td>\n",
              "      <td>0</td>\n",
              "      <td>0</td>\n",
              "      <td>0</td>\n",
              "      <td>0</td>\n",
              "      <td>0</td>\n",
              "      <td>0</td>\n",
              "      <td>0</td>\n",
              "      <td>0</td>\n",
              "      <td>0</td>\n",
              "      <td>0</td>\n",
              "      <td>1</td>\n",
              "      <td>0</td>\n",
              "      <td>0</td>\n",
              "      <td>0</td>\n",
              "      <td>1</td>\n",
              "      <td>0</td>\n",
              "      <td>0</td>\n",
              "      <td>0</td>\n",
              "      <td>1</td>\n",
              "      <td>0</td>\n",
              "      <td>0</td>\n",
              "      <td>0</td>\n",
              "      <td>0</td>\n",
              "      <td>0</td>\n",
              "      <td>0</td>\n",
              "      <td>0</td>\n",
              "      <td>0</td>\n",
              "      <td>0</td>\n",
              "    </tr>\n",
              "    <tr>\n",
              "      <th>3</th>\n",
              "      <td>0</td>\n",
              "      <td>0</td>\n",
              "      <td>1</td>\n",
              "      <td>0</td>\n",
              "      <td>0</td>\n",
              "      <td>0</td>\n",
              "      <td>1</td>\n",
              "      <td>0</td>\n",
              "      <td>0</td>\n",
              "      <td>0</td>\n",
              "      <td>1</td>\n",
              "      <td>0</td>\n",
              "      <td>0</td>\n",
              "      <td>0</td>\n",
              "      <td>0</td>\n",
              "      <td>0</td>\n",
              "      <td>0</td>\n",
              "      <td>0</td>\n",
              "      <td>0</td>\n",
              "      <td>0</td>\n",
              "      <td>0</td>\n",
              "      <td>0</td>\n",
              "      <td>0</td>\n",
              "      <td>0</td>\n",
              "      <td>0</td>\n",
              "      <td>0</td>\n",
              "      <td>0</td>\n",
              "      <td>0</td>\n",
              "      <td>0</td>\n",
              "      <td>0</td>\n",
              "      <td>1</td>\n",
              "      <td>0</td>\n",
              "      <td>0</td>\n",
              "      <td>0</td>\n",
              "      <td>0</td>\n",
              "      <td>0</td>\n",
              "      <td>0</td>\n",
              "      <td>1</td>\n",
              "      <td>0</td>\n",
              "      <td>0</td>\n",
              "      <td>0</td>\n",
              "      <td>0</td>\n",
              "      <td>0</td>\n",
              "      <td>0</td>\n",
              "      <td>0</td>\n",
              "      <td>0</td>\n",
              "      <td>0</td>\n",
              "    </tr>\n",
              "    <tr>\n",
              "      <th>4</th>\n",
              "      <td>0</td>\n",
              "      <td>0</td>\n",
              "      <td>0</td>\n",
              "      <td>1</td>\n",
              "      <td>0</td>\n",
              "      <td>0</td>\n",
              "      <td>1</td>\n",
              "      <td>0</td>\n",
              "      <td>0</td>\n",
              "      <td>0</td>\n",
              "      <td>0</td>\n",
              "      <td>0</td>\n",
              "      <td>0</td>\n",
              "      <td>0</td>\n",
              "      <td>0</td>\n",
              "      <td>0</td>\n",
              "      <td>0</td>\n",
              "      <td>0</td>\n",
              "      <td>0</td>\n",
              "      <td>0</td>\n",
              "      <td>0</td>\n",
              "      <td>0</td>\n",
              "      <td>1</td>\n",
              "      <td>0</td>\n",
              "      <td>0</td>\n",
              "      <td>0</td>\n",
              "      <td>0</td>\n",
              "      <td>0</td>\n",
              "      <td>0</td>\n",
              "      <td>0</td>\n",
              "      <td>1</td>\n",
              "      <td>0</td>\n",
              "      <td>0</td>\n",
              "      <td>0</td>\n",
              "      <td>0</td>\n",
              "      <td>0</td>\n",
              "      <td>0</td>\n",
              "      <td>0</td>\n",
              "      <td>0</td>\n",
              "      <td>1</td>\n",
              "      <td>0</td>\n",
              "      <td>0</td>\n",
              "      <td>0</td>\n",
              "      <td>0</td>\n",
              "      <td>0</td>\n",
              "      <td>0</td>\n",
              "      <td>0</td>\n",
              "    </tr>\n",
              "  </tbody>\n",
              "</table>\n",
              "</div>"
            ],
            "text/plain": [
              "   tiene_alto_valor_adquisitivo  ...  trabajo_ventas\n",
              "0                             0  ...               0\n",
              "1                             0  ...               0\n",
              "2                             0  ...               0\n",
              "3                             0  ...               0\n",
              "4                             0  ...               0\n",
              "\n",
              "[5 rows x 47 columns]"
            ]
          },
          "metadata": {
            "tags": []
          },
          "execution_count": 3
        }
      ]
    },
    {
      "cell_type": "code",
      "metadata": {
        "id": "1GHYBy5yIqPG"
      },
      "source": [
        "data_dmatrix = xgb.DMatrix(data=X,label=y)\n",
        "X_train, X_test, y_train, y_test = train_test_split(X, y, test_size=0.2, random_state=123)"
      ],
      "execution_count": 4,
      "outputs": []
    },
    {
      "cell_type": "code",
      "metadata": {
        "id": "NgVqGGlqIwGN"
      },
      "source": [
        "#Instancio el xgboost\n",
        "xg_reg = xgb.XGBRegressor(objective ='binary:logistic', colsample_bytree = 0.35, learning_rate = 0.5, \n",
        "                          max_depth = 10, alpha = 5, n_estimators = 60)"
      ],
      "execution_count": 5,
      "outputs": []
    },
    {
      "cell_type": "code",
      "metadata": {
        "colab": {
          "base_uri": "https://localhost:8080/"
        },
        "id": "XI4_QmfsIzKQ",
        "outputId": "4346da89-465d-41f6-be15-11b5fcc56950"
      },
      "source": [
        "#Entreno\n",
        "xg_reg.fit(X_train,y_train)"
      ],
      "execution_count": 6,
      "outputs": [
        {
          "output_type": "execute_result",
          "data": {
            "text/plain": [
              "XGBRegressor(alpha=5, base_score=0.5, booster='gbtree', colsample_bylevel=1,\n",
              "             colsample_bynode=1, colsample_bytree=0.35, gamma=0,\n",
              "             importance_type='gain', learning_rate=0.5, max_delta_step=0,\n",
              "             max_depth=10, min_child_weight=1, missing=None, n_estimators=60,\n",
              "             n_jobs=1, nthread=None, objective='binary:logistic',\n",
              "             random_state=0, reg_alpha=0, reg_lambda=1, scale_pos_weight=1,\n",
              "             seed=None, silent=None, subsample=1, verbosity=1)"
            ]
          },
          "metadata": {
            "tags": []
          },
          "execution_count": 6
        }
      ]
    },
    {
      "cell_type": "code",
      "metadata": {
        "id": "VDDEg26_I3US"
      },
      "source": [
        "#prediccion\n",
        "preds = xg_reg.predict(X_test)"
      ],
      "execution_count": 7,
      "outputs": []
    },
    {
      "cell_type": "code",
      "metadata": {
        "id": "M8FXbG02aeKy"
      },
      "source": [
        "int_predictions = pp.get_int_predictions(preds)"
      ],
      "execution_count": 56,
      "outputs": []
    },
    {
      "cell_type": "code",
      "metadata": {
        "colab": {
          "base_uri": "https://localhost:8080/",
          "height": 876
        },
        "id": "R3wGVVrzSzqw",
        "outputId": "5487afe3-29a2-4f9d-a0ef-71ba4f9a5230"
      },
      "source": [
        "# Obtener metricas\n",
        "m.getMetrics(y_test, int_predictions)"
      ],
      "execution_count": 57,
      "outputs": [
        {
          "output_type": "stream",
          "text": [
            "\u001b[1mAccuracy\u001b[0m: 0.8340242591739597\n",
            "\n",
            "\u001b[1mPrecision\u001b[0m: 0.7527527527527528\n",
            "\n",
            "\u001b[1mRecall\u001b[0m: 0.9498680738786279\n",
            "\n",
            "\u001b[1mF1 Score\u001b[0m: 0.5818181818181819\n",
            "\n",
            "\u001b[1mMatriz de confusion: \u001b[0m\n",
            "[[4680  247]\n",
            " [ 834  752]]\n",
            "\n",
            "\u001b[1mAUC-ROC: \u001b[0m\n",
            "\n"
          ],
          "name": "stdout"
        },
        {
          "output_type": "display_data",
          "data": {
            "image/png": "[encoded data removed]",
            "text/plain": [
              "<Figure size 1080x720 with 1 Axes>"
            ]
          },
          "metadata": {
            "tags": [],
            "needs_background": "light"
          }
        },
        {
          "output_type": "display_data",
          "data": {
            "text/plain": [
              "0.7120084379481413"
            ]
          },
          "metadata": {
            "tags": []
          }
        }
      ]
    },
    {
      "cell_type": "code",
      "metadata": {
        "colab": {
          "base_uri": "https://localhost:8080/"
        },
        "id": "AiCH1MTYI8BW",
        "outputId": "e6456d65-bc23-4003-8558-a493fcb1d740"
      },
      "source": [
        "#Porcentaje de acierto de las predicciones\n",
        "print(\"AUC: %f\" % (roc_auc_score(y_test, preds)))"
      ],
      "execution_count": 10,
      "outputs": [
        {
          "output_type": "stream",
          "text": [
            "AUC: 0.884174\n"
          ],
          "name": "stdout"
        }
      ]
    },
    {
      "cell_type": "markdown",
      "metadata": {
        "id": "v1JoIr8B6FCA"
      },
      "source": [
        "### Prediccion agregando el rango de edad como feature"
      ]
    },
    {
      "cell_type": "code",
      "metadata": {
        "colab": {
          "base_uri": "https://localhost:8080/",
          "height": 241
        },
        "id": "a7PeaaIt6PjE",
        "outputId": "bae0eba6-b4dd-4f8b-9edc-3209aa71e3b4"
      },
      "source": [
        "df_edit = pd.DataFrame()\n",
        "df_edit = df.copy()\n",
        "\n",
        "df_edit = pp.set_age_range(df_edit)\n",
        "\n",
        "X, y, df_new, y_encoder = pp.feature_engineering_xg_rf(df_edit)\n",
        "\n",
        "df_new.head()"
      ],
      "execution_count": 32,
      "outputs": [
        {
          "output_type": "execute_result",
          "data": {
            "text/html": [
              "<div>\n",
              "<style scoped>\n",
              "    .dataframe tbody tr th:only-of-type {\n",
              "        vertical-align: middle;\n",
              "    }\n",
              "\n",
              "    .dataframe tbody tr th {\n",
              "        vertical-align: top;\n",
              "    }\n",
              "\n",
              "    .dataframe thead th {\n",
              "        text-align: right;\n",
              "    }\n",
              "</style>\n",
              "<table border=\"1\" class=\"dataframe\">\n",
              "  <thead>\n",
              "    <tr style=\"text-align: right;\">\n",
              "      <th></th>\n",
              "      <th>tiene_alto_valor_adquisitivo</th>\n",
              "      <th>edad_10_y_20</th>\n",
              "      <th>edad_21_y_30</th>\n",
              "      <th>edad_31_y_40</th>\n",
              "      <th>edad_41_y_50</th>\n",
              "      <th>edad_51_y_60</th>\n",
              "      <th>edad_61_y_70</th>\n",
              "      <th>edad_71_y_80</th>\n",
              "      <th>edad_81_y_90</th>\n",
              "      <th>opera_en_bolsa</th>\n",
              "      <th>es_hombre</th>\n",
              "      <th>casado_trabajo</th>\n",
              "      <th>categoria_de_trabajo_empleado_provincial</th>\n",
              "      <th>categoria_de_trabajo_monotibutista</th>\n",
              "      <th>categoria_de_trabajo_relacion_de_dependencia</th>\n",
              "      <th>categoria_de_trabajo_responsable_inscripto</th>\n",
              "      <th>categoria_de_trabajo_sin_trabajo</th>\n",
              "      <th>categoria_de_trabajo_trabajo_voluntariado</th>\n",
              "      <th>educacion_alcanzada_2_anio</th>\n",
              "      <th>educacion_alcanzada_3_anio</th>\n",
              "      <th>educacion_alcanzada_4_anio</th>\n",
              "      <th>educacion_alcanzada_5-6_grado</th>\n",
              "      <th>educacion_alcanzada_5_anio</th>\n",
              "      <th>educacion_alcanzada_7-8_grado</th>\n",
              "      <th>educacion_alcanzada_9_grado</th>\n",
              "      <th>educacion_alcanzada_preescolar</th>\n",
              "      <th>educacion_alcanzada_universiada_5_anio</th>\n",
              "      <th>educacion_alcanzada_universiada_6_anio</th>\n",
              "      <th>educacion_alcanzada_universidad_1_anio</th>\n",
              "      <th>educacion_alcanzada_universidad_2_anio</th>\n",
              "      <th>educacion_alcanzada_universidad_3_anio</th>\n",
              "      <th>educacion_alcanzada_universidad_4_anio</th>\n",
              "      <th>estado_marital_matrimonio_militar</th>\n",
              "      <th>estado_marital_pareja_no_presente</th>\n",
              "      <th>estado_marital_separado</th>\n",
              "      <th>estado_marital_sin_matrimonio</th>\n",
              "      <th>estado_marital_viudo_a</th>\n",
              "      <th>religion_cristianismo</th>\n",
              "      <th>religion_judaismo</th>\n",
              "      <th>religion_otro</th>\n",
              "      <th>rol_familiar_registrado_otro</th>\n",
              "      <th>rol_familiar_registrado_sin_familia</th>\n",
              "      <th>rol_familiar_registrado_soltero_a</th>\n",
              "      <th>trabajo_entretenimiento</th>\n",
              "      <th>trabajo_inspector</th>\n",
              "      <th>trabajo_limpiador</th>\n",
              "      <th>trabajo_otros</th>\n",
              "      <th>trabajo_profesional_especializado</th>\n",
              "      <th>trabajo_reparador</th>\n",
              "      <th>trabajo_sector_primario</th>\n",
              "      <th>trabajo_seguridad</th>\n",
              "      <th>trabajo_servicio_domestico</th>\n",
              "      <th>trabajo_soporte_tecnico</th>\n",
              "      <th>trabajo_transporte</th>\n",
              "      <th>trabajo_ventas</th>\n",
              "    </tr>\n",
              "  </thead>\n",
              "  <tbody>\n",
              "    <tr>\n",
              "      <th>0</th>\n",
              "      <td>0</td>\n",
              "      <td>0</td>\n",
              "      <td>0</td>\n",
              "      <td>1</td>\n",
              "      <td>0</td>\n",
              "      <td>0</td>\n",
              "      <td>0</td>\n",
              "      <td>0</td>\n",
              "      <td>0</td>\n",
              "      <td>1</td>\n",
              "      <td>1</td>\n",
              "      <td>0</td>\n",
              "      <td>1</td>\n",
              "      <td>0</td>\n",
              "      <td>0</td>\n",
              "      <td>0</td>\n",
              "      <td>0</td>\n",
              "      <td>0</td>\n",
              "      <td>0</td>\n",
              "      <td>0</td>\n",
              "      <td>0</td>\n",
              "      <td>0</td>\n",
              "      <td>0</td>\n",
              "      <td>0</td>\n",
              "      <td>0</td>\n",
              "      <td>0</td>\n",
              "      <td>0</td>\n",
              "      <td>0</td>\n",
              "      <td>0</td>\n",
              "      <td>0</td>\n",
              "      <td>1</td>\n",
              "      <td>0</td>\n",
              "      <td>0</td>\n",
              "      <td>0</td>\n",
              "      <td>0</td>\n",
              "      <td>1</td>\n",
              "      <td>0</td>\n",
              "      <td>1</td>\n",
              "      <td>0</td>\n",
              "      <td>0</td>\n",
              "      <td>0</td>\n",
              "      <td>1</td>\n",
              "      <td>0</td>\n",
              "      <td>1</td>\n",
              "      <td>0</td>\n",
              "      <td>0</td>\n",
              "      <td>0</td>\n",
              "      <td>0</td>\n",
              "      <td>0</td>\n",
              "      <td>0</td>\n",
              "      <td>0</td>\n",
              "      <td>0</td>\n",
              "      <td>0</td>\n",
              "      <td>0</td>\n",
              "      <td>0</td>\n",
              "    </tr>\n",
              "    <tr>\n",
              "      <th>1</th>\n",
              "      <td>0</td>\n",
              "      <td>0</td>\n",
              "      <td>0</td>\n",
              "      <td>0</td>\n",
              "      <td>1</td>\n",
              "      <td>0</td>\n",
              "      <td>0</td>\n",
              "      <td>0</td>\n",
              "      <td>0</td>\n",
              "      <td>0</td>\n",
              "      <td>1</td>\n",
              "      <td>1</td>\n",
              "      <td>0</td>\n",
              "      <td>1</td>\n",
              "      <td>0</td>\n",
              "      <td>0</td>\n",
              "      <td>0</td>\n",
              "      <td>0</td>\n",
              "      <td>0</td>\n",
              "      <td>0</td>\n",
              "      <td>0</td>\n",
              "      <td>0</td>\n",
              "      <td>0</td>\n",
              "      <td>0</td>\n",
              "      <td>0</td>\n",
              "      <td>0</td>\n",
              "      <td>0</td>\n",
              "      <td>0</td>\n",
              "      <td>0</td>\n",
              "      <td>0</td>\n",
              "      <td>1</td>\n",
              "      <td>0</td>\n",
              "      <td>0</td>\n",
              "      <td>0</td>\n",
              "      <td>0</td>\n",
              "      <td>0</td>\n",
              "      <td>0</td>\n",
              "      <td>1</td>\n",
              "      <td>0</td>\n",
              "      <td>0</td>\n",
              "      <td>0</td>\n",
              "      <td>0</td>\n",
              "      <td>0</td>\n",
              "      <td>0</td>\n",
              "      <td>0</td>\n",
              "      <td>0</td>\n",
              "      <td>0</td>\n",
              "      <td>0</td>\n",
              "      <td>0</td>\n",
              "      <td>0</td>\n",
              "      <td>0</td>\n",
              "      <td>0</td>\n",
              "      <td>0</td>\n",
              "      <td>0</td>\n",
              "      <td>0</td>\n",
              "    </tr>\n",
              "    <tr>\n",
              "      <th>2</th>\n",
              "      <td>0</td>\n",
              "      <td>0</td>\n",
              "      <td>0</td>\n",
              "      <td>1</td>\n",
              "      <td>0</td>\n",
              "      <td>0</td>\n",
              "      <td>0</td>\n",
              "      <td>0</td>\n",
              "      <td>0</td>\n",
              "      <td>0</td>\n",
              "      <td>1</td>\n",
              "      <td>0</td>\n",
              "      <td>0</td>\n",
              "      <td>0</td>\n",
              "      <td>1</td>\n",
              "      <td>0</td>\n",
              "      <td>0</td>\n",
              "      <td>0</td>\n",
              "      <td>0</td>\n",
              "      <td>0</td>\n",
              "      <td>1</td>\n",
              "      <td>0</td>\n",
              "      <td>0</td>\n",
              "      <td>0</td>\n",
              "      <td>0</td>\n",
              "      <td>0</td>\n",
              "      <td>0</td>\n",
              "      <td>0</td>\n",
              "      <td>0</td>\n",
              "      <td>0</td>\n",
              "      <td>0</td>\n",
              "      <td>0</td>\n",
              "      <td>0</td>\n",
              "      <td>0</td>\n",
              "      <td>0</td>\n",
              "      <td>0</td>\n",
              "      <td>0</td>\n",
              "      <td>1</td>\n",
              "      <td>0</td>\n",
              "      <td>0</td>\n",
              "      <td>0</td>\n",
              "      <td>1</td>\n",
              "      <td>0</td>\n",
              "      <td>0</td>\n",
              "      <td>0</td>\n",
              "      <td>1</td>\n",
              "      <td>0</td>\n",
              "      <td>0</td>\n",
              "      <td>0</td>\n",
              "      <td>0</td>\n",
              "      <td>0</td>\n",
              "      <td>0</td>\n",
              "      <td>0</td>\n",
              "      <td>0</td>\n",
              "      <td>0</td>\n",
              "    </tr>\n",
              "    <tr>\n",
              "      <th>3</th>\n",
              "      <td>0</td>\n",
              "      <td>0</td>\n",
              "      <td>0</td>\n",
              "      <td>0</td>\n",
              "      <td>0</td>\n",
              "      <td>1</td>\n",
              "      <td>0</td>\n",
              "      <td>0</td>\n",
              "      <td>0</td>\n",
              "      <td>0</td>\n",
              "      <td>1</td>\n",
              "      <td>0</td>\n",
              "      <td>0</td>\n",
              "      <td>0</td>\n",
              "      <td>1</td>\n",
              "      <td>0</td>\n",
              "      <td>0</td>\n",
              "      <td>0</td>\n",
              "      <td>1</td>\n",
              "      <td>0</td>\n",
              "      <td>0</td>\n",
              "      <td>0</td>\n",
              "      <td>0</td>\n",
              "      <td>0</td>\n",
              "      <td>0</td>\n",
              "      <td>0</td>\n",
              "      <td>0</td>\n",
              "      <td>0</td>\n",
              "      <td>0</td>\n",
              "      <td>0</td>\n",
              "      <td>0</td>\n",
              "      <td>0</td>\n",
              "      <td>0</td>\n",
              "      <td>0</td>\n",
              "      <td>0</td>\n",
              "      <td>0</td>\n",
              "      <td>0</td>\n",
              "      <td>0</td>\n",
              "      <td>1</td>\n",
              "      <td>0</td>\n",
              "      <td>0</td>\n",
              "      <td>0</td>\n",
              "      <td>0</td>\n",
              "      <td>0</td>\n",
              "      <td>0</td>\n",
              "      <td>1</td>\n",
              "      <td>0</td>\n",
              "      <td>0</td>\n",
              "      <td>0</td>\n",
              "      <td>0</td>\n",
              "      <td>0</td>\n",
              "      <td>0</td>\n",
              "      <td>0</td>\n",
              "      <td>0</td>\n",
              "      <td>0</td>\n",
              "    </tr>\n",
              "    <tr>\n",
              "      <th>4</th>\n",
              "      <td>0</td>\n",
              "      <td>0</td>\n",
              "      <td>1</td>\n",
              "      <td>0</td>\n",
              "      <td>0</td>\n",
              "      <td>0</td>\n",
              "      <td>0</td>\n",
              "      <td>0</td>\n",
              "      <td>0</td>\n",
              "      <td>0</td>\n",
              "      <td>0</td>\n",
              "      <td>1</td>\n",
              "      <td>0</td>\n",
              "      <td>0</td>\n",
              "      <td>1</td>\n",
              "      <td>0</td>\n",
              "      <td>0</td>\n",
              "      <td>0</td>\n",
              "      <td>0</td>\n",
              "      <td>0</td>\n",
              "      <td>0</td>\n",
              "      <td>0</td>\n",
              "      <td>0</td>\n",
              "      <td>0</td>\n",
              "      <td>0</td>\n",
              "      <td>0</td>\n",
              "      <td>0</td>\n",
              "      <td>0</td>\n",
              "      <td>0</td>\n",
              "      <td>0</td>\n",
              "      <td>1</td>\n",
              "      <td>0</td>\n",
              "      <td>0</td>\n",
              "      <td>0</td>\n",
              "      <td>0</td>\n",
              "      <td>0</td>\n",
              "      <td>0</td>\n",
              "      <td>0</td>\n",
              "      <td>1</td>\n",
              "      <td>0</td>\n",
              "      <td>0</td>\n",
              "      <td>0</td>\n",
              "      <td>0</td>\n",
              "      <td>0</td>\n",
              "      <td>0</td>\n",
              "      <td>0</td>\n",
              "      <td>0</td>\n",
              "      <td>1</td>\n",
              "      <td>0</td>\n",
              "      <td>0</td>\n",
              "      <td>0</td>\n",
              "      <td>0</td>\n",
              "      <td>0</td>\n",
              "      <td>0</td>\n",
              "      <td>0</td>\n",
              "    </tr>\n",
              "  </tbody>\n",
              "</table>\n",
              "</div>"
            ],
            "text/plain": [
              "   tiene_alto_valor_adquisitivo  ...  trabajo_ventas\n",
              "0                             0  ...               0\n",
              "1                             0  ...               0\n",
              "2                             0  ...               0\n",
              "3                             0  ...               0\n",
              "4                             0  ...               0\n",
              "\n",
              "[5 rows x 55 columns]"
            ]
          },
          "metadata": {
            "tags": []
          },
          "execution_count": 32
        }
      ]
    },
    {
      "cell_type": "code",
      "metadata": {
        "id": "b6Bt4jXj66P-"
      },
      "source": [
        "data_dmatrix = xgb.DMatrix(data=X,label=y)\n",
        "X_train, X_test, y_train, y_test = train_test_split(X, y, test_size=0.2, random_state=123)"
      ],
      "execution_count": 33,
      "outputs": []
    },
    {
      "cell_type": "code",
      "metadata": {
        "id": "5jq7JN8068EZ"
      },
      "source": [
        "#Instancio el xgboost\n",
        "xg_reg_age_range = xgb.XGBRegressor(objective ='binary:logistic', colsample_bytree = 0.35, learning_rate = 0.5, \n",
        "                          max_depth = 10, alpha = 5, n_estimators = 60)"
      ],
      "execution_count": 34,
      "outputs": []
    },
    {
      "cell_type": "code",
      "metadata": {
        "colab": {
          "base_uri": "https://localhost:8080/"
        },
        "id": "dAtMm_uz699Z",
        "outputId": "e40f4ce7-ab17-4b9c-dfbf-151bcef90231"
      },
      "source": [
        "#Entreno\n",
        "xg_reg_age_range.fit(X_train,y_train)"
      ],
      "execution_count": 35,
      "outputs": [
        {
          "output_type": "execute_result",
          "data": {
            "text/plain": [
              "XGBRegressor(alpha=5, base_score=0.5, booster='gbtree', colsample_bylevel=1,\n",
              "             colsample_bynode=1, colsample_bytree=0.35, gamma=0,\n",
              "             importance_type='gain', learning_rate=0.5, max_delta_step=0,\n",
              "             max_depth=10, min_child_weight=1, missing=None, n_estimators=60,\n",
              "             n_jobs=1, nthread=None, objective='binary:logistic',\n",
              "             random_state=0, reg_alpha=0, reg_lambda=1, scale_pos_weight=1,\n",
              "             seed=None, silent=None, subsample=1, verbosity=1)"
            ]
          },
          "metadata": {
            "tags": []
          },
          "execution_count": 35
        }
      ]
    },
    {
      "cell_type": "code",
      "metadata": {
        "id": "lFkaaHee7A2M"
      },
      "source": [
        "#prediccion\n",
        "preds = xg_reg_age_range.predict(X_test)\n",
        "\n",
        "int_predictions = pp.get_int_predictions(preds)"
      ],
      "execution_count": 36,
      "outputs": []
    },
    {
      "cell_type": "code",
      "metadata": {
        "colab": {
          "base_uri": "https://localhost:8080/",
          "height": 876
        },
        "id": "ZadopPve7EiI",
        "outputId": "61e2969e-93b9-417f-bb7d-43c884891d41"
      },
      "source": [
        "# Obtener metricas\n",
        "m.getMetrics(y_test, int_predictions)"
      ],
      "execution_count": 37,
      "outputs": [
        {
          "output_type": "stream",
          "text": [
            "\u001b[1mAccuracy\u001b[0m: 0.8340242591739597\n",
            "\n",
            "\u001b[1mPrecision\u001b[0m: 0.7527527527527528\n",
            "\n",
            "\u001b[1mRecall\u001b[0m: 0.9498680738786279\n",
            "\n",
            "\u001b[1mF1 Score\u001b[0m: 0.5818181818181819\n",
            "\n",
            "\u001b[1mMatriz de confusion: \u001b[0m\n",
            "[[4680  247]\n",
            " [ 834  752]]\n",
            "\n",
            "\u001b[1mAUC-ROC: \u001b[0m\n",
            "\n"
          ],
          "name": "stdout"
        },
        {
          "output_type": "display_data",
          "data": {
            "image/png": "[encoded data removed]",
            "text/plain": [
              "<Figure size 1080x720 with 1 Axes>"
            ]
          },
          "metadata": {
            "tags": [],
            "needs_background": "light"
          }
        },
        {
          "output_type": "display_data",
          "data": {
            "text/plain": [
              "0.7120084379481413"
            ]
          },
          "metadata": {
            "tags": []
          }
        }
      ]
    },
    {
      "cell_type": "code",
      "metadata": {
        "colab": {
          "base_uri": "https://localhost:8080/"
        },
        "id": "RVyHgi0C7Uiu",
        "outputId": "b05b9c32-6b14-4950-982b-d70be0f6d58f"
      },
      "source": [
        "#Porcentaje de acierto de las predicciones\n",
        "print(\"AUC: %f\" % (roc_auc_score(y_test, preds)))"
      ],
      "execution_count": 38,
      "outputs": [
        {
          "output_type": "stream",
          "text": [
            "AUC: 0.888869\n"
          ],
          "name": "stdout"
        }
      ]
    },
    {
      "cell_type": "markdown",
      "metadata": {
        "id": "wuBDAyewpGkr"
      },
      "source": [
        "### Prediccion basada en las columnas que random forest considera como las mas importantes"
      ]
    },
    {
      "cell_type": "code",
      "metadata": {
        "colab": {
          "base_uri": "https://localhost:8080/",
          "height": 241
        },
        "id": "RYQvbIgo7vz2",
        "outputId": "cd7d31df-ae62-4915-f4d3-4cbb0f5aa4c4"
      },
      "source": [
        "df_edit = pd.DataFrame()\n",
        "df_edit = df.copy()\n",
        "\n",
        "X, y, df_new, y_encoder = pp.feature_engineering_xg_rf(df_edit)\n",
        "\n",
        "df_new.head()"
      ],
      "execution_count": 26,
      "outputs": [
        {
          "output_type": "execute_result",
          "data": {
            "text/html": [
              "<div>\n",
              "<style scoped>\n",
              "    .dataframe tbody tr th:only-of-type {\n",
              "        vertical-align: middle;\n",
              "    }\n",
              "\n",
              "    .dataframe tbody tr th {\n",
              "        vertical-align: top;\n",
              "    }\n",
              "\n",
              "    .dataframe thead th {\n",
              "        text-align: right;\n",
              "    }\n",
              "</style>\n",
              "<table border=\"1\" class=\"dataframe\">\n",
              "  <thead>\n",
              "    <tr style=\"text-align: right;\">\n",
              "      <th></th>\n",
              "      <th>tiene_alto_valor_adquisitivo</th>\n",
              "      <th>opera_en_bolsa</th>\n",
              "      <th>es_hombre</th>\n",
              "      <th>casado_trabajo</th>\n",
              "      <th>categoria_de_trabajo_empleado_provincial</th>\n",
              "      <th>categoria_de_trabajo_monotibutista</th>\n",
              "      <th>categoria_de_trabajo_relacion_de_dependencia</th>\n",
              "      <th>categoria_de_trabajo_responsable_inscripto</th>\n",
              "      <th>categoria_de_trabajo_sin_trabajo</th>\n",
              "      <th>categoria_de_trabajo_trabajo_voluntariado</th>\n",
              "      <th>educacion_alcanzada_2_anio</th>\n",
              "      <th>educacion_alcanzada_3_anio</th>\n",
              "      <th>educacion_alcanzada_4_anio</th>\n",
              "      <th>educacion_alcanzada_5-6_grado</th>\n",
              "      <th>educacion_alcanzada_5_anio</th>\n",
              "      <th>educacion_alcanzada_7-8_grado</th>\n",
              "      <th>educacion_alcanzada_9_grado</th>\n",
              "      <th>educacion_alcanzada_preescolar</th>\n",
              "      <th>educacion_alcanzada_universiada_5_anio</th>\n",
              "      <th>educacion_alcanzada_universiada_6_anio</th>\n",
              "      <th>educacion_alcanzada_universidad_1_anio</th>\n",
              "      <th>educacion_alcanzada_universidad_2_anio</th>\n",
              "      <th>educacion_alcanzada_universidad_3_anio</th>\n",
              "      <th>educacion_alcanzada_universidad_4_anio</th>\n",
              "      <th>estado_marital_matrimonio_militar</th>\n",
              "      <th>estado_marital_pareja_no_presente</th>\n",
              "      <th>estado_marital_separado</th>\n",
              "      <th>estado_marital_sin_matrimonio</th>\n",
              "      <th>estado_marital_viudo_a</th>\n",
              "      <th>religion_cristianismo</th>\n",
              "      <th>religion_judaismo</th>\n",
              "      <th>religion_otro</th>\n",
              "      <th>rol_familiar_registrado_otro</th>\n",
              "      <th>rol_familiar_registrado_sin_familia</th>\n",
              "      <th>rol_familiar_registrado_soltero_a</th>\n",
              "      <th>trabajo_entretenimiento</th>\n",
              "      <th>trabajo_inspector</th>\n",
              "      <th>trabajo_limpiador</th>\n",
              "      <th>trabajo_otros</th>\n",
              "      <th>trabajo_profesional_especializado</th>\n",
              "      <th>trabajo_reparador</th>\n",
              "      <th>trabajo_sector_primario</th>\n",
              "      <th>trabajo_seguridad</th>\n",
              "      <th>trabajo_servicio_domestico</th>\n",
              "      <th>trabajo_soporte_tecnico</th>\n",
              "      <th>trabajo_transporte</th>\n",
              "      <th>trabajo_ventas</th>\n",
              "    </tr>\n",
              "  </thead>\n",
              "  <tbody>\n",
              "    <tr>\n",
              "      <th>0</th>\n",
              "      <td>0</td>\n",
              "      <td>1</td>\n",
              "      <td>1</td>\n",
              "      <td>0</td>\n",
              "      <td>1</td>\n",
              "      <td>0</td>\n",
              "      <td>0</td>\n",
              "      <td>0</td>\n",
              "      <td>0</td>\n",
              "      <td>0</td>\n",
              "      <td>0</td>\n",
              "      <td>0</td>\n",
              "      <td>0</td>\n",
              "      <td>0</td>\n",
              "      <td>0</td>\n",
              "      <td>0</td>\n",
              "      <td>0</td>\n",
              "      <td>0</td>\n",
              "      <td>0</td>\n",
              "      <td>0</td>\n",
              "      <td>0</td>\n",
              "      <td>0</td>\n",
              "      <td>1</td>\n",
              "      <td>0</td>\n",
              "      <td>0</td>\n",
              "      <td>0</td>\n",
              "      <td>0</td>\n",
              "      <td>1</td>\n",
              "      <td>0</td>\n",
              "      <td>1</td>\n",
              "      <td>0</td>\n",
              "      <td>0</td>\n",
              "      <td>0</td>\n",
              "      <td>1</td>\n",
              "      <td>0</td>\n",
              "      <td>1</td>\n",
              "      <td>0</td>\n",
              "      <td>0</td>\n",
              "      <td>0</td>\n",
              "      <td>0</td>\n",
              "      <td>0</td>\n",
              "      <td>0</td>\n",
              "      <td>0</td>\n",
              "      <td>0</td>\n",
              "      <td>0</td>\n",
              "      <td>0</td>\n",
              "      <td>0</td>\n",
              "    </tr>\n",
              "    <tr>\n",
              "      <th>1</th>\n",
              "      <td>0</td>\n",
              "      <td>0</td>\n",
              "      <td>1</td>\n",
              "      <td>1</td>\n",
              "      <td>0</td>\n",
              "      <td>1</td>\n",
              "      <td>0</td>\n",
              "      <td>0</td>\n",
              "      <td>0</td>\n",
              "      <td>0</td>\n",
              "      <td>0</td>\n",
              "      <td>0</td>\n",
              "      <td>0</td>\n",
              "      <td>0</td>\n",
              "      <td>0</td>\n",
              "      <td>0</td>\n",
              "      <td>0</td>\n",
              "      <td>0</td>\n",
              "      <td>0</td>\n",
              "      <td>0</td>\n",
              "      <td>0</td>\n",
              "      <td>0</td>\n",
              "      <td>1</td>\n",
              "      <td>0</td>\n",
              "      <td>0</td>\n",
              "      <td>0</td>\n",
              "      <td>0</td>\n",
              "      <td>0</td>\n",
              "      <td>0</td>\n",
              "      <td>1</td>\n",
              "      <td>0</td>\n",
              "      <td>0</td>\n",
              "      <td>0</td>\n",
              "      <td>0</td>\n",
              "      <td>0</td>\n",
              "      <td>0</td>\n",
              "      <td>0</td>\n",
              "      <td>0</td>\n",
              "      <td>0</td>\n",
              "      <td>0</td>\n",
              "      <td>0</td>\n",
              "      <td>0</td>\n",
              "      <td>0</td>\n",
              "      <td>0</td>\n",
              "      <td>0</td>\n",
              "      <td>0</td>\n",
              "      <td>0</td>\n",
              "    </tr>\n",
              "    <tr>\n",
              "      <th>2</th>\n",
              "      <td>0</td>\n",
              "      <td>0</td>\n",
              "      <td>1</td>\n",
              "      <td>0</td>\n",
              "      <td>0</td>\n",
              "      <td>0</td>\n",
              "      <td>1</td>\n",
              "      <td>0</td>\n",
              "      <td>0</td>\n",
              "      <td>0</td>\n",
              "      <td>0</td>\n",
              "      <td>0</td>\n",
              "      <td>1</td>\n",
              "      <td>0</td>\n",
              "      <td>0</td>\n",
              "      <td>0</td>\n",
              "      <td>0</td>\n",
              "      <td>0</td>\n",
              "      <td>0</td>\n",
              "      <td>0</td>\n",
              "      <td>0</td>\n",
              "      <td>0</td>\n",
              "      <td>0</td>\n",
              "      <td>0</td>\n",
              "      <td>0</td>\n",
              "      <td>0</td>\n",
              "      <td>0</td>\n",
              "      <td>0</td>\n",
              "      <td>0</td>\n",
              "      <td>1</td>\n",
              "      <td>0</td>\n",
              "      <td>0</td>\n",
              "      <td>0</td>\n",
              "      <td>1</td>\n",
              "      <td>0</td>\n",
              "      <td>0</td>\n",
              "      <td>0</td>\n",
              "      <td>1</td>\n",
              "      <td>0</td>\n",
              "      <td>0</td>\n",
              "      <td>0</td>\n",
              "      <td>0</td>\n",
              "      <td>0</td>\n",
              "      <td>0</td>\n",
              "      <td>0</td>\n",
              "      <td>0</td>\n",
              "      <td>0</td>\n",
              "    </tr>\n",
              "    <tr>\n",
              "      <th>3</th>\n",
              "      <td>0</td>\n",
              "      <td>0</td>\n",
              "      <td>1</td>\n",
              "      <td>0</td>\n",
              "      <td>0</td>\n",
              "      <td>0</td>\n",
              "      <td>1</td>\n",
              "      <td>0</td>\n",
              "      <td>0</td>\n",
              "      <td>0</td>\n",
              "      <td>1</td>\n",
              "      <td>0</td>\n",
              "      <td>0</td>\n",
              "      <td>0</td>\n",
              "      <td>0</td>\n",
              "      <td>0</td>\n",
              "      <td>0</td>\n",
              "      <td>0</td>\n",
              "      <td>0</td>\n",
              "      <td>0</td>\n",
              "      <td>0</td>\n",
              "      <td>0</td>\n",
              "      <td>0</td>\n",
              "      <td>0</td>\n",
              "      <td>0</td>\n",
              "      <td>0</td>\n",
              "      <td>0</td>\n",
              "      <td>0</td>\n",
              "      <td>0</td>\n",
              "      <td>0</td>\n",
              "      <td>1</td>\n",
              "      <td>0</td>\n",
              "      <td>0</td>\n",
              "      <td>0</td>\n",
              "      <td>0</td>\n",
              "      <td>0</td>\n",
              "      <td>0</td>\n",
              "      <td>1</td>\n",
              "      <td>0</td>\n",
              "      <td>0</td>\n",
              "      <td>0</td>\n",
              "      <td>0</td>\n",
              "      <td>0</td>\n",
              "      <td>0</td>\n",
              "      <td>0</td>\n",
              "      <td>0</td>\n",
              "      <td>0</td>\n",
              "    </tr>\n",
              "    <tr>\n",
              "      <th>4</th>\n",
              "      <td>0</td>\n",
              "      <td>0</td>\n",
              "      <td>0</td>\n",
              "      <td>1</td>\n",
              "      <td>0</td>\n",
              "      <td>0</td>\n",
              "      <td>1</td>\n",
              "      <td>0</td>\n",
              "      <td>0</td>\n",
              "      <td>0</td>\n",
              "      <td>0</td>\n",
              "      <td>0</td>\n",
              "      <td>0</td>\n",
              "      <td>0</td>\n",
              "      <td>0</td>\n",
              "      <td>0</td>\n",
              "      <td>0</td>\n",
              "      <td>0</td>\n",
              "      <td>0</td>\n",
              "      <td>0</td>\n",
              "      <td>0</td>\n",
              "      <td>0</td>\n",
              "      <td>1</td>\n",
              "      <td>0</td>\n",
              "      <td>0</td>\n",
              "      <td>0</td>\n",
              "      <td>0</td>\n",
              "      <td>0</td>\n",
              "      <td>0</td>\n",
              "      <td>0</td>\n",
              "      <td>1</td>\n",
              "      <td>0</td>\n",
              "      <td>0</td>\n",
              "      <td>0</td>\n",
              "      <td>0</td>\n",
              "      <td>0</td>\n",
              "      <td>0</td>\n",
              "      <td>0</td>\n",
              "      <td>0</td>\n",
              "      <td>1</td>\n",
              "      <td>0</td>\n",
              "      <td>0</td>\n",
              "      <td>0</td>\n",
              "      <td>0</td>\n",
              "      <td>0</td>\n",
              "      <td>0</td>\n",
              "      <td>0</td>\n",
              "    </tr>\n",
              "  </tbody>\n",
              "</table>\n",
              "</div>"
            ],
            "text/plain": [
              "   tiene_alto_valor_adquisitivo  ...  trabajo_ventas\n",
              "0                             0  ...               0\n",
              "1                             0  ...               0\n",
              "2                             0  ...               0\n",
              "3                             0  ...               0\n",
              "4                             0  ...               0\n",
              "\n",
              "[5 rows x 47 columns]"
            ]
          },
          "metadata": {
            "tags": []
          },
          "execution_count": 26
        }
      ]
    },
    {
      "cell_type": "code",
      "metadata": {
        "id": "gEedSzpUpXYX"
      },
      "source": [
        "#Instancio el xgboost\n",
        "xg_reg_rf = xgb.XGBRegressor(objective ='binary:logistic', colsample_bytree = 0.35, learning_rate = 0.13, \n",
        "                          max_depth = 3, alpha = 5, n_estimators = 60)"
      ],
      "execution_count": 27,
      "outputs": []
    },
    {
      "cell_type": "code",
      "metadata": {
        "id": "dZEzqLAFo4pL"
      },
      "source": [
        "#Extraigo las columnas que random forest considera las mas importantes para predecir\n",
        "\n",
        "trainDf_with_random_forest_rows = pp.get_columns_by_index(X_train, [0, 1, 2, 21, 22, 26, 32, 33, 38])\n",
        "testDf_with_random_forest_rows = pp.get_columns_by_index(X_test, [0, 1, 2, 21, 22, 26, 32, 33, 38])"
      ],
      "execution_count": 28,
      "outputs": []
    },
    {
      "cell_type": "code",
      "metadata": {
        "id": "YrgsVE2No76C"
      },
      "source": [
        "#Entreno con los datos que me dio random forest\n",
        "xg_reg_rf.fit(trainDf_with_random_forest_rows,y_train)\n",
        "\n",
        "#Predigo\n",
        "preds_using_random_forest_rows = xg_reg_rf.predict(testDf_with_random_forest_rows)"
      ],
      "execution_count": 29,
      "outputs": []
    },
    {
      "cell_type": "code",
      "metadata": {
        "id": "G2WV3e027fbj"
      },
      "source": [
        "int_predictions = pp.get_int_predictions(preds_using_random_forest_rows)"
      ],
      "execution_count": 23,
      "outputs": []
    },
    {
      "cell_type": "code",
      "metadata": {
        "colab": {
          "base_uri": "https://localhost:8080/",
          "height": 876
        },
        "id": "kMRPwzHN7aMr",
        "outputId": "eeb0b6e0-2f81-41bb-c51e-ad7c5286a825"
      },
      "source": [
        "# Obtener metricas\n",
        "m.getMetrics(y_test, int_predictions)"
      ],
      "execution_count": 31,
      "outputs": [
        {
          "output_type": "stream",
          "text": [
            "\u001b[1mAccuracy\u001b[0m: 0.7623215108245048\n",
            "\n",
            "\u001b[1mPrecision\u001b[0m: 0.7375\n",
            "\n",
            "\u001b[1mRecall\u001b[0m: 0.9957377714633652\n",
            "\n",
            "\u001b[1mF1 Score\u001b[0m: 0.07082833133253301\n",
            "\n",
            "\u001b[1mMatriz de confusion: \u001b[0m\n",
            "[[4906   21]\n",
            " [1527   59]]\n",
            "\n",
            "\u001b[1mAUC-ROC: \u001b[0m\n",
            "\n"
          ],
          "name": "stdout"
        },
        {
          "output_type": "display_data",
          "data": {
            "image/png": "[encoded data removed]",
            "text/plain": [
              "<Figure size 1080x720 with 1 Axes>"
            ]
          },
          "metadata": {
            "tags": [],
            "needs_background": "light"
          }
        },
        {
          "output_type": "display_data",
          "data": {
            "text/plain": [
              "0.5164691379384923"
            ]
          },
          "metadata": {
            "tags": []
          }
        }
      ]
    },
    {
      "cell_type": "code",
      "metadata": {
        "colab": {
          "base_uri": "https://localhost:8080/"
        },
        "id": "AAtkct-gpFqi",
        "outputId": "282a9733-854a-4f58-a8f4-e6a2ba84febb"
      },
      "source": [
        "#Porcentaje de acierto de las predicciones\n",
        "print(\"AUC: %f\" % (roc_auc_score(y_test, preds_using_random_forest_rows)))"
      ],
      "execution_count": 30,
      "outputs": [
        {
          "output_type": "stream",
          "text": [
            "AUC: 0.710493\n"
          ],
          "name": "stdout"
        }
      ]
    },
    {
      "cell_type": "markdown",
      "metadata": {
        "id": "u1vP-lEnVnWX"
      },
      "source": [
        "# Analisis de features de XGBoost"
      ]
    },
    {
      "cell_type": "markdown",
      "metadata": {
        "id": "kf4M5gE3LDGY"
      },
      "source": [
        "Importancia de cada feature"
      ]
    },
    {
      "cell_type": "code",
      "metadata": {
        "id": "bsqk1-FRLGbA",
        "colab": {
          "base_uri": "https://localhost:8080/",
          "height": 1000
        },
        "outputId": "d64fab65-fde5-41e8-b7c4-320a59b4c28a"
      },
      "source": [
        "xgb.plot_importance(xg_reg)\n",
        "plt.rcParams['figure.figsize'] = [10, 10]\n",
        "plt.show()"
      ],
      "execution_count": 70,
      "outputs": [
        {
          "output_type": "display_data",
          "data": {
            "image/png": "[encoded data removed]",
            "text/plain": [
              "<Figure size 2160x2160 with 1 Axes>"
            ]
          },
          "metadata": {
            "tags": [],
            "needs_background": "light"
          }
        }
      ]
    },
    {
      "cell_type": "markdown",
      "metadata": {
        "id": "kwfF1G_QL9Ml"
      },
      "source": [
        "Cross Validation\n"
      ]
    },
    {
      "cell_type": "code",
      "metadata": {
        "id": "632CLlRnL_ZJ"
      },
      "source": [
        "params = {\"objective\":\"reg:linear\",'colsample_bytree': 0.35,\n",
        "          'learning_rate': 0.13, 'max_depth': 5, 'alpha': 10, 'silent': 1}\n",
        "\n",
        "cv_scores = []\n",
        "\n",
        "for n in range(10, 100, 5):\n",
        "    cv_results = xgb.cv(dtrain=data_dmatrix, params=params, nfold=5,\n",
        "                    num_boost_round=n, early_stopping_rounds=10,\n",
        "                    metrics=\"auc\", as_pandas=True, seed=123);\n",
        "    cv_scores.append(cv_results.iloc[-1]['test-auc-mean'])"
      ],
      "execution_count": null,
      "outputs": []
    },
    {
      "cell_type": "code",
      "metadata": {
        "colab": {
          "base_uri": "https://localhost:8080/"
        },
        "id": "UJHscJ47MwdF",
        "outputId": "23e5ad2a-f7a3-4a64-b0f3-c8ee886c674a"
      },
      "source": [
        "cv_scores"
      ],
      "execution_count": null,
      "outputs": [
        {
          "output_type": "execute_result",
          "data": {
            "text/plain": [
              "[0.8571759999999999,\n",
              " 0.8670106000000001,\n",
              " 0.8700927999999999,\n",
              " 0.8725776,\n",
              " 0.8740824,\n",
              " 0.8750474,\n",
              " 0.8764264,\n",
              " 0.8773707999999999,\n",
              " 0.8785574,\n",
              " 0.8794676000000001,\n",
              " 0.8800435999999999,\n",
              " 0.8805755999999999,\n",
              " 0.8810103999999999,\n",
              " 0.8813268000000001,\n",
              " 0.8816067999999999,\n",
              " 0.8819088,\n",
              " 0.8820642,\n",
              " 0.8823038000000001]"
            ]
          },
          "metadata": {
            "tags": []
          },
          "execution_count": 26
        }
      ]
    },
    {
      "cell_type": "code",
      "metadata": {
        "id": "jow408-FM2sE",
        "colab": {
          "base_uri": "https://localhost:8080/",
          "height": 1000
        },
        "outputId": "b82ca592-6a0b-44b1-d795-397fb9068cd6"
      },
      "source": [
        "abscisa=range(10, 10, 5)\n",
        "plt.plot(abscisa, cv_scores)\n",
        "plt.grid()\n",
        "plt.xlabel('n_estimators')\n",
        "plt.ylabel('Score')\n",
        "plt.show()"
      ],
      "execution_count": null,
      "outputs": [
        {
          "output_type": "error",
          "ename": "ValueError",
          "evalue": "ignored",
          "traceback": [
            "\u001b[0;31m---------------------------------------------------------------------------\u001b[0m",
            "\u001b[0;31mValueError\u001b[0m                                Traceback (most recent call last)",
            "\u001b[0;32m<ipython-input-27-5a8a5282df7e>\u001b[0m in \u001b[0;36m<module>\u001b[0;34m()\u001b[0m\n\u001b[1;32m      1\u001b[0m \u001b[0mabscisa\u001b[0m\u001b[0;34m=\u001b[0m\u001b[0mrange\u001b[0m\u001b[0;34m(\u001b[0m\u001b[0;36m10\u001b[0m\u001b[0;34m,\u001b[0m \u001b[0;36m10\u001b[0m\u001b[0;34m,\u001b[0m \u001b[0;36m5\u001b[0m\u001b[0;34m)\u001b[0m\u001b[0;34m\u001b[0m\u001b[0;34m\u001b[0m\u001b[0m\n\u001b[0;32m----> 2\u001b[0;31m \u001b[0mplt\u001b[0m\u001b[0;34m.\u001b[0m\u001b[0mplot\u001b[0m\u001b[0;34m(\u001b[0m\u001b[0mabscisa\u001b[0m\u001b[0;34m,\u001b[0m \u001b[0mcv_scores\u001b[0m\u001b[0;34m)\u001b[0m\u001b[0;34m\u001b[0m\u001b[0;34m\u001b[0m\u001b[0m\n\u001b[0m\u001b[1;32m      3\u001b[0m \u001b[0mplt\u001b[0m\u001b[0;34m.\u001b[0m\u001b[0mgrid\u001b[0m\u001b[0;34m(\u001b[0m\u001b[0;34m)\u001b[0m\u001b[0;34m\u001b[0m\u001b[0;34m\u001b[0m\u001b[0m\n\u001b[1;32m      4\u001b[0m \u001b[0mplt\u001b[0m\u001b[0;34m.\u001b[0m\u001b[0mxlabel\u001b[0m\u001b[0;34m(\u001b[0m\u001b[0;34m'n_estimators'\u001b[0m\u001b[0;34m)\u001b[0m\u001b[0;34m\u001b[0m\u001b[0;34m\u001b[0m\u001b[0m\n\u001b[1;32m      5\u001b[0m \u001b[0mplt\u001b[0m\u001b[0;34m.\u001b[0m\u001b[0mylabel\u001b[0m\u001b[0;34m(\u001b[0m\u001b[0;34m'Score'\u001b[0m\u001b[0;34m)\u001b[0m\u001b[0;34m\u001b[0m\u001b[0;34m\u001b[0m\u001b[0m\n",
            "\u001b[0;32m/usr/local/lib/python3.7/dist-packages/matplotlib/pyplot.py\u001b[0m in \u001b[0;36mplot\u001b[0;34m(scalex, scaley, data, *args, **kwargs)\u001b[0m\n\u001b[1;32m   2761\u001b[0m     return gca().plot(\n\u001b[1;32m   2762\u001b[0m         *args, scalex=scalex, scaley=scaley, **({\"data\": data} if data\n\u001b[0;32m-> 2763\u001b[0;31m         is not None else {}), **kwargs)\n\u001b[0m\u001b[1;32m   2764\u001b[0m \u001b[0;34m\u001b[0m\u001b[0m\n\u001b[1;32m   2765\u001b[0m \u001b[0;34m\u001b[0m\u001b[0m\n",
            "\u001b[0;32m/usr/local/lib/python3.7/dist-packages/matplotlib/axes/_axes.py\u001b[0m in \u001b[0;36mplot\u001b[0;34m(self, scalex, scaley, data, *args, **kwargs)\u001b[0m\n\u001b[1;32m   1645\u001b[0m         \"\"\"\n\u001b[1;32m   1646\u001b[0m         \u001b[0mkwargs\u001b[0m \u001b[0;34m=\u001b[0m \u001b[0mcbook\u001b[0m\u001b[0;34m.\u001b[0m\u001b[0mnormalize_kwargs\u001b[0m\u001b[0;34m(\u001b[0m\u001b[0mkwargs\u001b[0m\u001b[0;34m,\u001b[0m \u001b[0mmlines\u001b[0m\u001b[0;34m.\u001b[0m\u001b[0mLine2D\u001b[0m\u001b[0;34m)\u001b[0m\u001b[0;34m\u001b[0m\u001b[0;34m\u001b[0m\u001b[0m\n\u001b[0;32m-> 1647\u001b[0;31m         \u001b[0mlines\u001b[0m \u001b[0;34m=\u001b[0m \u001b[0;34m[\u001b[0m\u001b[0;34m*\u001b[0m\u001b[0mself\u001b[0m\u001b[0;34m.\u001b[0m\u001b[0m_get_lines\u001b[0m\u001b[0;34m(\u001b[0m\u001b[0;34m*\u001b[0m\u001b[0margs\u001b[0m\u001b[0;34m,\u001b[0m \u001b[0mdata\u001b[0m\u001b[0;34m=\u001b[0m\u001b[0mdata\u001b[0m\u001b[0;34m,\u001b[0m \u001b[0;34m**\u001b[0m\u001b[0mkwargs\u001b[0m\u001b[0;34m)\u001b[0m\u001b[0;34m]\u001b[0m\u001b[0;34m\u001b[0m\u001b[0;34m\u001b[0m\u001b[0m\n\u001b[0m\u001b[1;32m   1648\u001b[0m         \u001b[0;32mfor\u001b[0m \u001b[0mline\u001b[0m \u001b[0;32min\u001b[0m \u001b[0mlines\u001b[0m\u001b[0;34m:\u001b[0m\u001b[0;34m\u001b[0m\u001b[0;34m\u001b[0m\u001b[0m\n\u001b[1;32m   1649\u001b[0m             \u001b[0mself\u001b[0m\u001b[0;34m.\u001b[0m\u001b[0madd_line\u001b[0m\u001b[0;34m(\u001b[0m\u001b[0mline\u001b[0m\u001b[0;34m)\u001b[0m\u001b[0;34m\u001b[0m\u001b[0;34m\u001b[0m\u001b[0m\n",
            "\u001b[0;32m/usr/local/lib/python3.7/dist-packages/matplotlib/axes/_base.py\u001b[0m in \u001b[0;36m__call__\u001b[0;34m(self, *args, **kwargs)\u001b[0m\n\u001b[1;32m    214\u001b[0m                 \u001b[0mthis\u001b[0m \u001b[0;34m+=\u001b[0m \u001b[0margs\u001b[0m\u001b[0;34m[\u001b[0m\u001b[0;36m0\u001b[0m\u001b[0;34m]\u001b[0m\u001b[0;34m,\u001b[0m\u001b[0;34m\u001b[0m\u001b[0;34m\u001b[0m\u001b[0m\n\u001b[1;32m    215\u001b[0m                 \u001b[0margs\u001b[0m \u001b[0;34m=\u001b[0m \u001b[0margs\u001b[0m\u001b[0;34m[\u001b[0m\u001b[0;36m1\u001b[0m\u001b[0;34m:\u001b[0m\u001b[0;34m]\u001b[0m\u001b[0;34m\u001b[0m\u001b[0;34m\u001b[0m\u001b[0m\n\u001b[0;32m--> 216\u001b[0;31m             \u001b[0;32myield\u001b[0m \u001b[0;32mfrom\u001b[0m \u001b[0mself\u001b[0m\u001b[0;34m.\u001b[0m\u001b[0m_plot_args\u001b[0m\u001b[0;34m(\u001b[0m\u001b[0mthis\u001b[0m\u001b[0;34m,\u001b[0m \u001b[0mkwargs\u001b[0m\u001b[0;34m)\u001b[0m\u001b[0;34m\u001b[0m\u001b[0;34m\u001b[0m\u001b[0m\n\u001b[0m\u001b[1;32m    217\u001b[0m \u001b[0;34m\u001b[0m\u001b[0m\n\u001b[1;32m    218\u001b[0m     \u001b[0;32mdef\u001b[0m \u001b[0mget_next_color\u001b[0m\u001b[0;34m(\u001b[0m\u001b[0mself\u001b[0m\u001b[0;34m)\u001b[0m\u001b[0;34m:\u001b[0m\u001b[0;34m\u001b[0m\u001b[0;34m\u001b[0m\u001b[0m\n",
            "\u001b[0;32m/usr/local/lib/python3.7/dist-packages/matplotlib/axes/_base.py\u001b[0m in \u001b[0;36m_plot_args\u001b[0;34m(self, tup, kwargs)\u001b[0m\n\u001b[1;32m    340\u001b[0m \u001b[0;34m\u001b[0m\u001b[0m\n\u001b[1;32m    341\u001b[0m         \u001b[0;32mif\u001b[0m \u001b[0mx\u001b[0m\u001b[0;34m.\u001b[0m\u001b[0mshape\u001b[0m\u001b[0;34m[\u001b[0m\u001b[0;36m0\u001b[0m\u001b[0;34m]\u001b[0m \u001b[0;34m!=\u001b[0m \u001b[0my\u001b[0m\u001b[0;34m.\u001b[0m\u001b[0mshape\u001b[0m\u001b[0;34m[\u001b[0m\u001b[0;36m0\u001b[0m\u001b[0;34m]\u001b[0m\u001b[0;34m:\u001b[0m\u001b[0;34m\u001b[0m\u001b[0;34m\u001b[0m\u001b[0m\n\u001b[0;32m--> 342\u001b[0;31m             raise ValueError(f\"x and y must have same first dimension, but \"\n\u001b[0m\u001b[1;32m    343\u001b[0m                              f\"have shapes {x.shape} and {y.shape}\")\n\u001b[1;32m    344\u001b[0m         \u001b[0;32mif\u001b[0m \u001b[0mx\u001b[0m\u001b[0;34m.\u001b[0m\u001b[0mndim\u001b[0m \u001b[0;34m>\u001b[0m \u001b[0;36m2\u001b[0m \u001b[0;32mor\u001b[0m \u001b[0my\u001b[0m\u001b[0;34m.\u001b[0m\u001b[0mndim\u001b[0m \u001b[0;34m>\u001b[0m \u001b[0;36m2\u001b[0m\u001b[0;34m:\u001b[0m\u001b[0;34m\u001b[0m\u001b[0;34m\u001b[0m\u001b[0m\n",
            "\u001b[0;31mValueError\u001b[0m: x and y must have same first dimension, but have shapes (0,) and (18,)"
          ]
        },
        {
          "output_type": "display_data",
          "data": {
            "image/png": "[encoded data removed]",
            "text/plain": [
              "<Figure size 3000x3000 with 1 Axes>"
            ]
          },
          "metadata": {
            "tags": []
          }
        }
      ]
    },
    {
      "cell_type": "markdown",
      "metadata": {
        "id": "qcLYAIqPNWUl"
      },
      "source": [
        "Learning rate"
      ]
    },
    {
      "cell_type": "code",
      "metadata": {
        "id": "hilIpBGTNTmH"
      },
      "source": [
        "cv_scores = []\n",
        "\n",
        "for n in range(1, 11):\n",
        "    eta=n*0.05\n",
        "    params = {\"objective\":\"reg:linear\",'colsample_bytree': 0.3,\n",
        "          'learning_rate': eta, 'max_depth': 5, 'alpha': 10, 'silent': 1}\n",
        "    print(eta)\n",
        "    cv_results = xgb.cv(dtrain=data_dmatrix, params=params, nfold=5,\n",
        "                    num_boost_round=50, early_stopping_rounds=10,\n",
        "                    metrics=\"auc\", as_pandas=True, seed=123);\n",
        "    cv_scores.append(cv_results.iloc[-1]['test-auc-mean'])"
      ],
      "execution_count": null,
      "outputs": []
    },
    {
      "cell_type": "code",
      "metadata": {
        "id": "UZdYOTj3Ngqp"
      },
      "source": [
        "plt.plot([x * 0.05 for x in range(1, 11)], cv_scores)\n",
        "plt.grid()\n",
        "plt.xlabel('eta')\n",
        "plt.ylabel('Score')\n",
        "plt.show()"
      ],
      "execution_count": null,
      "outputs": []
    },
    {
      "cell_type": "markdown",
      "metadata": {
        "id": "BC_B3fkKNkR0"
      },
      "source": [
        "Max_depth"
      ]
    },
    {
      "cell_type": "code",
      "metadata": {
        "id": "lTIF7AwmNnFB"
      },
      "source": [
        "cv_scores = []\n",
        "\n",
        "for n in range(1, 11):\n",
        "    params = {\"objective\":\"reg:linear\",'colsample_bytree': 0.3,\n",
        "          'learning_rate': 0.1, 'max_depth': n, 'alpha': 10, 'silent': 1}\n",
        "\n",
        "    cv_results = xgb.cv(dtrain=data_dmatrix, params=params, nfold=5,\n",
        "                    num_boost_round=50, early_stopping_rounds=10,\n",
        "                    metrics=\"auc\", as_pandas=True, seed=123);\n",
        "    cv_scores.append(cv_results.iloc[-1]['test-auc-mean'])"
      ],
      "execution_count": null,
      "outputs": []
    },
    {
      "cell_type": "code",
      "metadata": {
        "id": "0pCnEwLiOeRQ"
      },
      "source": [
        "plt.plot([x for x in range(1, 11)], cv_scores)\n",
        "plt.grid()\n",
        "plt.xlabel('max_depth')\n",
        "plt.ylabel('Score')\n",
        "plt.show()"
      ],
      "execution_count": null,
      "outputs": []
    },
    {
      "cell_type": "markdown",
      "metadata": {
        "id": "glWMalDdNrm8"
      },
      "source": [
        "colsample_bytree (Valor muy alto: overfitting)"
      ]
    },
    {
      "cell_type": "code",
      "metadata": {
        "id": "VmCh-C-TNquA"
      },
      "source": [
        "cv_scores = []\n",
        "\n",
        "for n in range(1, 16):\n",
        "    cst=n*0.05\n",
        "    params = {\"objective\":\"reg:linear\",'colsample_bytree': cst,\n",
        "          'learning_rate': 0.1, 'max_depth': 5, 'alpha': 10, 'silent': 1}\n",
        "\n",
        "    cv_results = xgb.cv(dtrain=data_dmatrix, params=params, nfold=5,\n",
        "                    num_boost_round=50, early_stopping_rounds=10,\n",
        "                    metrics=\"auc\", as_pandas=True, seed=123);\n",
        "    cv_scores.append(cv_results.iloc[-1]['test-auc-mean'])"
      ],
      "execution_count": null,
      "outputs": []
    },
    {
      "cell_type": "code",
      "metadata": {
        "id": "NHCTNPKoNwEL"
      },
      "source": [
        "plt.plot([x*0.05 for x in range(1, 16)], cv_scores)\n",
        "plt.grid()\n",
        "plt.xlabel('colsample_bytree')\n",
        "plt.ylabel('Score')\n",
        "plt.show()"
      ],
      "execution_count": null,
      "outputs": []
    },
    {
      "cell_type": "markdown",
      "metadata": {
        "id": "93P3yOSFNzpL"
      },
      "source": [
        "Alpha"
      ]
    },
    {
      "cell_type": "code",
      "metadata": {
        "id": "2BvgwjGQNzJ5"
      },
      "source": [
        "cv_scores = []\n",
        "\n",
        "for n in range(1, 16):\n",
        "    params = {\"objective\":\"reg:linear\",'colsample_bytree': 0.3,\n",
        "          'learning_rate': 0.1, 'max_depth': 5, 'alpha': n, 'silent': 1}\n",
        "\n",
        "    cv_results = xgb.cv(dtrain=data_dmatrix, params=params, nfold=5,\n",
        "                    num_boost_round=50, early_stopping_rounds=10,\n",
        "                    metrics=\"auc\", as_pandas=True, seed=123);\n",
        "    cv_scores.append(cv_results.iloc[-1]['test-auc-mean'])"
      ],
      "execution_count": null,
      "outputs": []
    },
    {
      "cell_type": "code",
      "metadata": {
        "id": "J6iuXUnvN3G_"
      },
      "source": [
        "plt.plot([x for x in range(1, 16)], cv_scores)\n",
        "plt.grid()\n",
        "plt.xlabel('alpha')\n",
        "plt.ylabel('Score')\n",
        "plt.show()"
      ],
      "execution_count": null,
      "outputs": []
    },
    {
      "cell_type": "markdown",
      "metadata": {
        "id": "LinY324WPKA9"
      },
      "source": [
        "# Prediccion sobre el archivo final"
      ]
    },
    {
      "cell_type": "code",
      "metadata": {
        "id": "mez6E3L5PQl5",
        "colab": {
          "base_uri": "https://localhost:8080/",
          "height": 224
        },
        "outputId": "fde96946-d91e-42c4-d7f2-b45f528a1e38"
      },
      "source": [
        "data_test_final = datasets.getDataValidation()\n",
        "data_test_final.drop(columns = [\"representatividad_poblacional\"], inplace=True)\n",
        "df.rename(columns={'ganancia_perdida_declarada_bolsa_argentina': 'ganancia_perdida_declarada_bolsa_argentina'}, inplace=True)\n",
        "data_test_final.head()"
      ],
      "execution_count": null,
      "outputs": [
        {
          "output_type": "execute_result",
          "data": {
            "text/html": [
              "<div>\n",
              "<style scoped>\n",
              "    .dataframe tbody tr th:only-of-type {\n",
              "        vertical-align: middle;\n",
              "    }\n",
              "\n",
              "    .dataframe tbody tr th {\n",
              "        vertical-align: top;\n",
              "    }\n",
              "\n",
              "    .dataframe thead th {\n",
              "        text-align: right;\n",
              "    }\n",
              "</style>\n",
              "<table border=\"1\" class=\"dataframe\">\n",
              "  <thead>\n",
              "    <tr style=\"text-align: right;\">\n",
              "      <th></th>\n",
              "      <th>id</th>\n",
              "      <th>anios_estudiados</th>\n",
              "      <th>barrio</th>\n",
              "      <th>categoria_de_trabajo</th>\n",
              "      <th>edad</th>\n",
              "      <th>educacion_alcanzada</th>\n",
              "      <th>estado_marital</th>\n",
              "      <th>ganancia_perdida_declarada_bolsa_argentina</th>\n",
              "      <th>genero</th>\n",
              "      <th>horas_trabajo_registradas</th>\n",
              "      <th>religion</th>\n",
              "      <th>rol_familiar_registrado</th>\n",
              "      <th>trabajo</th>\n",
              "    </tr>\n",
              "  </thead>\n",
              "  <tbody>\n",
              "    <tr>\n",
              "      <th>0</th>\n",
              "      <td>1</td>\n",
              "      <td>11</td>\n",
              "      <td>Palermo</td>\n",
              "      <td>relacion_de_dependencia</td>\n",
              "      <td>25</td>\n",
              "      <td>2_anio</td>\n",
              "      <td>sin_matrimonio</td>\n",
              "      <td>0</td>\n",
              "      <td>hombre</td>\n",
              "      <td>40</td>\n",
              "      <td>judaismo</td>\n",
              "      <td>con_hijos</td>\n",
              "      <td>inspector</td>\n",
              "    </tr>\n",
              "    <tr>\n",
              "      <th>1</th>\n",
              "      <td>2</td>\n",
              "      <td>13</td>\n",
              "      <td>Palermo</td>\n",
              "      <td>relacion_de_dependencia</td>\n",
              "      <td>38</td>\n",
              "      <td>4_anio</td>\n",
              "      <td>matrimonio_civil</td>\n",
              "      <td>0</td>\n",
              "      <td>hombre</td>\n",
              "      <td>50</td>\n",
              "      <td>cristianismo</td>\n",
              "      <td>casado</td>\n",
              "      <td>sector_primario</td>\n",
              "    </tr>\n",
              "    <tr>\n",
              "      <th>2</th>\n",
              "      <td>3</td>\n",
              "      <td>16</td>\n",
              "      <td>Palermo</td>\n",
              "      <td>empleado_municipal</td>\n",
              "      <td>28</td>\n",
              "      <td>universidad_2_anio</td>\n",
              "      <td>matrimonio_civil</td>\n",
              "      <td>0</td>\n",
              "      <td>hombre</td>\n",
              "      <td>40</td>\n",
              "      <td>cristianismo</td>\n",
              "      <td>casado</td>\n",
              "      <td>seguridad</td>\n",
              "    </tr>\n",
              "    <tr>\n",
              "      <th>3</th>\n",
              "      <td>4</td>\n",
              "      <td>14</td>\n",
              "      <td>Palermo</td>\n",
              "      <td>relacion_de_dependencia</td>\n",
              "      <td>44</td>\n",
              "      <td>5_anio</td>\n",
              "      <td>matrimonio_civil</td>\n",
              "      <td>7688</td>\n",
              "      <td>hombre</td>\n",
              "      <td>40</td>\n",
              "      <td>judaismo</td>\n",
              "      <td>casado</td>\n",
              "      <td>inspector</td>\n",
              "    </tr>\n",
              "    <tr>\n",
              "      <th>4</th>\n",
              "      <td>5</td>\n",
              "      <td>14</td>\n",
              "      <td>Palermo</td>\n",
              "      <td>NaN</td>\n",
              "      <td>18</td>\n",
              "      <td>5_anio</td>\n",
              "      <td>sin_matrimonio</td>\n",
              "      <td>0</td>\n",
              "      <td>mujer</td>\n",
              "      <td>30</td>\n",
              "      <td>cristianismo</td>\n",
              "      <td>con_hijos</td>\n",
              "      <td>NaN</td>\n",
              "    </tr>\n",
              "  </tbody>\n",
              "</table>\n",
              "</div>"
            ],
            "text/plain": [
              "   id  anios_estudiados  ... rol_familiar_registrado          trabajo\n",
              "0   1                11  ...               con_hijos        inspector\n",
              "1   2                13  ...                  casado  sector_primario\n",
              "2   3                16  ...                  casado        seguridad\n",
              "3   4                14  ...                  casado        inspector\n",
              "4   5                14  ...               con_hijos              NaN\n",
              "\n",
              "[5 rows x 13 columns]"
            ]
          },
          "metadata": {
            "tags": []
          },
          "execution_count": 15
        }
      ]
    },
    {
      "cell_type": "code",
      "metadata": {
        "id": "5BGDb2IKi0Jy",
        "colab": {
          "base_uri": "https://localhost:8080/",
          "height": 241
        },
        "outputId": "d6eae8d1-8b99-4d1a-89fc-93ae2fe112e4"
      },
      "source": [
        "df_test_final = pp.feature_engineering_xg_rf(data_test_final)\n",
        "df_test_final.head()"
      ],
      "execution_count": null,
      "outputs": [
        {
          "output_type": "execute_result",
          "data": {
            "text/html": [
              "<div>\n",
              "<style scoped>\n",
              "    .dataframe tbody tr th:only-of-type {\n",
              "        vertical-align: middle;\n",
              "    }\n",
              "\n",
              "    .dataframe tbody tr th {\n",
              "        vertical-align: top;\n",
              "    }\n",
              "\n",
              "    .dataframe thead th {\n",
              "        text-align: right;\n",
              "    }\n",
              "</style>\n",
              "<table border=\"1\" class=\"dataframe\">\n",
              "  <thead>\n",
              "    <tr style=\"text-align: right;\">\n",
              "      <th></th>\n",
              "      <th>id</th>\n",
              "      <th>opera_en_bolsa</th>\n",
              "      <th>es_hombre</th>\n",
              "      <th>casado_trabajo</th>\n",
              "      <th>categoria_de_trabajo_empleado_provincial</th>\n",
              "      <th>categoria_de_trabajo_monotibutista</th>\n",
              "      <th>categoria_de_trabajo_relacion_de_dependencia</th>\n",
              "      <th>categoria_de_trabajo_responsable_inscripto</th>\n",
              "      <th>categoria_de_trabajo_sin_trabajo</th>\n",
              "      <th>categoria_de_trabajo_trabajo_voluntariado</th>\n",
              "      <th>educacion_alcanzada_2_anio</th>\n",
              "      <th>educacion_alcanzada_3_anio</th>\n",
              "      <th>educacion_alcanzada_4_anio</th>\n",
              "      <th>educacion_alcanzada_5-6_grado</th>\n",
              "      <th>educacion_alcanzada_5_anio</th>\n",
              "      <th>educacion_alcanzada_7-8_grado</th>\n",
              "      <th>educacion_alcanzada_9_grado</th>\n",
              "      <th>educacion_alcanzada_preescolar</th>\n",
              "      <th>educacion_alcanzada_universiada_5_anio</th>\n",
              "      <th>educacion_alcanzada_universiada_6_anio</th>\n",
              "      <th>educacion_alcanzada_universidad_1_anio</th>\n",
              "      <th>educacion_alcanzada_universidad_2_anio</th>\n",
              "      <th>educacion_alcanzada_universidad_3_anio</th>\n",
              "      <th>educacion_alcanzada_universidad_4_anio</th>\n",
              "      <th>estado_marital_matrimonio_militar</th>\n",
              "      <th>estado_marital_pareja_no_presente</th>\n",
              "      <th>estado_marital_separado</th>\n",
              "      <th>estado_marital_sin_matrimonio</th>\n",
              "      <th>estado_marital_viudo_a</th>\n",
              "      <th>religion_cristianismo</th>\n",
              "      <th>religion_judaismo</th>\n",
              "      <th>religion_otro</th>\n",
              "      <th>rol_familiar_registrado_otro</th>\n",
              "      <th>rol_familiar_registrado_sin_familia</th>\n",
              "      <th>rol_familiar_registrado_soltero_a</th>\n",
              "      <th>trabajo_entretenimiento</th>\n",
              "      <th>trabajo_inspector</th>\n",
              "      <th>trabajo_limpiador</th>\n",
              "      <th>trabajo_otros</th>\n",
              "      <th>trabajo_profesional_especializado</th>\n",
              "      <th>trabajo_reparador</th>\n",
              "      <th>trabajo_sector_primario</th>\n",
              "      <th>trabajo_seguridad</th>\n",
              "      <th>trabajo_servicio_domestico</th>\n",
              "      <th>trabajo_soporte_tecnico</th>\n",
              "      <th>trabajo_transporte</th>\n",
              "      <th>trabajo_ventas</th>\n",
              "    </tr>\n",
              "  </thead>\n",
              "  <tbody>\n",
              "    <tr>\n",
              "      <th>0</th>\n",
              "      <td>1</td>\n",
              "      <td>0</td>\n",
              "      <td>1</td>\n",
              "      <td>0</td>\n",
              "      <td>0</td>\n",
              "      <td>0</td>\n",
              "      <td>1</td>\n",
              "      <td>0</td>\n",
              "      <td>0</td>\n",
              "      <td>0</td>\n",
              "      <td>1</td>\n",
              "      <td>0</td>\n",
              "      <td>0</td>\n",
              "      <td>0</td>\n",
              "      <td>0</td>\n",
              "      <td>0</td>\n",
              "      <td>0</td>\n",
              "      <td>0</td>\n",
              "      <td>0</td>\n",
              "      <td>0</td>\n",
              "      <td>0</td>\n",
              "      <td>0</td>\n",
              "      <td>0</td>\n",
              "      <td>0</td>\n",
              "      <td>0</td>\n",
              "      <td>0</td>\n",
              "      <td>0</td>\n",
              "      <td>1</td>\n",
              "      <td>0</td>\n",
              "      <td>0</td>\n",
              "      <td>1</td>\n",
              "      <td>0</td>\n",
              "      <td>0</td>\n",
              "      <td>0</td>\n",
              "      <td>0</td>\n",
              "      <td>0</td>\n",
              "      <td>1</td>\n",
              "      <td>0</td>\n",
              "      <td>0</td>\n",
              "      <td>0</td>\n",
              "      <td>0</td>\n",
              "      <td>0</td>\n",
              "      <td>0</td>\n",
              "      <td>0</td>\n",
              "      <td>0</td>\n",
              "      <td>0</td>\n",
              "      <td>0</td>\n",
              "    </tr>\n",
              "    <tr>\n",
              "      <th>1</th>\n",
              "      <td>2</td>\n",
              "      <td>0</td>\n",
              "      <td>1</td>\n",
              "      <td>0</td>\n",
              "      <td>0</td>\n",
              "      <td>0</td>\n",
              "      <td>1</td>\n",
              "      <td>0</td>\n",
              "      <td>0</td>\n",
              "      <td>0</td>\n",
              "      <td>0</td>\n",
              "      <td>0</td>\n",
              "      <td>1</td>\n",
              "      <td>0</td>\n",
              "      <td>0</td>\n",
              "      <td>0</td>\n",
              "      <td>0</td>\n",
              "      <td>0</td>\n",
              "      <td>0</td>\n",
              "      <td>0</td>\n",
              "      <td>0</td>\n",
              "      <td>0</td>\n",
              "      <td>0</td>\n",
              "      <td>0</td>\n",
              "      <td>0</td>\n",
              "      <td>0</td>\n",
              "      <td>0</td>\n",
              "      <td>0</td>\n",
              "      <td>0</td>\n",
              "      <td>1</td>\n",
              "      <td>0</td>\n",
              "      <td>0</td>\n",
              "      <td>0</td>\n",
              "      <td>0</td>\n",
              "      <td>0</td>\n",
              "      <td>0</td>\n",
              "      <td>0</td>\n",
              "      <td>0</td>\n",
              "      <td>0</td>\n",
              "      <td>0</td>\n",
              "      <td>0</td>\n",
              "      <td>1</td>\n",
              "      <td>0</td>\n",
              "      <td>0</td>\n",
              "      <td>0</td>\n",
              "      <td>0</td>\n",
              "      <td>0</td>\n",
              "    </tr>\n",
              "    <tr>\n",
              "      <th>2</th>\n",
              "      <td>3</td>\n",
              "      <td>0</td>\n",
              "      <td>1</td>\n",
              "      <td>0</td>\n",
              "      <td>0</td>\n",
              "      <td>0</td>\n",
              "      <td>0</td>\n",
              "      <td>0</td>\n",
              "      <td>0</td>\n",
              "      <td>0</td>\n",
              "      <td>0</td>\n",
              "      <td>0</td>\n",
              "      <td>0</td>\n",
              "      <td>0</td>\n",
              "      <td>0</td>\n",
              "      <td>0</td>\n",
              "      <td>0</td>\n",
              "      <td>0</td>\n",
              "      <td>0</td>\n",
              "      <td>0</td>\n",
              "      <td>0</td>\n",
              "      <td>1</td>\n",
              "      <td>0</td>\n",
              "      <td>0</td>\n",
              "      <td>0</td>\n",
              "      <td>0</td>\n",
              "      <td>0</td>\n",
              "      <td>0</td>\n",
              "      <td>0</td>\n",
              "      <td>1</td>\n",
              "      <td>0</td>\n",
              "      <td>0</td>\n",
              "      <td>0</td>\n",
              "      <td>0</td>\n",
              "      <td>0</td>\n",
              "      <td>0</td>\n",
              "      <td>0</td>\n",
              "      <td>0</td>\n",
              "      <td>0</td>\n",
              "      <td>0</td>\n",
              "      <td>0</td>\n",
              "      <td>0</td>\n",
              "      <td>1</td>\n",
              "      <td>0</td>\n",
              "      <td>0</td>\n",
              "      <td>0</td>\n",
              "      <td>0</td>\n",
              "    </tr>\n",
              "    <tr>\n",
              "      <th>3</th>\n",
              "      <td>4</td>\n",
              "      <td>1</td>\n",
              "      <td>1</td>\n",
              "      <td>0</td>\n",
              "      <td>0</td>\n",
              "      <td>0</td>\n",
              "      <td>1</td>\n",
              "      <td>0</td>\n",
              "      <td>0</td>\n",
              "      <td>0</td>\n",
              "      <td>0</td>\n",
              "      <td>0</td>\n",
              "      <td>0</td>\n",
              "      <td>0</td>\n",
              "      <td>1</td>\n",
              "      <td>0</td>\n",
              "      <td>0</td>\n",
              "      <td>0</td>\n",
              "      <td>0</td>\n",
              "      <td>0</td>\n",
              "      <td>0</td>\n",
              "      <td>0</td>\n",
              "      <td>0</td>\n",
              "      <td>0</td>\n",
              "      <td>0</td>\n",
              "      <td>0</td>\n",
              "      <td>0</td>\n",
              "      <td>0</td>\n",
              "      <td>0</td>\n",
              "      <td>0</td>\n",
              "      <td>1</td>\n",
              "      <td>0</td>\n",
              "      <td>0</td>\n",
              "      <td>0</td>\n",
              "      <td>0</td>\n",
              "      <td>0</td>\n",
              "      <td>1</td>\n",
              "      <td>0</td>\n",
              "      <td>0</td>\n",
              "      <td>0</td>\n",
              "      <td>0</td>\n",
              "      <td>0</td>\n",
              "      <td>0</td>\n",
              "      <td>0</td>\n",
              "      <td>0</td>\n",
              "      <td>0</td>\n",
              "      <td>0</td>\n",
              "    </tr>\n",
              "    <tr>\n",
              "      <th>4</th>\n",
              "      <td>5</td>\n",
              "      <td>0</td>\n",
              "      <td>0</td>\n",
              "      <td>0</td>\n",
              "      <td>0</td>\n",
              "      <td>0</td>\n",
              "      <td>0</td>\n",
              "      <td>0</td>\n",
              "      <td>0</td>\n",
              "      <td>0</td>\n",
              "      <td>0</td>\n",
              "      <td>0</td>\n",
              "      <td>0</td>\n",
              "      <td>0</td>\n",
              "      <td>1</td>\n",
              "      <td>0</td>\n",
              "      <td>0</td>\n",
              "      <td>0</td>\n",
              "      <td>0</td>\n",
              "      <td>0</td>\n",
              "      <td>0</td>\n",
              "      <td>0</td>\n",
              "      <td>0</td>\n",
              "      <td>0</td>\n",
              "      <td>0</td>\n",
              "      <td>0</td>\n",
              "      <td>0</td>\n",
              "      <td>1</td>\n",
              "      <td>0</td>\n",
              "      <td>1</td>\n",
              "      <td>0</td>\n",
              "      <td>0</td>\n",
              "      <td>0</td>\n",
              "      <td>0</td>\n",
              "      <td>0</td>\n",
              "      <td>0</td>\n",
              "      <td>0</td>\n",
              "      <td>0</td>\n",
              "      <td>0</td>\n",
              "      <td>0</td>\n",
              "      <td>0</td>\n",
              "      <td>0</td>\n",
              "      <td>0</td>\n",
              "      <td>0</td>\n",
              "      <td>0</td>\n",
              "      <td>0</td>\n",
              "      <td>0</td>\n",
              "    </tr>\n",
              "  </tbody>\n",
              "</table>\n",
              "</div>"
            ],
            "text/plain": [
              "   id  opera_en_bolsa  ...  trabajo_transporte  trabajo_ventas\n",
              "0   1               0  ...                   0               0\n",
              "1   2               0  ...                   0               0\n",
              "2   3               0  ...                   0               0\n",
              "3   4               1  ...                   0               0\n",
              "4   5               0  ...                   0               0\n",
              "\n",
              "[5 rows x 47 columns]"
            ]
          },
          "metadata": {
            "tags": []
          },
          "execution_count": 16
        }
      ]
    },
    {
      "cell_type": "code",
      "metadata": {
        "id": "2TkyQ3R7i2Pu"
      },
      "source": [
        "#prediccion\n",
        "predictions_final = xg_reg.predict(df_test_final.iloc[:, 1:47])"
      ],
      "execution_count": null,
      "outputs": []
    },
    {
      "cell_type": "code",
      "metadata": {
        "id": "F1tPO3BbLskw"
      },
      "source": [
        "#Exporto las predicciones\n",
        "fp.exportPredictions(fp.formatPredictions(predictions_final), \"predictions_final_xgboost\")"
      ],
      "execution_count": null,
      "outputs": []
    }
  ]
}