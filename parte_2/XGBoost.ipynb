{
  "nbformat": 4,
  "nbformat_minor": 0,
  "metadata": {
    "colab": {
      "name": "XGBoost",
      "provenance": [],
      "collapsed_sections": []
    },
    "kernelspec": {
      "name": "python3",
      "display_name": "Python 3"
    },
    "language_info": {
      "name": "python"
    }
  },
  "cells": [
    {
      "cell_type": "code",
      "metadata": {
        "id": "f2zirFUoHcPr"
      },
      "source": [
        "import pandas as pd\n",
        "import numpy as np\n",
        "\n",
        "#Importacion xgboost\n",
        "import xgboost as xgb\n",
        "\n",
        "#Importacion preprocesamiento\n",
        "from sklearn.model_selection import train_test_split\n",
        "from sklearn import preprocessing\n",
        "\n",
        "#Importacion metricas\n",
        "from sklearn.metrics import accuracy_score\n",
        "from sklearn.metrics import confusion_matrix\n",
        "from sklearn.metrics import precision_score\n",
        "from sklearn.metrics import recall_score\n",
        "from sklearn.metrics import f1_score\n",
        "from sklearn.metrics import mean_squared_error\n",
        "from sklearn.metrics import roc_curve, auc\n",
        "from sklearn.metrics import roc_auc_score\n",
        "\n",
        "#Librerias para visualizacion\n",
        "import seaborn as sb\n",
        "import matplotlib.pyplot as plt\n",
        "\n",
        "plt.style.use('default')"
      ],
      "execution_count": 73,
      "outputs": []
    },
    {
      "cell_type": "code",
      "metadata": {
        "id": "hIISeaSvHjMU"
      },
      "source": [
        "def getData():\n",
        "  return pd.read_csv(\"https://docs.google.com/spreadsheets/d/1-DWTP8uwVS-dZY402-dm0F9ICw_6PNqDGLmH0u8Eqa0/export?format=csv&gid=2054774482\")"
      ],
      "execution_count": 74,
      "outputs": []
    },
    {
      "cell_type": "code",
      "metadata": {
        "colab": {
          "base_uri": "https://localhost:8080/",
          "height": 224
        },
        "id": "w9XBXytyHmVJ",
        "outputId": "023883c6-b3e0-45fa-c1d4-070d97293daa"
      },
      "source": [
        "df = getData()\n",
        "df.head()"
      ],
      "execution_count": 75,
      "outputs": [
        {
          "output_type": "execute_result",
          "data": {
            "text/html": [
              "<div>\n",
              "<style scoped>\n",
              "    .dataframe tbody tr th:only-of-type {\n",
              "        vertical-align: middle;\n",
              "    }\n",
              "\n",
              "    .dataframe tbody tr th {\n",
              "        vertical-align: top;\n",
              "    }\n",
              "\n",
              "    .dataframe thead th {\n",
              "        text-align: right;\n",
              "    }\n",
              "</style>\n",
              "<table border=\"1\" class=\"dataframe\">\n",
              "  <thead>\n",
              "    <tr style=\"text-align: right;\">\n",
              "      <th></th>\n",
              "      <th>anios_estudiados</th>\n",
              "      <th>barrio</th>\n",
              "      <th>categoria_de_trabajo</th>\n",
              "      <th>edad</th>\n",
              "      <th>educacion_alcanzada</th>\n",
              "      <th>estado_marital</th>\n",
              "      <th>ganancia_perdida_declarada_bolsa_argentina</th>\n",
              "      <th>genero</th>\n",
              "      <th>horas_trabajo_registradas</th>\n",
              "      <th>religion</th>\n",
              "      <th>rol_familiar_registrado</th>\n",
              "      <th>tiene_alto_valor_adquisitivo</th>\n",
              "      <th>trabajo</th>\n",
              "    </tr>\n",
              "  </thead>\n",
              "  <tbody>\n",
              "    <tr>\n",
              "      <th>0</th>\n",
              "      <td>17</td>\n",
              "      <td>Palermo</td>\n",
              "      <td>empleado_provincial</td>\n",
              "      <td>39</td>\n",
              "      <td>universidad_3_anio</td>\n",
              "      <td>sin_matrimonio</td>\n",
              "      <td>2174</td>\n",
              "      <td>hombre</td>\n",
              "      <td>40</td>\n",
              "      <td>cristianismo</td>\n",
              "      <td>sin_familia</td>\n",
              "      <td>0</td>\n",
              "      <td>entretenimiento</td>\n",
              "    </tr>\n",
              "    <tr>\n",
              "      <th>1</th>\n",
              "      <td>17</td>\n",
              "      <td>Palermo</td>\n",
              "      <td>monotibutista</td>\n",
              "      <td>50</td>\n",
              "      <td>universidad_3_anio</td>\n",
              "      <td>matrimonio_civil</td>\n",
              "      <td>0</td>\n",
              "      <td>hombre</td>\n",
              "      <td>13</td>\n",
              "      <td>cristianismo</td>\n",
              "      <td>casado</td>\n",
              "      <td>0</td>\n",
              "      <td>directivo_gerente</td>\n",
              "    </tr>\n",
              "    <tr>\n",
              "      <th>2</th>\n",
              "      <td>13</td>\n",
              "      <td>Palermo</td>\n",
              "      <td>relacion_de_dependencia</td>\n",
              "      <td>38</td>\n",
              "      <td>4_anio</td>\n",
              "      <td>divorciado</td>\n",
              "      <td>0</td>\n",
              "      <td>hombre</td>\n",
              "      <td>40</td>\n",
              "      <td>cristianismo</td>\n",
              "      <td>sin_familia</td>\n",
              "      <td>0</td>\n",
              "      <td>limpiador</td>\n",
              "    </tr>\n",
              "    <tr>\n",
              "      <th>3</th>\n",
              "      <td>11</td>\n",
              "      <td>Palermo</td>\n",
              "      <td>relacion_de_dependencia</td>\n",
              "      <td>53</td>\n",
              "      <td>2_anio</td>\n",
              "      <td>matrimonio_civil</td>\n",
              "      <td>0</td>\n",
              "      <td>hombre</td>\n",
              "      <td>40</td>\n",
              "      <td>judaismo</td>\n",
              "      <td>casado</td>\n",
              "      <td>0</td>\n",
              "      <td>limpiador</td>\n",
              "    </tr>\n",
              "    <tr>\n",
              "      <th>4</th>\n",
              "      <td>17</td>\n",
              "      <td>Balvanera</td>\n",
              "      <td>relacion_de_dependencia</td>\n",
              "      <td>28</td>\n",
              "      <td>universidad_3_anio</td>\n",
              "      <td>matrimonio_civil</td>\n",
              "      <td>0</td>\n",
              "      <td>mujer</td>\n",
              "      <td>40</td>\n",
              "      <td>judaismo</td>\n",
              "      <td>casada</td>\n",
              "      <td>0</td>\n",
              "      <td>profesional_especializado</td>\n",
              "    </tr>\n",
              "  </tbody>\n",
              "</table>\n",
              "</div>"
            ],
            "text/plain": [
              "   anios_estudiados  ...                    trabajo\n",
              "0                17  ...            entretenimiento\n",
              "1                17  ...          directivo_gerente\n",
              "2                13  ...                  limpiador\n",
              "3                11  ...                  limpiador\n",
              "4                17  ...  profesional_especializado\n",
              "\n",
              "[5 rows x 13 columns]"
            ]
          },
          "metadata": {
            "tags": []
          },
          "execution_count": 75
        }
      ]
    },
    {
      "cell_type": "code",
      "metadata": {
        "id": "VRhL6DpgH1qT"
      },
      "source": [
        "#Funcion que devuelve un 1 si esa row posee esta combinacion en especifico de valores en sus columnas \"trabajo\" y \"rol_familiar_registrado\"\n",
        "def set_value_row_casado_trabajo(row):\n",
        "    if (row.rol_familiar_registrado == \"casado\" and (row.trabajo == \"profesional_especializado\" or row.trabajo == \"directivo_gerente\" )):\n",
        "      return 1                 \n",
        "    else:\n",
        "      return 0\n",
        "\n",
        "def feature_engineering_xg(df):\n",
        "\n",
        "    #Creo columna opera_en_bolsa que indica si opero en bolsa o no\n",
        "    df[\"opera_en_bolsa\"] = df[\"ganancia_perdida_declarada_bolsa_argentina\"].apply(lambda x: 1 if x != 0 else 0)\n",
        "\n",
        "    #Creo columna es_hombre que indica si la persona es hombre o no\n",
        "    df[\"es_hombre\"] = df[\"genero\"].apply(lambda x: 1 if x == \"hombre\" else 0)\n",
        "\n",
        "    #Unifico los labels \"casado\" y \"casada\" en \"casado\"\n",
        "    df.rol_familiar_registrado.replace(to_replace=[\"casada\"],  value=[\"casado\"], inplace=True)\n",
        "\n",
        "    #Creo columna casado_trabajo que indica si ese usuario posee una combinacion especifica entre la columna rol_familiar_registrado y trabajo\n",
        "    df[\"casado_trabajo\"] = df.apply(lambda row: set_value_row_casado_trabajo(row), axis= 1)\n",
        "\n",
        "    #Dropeo columnas que no considero necesarias para la prediccion\n",
        "    df.drop(columns = [\"edad\", \"horas_trabajo_registradas\", \"barrio\", \"genero\", \"ganancia_perdida_declarada_bolsa_argentina\", \"anios_estudiados\"], inplace=True)\n",
        "\n",
        "    #Aplico one hot enconding a estas columnas en especifico\n",
        "    df = pd.get_dummies(df, drop_first=True, columns=[\"categoria_de_trabajo\", \"educacion_alcanzada\", \"estado_marital\", \"religion\", \"rol_familiar_registrado\", \"trabajo\"])\n",
        "\n",
        "    #Borro una columna de cada uno de los one hot creados\n",
        "    df.drop(columns = [\"categoria_de_trabajo_empleado_municipal\", \"educacion_alcanzada_1_anio\", \"estado_marital_matrimonio_civil\", \"religion_budismo\", \"rol_familiar_registrado_con_hijos\", \"trabajo_ejercito\"], inplace=True)\n",
        "\n",
        "    if \"tiene_alto_valor_adquisitivo\" in df.columns:\n",
        "      label_encoder = preprocessing.LabelEncoder()\n",
        "      label_encoder.fit(df.tiene_alto_valor_adquisitivo)\n",
        "\n",
        "      X = df.drop(columns=['tiene_alto_valor_adquisitivo'])\n",
        "      y = label_encoder.transform(df.tiene_alto_valor_adquisitivo)\n",
        "\n",
        "      return X, y, df, label_encoder\n",
        "\n",
        "    return df"
      ],
      "execution_count": 76,
      "outputs": []
    },
    {
      "cell_type": "code",
      "metadata": {
        "colab": {
          "base_uri": "https://localhost:8080/",
          "height": 241
        },
        "id": "Xyywmf3xIHa4",
        "outputId": "c7ed5ce2-e66d-47fe-832c-90c1bd95f3de"
      },
      "source": [
        "df_edit = pd.DataFrame()\n",
        "df_edit = df.copy()\n",
        "\n",
        "X, y, df_new, y_encoder = feature_engineering_xg(df_edit)\n",
        "df_new.head()"
      ],
      "execution_count": 77,
      "outputs": [
        {
          "output_type": "execute_result",
          "data": {
            "text/html": [
              "<div>\n",
              "<style scoped>\n",
              "    .dataframe tbody tr th:only-of-type {\n",
              "        vertical-align: middle;\n",
              "    }\n",
              "\n",
              "    .dataframe tbody tr th {\n",
              "        vertical-align: top;\n",
              "    }\n",
              "\n",
              "    .dataframe thead th {\n",
              "        text-align: right;\n",
              "    }\n",
              "</style>\n",
              "<table border=\"1\" class=\"dataframe\">\n",
              "  <thead>\n",
              "    <tr style=\"text-align: right;\">\n",
              "      <th></th>\n",
              "      <th>tiene_alto_valor_adquisitivo</th>\n",
              "      <th>opera_en_bolsa</th>\n",
              "      <th>es_hombre</th>\n",
              "      <th>casado_trabajo</th>\n",
              "      <th>categoria_de_trabajo_empleado_provincial</th>\n",
              "      <th>categoria_de_trabajo_monotibutista</th>\n",
              "      <th>categoria_de_trabajo_relacion_de_dependencia</th>\n",
              "      <th>categoria_de_trabajo_responsable_inscripto</th>\n",
              "      <th>categoria_de_trabajo_sin_trabajo</th>\n",
              "      <th>categoria_de_trabajo_trabajo_voluntariado</th>\n",
              "      <th>educacion_alcanzada_2_anio</th>\n",
              "      <th>educacion_alcanzada_3_anio</th>\n",
              "      <th>educacion_alcanzada_4_anio</th>\n",
              "      <th>educacion_alcanzada_5-6_grado</th>\n",
              "      <th>educacion_alcanzada_5_anio</th>\n",
              "      <th>educacion_alcanzada_7-8_grado</th>\n",
              "      <th>educacion_alcanzada_9_grado</th>\n",
              "      <th>educacion_alcanzada_preescolar</th>\n",
              "      <th>educacion_alcanzada_universiada_5_anio</th>\n",
              "      <th>educacion_alcanzada_universiada_6_anio</th>\n",
              "      <th>educacion_alcanzada_universidad_1_anio</th>\n",
              "      <th>educacion_alcanzada_universidad_2_anio</th>\n",
              "      <th>educacion_alcanzada_universidad_3_anio</th>\n",
              "      <th>educacion_alcanzada_universidad_4_anio</th>\n",
              "      <th>estado_marital_matrimonio_militar</th>\n",
              "      <th>estado_marital_pareja_no_presente</th>\n",
              "      <th>estado_marital_separado</th>\n",
              "      <th>estado_marital_sin_matrimonio</th>\n",
              "      <th>estado_marital_viudo_a</th>\n",
              "      <th>religion_cristianismo</th>\n",
              "      <th>religion_judaismo</th>\n",
              "      <th>religion_otro</th>\n",
              "      <th>rol_familiar_registrado_otro</th>\n",
              "      <th>rol_familiar_registrado_sin_familia</th>\n",
              "      <th>rol_familiar_registrado_soltero_a</th>\n",
              "      <th>trabajo_entretenimiento</th>\n",
              "      <th>trabajo_inspector</th>\n",
              "      <th>trabajo_limpiador</th>\n",
              "      <th>trabajo_otros</th>\n",
              "      <th>trabajo_profesional_especializado</th>\n",
              "      <th>trabajo_reparador</th>\n",
              "      <th>trabajo_sector_primario</th>\n",
              "      <th>trabajo_seguridad</th>\n",
              "      <th>trabajo_servicio_domestico</th>\n",
              "      <th>trabajo_soporte_tecnico</th>\n",
              "      <th>trabajo_transporte</th>\n",
              "      <th>trabajo_ventas</th>\n",
              "    </tr>\n",
              "  </thead>\n",
              "  <tbody>\n",
              "    <tr>\n",
              "      <th>0</th>\n",
              "      <td>0</td>\n",
              "      <td>1</td>\n",
              "      <td>1</td>\n",
              "      <td>0</td>\n",
              "      <td>1</td>\n",
              "      <td>0</td>\n",
              "      <td>0</td>\n",
              "      <td>0</td>\n",
              "      <td>0</td>\n",
              "      <td>0</td>\n",
              "      <td>0</td>\n",
              "      <td>0</td>\n",
              "      <td>0</td>\n",
              "      <td>0</td>\n",
              "      <td>0</td>\n",
              "      <td>0</td>\n",
              "      <td>0</td>\n",
              "      <td>0</td>\n",
              "      <td>0</td>\n",
              "      <td>0</td>\n",
              "      <td>0</td>\n",
              "      <td>0</td>\n",
              "      <td>1</td>\n",
              "      <td>0</td>\n",
              "      <td>0</td>\n",
              "      <td>0</td>\n",
              "      <td>0</td>\n",
              "      <td>1</td>\n",
              "      <td>0</td>\n",
              "      <td>1</td>\n",
              "      <td>0</td>\n",
              "      <td>0</td>\n",
              "      <td>0</td>\n",
              "      <td>1</td>\n",
              "      <td>0</td>\n",
              "      <td>1</td>\n",
              "      <td>0</td>\n",
              "      <td>0</td>\n",
              "      <td>0</td>\n",
              "      <td>0</td>\n",
              "      <td>0</td>\n",
              "      <td>0</td>\n",
              "      <td>0</td>\n",
              "      <td>0</td>\n",
              "      <td>0</td>\n",
              "      <td>0</td>\n",
              "      <td>0</td>\n",
              "    </tr>\n",
              "    <tr>\n",
              "      <th>1</th>\n",
              "      <td>0</td>\n",
              "      <td>0</td>\n",
              "      <td>1</td>\n",
              "      <td>1</td>\n",
              "      <td>0</td>\n",
              "      <td>1</td>\n",
              "      <td>0</td>\n",
              "      <td>0</td>\n",
              "      <td>0</td>\n",
              "      <td>0</td>\n",
              "      <td>0</td>\n",
              "      <td>0</td>\n",
              "      <td>0</td>\n",
              "      <td>0</td>\n",
              "      <td>0</td>\n",
              "      <td>0</td>\n",
              "      <td>0</td>\n",
              "      <td>0</td>\n",
              "      <td>0</td>\n",
              "      <td>0</td>\n",
              "      <td>0</td>\n",
              "      <td>0</td>\n",
              "      <td>1</td>\n",
              "      <td>0</td>\n",
              "      <td>0</td>\n",
              "      <td>0</td>\n",
              "      <td>0</td>\n",
              "      <td>0</td>\n",
              "      <td>0</td>\n",
              "      <td>1</td>\n",
              "      <td>0</td>\n",
              "      <td>0</td>\n",
              "      <td>0</td>\n",
              "      <td>0</td>\n",
              "      <td>0</td>\n",
              "      <td>0</td>\n",
              "      <td>0</td>\n",
              "      <td>0</td>\n",
              "      <td>0</td>\n",
              "      <td>0</td>\n",
              "      <td>0</td>\n",
              "      <td>0</td>\n",
              "      <td>0</td>\n",
              "      <td>0</td>\n",
              "      <td>0</td>\n",
              "      <td>0</td>\n",
              "      <td>0</td>\n",
              "    </tr>\n",
              "    <tr>\n",
              "      <th>2</th>\n",
              "      <td>0</td>\n",
              "      <td>0</td>\n",
              "      <td>1</td>\n",
              "      <td>0</td>\n",
              "      <td>0</td>\n",
              "      <td>0</td>\n",
              "      <td>1</td>\n",
              "      <td>0</td>\n",
              "      <td>0</td>\n",
              "      <td>0</td>\n",
              "      <td>0</td>\n",
              "      <td>0</td>\n",
              "      <td>1</td>\n",
              "      <td>0</td>\n",
              "      <td>0</td>\n",
              "      <td>0</td>\n",
              "      <td>0</td>\n",
              "      <td>0</td>\n",
              "      <td>0</td>\n",
              "      <td>0</td>\n",
              "      <td>0</td>\n",
              "      <td>0</td>\n",
              "      <td>0</td>\n",
              "      <td>0</td>\n",
              "      <td>0</td>\n",
              "      <td>0</td>\n",
              "      <td>0</td>\n",
              "      <td>0</td>\n",
              "      <td>0</td>\n",
              "      <td>1</td>\n",
              "      <td>0</td>\n",
              "      <td>0</td>\n",
              "      <td>0</td>\n",
              "      <td>1</td>\n",
              "      <td>0</td>\n",
              "      <td>0</td>\n",
              "      <td>0</td>\n",
              "      <td>1</td>\n",
              "      <td>0</td>\n",
              "      <td>0</td>\n",
              "      <td>0</td>\n",
              "      <td>0</td>\n",
              "      <td>0</td>\n",
              "      <td>0</td>\n",
              "      <td>0</td>\n",
              "      <td>0</td>\n",
              "      <td>0</td>\n",
              "    </tr>\n",
              "    <tr>\n",
              "      <th>3</th>\n",
              "      <td>0</td>\n",
              "      <td>0</td>\n",
              "      <td>1</td>\n",
              "      <td>0</td>\n",
              "      <td>0</td>\n",
              "      <td>0</td>\n",
              "      <td>1</td>\n",
              "      <td>0</td>\n",
              "      <td>0</td>\n",
              "      <td>0</td>\n",
              "      <td>1</td>\n",
              "      <td>0</td>\n",
              "      <td>0</td>\n",
              "      <td>0</td>\n",
              "      <td>0</td>\n",
              "      <td>0</td>\n",
              "      <td>0</td>\n",
              "      <td>0</td>\n",
              "      <td>0</td>\n",
              "      <td>0</td>\n",
              "      <td>0</td>\n",
              "      <td>0</td>\n",
              "      <td>0</td>\n",
              "      <td>0</td>\n",
              "      <td>0</td>\n",
              "      <td>0</td>\n",
              "      <td>0</td>\n",
              "      <td>0</td>\n",
              "      <td>0</td>\n",
              "      <td>0</td>\n",
              "      <td>1</td>\n",
              "      <td>0</td>\n",
              "      <td>0</td>\n",
              "      <td>0</td>\n",
              "      <td>0</td>\n",
              "      <td>0</td>\n",
              "      <td>0</td>\n",
              "      <td>1</td>\n",
              "      <td>0</td>\n",
              "      <td>0</td>\n",
              "      <td>0</td>\n",
              "      <td>0</td>\n",
              "      <td>0</td>\n",
              "      <td>0</td>\n",
              "      <td>0</td>\n",
              "      <td>0</td>\n",
              "      <td>0</td>\n",
              "    </tr>\n",
              "    <tr>\n",
              "      <th>4</th>\n",
              "      <td>0</td>\n",
              "      <td>0</td>\n",
              "      <td>0</td>\n",
              "      <td>1</td>\n",
              "      <td>0</td>\n",
              "      <td>0</td>\n",
              "      <td>1</td>\n",
              "      <td>0</td>\n",
              "      <td>0</td>\n",
              "      <td>0</td>\n",
              "      <td>0</td>\n",
              "      <td>0</td>\n",
              "      <td>0</td>\n",
              "      <td>0</td>\n",
              "      <td>0</td>\n",
              "      <td>0</td>\n",
              "      <td>0</td>\n",
              "      <td>0</td>\n",
              "      <td>0</td>\n",
              "      <td>0</td>\n",
              "      <td>0</td>\n",
              "      <td>0</td>\n",
              "      <td>1</td>\n",
              "      <td>0</td>\n",
              "      <td>0</td>\n",
              "      <td>0</td>\n",
              "      <td>0</td>\n",
              "      <td>0</td>\n",
              "      <td>0</td>\n",
              "      <td>0</td>\n",
              "      <td>1</td>\n",
              "      <td>0</td>\n",
              "      <td>0</td>\n",
              "      <td>0</td>\n",
              "      <td>0</td>\n",
              "      <td>0</td>\n",
              "      <td>0</td>\n",
              "      <td>0</td>\n",
              "      <td>0</td>\n",
              "      <td>1</td>\n",
              "      <td>0</td>\n",
              "      <td>0</td>\n",
              "      <td>0</td>\n",
              "      <td>0</td>\n",
              "      <td>0</td>\n",
              "      <td>0</td>\n",
              "      <td>0</td>\n",
              "    </tr>\n",
              "  </tbody>\n",
              "</table>\n",
              "</div>"
            ],
            "text/plain": [
              "   tiene_alto_valor_adquisitivo  ...  trabajo_ventas\n",
              "0                             0  ...               0\n",
              "1                             0  ...               0\n",
              "2                             0  ...               0\n",
              "3                             0  ...               0\n",
              "4                             0  ...               0\n",
              "\n",
              "[5 rows x 47 columns]"
            ]
          },
          "metadata": {
            "tags": []
          },
          "execution_count": 77
        }
      ]
    },
    {
      "cell_type": "code",
      "metadata": {
        "id": "1GHYBy5yIqPG"
      },
      "source": [
        "data_dmatrix = xgb.DMatrix(data=X,label=y)\n",
        "X_train, X_test, y_train, y_test = train_test_split(X, y, test_size=0.2, random_state=123)"
      ],
      "execution_count": 78,
      "outputs": []
    },
    {
      "cell_type": "code",
      "metadata": {
        "id": "NgVqGGlqIwGN"
      },
      "source": [
        "#Instancio el xgboost\n",
        "xg_reg = xgb.XGBRegressor(objective ='binary:logistic', colsample_bytree = 0.35, learning_rate = 0.13, \n",
        "                          max_depth = 5, alpha = 5, n_estimators = 60)"
      ],
      "execution_count": 79,
      "outputs": []
    },
    {
      "cell_type": "code",
      "metadata": {
        "colab": {
          "base_uri": "https://localhost:8080/"
        },
        "id": "XI4_QmfsIzKQ",
        "outputId": "daad3628-eb7b-4092-bc83-f015b7d84db1"
      },
      "source": [
        "#Entreno\n",
        "xg_reg.fit(X_train,y_train)"
      ],
      "execution_count": 80,
      "outputs": [
        {
          "output_type": "execute_result",
          "data": {
            "text/plain": [
              "XGBRegressor(alpha=5, base_score=0.5, booster='gbtree', colsample_bylevel=1,\n",
              "             colsample_bynode=1, colsample_bytree=0.35, gamma=0,\n",
              "             importance_type='gain', learning_rate=0.13, max_delta_step=0,\n",
              "             max_depth=5, min_child_weight=1, missing=None, n_estimators=60,\n",
              "             n_jobs=1, nthread=None, objective='binary:logistic',\n",
              "             random_state=0, reg_alpha=0, reg_lambda=1, scale_pos_weight=1,\n",
              "             seed=None, silent=None, subsample=1, verbosity=1)"
            ]
          },
          "metadata": {
            "tags": []
          },
          "execution_count": 80
        }
      ]
    },
    {
      "cell_type": "code",
      "metadata": {
        "id": "VDDEg26_I3US"
      },
      "source": [
        "#prediccion\n",
        "preds = xg_reg.predict(X_test)"
      ],
      "execution_count": 81,
      "outputs": []
    },
    {
      "cell_type": "code",
      "metadata": {
        "id": "GfASnc7HShXV"
      },
      "source": [
        "#Convierto las probabilidades que  devuele XGBoost para calcular las metricas\n",
        "def get_int_predictions(preds):\n",
        "  predictions = []\n",
        "  \n",
        "  for i in preds:\n",
        "    if i < 0.6:\n",
        "      predictions.append(0)\n",
        "    else:\n",
        "      predictions.append(1)\n",
        "\n",
        "  return predictions"
      ],
      "execution_count": 82,
      "outputs": []
    },
    {
      "cell_type": "code",
      "metadata": {
        "id": "M8FXbG02aeKy"
      },
      "source": [
        "int_predictions = get_int_predictions(preds)"
      ],
      "execution_count": 83,
      "outputs": []
    },
    {
      "cell_type": "code",
      "metadata": {
        "colab": {
          "base_uri": "https://localhost:8080/"
        },
        "id": "R3wGVVrzSzqw",
        "outputId": "3ad24df5-67be-4c06-85ba-ecc4d16c7d8a"
      },
      "source": [
        "# Obtener metricas de error\n",
        "print(\"Matriz de confusion\")\n",
        "print(confusion_matrix(y_test, int_predictions))\n",
        "print(\"\\n\")\n",
        "\n",
        "print(\"Porcentaje de aciertos\")\n",
        "print(round(accuracy_score(y_test, int_predictions),3))\n",
        "print(\"\\n\")\n",
        "\n",
        "print(\"Precision\")\n",
        "print(round(precision_score(y_test, int_predictions),3))\n",
        "print(\"\\n\")\n",
        "\n",
        "print(\"Recall\")\n",
        "print(round(recall_score(y_test, int_predictions),3))\n",
        "print(\"\\n\")\n",
        "\n",
        "print(\"F1 Score\")\n",
        "print(round(f1_score(y_test, int_predictions),3))"
      ],
      "execution_count": 84,
      "outputs": [
        {
          "output_type": "stream",
          "text": [
            "Matriz de confusion\n",
            "[[4768  159]\n",
            " [ 924  662]]\n",
            "\n",
            "\n",
            "Porcentaje de aciertos\n",
            "0.834\n",
            "\n",
            "\n",
            "Precision\n",
            "0.806\n",
            "\n",
            "\n",
            "Recall\n",
            "0.417\n",
            "\n",
            "\n",
            "F1 Score\n",
            "0.55\n"
          ],
          "name": "stdout"
        }
      ]
    },
    {
      "cell_type": "code",
      "metadata": {
        "colab": {
          "base_uri": "https://localhost:8080/"
        },
        "id": "AiCH1MTYI8BW",
        "outputId": "dfbca7df-b75c-4b9e-90ed-985e4342c5e9"
      },
      "source": [
        "#Porcentaje de acierto de las predicciones\n",
        "print(\"AUC: %f\" % (roc_auc_score(y_test, preds)))"
      ],
      "execution_count": 85,
      "outputs": [
        {
          "output_type": "stream",
          "text": [
            "AUC: 0.886042\n"
          ],
          "name": "stdout"
        }
      ]
    },
    {
      "cell_type": "code",
      "metadata": {
        "colab": {
          "base_uri": "https://localhost:8080/"
        },
        "id": "2PrBkEKQJCkj",
        "outputId": "b2d44f16-6f51-49a2-a7c3-0bcffa9ae6e1"
      },
      "source": [
        "params = {\"objective\":\"reg:linear\",'colsample_bytree': 0.35,\n",
        "          'learning_rate': 0.13, 'max_depth': 5, 'alpha': 5, 'silent':1}\n",
        "\n",
        "cv_results = xgb.cv(dtrain=data_dmatrix, params=params, nfold=5,\n",
        "                    num_boost_round=60, early_stopping_rounds=10,\n",
        "                    metrics=\"auc\", as_pandas=True, seed=123);\n",
        "cv_results.iloc[-1]['test-auc-mean']"
      ],
      "execution_count": 63,
      "outputs": [
        {
          "output_type": "execute_result",
          "data": {
            "text/plain": [
              "0.8812865999999999"
            ]
          },
          "metadata": {
            "tags": []
          },
          "execution_count": 63
        }
      ]
    },
    {
      "cell_type": "markdown",
      "metadata": {
        "id": "LinY324WPKA9"
      },
      "source": [
        "# Prediccion sobre el archivo final"
      ]
    },
    {
      "cell_type": "code",
      "metadata": {
        "colab": {
          "base_uri": "https://localhost:8080/",
          "height": 224
        },
        "id": "mez6E3L5PQl5",
        "outputId": "c49bdcda-8dc7-4410-f0d4-c192d39c315b"
      },
      "source": [
        "data_test_final = pd.DataFrame()\n",
        "data_test_final = pd.read_csv(\"/content/test.csv\")\n",
        "\n",
        "data_test_final.drop(columns = [\"representatividad_poblacional\"], inplace=True)\n",
        "df.rename(columns={'ganancia_perdida_declarada_bolsa_argentina': 'ganancia_perdida_declarada_bolsa_argentina'}, inplace=True)\n",
        "data_test_final.head()"
      ],
      "execution_count": 86,
      "outputs": [
        {
          "output_type": "execute_result",
          "data": {
            "text/html": [
              "<div>\n",
              "<style scoped>\n",
              "    .dataframe tbody tr th:only-of-type {\n",
              "        vertical-align: middle;\n",
              "    }\n",
              "\n",
              "    .dataframe tbody tr th {\n",
              "        vertical-align: top;\n",
              "    }\n",
              "\n",
              "    .dataframe thead th {\n",
              "        text-align: right;\n",
              "    }\n",
              "</style>\n",
              "<table border=\"1\" class=\"dataframe\">\n",
              "  <thead>\n",
              "    <tr style=\"text-align: right;\">\n",
              "      <th></th>\n",
              "      <th>id</th>\n",
              "      <th>anios_estudiados</th>\n",
              "      <th>barrio</th>\n",
              "      <th>categoria_de_trabajo</th>\n",
              "      <th>edad</th>\n",
              "      <th>educacion_alcanzada</th>\n",
              "      <th>estado_marital</th>\n",
              "      <th>ganancia_perdida_declarada_bolsa_argentina</th>\n",
              "      <th>genero</th>\n",
              "      <th>horas_trabajo_registradas</th>\n",
              "      <th>religion</th>\n",
              "      <th>rol_familiar_registrado</th>\n",
              "      <th>trabajo</th>\n",
              "    </tr>\n",
              "  </thead>\n",
              "  <tbody>\n",
              "    <tr>\n",
              "      <th>0</th>\n",
              "      <td>1</td>\n",
              "      <td>11</td>\n",
              "      <td>Palermo</td>\n",
              "      <td>relacion_de_dependencia</td>\n",
              "      <td>25</td>\n",
              "      <td>2_anio</td>\n",
              "      <td>sin_matrimonio</td>\n",
              "      <td>0</td>\n",
              "      <td>hombre</td>\n",
              "      <td>40</td>\n",
              "      <td>judaismo</td>\n",
              "      <td>con_hijos</td>\n",
              "      <td>inspector</td>\n",
              "    </tr>\n",
              "    <tr>\n",
              "      <th>1</th>\n",
              "      <td>2</td>\n",
              "      <td>13</td>\n",
              "      <td>Palermo</td>\n",
              "      <td>relacion_de_dependencia</td>\n",
              "      <td>38</td>\n",
              "      <td>4_anio</td>\n",
              "      <td>matrimonio_civil</td>\n",
              "      <td>0</td>\n",
              "      <td>hombre</td>\n",
              "      <td>50</td>\n",
              "      <td>cristianismo</td>\n",
              "      <td>casado</td>\n",
              "      <td>sector_primario</td>\n",
              "    </tr>\n",
              "    <tr>\n",
              "      <th>2</th>\n",
              "      <td>3</td>\n",
              "      <td>16</td>\n",
              "      <td>Palermo</td>\n",
              "      <td>empleado_municipal</td>\n",
              "      <td>28</td>\n",
              "      <td>universidad_2_anio</td>\n",
              "      <td>matrimonio_civil</td>\n",
              "      <td>0</td>\n",
              "      <td>hombre</td>\n",
              "      <td>40</td>\n",
              "      <td>cristianismo</td>\n",
              "      <td>casado</td>\n",
              "      <td>seguridad</td>\n",
              "    </tr>\n",
              "    <tr>\n",
              "      <th>3</th>\n",
              "      <td>4</td>\n",
              "      <td>14</td>\n",
              "      <td>Palermo</td>\n",
              "      <td>relacion_de_dependencia</td>\n",
              "      <td>44</td>\n",
              "      <td>5_anio</td>\n",
              "      <td>matrimonio_civil</td>\n",
              "      <td>7688</td>\n",
              "      <td>hombre</td>\n",
              "      <td>40</td>\n",
              "      <td>judaismo</td>\n",
              "      <td>casado</td>\n",
              "      <td>inspector</td>\n",
              "    </tr>\n",
              "    <tr>\n",
              "      <th>4</th>\n",
              "      <td>5</td>\n",
              "      <td>14</td>\n",
              "      <td>Palermo</td>\n",
              "      <td>NaN</td>\n",
              "      <td>18</td>\n",
              "      <td>5_anio</td>\n",
              "      <td>sin_matrimonio</td>\n",
              "      <td>0</td>\n",
              "      <td>mujer</td>\n",
              "      <td>30</td>\n",
              "      <td>cristianismo</td>\n",
              "      <td>con_hijos</td>\n",
              "      <td>NaN</td>\n",
              "    </tr>\n",
              "  </tbody>\n",
              "</table>\n",
              "</div>"
            ],
            "text/plain": [
              "   id  anios_estudiados  ... rol_familiar_registrado          trabajo\n",
              "0   1                11  ...               con_hijos        inspector\n",
              "1   2                13  ...                  casado  sector_primario\n",
              "2   3                16  ...                  casado        seguridad\n",
              "3   4                14  ...                  casado        inspector\n",
              "4   5                14  ...               con_hijos              NaN\n",
              "\n",
              "[5 rows x 13 columns]"
            ]
          },
          "metadata": {
            "tags": []
          },
          "execution_count": 86
        }
      ]
    },
    {
      "cell_type": "code",
      "metadata": {
        "colab": {
          "base_uri": "https://localhost:8080/",
          "height": 241
        },
        "id": "8E3Ho4WqPYaZ",
        "outputId": "f9dd572a-e729-4928-c0cb-008698db85de"
      },
      "source": [
        "df_test_final = feature_engineering_xg(data_test_final)\n",
        "df_test_final.head()"
      ],
      "execution_count": 87,
      "outputs": [
        {
          "output_type": "execute_result",
          "data": {
            "text/html": [
              "<div>\n",
              "<style scoped>\n",
              "    .dataframe tbody tr th:only-of-type {\n",
              "        vertical-align: middle;\n",
              "    }\n",
              "\n",
              "    .dataframe tbody tr th {\n",
              "        vertical-align: top;\n",
              "    }\n",
              "\n",
              "    .dataframe thead th {\n",
              "        text-align: right;\n",
              "    }\n",
              "</style>\n",
              "<table border=\"1\" class=\"dataframe\">\n",
              "  <thead>\n",
              "    <tr style=\"text-align: right;\">\n",
              "      <th></th>\n",
              "      <th>id</th>\n",
              "      <th>opera_en_bolsa</th>\n",
              "      <th>es_hombre</th>\n",
              "      <th>casado_trabajo</th>\n",
              "      <th>categoria_de_trabajo_empleado_provincial</th>\n",
              "      <th>categoria_de_trabajo_monotibutista</th>\n",
              "      <th>categoria_de_trabajo_relacion_de_dependencia</th>\n",
              "      <th>categoria_de_trabajo_responsable_inscripto</th>\n",
              "      <th>categoria_de_trabajo_sin_trabajo</th>\n",
              "      <th>categoria_de_trabajo_trabajo_voluntariado</th>\n",
              "      <th>educacion_alcanzada_2_anio</th>\n",
              "      <th>educacion_alcanzada_3_anio</th>\n",
              "      <th>educacion_alcanzada_4_anio</th>\n",
              "      <th>educacion_alcanzada_5-6_grado</th>\n",
              "      <th>educacion_alcanzada_5_anio</th>\n",
              "      <th>educacion_alcanzada_7-8_grado</th>\n",
              "      <th>educacion_alcanzada_9_grado</th>\n",
              "      <th>educacion_alcanzada_preescolar</th>\n",
              "      <th>educacion_alcanzada_universiada_5_anio</th>\n",
              "      <th>educacion_alcanzada_universiada_6_anio</th>\n",
              "      <th>educacion_alcanzada_universidad_1_anio</th>\n",
              "      <th>educacion_alcanzada_universidad_2_anio</th>\n",
              "      <th>educacion_alcanzada_universidad_3_anio</th>\n",
              "      <th>educacion_alcanzada_universidad_4_anio</th>\n",
              "      <th>estado_marital_matrimonio_militar</th>\n",
              "      <th>estado_marital_pareja_no_presente</th>\n",
              "      <th>estado_marital_separado</th>\n",
              "      <th>estado_marital_sin_matrimonio</th>\n",
              "      <th>estado_marital_viudo_a</th>\n",
              "      <th>religion_cristianismo</th>\n",
              "      <th>religion_judaismo</th>\n",
              "      <th>religion_otro</th>\n",
              "      <th>rol_familiar_registrado_otro</th>\n",
              "      <th>rol_familiar_registrado_sin_familia</th>\n",
              "      <th>rol_familiar_registrado_soltero_a</th>\n",
              "      <th>trabajo_entretenimiento</th>\n",
              "      <th>trabajo_inspector</th>\n",
              "      <th>trabajo_limpiador</th>\n",
              "      <th>trabajo_otros</th>\n",
              "      <th>trabajo_profesional_especializado</th>\n",
              "      <th>trabajo_reparador</th>\n",
              "      <th>trabajo_sector_primario</th>\n",
              "      <th>trabajo_seguridad</th>\n",
              "      <th>trabajo_servicio_domestico</th>\n",
              "      <th>trabajo_soporte_tecnico</th>\n",
              "      <th>trabajo_transporte</th>\n",
              "      <th>trabajo_ventas</th>\n",
              "    </tr>\n",
              "  </thead>\n",
              "  <tbody>\n",
              "    <tr>\n",
              "      <th>0</th>\n",
              "      <td>1</td>\n",
              "      <td>0</td>\n",
              "      <td>1</td>\n",
              "      <td>0</td>\n",
              "      <td>0</td>\n",
              "      <td>0</td>\n",
              "      <td>1</td>\n",
              "      <td>0</td>\n",
              "      <td>0</td>\n",
              "      <td>0</td>\n",
              "      <td>1</td>\n",
              "      <td>0</td>\n",
              "      <td>0</td>\n",
              "      <td>0</td>\n",
              "      <td>0</td>\n",
              "      <td>0</td>\n",
              "      <td>0</td>\n",
              "      <td>0</td>\n",
              "      <td>0</td>\n",
              "      <td>0</td>\n",
              "      <td>0</td>\n",
              "      <td>0</td>\n",
              "      <td>0</td>\n",
              "      <td>0</td>\n",
              "      <td>0</td>\n",
              "      <td>0</td>\n",
              "      <td>0</td>\n",
              "      <td>1</td>\n",
              "      <td>0</td>\n",
              "      <td>0</td>\n",
              "      <td>1</td>\n",
              "      <td>0</td>\n",
              "      <td>0</td>\n",
              "      <td>0</td>\n",
              "      <td>0</td>\n",
              "      <td>0</td>\n",
              "      <td>1</td>\n",
              "      <td>0</td>\n",
              "      <td>0</td>\n",
              "      <td>0</td>\n",
              "      <td>0</td>\n",
              "      <td>0</td>\n",
              "      <td>0</td>\n",
              "      <td>0</td>\n",
              "      <td>0</td>\n",
              "      <td>0</td>\n",
              "      <td>0</td>\n",
              "    </tr>\n",
              "    <tr>\n",
              "      <th>1</th>\n",
              "      <td>2</td>\n",
              "      <td>0</td>\n",
              "      <td>1</td>\n",
              "      <td>0</td>\n",
              "      <td>0</td>\n",
              "      <td>0</td>\n",
              "      <td>1</td>\n",
              "      <td>0</td>\n",
              "      <td>0</td>\n",
              "      <td>0</td>\n",
              "      <td>0</td>\n",
              "      <td>0</td>\n",
              "      <td>1</td>\n",
              "      <td>0</td>\n",
              "      <td>0</td>\n",
              "      <td>0</td>\n",
              "      <td>0</td>\n",
              "      <td>0</td>\n",
              "      <td>0</td>\n",
              "      <td>0</td>\n",
              "      <td>0</td>\n",
              "      <td>0</td>\n",
              "      <td>0</td>\n",
              "      <td>0</td>\n",
              "      <td>0</td>\n",
              "      <td>0</td>\n",
              "      <td>0</td>\n",
              "      <td>0</td>\n",
              "      <td>0</td>\n",
              "      <td>1</td>\n",
              "      <td>0</td>\n",
              "      <td>0</td>\n",
              "      <td>0</td>\n",
              "      <td>0</td>\n",
              "      <td>0</td>\n",
              "      <td>0</td>\n",
              "      <td>0</td>\n",
              "      <td>0</td>\n",
              "      <td>0</td>\n",
              "      <td>0</td>\n",
              "      <td>0</td>\n",
              "      <td>1</td>\n",
              "      <td>0</td>\n",
              "      <td>0</td>\n",
              "      <td>0</td>\n",
              "      <td>0</td>\n",
              "      <td>0</td>\n",
              "    </tr>\n",
              "    <tr>\n",
              "      <th>2</th>\n",
              "      <td>3</td>\n",
              "      <td>0</td>\n",
              "      <td>1</td>\n",
              "      <td>0</td>\n",
              "      <td>0</td>\n",
              "      <td>0</td>\n",
              "      <td>0</td>\n",
              "      <td>0</td>\n",
              "      <td>0</td>\n",
              "      <td>0</td>\n",
              "      <td>0</td>\n",
              "      <td>0</td>\n",
              "      <td>0</td>\n",
              "      <td>0</td>\n",
              "      <td>0</td>\n",
              "      <td>0</td>\n",
              "      <td>0</td>\n",
              "      <td>0</td>\n",
              "      <td>0</td>\n",
              "      <td>0</td>\n",
              "      <td>0</td>\n",
              "      <td>1</td>\n",
              "      <td>0</td>\n",
              "      <td>0</td>\n",
              "      <td>0</td>\n",
              "      <td>0</td>\n",
              "      <td>0</td>\n",
              "      <td>0</td>\n",
              "      <td>0</td>\n",
              "      <td>1</td>\n",
              "      <td>0</td>\n",
              "      <td>0</td>\n",
              "      <td>0</td>\n",
              "      <td>0</td>\n",
              "      <td>0</td>\n",
              "      <td>0</td>\n",
              "      <td>0</td>\n",
              "      <td>0</td>\n",
              "      <td>0</td>\n",
              "      <td>0</td>\n",
              "      <td>0</td>\n",
              "      <td>0</td>\n",
              "      <td>1</td>\n",
              "      <td>0</td>\n",
              "      <td>0</td>\n",
              "      <td>0</td>\n",
              "      <td>0</td>\n",
              "    </tr>\n",
              "    <tr>\n",
              "      <th>3</th>\n",
              "      <td>4</td>\n",
              "      <td>1</td>\n",
              "      <td>1</td>\n",
              "      <td>0</td>\n",
              "      <td>0</td>\n",
              "      <td>0</td>\n",
              "      <td>1</td>\n",
              "      <td>0</td>\n",
              "      <td>0</td>\n",
              "      <td>0</td>\n",
              "      <td>0</td>\n",
              "      <td>0</td>\n",
              "      <td>0</td>\n",
              "      <td>0</td>\n",
              "      <td>1</td>\n",
              "      <td>0</td>\n",
              "      <td>0</td>\n",
              "      <td>0</td>\n",
              "      <td>0</td>\n",
              "      <td>0</td>\n",
              "      <td>0</td>\n",
              "      <td>0</td>\n",
              "      <td>0</td>\n",
              "      <td>0</td>\n",
              "      <td>0</td>\n",
              "      <td>0</td>\n",
              "      <td>0</td>\n",
              "      <td>0</td>\n",
              "      <td>0</td>\n",
              "      <td>0</td>\n",
              "      <td>1</td>\n",
              "      <td>0</td>\n",
              "      <td>0</td>\n",
              "      <td>0</td>\n",
              "      <td>0</td>\n",
              "      <td>0</td>\n",
              "      <td>1</td>\n",
              "      <td>0</td>\n",
              "      <td>0</td>\n",
              "      <td>0</td>\n",
              "      <td>0</td>\n",
              "      <td>0</td>\n",
              "      <td>0</td>\n",
              "      <td>0</td>\n",
              "      <td>0</td>\n",
              "      <td>0</td>\n",
              "      <td>0</td>\n",
              "    </tr>\n",
              "    <tr>\n",
              "      <th>4</th>\n",
              "      <td>5</td>\n",
              "      <td>0</td>\n",
              "      <td>0</td>\n",
              "      <td>0</td>\n",
              "      <td>0</td>\n",
              "      <td>0</td>\n",
              "      <td>0</td>\n",
              "      <td>0</td>\n",
              "      <td>0</td>\n",
              "      <td>0</td>\n",
              "      <td>0</td>\n",
              "      <td>0</td>\n",
              "      <td>0</td>\n",
              "      <td>0</td>\n",
              "      <td>1</td>\n",
              "      <td>0</td>\n",
              "      <td>0</td>\n",
              "      <td>0</td>\n",
              "      <td>0</td>\n",
              "      <td>0</td>\n",
              "      <td>0</td>\n",
              "      <td>0</td>\n",
              "      <td>0</td>\n",
              "      <td>0</td>\n",
              "      <td>0</td>\n",
              "      <td>0</td>\n",
              "      <td>0</td>\n",
              "      <td>1</td>\n",
              "      <td>0</td>\n",
              "      <td>1</td>\n",
              "      <td>0</td>\n",
              "      <td>0</td>\n",
              "      <td>0</td>\n",
              "      <td>0</td>\n",
              "      <td>0</td>\n",
              "      <td>0</td>\n",
              "      <td>0</td>\n",
              "      <td>0</td>\n",
              "      <td>0</td>\n",
              "      <td>0</td>\n",
              "      <td>0</td>\n",
              "      <td>0</td>\n",
              "      <td>0</td>\n",
              "      <td>0</td>\n",
              "      <td>0</td>\n",
              "      <td>0</td>\n",
              "      <td>0</td>\n",
              "    </tr>\n",
              "  </tbody>\n",
              "</table>\n",
              "</div>"
            ],
            "text/plain": [
              "   id  opera_en_bolsa  ...  trabajo_transporte  trabajo_ventas\n",
              "0   1               0  ...                   0               0\n",
              "1   2               0  ...                   0               0\n",
              "2   3               0  ...                   0               0\n",
              "3   4               1  ...                   0               0\n",
              "4   5               0  ...                   0               0\n",
              "\n",
              "[5 rows x 47 columns]"
            ]
          },
          "metadata": {
            "tags": []
          },
          "execution_count": 87
        }
      ]
    },
    {
      "cell_type": "code",
      "metadata": {
        "id": "tfIDQOd_Pkor"
      },
      "source": [
        "#prediccion\n",
        "predictions_final = xg_reg.predict(df_test_final.iloc[:, 1:47])"
      ],
      "execution_count": 88,
      "outputs": []
    },
    {
      "cell_type": "code",
      "metadata": {
        "colab": {
          "base_uri": "https://localhost:8080/"
        },
        "id": "ci6mwDGCVs-b",
        "outputId": "622d24f6-6471-40b5-81ee-5c12eac7227f"
      },
      "source": [
        "predictions_final"
      ],
      "execution_count": 89,
      "outputs": [
        {
          "output_type": "execute_result",
          "data": {
            "text/plain": [
              "array([0.01211303, 0.14720899, 0.37793046, ..., 0.6700527 , 0.7555551 ,\n",
              "       0.7484571 ], dtype=float32)"
            ]
          },
          "metadata": {
            "tags": []
          },
          "execution_count": 89
        }
      ]
    },
    {
      "cell_type": "code",
      "metadata": {
        "colab": {
          "base_uri": "https://localhost:8080/",
          "height": 204
        },
        "id": "mQaNndXPaFGr",
        "outputId": "1a6821b2-fe1c-4cb4-da48-1ade14d4570e"
      },
      "source": [
        "#Armo el submit\n",
        "int_predictions_final = get_int_predictions(predictions_final)\n",
        "\n",
        "pd_predictions_final = pd.DataFrame(columns=[\"id\", \"tiene_alto_valor_adquisitivo\"])\n",
        "\n",
        "pd_predictions_final.id = df_test_final.id\n",
        "pd_predictions_final.tiene_alto_valor_adquisitivo = int_predictions_final\n",
        "\n",
        "pd_predictions_final.head()"
      ],
      "execution_count": 90,
      "outputs": [
        {
          "output_type": "execute_result",
          "data": {
            "text/html": [
              "<div>\n",
              "<style scoped>\n",
              "    .dataframe tbody tr th:only-of-type {\n",
              "        vertical-align: middle;\n",
              "    }\n",
              "\n",
              "    .dataframe tbody tr th {\n",
              "        vertical-align: top;\n",
              "    }\n",
              "\n",
              "    .dataframe thead th {\n",
              "        text-align: right;\n",
              "    }\n",
              "</style>\n",
              "<table border=\"1\" class=\"dataframe\">\n",
              "  <thead>\n",
              "    <tr style=\"text-align: right;\">\n",
              "      <th></th>\n",
              "      <th>id</th>\n",
              "      <th>tiene_alto_valor_adquisitivo</th>\n",
              "    </tr>\n",
              "  </thead>\n",
              "  <tbody>\n",
              "    <tr>\n",
              "      <th>0</th>\n",
              "      <td>1</td>\n",
              "      <td>0</td>\n",
              "    </tr>\n",
              "    <tr>\n",
              "      <th>1</th>\n",
              "      <td>2</td>\n",
              "      <td>0</td>\n",
              "    </tr>\n",
              "    <tr>\n",
              "      <th>2</th>\n",
              "      <td>3</td>\n",
              "      <td>0</td>\n",
              "    </tr>\n",
              "    <tr>\n",
              "      <th>3</th>\n",
              "      <td>4</td>\n",
              "      <td>0</td>\n",
              "    </tr>\n",
              "    <tr>\n",
              "      <th>4</th>\n",
              "      <td>5</td>\n",
              "      <td>0</td>\n",
              "    </tr>\n",
              "  </tbody>\n",
              "</table>\n",
              "</div>"
            ],
            "text/plain": [
              "   id  tiene_alto_valor_adquisitivo\n",
              "0   1                             0\n",
              "1   2                             0\n",
              "2   3                             0\n",
              "3   4                             0\n",
              "4   5                             0"
            ]
          },
          "metadata": {
            "tags": []
          },
          "execution_count": 90
        }
      ]
    },
    {
      "cell_type": "code",
      "metadata": {
        "colab": {
          "base_uri": "https://localhost:8080/",
          "height": 235
        },
        "id": "C9zxcyg3aH3b",
        "outputId": "08894cd0-5f75-4b99-aa5b-79e493d77c08"
      },
      "source": [
        "out_df = pd_predictions_final[['id', 'tiene_alto_valor_adquisitivo']]\n",
        "out_df.set_index('id', inplace=True)\n",
        "out_df.head()"
      ],
      "execution_count": 91,
      "outputs": [
        {
          "output_type": "execute_result",
          "data": {
            "text/html": [
              "<div>\n",
              "<style scoped>\n",
              "    .dataframe tbody tr th:only-of-type {\n",
              "        vertical-align: middle;\n",
              "    }\n",
              "\n",
              "    .dataframe tbody tr th {\n",
              "        vertical-align: top;\n",
              "    }\n",
              "\n",
              "    .dataframe thead th {\n",
              "        text-align: right;\n",
              "    }\n",
              "</style>\n",
              "<table border=\"1\" class=\"dataframe\">\n",
              "  <thead>\n",
              "    <tr style=\"text-align: right;\">\n",
              "      <th></th>\n",
              "      <th>tiene_alto_valor_adquisitivo</th>\n",
              "    </tr>\n",
              "    <tr>\n",
              "      <th>id</th>\n",
              "      <th></th>\n",
              "    </tr>\n",
              "  </thead>\n",
              "  <tbody>\n",
              "    <tr>\n",
              "      <th>1</th>\n",
              "      <td>0</td>\n",
              "    </tr>\n",
              "    <tr>\n",
              "      <th>2</th>\n",
              "      <td>0</td>\n",
              "    </tr>\n",
              "    <tr>\n",
              "      <th>3</th>\n",
              "      <td>0</td>\n",
              "    </tr>\n",
              "    <tr>\n",
              "      <th>4</th>\n",
              "      <td>0</td>\n",
              "    </tr>\n",
              "    <tr>\n",
              "      <th>5</th>\n",
              "      <td>0</td>\n",
              "    </tr>\n",
              "  </tbody>\n",
              "</table>\n",
              "</div>"
            ],
            "text/plain": [
              "    tiene_alto_valor_adquisitivo\n",
              "id                              \n",
              "1                              0\n",
              "2                              0\n",
              "3                              0\n",
              "4                              0\n",
              "5                              0"
            ]
          },
          "metadata": {
            "tags": []
          },
          "execution_count": 91
        }
      ]
    },
    {
      "cell_type": "code",
      "metadata": {
        "id": "xB3eDJz_aJfI"
      },
      "source": [
        "out_df.to_csv('pd_predictions_final_xgboost.csv')"
      ],
      "execution_count": 92,
      "outputs": []
    },
    {
      "cell_type": "markdown",
      "metadata": {
        "id": "yZ5ZzOkePt5G"
      },
      "source": [
        "## Metricas sobre la prediccion final"
      ]
    },
    {
      "cell_type": "code",
      "metadata": {
        "colab": {
          "base_uri": "https://localhost:8080/"
        },
        "id": "4tRtyr3YPwYv",
        "outputId": "afab7f6e-545c-4891-ddd9-007d464cc691"
      },
      "source": [
        "data_targets_final = pd.read_csv(\"/content/targets.csv\")\n",
        "data_targets_final.iloc[:, 1].head()"
      ],
      "execution_count": 46,
      "outputs": [
        {
          "output_type": "execute_result",
          "data": {
            "text/plain": [
              "0    0\n",
              "1    0\n",
              "2    1\n",
              "3    0\n",
              "4    0\n",
              "Name: tiene_alto_valor_adquisitivo, dtype: int64"
            ]
          },
          "metadata": {
            "tags": []
          },
          "execution_count": 46
        }
      ]
    },
    {
      "cell_type": "code",
      "metadata": {
        "colab": {
          "base_uri": "https://localhost:8080/"
        },
        "id": "GY6zgCb7StKN",
        "outputId": "dc7a8d52-ca9f-4f33-f881-817a726f0f3f"
      },
      "source": [
        "#Porcentaje de acierto de las predicciones\n",
        "print(\"AUC: %f\" % (roc_auc_score(data_targets_final.iloc[:, 1], preds)))"
      ],
      "execution_count": 47,
      "outputs": [
        {
          "output_type": "stream",
          "text": [
            "AUC: 0.492873\n"
          ],
          "name": "stdout"
        }
      ]
    },
    {
      "cell_type": "code",
      "metadata": {
        "id": "N7N7XjoQUifK"
      },
      "source": [
        "#Convierto las probabilidades que  devuele XGBoost para calcular las metricas\n",
        "predictions = []\n",
        "for i in preds:\n",
        "  if i < 0.6:\n",
        "    predictions.append(0)\n",
        "  else:\n",
        "    predictions.append(1)"
      ],
      "execution_count": 48,
      "outputs": []
    },
    {
      "cell_type": "code",
      "metadata": {
        "colab": {
          "base_uri": "https://localhost:8080/"
        },
        "id": "Y4ggx9HVUo_o",
        "outputId": "0b738cab-8279-439c-b13a-712224af2150"
      },
      "source": [
        "# Obtener metricas de error\n",
        "print(\"Matriz de confusion\")\n",
        "print(confusion_matrix(data_targets_final.iloc[:, 1], predictions))\n",
        "print(\"\\n\")\n",
        "\n",
        "print(\"Porcentaje de aciertos\")\n",
        "print(round(accuracy_score(data_targets_final.iloc[:, 1], predictions),3))\n",
        "print(\"\\n\")\n",
        "\n",
        "print(\"Precision\")\n",
        "print(round(precision_score(data_targets_final.iloc[:, 1], predictions),3))\n",
        "print(\"\\n\")\n",
        "\n",
        "print(\"Recall\")\n",
        "print(round(recall_score(data_targets_final.iloc[:, 1], predictions),3))\n",
        "print(\"\\n\")\n",
        "\n",
        "print(\"F1 Score\")\n",
        "print(round(f1_score(data_targets_final.iloc[:, 1], predictions),3))"
      ],
      "execution_count": 50,
      "outputs": [
        {
          "output_type": "stream",
          "text": [
            "Matriz de confusion\n",
            "[[7084 1020]\n",
            " [7208  969]]\n",
            "\n",
            "\n",
            "Porcentaje de aciertos\n",
            "0.495\n",
            "\n",
            "\n",
            "Precision\n",
            "0.487\n",
            "\n",
            "\n",
            "Recall\n",
            "0.119\n",
            "\n",
            "\n",
            "F1 Score\n",
            "0.191\n"
          ],
          "name": "stdout"
        }
      ]
    },
    {
      "cell_type": "markdown",
      "metadata": {
        "id": "u1vP-lEnVnWX"
      },
      "source": [
        "# Analisis de features de XGBoost"
      ]
    },
    {
      "cell_type": "markdown",
      "metadata": {
        "id": "kf4M5gE3LDGY"
      },
      "source": [
        "Importancia de cada feature"
      ]
    },
    {
      "cell_type": "code",
      "metadata": {
        "id": "bsqk1-FRLGbA"
      },
      "source": [
        "xgb.plot_importance(xg_reg)\n",
        "plt.rcParams['figure.figsize'] = [30, 30]\n",
        "plt.show()"
      ],
      "execution_count": null,
      "outputs": []
    },
    {
      "cell_type": "markdown",
      "metadata": {
        "id": "kwfF1G_QL9Ml"
      },
      "source": [
        "Cross Validation\n"
      ]
    },
    {
      "cell_type": "code",
      "metadata": {
        "id": "632CLlRnL_ZJ"
      },
      "source": [
        "params = {\"objective\":\"reg:linear\",'colsample_bytree': 0.35,\n",
        "          'learning_rate': 0.13, 'max_depth': 5, 'alpha': 10, 'silent': 1}\n",
        "\n",
        "cv_scores = []\n",
        "\n",
        "for n in range(10, 100, 5):\n",
        "    cv_results = xgb.cv(dtrain=data_dmatrix, params=params, nfold=5,\n",
        "                    num_boost_round=n, early_stopping_rounds=10,\n",
        "                    metrics=\"auc\", as_pandas=True, seed=123);\n",
        "    cv_scores.append(cv_results.iloc[-1]['test-auc-mean'])"
      ],
      "execution_count": null,
      "outputs": []
    },
    {
      "cell_type": "code",
      "metadata": {
        "colab": {
          "base_uri": "https://localhost:8080/"
        },
        "id": "UJHscJ47MwdF",
        "outputId": "c8a7db63-29b4-41ff-d771-5029505de0c9"
      },
      "source": [
        "cv_scores"
      ],
      "execution_count": null,
      "outputs": [
        {
          "output_type": "execute_result",
          "data": {
            "text/plain": [
              "[0.8732512,\n",
              " 0.8773476,\n",
              " 0.8801178000000001,\n",
              " 0.8820092,\n",
              " 0.8832498000000001,\n",
              " 0.8845659999999999,\n",
              " 0.8853437999999999,\n",
              " 0.8859429999999999,\n",
              " 0.8863538,\n",
              " 0.8868452,\n",
              " 0.8872414,\n",
              " 0.8874632,\n",
              " 0.8877280000000001,\n",
              " 0.887876,\n",
              " 0.8880000000000001,\n",
              " 0.888185,\n",
              " 0.8883684000000001,\n",
              " 0.8884748]"
            ]
          },
          "metadata": {
            "tags": []
          },
          "execution_count": 40
        }
      ]
    },
    {
      "cell_type": "code",
      "metadata": {
        "id": "jow408-FM2sE"
      },
      "source": [
        "abscisa=range(10, 100, 5)\n",
        "plt.plot(abscisa, cv_scores)\n",
        "plt.grid()\n",
        "plt.xlabel('n_estimators')\n",
        "plt.ylabel('Score')\n",
        "plt.show()"
      ],
      "execution_count": null,
      "outputs": []
    },
    {
      "cell_type": "markdown",
      "metadata": {
        "id": "qcLYAIqPNWUl"
      },
      "source": [
        "Learning rate"
      ]
    },
    {
      "cell_type": "code",
      "metadata": {
        "colab": {
          "base_uri": "https://localhost:8080/"
        },
        "id": "hilIpBGTNTmH",
        "outputId": "32e3b7d0-a005-4d9a-b91b-f4149830e1c9"
      },
      "source": [
        "cv_scores = []\n",
        "\n",
        "for n in range(1, 11):\n",
        "    eta=n*0.05\n",
        "    params = {\"objective\":\"reg:linear\",'colsample_bytree': 0.3,\n",
        "          'learning_rate': eta, 'max_depth': 5, 'alpha': 10, 'silent': 1}\n",
        "    print(eta)\n",
        "    cv_results = xgb.cv(dtrain=data_dmatrix, params=params, nfold=5,\n",
        "                    num_boost_round=50, early_stopping_rounds=10,\n",
        "                    metrics=\"auc\", as_pandas=True, seed=123);\n",
        "    cv_scores.append(cv_results.iloc[-1]['test-auc-mean'])"
      ],
      "execution_count": null,
      "outputs": [
        {
          "output_type": "stream",
          "text": [
            "0.05\n",
            "0.1\n",
            "0.15000000000000002\n",
            "0.2\n",
            "0.25\n",
            "0.30000000000000004\n",
            "0.35000000000000003\n",
            "0.4\n",
            "0.45\n",
            "0.5\n"
          ],
          "name": "stdout"
        }
      ]
    },
    {
      "cell_type": "code",
      "metadata": {
        "id": "UZdYOTj3Ngqp"
      },
      "source": [
        "plt.plot([x * 0.05 for x in range(1, 11)], cv_scores)\n",
        "plt.grid()\n",
        "plt.xlabel('eta')\n",
        "plt.ylabel('Score')\n",
        "plt.show()"
      ],
      "execution_count": null,
      "outputs": []
    },
    {
      "cell_type": "markdown",
      "metadata": {
        "id": "BC_B3fkKNkR0"
      },
      "source": [
        "Max_depth"
      ]
    },
    {
      "cell_type": "code",
      "metadata": {
        "id": "lTIF7AwmNnFB"
      },
      "source": [
        "cv_scores = []\n",
        "\n",
        "for n in range(1, 11):\n",
        "    params = {\"objective\":\"reg:linear\",'colsample_bytree': 0.3,\n",
        "          'learning_rate': 0.1, 'max_depth': n, 'alpha': 10, 'silent': 1}\n",
        "\n",
        "    cv_results = xgb.cv(dtrain=data_dmatrix, params=params, nfold=5,\n",
        "                    num_boost_round=50, early_stopping_rounds=10,\n",
        "                    metrics=\"auc\", as_pandas=True, seed=123);\n",
        "    cv_scores.append(cv_results.iloc[-1]['test-auc-mean'])"
      ],
      "execution_count": null,
      "outputs": []
    },
    {
      "cell_type": "code",
      "metadata": {
        "id": "0pCnEwLiOeRQ"
      },
      "source": [
        "plt.plot([x for x in range(1, 11)], cv_scores)\n",
        "plt.grid()\n",
        "plt.xlabel('max_depth')\n",
        "plt.ylabel('Score')\n",
        "plt.show()"
      ],
      "execution_count": null,
      "outputs": []
    },
    {
      "cell_type": "markdown",
      "metadata": {
        "id": "glWMalDdNrm8"
      },
      "source": [
        "colsample_bytree (Valor muy alto: overfitting)"
      ]
    },
    {
      "cell_type": "code",
      "metadata": {
        "id": "VmCh-C-TNquA"
      },
      "source": [
        "cv_scores = []\n",
        "\n",
        "for n in range(1, 16):\n",
        "    cst=n*0.05\n",
        "    params = {\"objective\":\"reg:linear\",'colsample_bytree': cst,\n",
        "          'learning_rate': 0.1, 'max_depth': 5, 'alpha': 10, 'silent': 1}\n",
        "\n",
        "    cv_results = xgb.cv(dtrain=data_dmatrix, params=params, nfold=5,\n",
        "                    num_boost_round=50, early_stopping_rounds=10,\n",
        "                    metrics=\"auc\", as_pandas=True, seed=123);\n",
        "    cv_scores.append(cv_results.iloc[-1]['test-auc-mean'])"
      ],
      "execution_count": null,
      "outputs": []
    },
    {
      "cell_type": "code",
      "metadata": {
        "id": "NHCTNPKoNwEL"
      },
      "source": [
        "plt.plot([x*0.05 for x in range(1, 16)], cv_scores)\n",
        "plt.grid()\n",
        "plt.xlabel('colsample_bytree')\n",
        "plt.ylabel('Score')\n",
        "plt.show()"
      ],
      "execution_count": null,
      "outputs": []
    },
    {
      "cell_type": "markdown",
      "metadata": {
        "id": "93P3yOSFNzpL"
      },
      "source": [
        "Alpha"
      ]
    },
    {
      "cell_type": "code",
      "metadata": {
        "id": "2BvgwjGQNzJ5"
      },
      "source": [
        "cv_scores = []\n",
        "\n",
        "for n in range(1, 16):\n",
        "    params = {\"objective\":\"reg:linear\",'colsample_bytree': 0.3,\n",
        "          'learning_rate': 0.1, 'max_depth': 5, 'alpha': n, 'silent': 1}\n",
        "\n",
        "    cv_results = xgb.cv(dtrain=data_dmatrix, params=params, nfold=5,\n",
        "                    num_boost_round=50, early_stopping_rounds=10,\n",
        "                    metrics=\"auc\", as_pandas=True, seed=123);\n",
        "    cv_scores.append(cv_results.iloc[-1]['test-auc-mean'])"
      ],
      "execution_count": null,
      "outputs": []
    },
    {
      "cell_type": "code",
      "metadata": {
        "id": "J6iuXUnvN3G_"
      },
      "source": [
        "plt.plot([x for x in range(1, 16)], cv_scores)\n",
        "plt.grid()\n",
        "plt.xlabel('alpha')\n",
        "plt.ylabel('Score')\n",
        "plt.show()"
      ],
      "execution_count": null,
      "outputs": []
    }
  ]
}