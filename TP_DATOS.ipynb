{
  "nbformat": 4,
  "nbformat_minor": 0,
  "metadata": {
    "colab": {
      "name": "TP_DATOS.ipynb",
      "provenance": [],
      "collapsed_sections": [
        "q0q_5L3tLF0G",
        "m-u5efnkHjy6",
        "8i6thoScIwTU",
        "9IqYpaJxKLlZ",
        "7wjyq9IkLyJy",
        "HLmQvcDuMT5q",
        "SgIjmOe_M9S0"
      ]
    },
    "kernelspec": {
      "name": "python3",
      "display_name": "Python 3"
    },
    "language_info": {
      "name": "python"
    }
  },
  "cells": [
    {
      "cell_type": "markdown",
      "metadata": {
        "id": "view-in-github"
      },
      "source": [
        "<a href=\"https://colab.research.google.com/github/LRisaro/TP_DATOS_2021/blob/main/TP_DATOS.ipynb\" target=\"_parent\"><img src=\"https://colab.research.google.com/assets/colab-badge.svg\" alt=\"Open In Colab\"/></a>"
      ]
    },
    {
      "cell_type": "code",
      "metadata": {
        "id": "-4JXiZchjruK"
      },
      "source": [
        "import pandas as pd\n",
        "import numpy as np\n",
        "from matplotlib import pyplot as plt\n",
        "import seaborn as sbn\n",
        "from sklearn import tree\n",
        "from sklearn.metrics import accuracy_score\n",
        "\n",
        "%matplotlib inline\n",
        "\n",
        "plt.style.use('default') \n",
        "\n",
        "sbn.set(style=\"whitegrid\") "
      ],
      "execution_count": 1,
      "outputs": []
    },
    {
      "cell_type": "code",
      "metadata": {
        "id": "i0rlXS-7vHRL"
      },
      "source": [
        "def GetData():\n",
        "  return pd.read_csv(\"https://docs.google.com/spreadsheets/d/1-DWTP8uwVS-dZY402-dm0F9ICw_6PNqDGLmH0u8Eqa0/export?format=csv&gid=2054774482\")"
      ],
      "execution_count": 2,
      "outputs": []
    },
    {
      "cell_type": "markdown",
      "metadata": {
        "id": "jmhw2QgWEFX5"
      },
      "source": [
        "# **Inspección inicial del dataset**"
      ]
    },
    {
      "cell_type": "code",
      "metadata": {
        "id": "FPgxoSmxwbAP",
        "colab": {
          "base_uri": "https://localhost:8080/"
        },
        "outputId": "6cefb771-cba3-42eb-cdb9-6fb6072aeeb0"
      },
      "source": [
        "# Obtengo el set de datos en un dataframe\n",
        "df = GetData()\n",
        "df.columns"
      ],
      "execution_count": 3,
      "outputs": [
        {
          "output_type": "execute_result",
          "data": {
            "text/plain": [
              "Index(['anios_estudiados', 'barrio', 'categoria_de_trabajo', 'edad',\n",
              "       'educacion_alcanzada', 'estado_marital',\n",
              "       'ganancia_perdida_declarada_bolsa_argentina', 'genero',\n",
              "       'horas_trabajo_registradas', 'religion', 'rol_familiar_registrado',\n",
              "       'tiene_alto_valor_adquisitivo', 'trabajo'],\n",
              "      dtype='object')"
            ]
          },
          "metadata": {
            "tags": []
          },
          "execution_count": 3
        }
      ]
    },
    {
      "cell_type": "code",
      "metadata": {
        "colab": {
          "base_uri": "https://localhost:8080/"
        },
        "id": "f3hgBmLhETTf",
        "outputId": "c0b88fb7-a109-4179-f338-26556860e002"
      },
      "source": [
        "# Inspeccionamos las dimensiones iniciales del dataframe\n",
        "df.shape"
      ],
      "execution_count": 4,
      "outputs": [
        {
          "output_type": "execute_result",
          "data": {
            "text/plain": [
              "(32561, 13)"
            ]
          },
          "metadata": {
            "tags": []
          },
          "execution_count": 4
        }
      ]
    },
    {
      "cell_type": "code",
      "metadata": {
        "colab": {
          "base_uri": "https://localhost:8080/"
        },
        "id": "LXTw4PeAFNz9",
        "outputId": "b8085042-da29-46b1-c4bd-866fc82bf148"
      },
      "source": [
        "# Verifico que \"tiene_alto_valor_adquisitivo\" no tenga valores nulos\n",
        "df['tiene_alto_valor_adquisitivo'].isnull().any()"
      ],
      "execution_count": 5,
      "outputs": [
        {
          "output_type": "execute_result",
          "data": {
            "text/plain": [
              "False"
            ]
          },
          "metadata": {
            "tags": []
          },
          "execution_count": 5
        }
      ]
    },
    {
      "cell_type": "code",
      "metadata": {
        "colab": {
          "base_uri": "https://localhost:8080/"
        },
        "id": "7XSgy_mwFx50",
        "outputId": "bcfe90d2-3bdc-44ed-b035-7057fd04c250"
      },
      "source": [
        "# Verificamos si hay campos con valores nulos\n",
        "df.isnull().sum()"
      ],
      "execution_count": 6,
      "outputs": [
        {
          "output_type": "execute_result",
          "data": {
            "text/plain": [
              "anios_estudiados                                 0\n",
              "barrio                                         583\n",
              "categoria_de_trabajo                          1836\n",
              "edad                                             0\n",
              "educacion_alcanzada                              0\n",
              "estado_marital                                   0\n",
              "ganancia_perdida_declarada_bolsa_argentina       0\n",
              "genero                                           0\n",
              "horas_trabajo_registradas                        0\n",
              "religion                                         0\n",
              "rol_familiar_registrado                          0\n",
              "tiene_alto_valor_adquisitivo                     0\n",
              "trabajo                                       1843\n",
              "dtype: int64"
            ]
          },
          "metadata": {
            "tags": []
          },
          "execution_count": 6
        }
      ]
    },
    {
      "cell_type": "code",
      "metadata": {
        "colab": {
          "base_uri": "https://localhost:8080/",
          "height": 218
        },
        "id": "ig2qth6j2rFU",
        "outputId": "16b21abd-4d58-4325-afd4-e1f589df5616"
      },
      "source": [
        "df.head()"
      ],
      "execution_count": 7,
      "outputs": [
        {
          "output_type": "execute_result",
          "data": {
            "text/html": [
              "<div>\n",
              "<style scoped>\n",
              "    .dataframe tbody tr th:only-of-type {\n",
              "        vertical-align: middle;\n",
              "    }\n",
              "\n",
              "    .dataframe tbody tr th {\n",
              "        vertical-align: top;\n",
              "    }\n",
              "\n",
              "    .dataframe thead th {\n",
              "        text-align: right;\n",
              "    }\n",
              "</style>\n",
              "<table border=\"1\" class=\"dataframe\">\n",
              "  <thead>\n",
              "    <tr style=\"text-align: right;\">\n",
              "      <th></th>\n",
              "      <th>anios_estudiados</th>\n",
              "      <th>barrio</th>\n",
              "      <th>categoria_de_trabajo</th>\n",
              "      <th>edad</th>\n",
              "      <th>educacion_alcanzada</th>\n",
              "      <th>estado_marital</th>\n",
              "      <th>ganancia_perdida_declarada_bolsa_argentina</th>\n",
              "      <th>genero</th>\n",
              "      <th>horas_trabajo_registradas</th>\n",
              "      <th>religion</th>\n",
              "      <th>rol_familiar_registrado</th>\n",
              "      <th>tiene_alto_valor_adquisitivo</th>\n",
              "      <th>trabajo</th>\n",
              "    </tr>\n",
              "  </thead>\n",
              "  <tbody>\n",
              "    <tr>\n",
              "      <th>0</th>\n",
              "      <td>17</td>\n",
              "      <td>Palermo</td>\n",
              "      <td>empleado_provincial</td>\n",
              "      <td>39</td>\n",
              "      <td>universidad_3_anio</td>\n",
              "      <td>sin_matrimonio</td>\n",
              "      <td>2174</td>\n",
              "      <td>hombre</td>\n",
              "      <td>40</td>\n",
              "      <td>cristianismo</td>\n",
              "      <td>sin_familia</td>\n",
              "      <td>0</td>\n",
              "      <td>entretenimiento</td>\n",
              "    </tr>\n",
              "    <tr>\n",
              "      <th>1</th>\n",
              "      <td>17</td>\n",
              "      <td>Palermo</td>\n",
              "      <td>monotibutista</td>\n",
              "      <td>50</td>\n",
              "      <td>universidad_3_anio</td>\n",
              "      <td>matrimonio_civil</td>\n",
              "      <td>0</td>\n",
              "      <td>hombre</td>\n",
              "      <td>13</td>\n",
              "      <td>cristianismo</td>\n",
              "      <td>casado</td>\n",
              "      <td>0</td>\n",
              "      <td>directivo_gerente</td>\n",
              "    </tr>\n",
              "    <tr>\n",
              "      <th>2</th>\n",
              "      <td>13</td>\n",
              "      <td>Palermo</td>\n",
              "      <td>relacion_de_dependencia</td>\n",
              "      <td>38</td>\n",
              "      <td>4_anio</td>\n",
              "      <td>divorciado</td>\n",
              "      <td>0</td>\n",
              "      <td>hombre</td>\n",
              "      <td>40</td>\n",
              "      <td>cristianismo</td>\n",
              "      <td>sin_familia</td>\n",
              "      <td>0</td>\n",
              "      <td>limpiador</td>\n",
              "    </tr>\n",
              "    <tr>\n",
              "      <th>3</th>\n",
              "      <td>11</td>\n",
              "      <td>Palermo</td>\n",
              "      <td>relacion_de_dependencia</td>\n",
              "      <td>53</td>\n",
              "      <td>2_anio</td>\n",
              "      <td>matrimonio_civil</td>\n",
              "      <td>0</td>\n",
              "      <td>hombre</td>\n",
              "      <td>40</td>\n",
              "      <td>judaismo</td>\n",
              "      <td>casado</td>\n",
              "      <td>0</td>\n",
              "      <td>limpiador</td>\n",
              "    </tr>\n",
              "    <tr>\n",
              "      <th>4</th>\n",
              "      <td>17</td>\n",
              "      <td>Balvanera</td>\n",
              "      <td>relacion_de_dependencia</td>\n",
              "      <td>28</td>\n",
              "      <td>universidad_3_anio</td>\n",
              "      <td>matrimonio_civil</td>\n",
              "      <td>0</td>\n",
              "      <td>mujer</td>\n",
              "      <td>40</td>\n",
              "      <td>judaismo</td>\n",
              "      <td>casada</td>\n",
              "      <td>0</td>\n",
              "      <td>profesional_especializado</td>\n",
              "    </tr>\n",
              "  </tbody>\n",
              "</table>\n",
              "</div>"
            ],
            "text/plain": [
              "   anios_estudiados  ...                    trabajo\n",
              "0                17  ...            entretenimiento\n",
              "1                17  ...          directivo_gerente\n",
              "2                13  ...                  limpiador\n",
              "3                11  ...                  limpiador\n",
              "4                17  ...  profesional_especializado\n",
              "\n",
              "[5 rows x 13 columns]"
            ]
          },
          "metadata": {
            "tags": []
          },
          "execution_count": 7
        }
      ]
    },
    {
      "cell_type": "markdown",
      "metadata": {
        "id": "2KVfwl5QHOln"
      },
      "source": [
        "# **Análisis de columnas**"
      ]
    },
    {
      "cell_type": "markdown",
      "metadata": {
        "id": "q0q_5L3tLF0G"
      },
      "source": [
        "## **Años estudiados**\n",
        "\n",
        "**Preguntas:**\n",
        "\n",
        "* ¿La columna aporta información relevante?\n",
        "* ¿El dato esta completo en todas las filas?\n",
        "* ¿Aporta valor para realizar una predicción?\n",
        "\n",
        "**Análisis**"
      ]
    },
    {
      "cell_type": "code",
      "metadata": {
        "colab": {
          "base_uri": "https://localhost:8080/"
        },
        "id": "RxT6dVQ3LSOI",
        "outputId": "24c7ebe6-2c65-4829-a652-7528e9c16923"
      },
      "source": [
        "# ¿Tiene valores nulos?\n",
        "df[\"anios_estudiados\"].isnull().sum()"
      ],
      "execution_count": 8,
      "outputs": [
        {
          "output_type": "execute_result",
          "data": {
            "text/plain": [
              "0"
            ]
          },
          "metadata": {
            "tags": []
          },
          "execution_count": 8
        }
      ]
    },
    {
      "cell_type": "code",
      "metadata": {
        "colab": {
          "base_uri": "https://localhost:8080/"
        },
        "id": "1o7sljE9LZAs",
        "outputId": "03fb56b2-aca7-48e5-ba7b-903364bf939d"
      },
      "source": [
        "df[\"anios_estudiados\"].value_counts()"
      ],
      "execution_count": 9,
      "outputs": [
        {
          "output_type": "execute_result",
          "data": {
            "text/plain": [
              "13    10501\n",
              "14     7291\n",
              "17     5355\n",
              "18     1723\n",
              "15     1382\n",
              "11     1175\n",
              "16     1067\n",
              "10      933\n",
              "8       646\n",
              "19      576\n",
              "9       514\n",
              "12      433\n",
              "20      413\n",
              "6       333\n",
              "4       168\n",
              "1        51\n",
              "Name: anios_estudiados, dtype: int64"
            ]
          },
          "metadata": {
            "tags": []
          },
          "execution_count": 9
        }
      ]
    },
    {
      "cell_type": "code",
      "metadata": {
        "colab": {
          "base_uri": "https://localhost:8080/",
          "height": 635
        },
        "id": "tZ-TbVAbgUee",
        "outputId": "7e85dcea-a3cd-4b6c-dcb8-ff3a9f03f0ff"
      },
      "source": [
        "plt.figure(dpi=150)\n",
        "plt.title(\"Distribución de años de estudio y\\n tener alto nivel adquisitivo \")\n",
        "sbn.boxplot(\n",
        "    data=df,\n",
        "    y='anios_estudiados',\n",
        "    x='tiene_alto_valor_adquisitivo'\n",
        ")\n",
        "plt.ylabel(\"Años de estudio\")\n",
        "plt.xlabel(\"Tiene alto nivel adquisitivo \")\n",
        "plt.xticks([False, True], [\"No\", \"Sí\"])\n",
        "plt.show()"
      ],
      "execution_count": 10,
      "outputs": [
        {
          "output_type": "display_data",
          "data": {
            "image/png": "[encoded data removed]",
            "text/plain": [
              "<Figure size 900x600 with 1 Axes>"
            ]
          },
          "metadata": {
            "tags": [],
            "needs_background": "light"
          }
        }
      ]
    },
    {
      "cell_type": "markdown",
      "metadata": {
        "id": "M74XVvq4Ljn5"
      },
      "source": [
        "**Conclusiones**\n",
        "\n",
        "Podemos observar que esta columna no tiene registros faltantes. \n",
        "\n",
        "Al analizar la distribución de años de estudio vemos que los que tiene entre 14 y 17 aproxidamente tienen un alto nivel adquisitivo."
      ]
    },
    {
      "cell_type": "markdown",
      "metadata": {
        "id": "m-u5efnkHjy6"
      },
      "source": [
        "## **Categoria de trabajo**\n",
        "\n",
        "**Preguntas:**\n",
        "\n",
        "* ¿La columna aporta información relevante?\n",
        "* ¿El dato esta completo en todas las filas?\n",
        "* ¿Aporta valor para realizar una predicción?\n",
        "\n",
        "**Análisis**\n"
      ]
    },
    {
      "cell_type": "code",
      "metadata": {
        "colab": {
          "base_uri": "https://localhost:8080/"
        },
        "id": "vLcEJGiUJgYu",
        "outputId": "4c6b70c6-0bd7-4a62-ee2b-4c1c29fdc3cf"
      },
      "source": [
        "# ¿Tiene valores nulos?\n",
        "df[\"categoria_de_trabajo\"].isnull().sum()"
      ],
      "execution_count": 11,
      "outputs": [
        {
          "output_type": "execute_result",
          "data": {
            "text/plain": [
              "1836"
            ]
          },
          "metadata": {
            "tags": []
          },
          "execution_count": 11
        }
      ]
    },
    {
      "cell_type": "code",
      "metadata": {
        "colab": {
          "base_uri": "https://localhost:8080/"
        },
        "id": "qqUmKIdEHQI8",
        "outputId": "1a2b2e2b-5569-46b2-f347-342c4065cefc"
      },
      "source": [
        "df[\"categoria_de_trabajo\"].value_counts()"
      ],
      "execution_count": 12,
      "outputs": [
        {
          "output_type": "execute_result",
          "data": {
            "text/plain": [
              "relacion_de_dependencia    22696\n",
              "monotibutista               2541\n",
              "empleado_municipal          2093\n",
              "empleado_provincial         1298\n",
              "responsable_inscripto       1116\n",
              "empleadao_estatal            960\n",
              "trabajo_voluntariado          14\n",
              "sin_trabajo                    7\n",
              "Name: categoria_de_trabajo, dtype: int64"
            ]
          },
          "metadata": {
            "tags": []
          },
          "execution_count": 12
        }
      ]
    },
    {
      "cell_type": "code",
      "metadata": {
        "id": "eR_sxRO11W8j"
      },
      "source": [
        "# Eliminamos las categorias trabajo_voluntariado y sin_trabajo por tener tan solo 21 registros entre ambos\n",
        "df = df.drop(df[df[\"categoria_de_trabajo\"] == \"trabajo_voluntariado\"].index)\n",
        "df = df.drop(df[df[\"categoria_de_trabajo\"] == \"sin_trabajo\"].index)"
      ],
      "execution_count": 13,
      "outputs": []
    },
    {
      "cell_type": "code",
      "metadata": {
        "colab": {
          "base_uri": "https://localhost:8080/"
        },
        "id": "c7MfzCI1wXO5",
        "outputId": "eb076036-ffb4-48a9-ecab-e704568d5608"
      },
      "source": [
        "df[\"categoria_de_trabajo\"].value_counts()"
      ],
      "execution_count": 14,
      "outputs": [
        {
          "output_type": "execute_result",
          "data": {
            "text/plain": [
              "relacion_de_dependencia    22696\n",
              "monotibutista               2541\n",
              "empleado_municipal          2093\n",
              "empleado_provincial         1298\n",
              "responsable_inscripto       1116\n",
              "empleadao_estatal            960\n",
              "Name: categoria_de_trabajo, dtype: int64"
            ]
          },
          "metadata": {
            "tags": []
          },
          "execution_count": 14
        }
      ]
    },
    {
      "cell_type": "code",
      "metadata": {
        "colab": {
          "base_uri": "https://localhost:8080/"
        },
        "id": "ChLTPWHPu2Gj",
        "outputId": "47bef430-da83-463f-e4b5-b6b097a71f0b"
      },
      "source": [
        "# Analizamos categoria relacion de dependencia\n",
        "df_categoria_trabajo_dependiente = df[df[\"categoria_de_trabajo\"] == \"relacion_de_dependencia\"]\n",
        "df_categoria_trabajo_dependiente[\"tiene_alto_valor_adquisitivo\"].value_counts()"
      ],
      "execution_count": 15,
      "outputs": [
        {
          "output_type": "execute_result",
          "data": {
            "text/plain": [
              "0    17733\n",
              "1     4963\n",
              "Name: tiene_alto_valor_adquisitivo, dtype: int64"
            ]
          },
          "metadata": {
            "tags": []
          },
          "execution_count": 15
        }
      ]
    },
    {
      "cell_type": "code",
      "metadata": {
        "colab": {
          "base_uri": "https://localhost:8080/"
        },
        "id": "lw113Txvvy3v",
        "outputId": "110a7af1-311c-4c1f-86cb-170e717f0bf1"
      },
      "source": [
        "# Analizamos categoria monotibutista\n",
        "df_categoria_trabajo_monotributista = df[df[\"categoria_de_trabajo\"] == \"monotibutista\"]\n",
        "df_categoria_trabajo_monotributista[\"tiene_alto_valor_adquisitivo\"].value_counts()"
      ],
      "execution_count": 16,
      "outputs": [
        {
          "output_type": "execute_result",
          "data": {
            "text/plain": [
              "0    1817\n",
              "1     724\n",
              "Name: tiene_alto_valor_adquisitivo, dtype: int64"
            ]
          },
          "metadata": {
            "tags": []
          },
          "execution_count": 16
        }
      ]
    },
    {
      "cell_type": "code",
      "metadata": {
        "colab": {
          "base_uri": "https://localhost:8080/"
        },
        "id": "x1gIvS-Twjbp",
        "outputId": "892ee848-cda1-4ce8-8968-96014cc8eb8c"
      },
      "source": [
        "# Analizamos categoria empleado municipal          \n",
        "df_categoria_trabajo_municipal = df[df[\"categoria_de_trabajo\"] == \"empleado_municipal\"]\n",
        "df_categoria_trabajo_municipal[\"tiene_alto_valor_adquisitivo\"].value_counts()"
      ],
      "execution_count": 17,
      "outputs": [
        {
          "output_type": "execute_result",
          "data": {
            "text/plain": [
              "0    1476\n",
              "1     617\n",
              "Name: tiene_alto_valor_adquisitivo, dtype: int64"
            ]
          },
          "metadata": {
            "tags": []
          },
          "execution_count": 17
        }
      ]
    },
    {
      "cell_type": "code",
      "metadata": {
        "colab": {
          "base_uri": "https://localhost:8080/"
        },
        "id": "y0R051x68WVU",
        "outputId": "1aa50681-2059-49ef-9f15-4023f6290ef8"
      },
      "source": [
        "# Analizamos categoria empleado provincial\n",
        "df_categoria_trabajo_provincial = df[df[\"categoria_de_trabajo\"] == \"empleado_provincial\"]\n",
        "df_categoria_trabajo_provincial[\"tiene_alto_valor_adquisitivo\"].value_counts()"
      ],
      "execution_count": 18,
      "outputs": [
        {
          "output_type": "execute_result",
          "data": {
            "text/plain": [
              "0    945\n",
              "1    353\n",
              "Name: tiene_alto_valor_adquisitivo, dtype: int64"
            ]
          },
          "metadata": {
            "tags": []
          },
          "execution_count": 18
        }
      ]
    },
    {
      "cell_type": "code",
      "metadata": {
        "colab": {
          "base_uri": "https://localhost:8080/"
        },
        "id": "abfHpvBvwyVo",
        "outputId": "4068d7c1-83e9-430b-a2ce-d61c527b66eb"
      },
      "source": [
        "# Analizamos por categoria responsable inscripto\n",
        "df_categoria_trabajo_responsable_inscripto = df[df[\"categoria_de_trabajo\"] == \"responsable_inscripto\"]\n",
        "df_categoria_trabajo_responsable_inscripto[\"tiene_alto_valor_adquisitivo\"].value_counts()"
      ],
      "execution_count": 19,
      "outputs": [
        {
          "output_type": "execute_result",
          "data": {
            "text/plain": [
              "1    622\n",
              "0    494\n",
              "Name: tiene_alto_valor_adquisitivo, dtype: int64"
            ]
          },
          "metadata": {
            "tags": []
          },
          "execution_count": 19
        }
      ]
    },
    {
      "cell_type": "code",
      "metadata": {
        "colab": {
          "base_uri": "https://localhost:8080/"
        },
        "id": "7MBDSwDk8t_P",
        "outputId": "f0bb47a5-aa2b-47d2-a659-fd0d5f63fcc4"
      },
      "source": [
        "# Analizamos por categoria empleado estatal            \n",
        "df_categoria_trabajo_estatal = df[df[\"categoria_de_trabajo\"] == \"empleadao_estatal\"]\n",
        "df_categoria_trabajo_estatal[\"tiene_alto_valor_adquisitivo\"].value_counts()"
      ],
      "execution_count": 20,
      "outputs": [
        {
          "output_type": "execute_result",
          "data": {
            "text/plain": [
              "0    589\n",
              "1    371\n",
              "Name: tiene_alto_valor_adquisitivo, dtype: int64"
            ]
          },
          "metadata": {
            "tags": []
          },
          "execution_count": 20
        }
      ]
    },
    {
      "cell_type": "code",
      "metadata": {
        "colab": {
          "base_uri": "https://localhost:8080/",
          "height": 550
        },
        "id": "lcKLJ_u93pQa",
        "outputId": "0970b186-c233-4bab-fab5-ded8df0dc0b6"
      },
      "source": [
        "# Comparamos la categoria de trabajo y si tiene alto valor adquisitivo\n",
        "plt.figure(dpi=150)\n",
        "df_aux = df[[\"tiene_alto_valor_adquisitivo\", \"categoria_de_trabajo\"]].value_counts().reset_index()\n",
        "df_aux.columns.values[2] = 'count'\n",
        "df_aux.tiene_alto_valor_adquisitivo.replace(to_replace=[True, False], value=[\"Sí\", \"No\"], inplace=True)\n",
        "df_aux.categoria_de_trabajo.replace(to_replace=[\"relacion_de_dependencia\", \"monotibutista\", \"empleado_municipal\", \"empleado_provincial\", \"responsable_inscripto\", \"empleadao_estatal\"], \n",
        "    value=[\"Relacion de dependencia\", \"Monotribustista\", \"Empleado municipal\", \"Empleado provincial\", \"Responsable inscripto\", \"Empleado estatal\"], inplace=True)\n",
        "\n",
        "sbn.catplot(data=df_aux, x='categoria_de_trabajo', y='count', hue='tiene_alto_valor_adquisitivo', kind='bar', legend=False)\n",
        "\n",
        "plt.legend(title = \"Tiene alto valor adquisitivo \")\n",
        "plt.ylabel(\"Cantidad de registros (log)\")\n",
        "plt.xlabel(\"Categoria de trabajo\")\n",
        "plt.title('Relación entre categoria de trabajo y si tiene alto valor adquisitivo')\n",
        "plt.xticks(rotation=90)\n",
        "plt.yscale(\"log\")\n",
        "plt.show()"
      ],
      "execution_count": 21,
      "outputs": [
        {
          "output_type": "display_data",
          "data": {
            "text/plain": [
              "<Figure size 900x600 with 0 Axes>"
            ]
          },
          "metadata": {
            "tags": []
          }
        },
        {
          "output_type": "display_data",
          "data": {
            "image/png": "[encoded data removed]",
            "text/plain": [
              "<Figure size 360x360 with 1 Axes>"
            ]
          },
          "metadata": {
            "tags": [],
            "needs_background": "light"
          }
        }
      ]
    },
    {
      "cell_type": "markdown",
      "metadata": {
        "id": "p0jl_KDaI17S"
      },
      "source": [
        "**Conclusiones**\n",
        "\n",
        "Podemos observar que faltan 1632 de los 32561 valores (5,6 %). \n",
        "\n",
        "Como entre las categorias \"trabajo_voluntariado\" y \"sin_trabajo\" hay tan solo 21 registros los eliminamos al no ser representativa la cantidad con esos tipos (0,06 %).\n",
        "\n",
        "Podemos observar que la mayoria de los registros corresponden a valor \"relacion_de_dependencia\".\n",
        "\n",
        "También observamos que la mayoria de los responzables inscriptos tienen un alto nivel adquisitivo."
      ]
    },
    {
      "cell_type": "markdown",
      "metadata": {
        "id": "8i6thoScIwTU"
      },
      "source": [
        "## **Barrio**\n",
        "\n",
        "**Preguntas:**\n",
        "\n",
        "* ¿La columna aporta información relevante?\n",
        "* ¿El dato esta completo en todas las filas?\n",
        "* ¿Aporta valor para realizar una predicción?\n",
        "* ¿Los datos estan balanceados?\n",
        "* ¿Hay valores mas representativos?\n",
        "\n",
        "**Análisis**"
      ]
    },
    {
      "cell_type": "code",
      "metadata": {
        "colab": {
          "base_uri": "https://localhost:8080/"
        },
        "id": "c7Mu3AcsJUNU",
        "outputId": "3477ece1-5eb9-411c-ef04-aba837a8bf1a"
      },
      "source": [
        "# ¿Tiene valores nulos?\n",
        "df[\"barrio\"].isnull().sum()"
      ],
      "execution_count": 22,
      "outputs": [
        {
          "output_type": "execute_result",
          "data": {
            "text/plain": [
              "583"
            ]
          },
          "metadata": {
            "tags": []
          },
          "execution_count": 22
        }
      ]
    },
    {
      "cell_type": "code",
      "metadata": {
        "colab": {
          "base_uri": "https://localhost:8080/"
        },
        "id": "ODOwfzX7IyYi",
        "outputId": "8c79f7fa-9fa0-4622-bd2d-0399ad71548b"
      },
      "source": [
        "df[\"barrio\"].value_counts()"
      ],
      "execution_count": 23,
      "outputs": [
        {
          "output_type": "execute_result",
          "data": {
            "text/plain": [
              "Palermo                29150\n",
              "Belgrano                 643\n",
              "San Isidro               197\n",
              "Villa Urquiza            137\n",
              "Recoleta                 121\n",
              "La Boca                  114\n",
              "Agronomia                106\n",
              "Almagro                  100\n",
              "Balvanera                 95\n",
              "Puerto Madero             90\n",
              "Caballito                 81\n",
              "Boedo                     80\n",
              "Barracas                  75\n",
              "Chacarita                 73\n",
              "Coghland                  70\n",
              "Floresta                  67\n",
              "Constitucion              64\n",
              "Colegiales                62\n",
              "Flores                    60\n",
              "Liniers                   59\n",
              "Monte Castro              51\n",
              "Mataderos                 44\n",
              "Nueva Pompeya             43\n",
              "Monserrat                 37\n",
              "nuñez                     34\n",
              "Parque Chacabuco          31\n",
              "Parque Avellaneda         29\n",
              "Villa Luro                29\n",
              "Parque Chas               28\n",
              "La Paternal               24\n",
              "Retiro                    20\n",
              "Villa Devoto              19\n",
              "Villa Soldati             19\n",
              "San Telmo                 18\n",
              "Villa Real                18\n",
              "Santa Rita                16\n",
              "Villa General Mitre       14\n",
              "Velez Sarsfield           13\n",
              "Versalles                 13\n",
              "Villa Pueyrredon          12\n",
              "Cilla Riachuelo            1\n",
              "Name: barrio, dtype: int64"
            ]
          },
          "metadata": {
            "tags": []
          },
          "execution_count": 23
        }
      ]
    },
    {
      "cell_type": "code",
      "metadata": {
        "colab": {
          "base_uri": "https://localhost:8080/"
        },
        "id": "MjlqGMBLC5dG",
        "outputId": "832a6098-f118-450d-bad0-b43cb8c3bfa1"
      },
      "source": [
        "df_barrio_alto_valor = df[df[\"tiene_alto_valor_adquisitivo\"] == True]\n",
        "df_barrio_alto_valor[\"barrio\"].value_counts()"
      ],
      "execution_count": 24,
      "outputs": [
        {
          "output_type": "execute_result",
          "data": {
            "text/plain": [
              "Palermo              7171\n",
              "San Isidro             61\n",
              "Villa Urquiza          44\n",
              "Almagro                40\n",
              "Recoleta               39\n",
              "Belgrano               33\n",
              "Puerto Madero          30\n",
              "Chacarita              25\n",
              "Balvanera              25\n",
              "Colegiales             24\n",
              "Barracas               20\n",
              "Monte Castro           20\n",
              "Nueva Pompeya          18\n",
              "Boedo                  16\n",
              "La Boca                12\n",
              "Villa Luro             12\n",
              "Flores                 12\n",
              "Caballito              10\n",
              "Agronomia               9\n",
              "Parque Avellaneda       8\n",
              "Villa Devoto            7\n",
              "Santa Rita              6\n",
              "Retiro                  6\n",
              "Floresta                5\n",
              "La Paternal             5\n",
              "Mataderos               4\n",
              "Parque Chas             4\n",
              "Monserrat               4\n",
              "Villa Pueyrredon        3\n",
              "Velez Sarsfield         3\n",
              "Constitucion            3\n",
              "San Telmo               3\n",
              "Coghland                2\n",
              "Villa Real              2\n",
              "Villa Soldati           2\n",
              "nuñez                   2\n",
              "Parque Chacabuco        2\n",
              "Liniers                 2\n",
              "Versalles               1\n",
              "Name: barrio, dtype: int64"
            ]
          },
          "metadata": {
            "tags": []
          },
          "execution_count": 24
        }
      ]
    },
    {
      "cell_type": "code",
      "metadata": {
        "colab": {
          "base_uri": "https://localhost:8080/"
        },
        "id": "NP6CfNWyC_we",
        "outputId": "f9de8731-82ac-4dd9-ba6e-f176d2e68e45"
      },
      "source": [
        "df_barrio_bajo_valor = df[df[\"tiene_alto_valor_adquisitivo\"] == False]\n",
        "df_barrio_bajo_valor[\"barrio\"].value_counts()"
      ],
      "execution_count": 25,
      "outputs": [
        {
          "output_type": "execute_result",
          "data": {
            "text/plain": [
              "Palermo                21979\n",
              "Belgrano                 610\n",
              "San Isidro               136\n",
              "La Boca                  102\n",
              "Agronomia                 97\n",
              "Villa Urquiza             93\n",
              "Recoleta                  82\n",
              "Caballito                 71\n",
              "Balvanera                 70\n",
              "Coghland                  68\n",
              "Boedo                     64\n",
              "Floresta                  62\n",
              "Constitucion              61\n",
              "Almagro                   60\n",
              "Puerto Madero             60\n",
              "Liniers                   57\n",
              "Barracas                  55\n",
              "Chacarita                 48\n",
              "Flores                    48\n",
              "Mataderos                 40\n",
              "Colegiales                38\n",
              "Monserrat                 33\n",
              "nuñez                     32\n",
              "Monte Castro              31\n",
              "Parque Chacabuco          29\n",
              "Nueva Pompeya             25\n",
              "Parque Chas               24\n",
              "Parque Avellaneda         21\n",
              "La Paternal               19\n",
              "Villa Soldati             17\n",
              "Villa Luro                17\n",
              "Villa Real                16\n",
              "San Telmo                 15\n",
              "Retiro                    14\n",
              "Villa General Mitre       14\n",
              "Villa Devoto              12\n",
              "Versalles                 12\n",
              "Velez Sarsfield           10\n",
              "Santa Rita                10\n",
              "Villa Pueyrredon           9\n",
              "Cilla Riachuelo            1\n",
              "Name: barrio, dtype: int64"
            ]
          },
          "metadata": {
            "tags": []
          },
          "execution_count": 25
        }
      ]
    },
    {
      "cell_type": "markdown",
      "metadata": {
        "id": "PnBrE21YJlYH"
      },
      "source": [
        "**Conclusiones**\n",
        "\n",
        "Podemos observar que esta columna solo tiene un faltante de 583 sobre los 32561 valores (1,8 %). \n",
        "\n",
        "La mayoria de los registros corresponde al barrio de Palermo.\n",
        "\n",
        "Los datos no estan balanceados."
      ]
    },
    {
      "cell_type": "markdown",
      "metadata": {
        "id": "9IqYpaJxKLlZ"
      },
      "source": [
        "## **Edad**\n",
        "\n",
        "**Preguntas:**\n",
        "\n",
        "* ¿La columna aporta información relevante?\n",
        "* ¿El dato esta completo en todas las filas?\n",
        "* ¿Aporta valor para realizar una predicción?\n",
        "\n",
        "**Análisis**"
      ]
    },
    {
      "cell_type": "code",
      "metadata": {
        "colab": {
          "base_uri": "https://localhost:8080/"
        },
        "id": "W608EPdmKcPm",
        "outputId": "0da56a32-a0c6-454a-9b3a-21e175a48b79"
      },
      "source": [
        "# ¿Tiene valores nulos?\n",
        "df[\"edad\"].isnull().sum()"
      ],
      "execution_count": 26,
      "outputs": [
        {
          "output_type": "execute_result",
          "data": {
            "text/plain": [
              "0"
            ]
          },
          "metadata": {
            "tags": []
          },
          "execution_count": 26
        }
      ]
    },
    {
      "cell_type": "code",
      "metadata": {
        "colab": {
          "base_uri": "https://localhost:8080/"
        },
        "id": "fZj5ca_XKhAK",
        "outputId": "164f1f2c-8d2c-459b-d382-fd90a7a08be6"
      },
      "source": [
        "df[\"edad\"].value_counts()"
      ],
      "execution_count": 27,
      "outputs": [
        {
          "output_type": "execute_result",
          "data": {
            "text/plain": [
              "36    898\n",
              "31    888\n",
              "34    886\n",
              "23    876\n",
              "35    876\n",
              "     ... \n",
              "83      6\n",
              "88      3\n",
              "85      3\n",
              "87      1\n",
              "86      1\n",
              "Name: edad, Length: 73, dtype: int64"
            ]
          },
          "metadata": {
            "tags": []
          },
          "execution_count": 27
        }
      ]
    },
    {
      "cell_type": "code",
      "metadata": {
        "colab": {
          "base_uri": "https://localhost:8080/"
        },
        "id": "nbxpadEj5GF2",
        "outputId": "24f740d0-9f99-4168-b76a-51580a1a60de"
      },
      "source": [
        "df_edad_alto_valor = df[df[\"tiene_alto_valor_adquisitivo\"] == True]\n",
        "df_edad_alto_valor[\"edad\"].value_counts()"
      ],
      "execution_count": 28,
      "outputs": [
        {
          "output_type": "execute_result",
          "data": {
            "text/plain": [
              "37    292\n",
              "46    292\n",
              "47    288\n",
              "45    288\n",
              "38    282\n",
              "     ... \n",
              "81      3\n",
              "80      2\n",
              "19      2\n",
              "83      2\n",
              "84      1\n",
              "Name: edad, Length: 65, dtype: int64"
            ]
          },
          "metadata": {
            "tags": []
          },
          "execution_count": 28
        }
      ]
    },
    {
      "cell_type": "code",
      "metadata": {
        "colab": {
          "base_uri": "https://localhost:8080/"
        },
        "id": "S8jiA_N75WAl",
        "outputId": "efbce8b0-b414-49f9-a110-343e67c20644"
      },
      "source": [
        "df_edad_sin_alto_valor = df[df[\"tiene_alto_valor_adquisitivo\"] == False]\n",
        "df_edad_sin_alto_valor[\"edad\"].value_counts()"
      ],
      "execution_count": 29,
      "outputs": [
        {
          "output_type": "execute_result",
          "data": {
            "text/plain": [
              "23    864\n",
              "25    788\n",
              "24    767\n",
              "27    754\n",
              "20    752\n",
              "     ... \n",
              "83      4\n",
              "85      3\n",
              "88      3\n",
              "87      1\n",
              "86      1\n",
              "Name: edad, Length: 73, dtype: int64"
            ]
          },
          "metadata": {
            "tags": []
          },
          "execution_count": 29
        }
      ]
    },
    {
      "cell_type": "markdown",
      "metadata": {
        "id": "--CHPgYRK4vO"
      },
      "source": [
        "**Conclusiones**\n",
        "\n",
        "Podemos observar que no tiene valores nulos.\n",
        "\n",
        "Esta columna presenta un amplio rango de valores posibles en el caso de tener alto nivel adquisitivo, no es concluyente."
      ]
    },
    {
      "cell_type": "markdown",
      "metadata": {
        "id": "7wjyq9IkLyJy"
      },
      "source": [
        "## **Educación alcanzada**\n",
        "\n",
        "**Preguntas:**\n",
        "\n",
        "* ¿La columna aporta información relevante?\n",
        "* ¿El dato esta completo en todas las filas?\n",
        "* ¿Aporta valor para realizar una predicción?\n",
        "\n",
        "**Análisis**"
      ]
    },
    {
      "cell_type": "code",
      "metadata": {
        "colab": {
          "base_uri": "https://localhost:8080/"
        },
        "id": "ufNa8VrxL4U0",
        "outputId": "ad76c033-bb93-44a5-9034-a74c8aadfefc"
      },
      "source": [
        "# ¿Tiene valores nulos?\n",
        "df[\"educacion_alcanzada\"].isnull().sum()"
      ],
      "execution_count": 30,
      "outputs": [
        {
          "output_type": "execute_result",
          "data": {
            "text/plain": [
              "0"
            ]
          },
          "metadata": {
            "tags": []
          },
          "execution_count": 30
        }
      ]
    },
    {
      "cell_type": "code",
      "metadata": {
        "colab": {
          "base_uri": "https://localhost:8080/"
        },
        "id": "nJFoGEOKL9ti",
        "outputId": "4ea83d0a-6f78-469e-e75f-4fe174edeb98"
      },
      "source": [
        "df[\"educacion_alcanzada\"].value_counts()"
      ],
      "execution_count": 31,
      "outputs": [
        {
          "output_type": "execute_result",
          "data": {
            "text/plain": [
              "4_anio                10491\n",
              "5_anio                 7286\n",
              "universidad_3_anio     5355\n",
              "universidad_4_anio     1723\n",
              "universidad_1_anio     1382\n",
              "2_anio                 1174\n",
              "universidad_2_anio     1066\n",
              "1_anio                  931\n",
              "7-8_grado               644\n",
              "universiada_5_anio      576\n",
              "9_grado                 514\n",
              "3_anio                  433\n",
              "universiada_6_anio      413\n",
              "5-6_grado               333\n",
              "1-4_grado               168\n",
              "preescolar               51\n",
              "Name: educacion_alcanzada, dtype: int64"
            ]
          },
          "metadata": {
            "tags": []
          },
          "execution_count": 31
        }
      ]
    },
    {
      "cell_type": "code",
      "metadata": {
        "id": "Hm6gJS7Hhq9H"
      },
      "source": [
        "df.replace({\"preescolar\" : 1, \"1-4_grado\": 2, \"5-6_grado\": 3, \"7-8_grado\" : 4, \"9_grado\" : 5, \"1_anio\" : 6, \"2_anio\" : 7, \"3_anio\" : 8, \"4_anio\" : 9, \"5_anio\" : 10, \"universidad_1_anio\" : 11, \"universidad_2_anio\" : 12,\n",
        "              \"universidad_3_anio\" : 13, \"universidad_4_anio\" : 14, \"universiada_5_anio\" : 15, \"universiada_6_anio\" : 16}, inplace = True)"
      ],
      "execution_count": 32,
      "outputs": []
    },
    {
      "cell_type": "code",
      "metadata": {
        "colab": {
          "base_uri": "https://localhost:8080/",
          "height": 635
        },
        "id": "48N8Hxpxh3Bi",
        "outputId": "11193426-c2f4-4777-fede-e946c4bd7419"
      },
      "source": [
        "plt.figure(dpi=150)\n",
        "plt.title(\"Distribución de educación alcanzada y\\n tener alto nivel adquisitivo \")\n",
        "sbn.boxplot(\n",
        "    data=df,\n",
        "    y='educacion_alcanzada',\n",
        "    x='tiene_alto_valor_adquisitivo'\n",
        ")\n",
        "plt.ylabel(\"Educación alcanzada\")\n",
        "plt.xlabel(\"Tiene alto nivel adquisitivo \")\n",
        "plt.xticks([False, True], [\"No\", \"Sí\"])\n",
        "plt.show()"
      ],
      "execution_count": 33,
      "outputs": [
        {
          "output_type": "display_data",
          "data": {
            "image/png": "[encoded data removed]",
            "text/plain": [
              "<Figure size 900x600 with 1 Axes>"
            ]
          },
          "metadata": {
            "tags": [],
            "needs_background": "light"
          }
        }
      ]
    },
    {
      "cell_type": "markdown",
      "metadata": {
        "id": "GXNlmnKoMJY8"
      },
      "source": [
        "**Conclusiones**\n",
        "\n",
        "Podemos observar que no tiene valores nulos.\n",
        "\n",
        "Con el fin de tener una variable con cardinalidad convertimos los valores de string a números.\n",
        "\n",
        "Vemos que si tiene un nivel de estudio de entre 5° año de secundaria y 3° de universidad hay una mayor concentracion de población con alto nivel adquisitivo."
      ]
    },
    {
      "cell_type": "markdown",
      "metadata": {
        "id": "HLmQvcDuMT5q"
      },
      "source": [
        "## **Estado marital**\n",
        "\n",
        "**Preguntas:**\n",
        "\n",
        "* ¿La columna aporta información relevante?\n",
        "* ¿El dato esta completo en todas las filas?\n",
        "* ¿Aporta valor para realizar una predicción?\n",
        "\n",
        "**Análisis**"
      ]
    },
    {
      "cell_type": "code",
      "metadata": {
        "colab": {
          "base_uri": "https://localhost:8080/"
        },
        "id": "b6AxC27EMZo3",
        "outputId": "5892c859-fd24-4a7b-857f-15125a80edd9"
      },
      "source": [
        "# ¿Tiene valores nulos?\n",
        "df[\"estado_marital\"].isnull().sum()"
      ],
      "execution_count": 34,
      "outputs": [
        {
          "output_type": "execute_result",
          "data": {
            "text/plain": [
              "0"
            ]
          },
          "metadata": {
            "tags": []
          },
          "execution_count": 34
        }
      ]
    },
    {
      "cell_type": "code",
      "metadata": {
        "colab": {
          "base_uri": "https://localhost:8080/"
        },
        "id": "_3770cUgMfUk",
        "outputId": "6b8ab0f2-5f23-4675-af26-54549e25ff0c"
      },
      "source": [
        "df[\"estado_marital\"].value_counts()"
      ],
      "execution_count": 35,
      "outputs": [
        {
          "output_type": "execute_result",
          "data": {
            "text/plain": [
              "matrimonio_civil      14967\n",
              "sin_matrimonio        10674\n",
              "divorciado             4442\n",
              "separado               1025\n",
              "viudo_a                 992\n",
              "pareja_no_presente      417\n",
              "matrimonio_militar       23\n",
              "Name: estado_marital, dtype: int64"
            ]
          },
          "metadata": {
            "tags": []
          },
          "execution_count": 35
        }
      ]
    },
    {
      "cell_type": "code",
      "metadata": {
        "id": "S4zs63IZkfni"
      },
      "source": [
        "df[\"estado_marital\"].replace(to_replace =\"matrimonio_militar\", value =\"matrimonio\", inplace=True)\n",
        "df[\"estado_marital\"].replace(to_replace =\"matrimonio_civil\", value =\"matrimonio\", inplace=True)"
      ],
      "execution_count": 36,
      "outputs": []
    },
    {
      "cell_type": "code",
      "metadata": {
        "colab": {
          "base_uri": "https://localhost:8080/"
        },
        "id": "xAU_oosZk0H7",
        "outputId": "ffba72b1-0100-4945-d0b7-92d2b06bbe8a"
      },
      "source": [
        "df[\"estado_marital\"].value_counts()"
      ],
      "execution_count": 37,
      "outputs": [
        {
          "output_type": "execute_result",
          "data": {
            "text/plain": [
              "matrimonio            14990\n",
              "sin_matrimonio        10674\n",
              "divorciado             4442\n",
              "separado               1025\n",
              "viudo_a                 992\n",
              "pareja_no_presente      417\n",
              "Name: estado_marital, dtype: int64"
            ]
          },
          "metadata": {
            "tags": []
          },
          "execution_count": 37
        }
      ]
    },
    {
      "cell_type": "code",
      "metadata": {
        "colab": {
          "base_uri": "https://localhost:8080/",
          "height": 515
        },
        "id": "1amLDiy4jb6W",
        "outputId": "8a206285-60aa-408b-9967-929a878498e5"
      },
      "source": [
        "# Comparamos la categoria de trabajo y si tiene alto valor adquisitivo\n",
        "plt.figure(dpi=150)\n",
        "df_aux = df[[\"tiene_alto_valor_adquisitivo\", \"estado_marital\"]].value_counts().reset_index()\n",
        "df_aux.columns.values[2] = 'count'\n",
        "df_aux.estado_marital.replace(to_replace=[True, False], value=[\"Sí\", \"No\"], inplace=True)\n",
        "df_aux.estado_marital.replace(to_replace=[\"sin_matrimonio\", \"viudo_a\", \"pareja_no_presente\"], value=[\"Sin matrimonio\", \"viudo/a\", \"Pareja no presente\"], inplace=True)\n",
        "\n",
        "sbn.catplot(data=df_aux, x='estado_marital', y='count', hue='tiene_alto_valor_adquisitivo', kind='bar', legend=False)\n",
        "\n",
        "plt.legend(title = \"Tiene alto valor adquisitivo \")\n",
        "plt.ylabel(\"Cantidad de registros (log)\")\n",
        "plt.xlabel(\"Categoria de trabajo\")\n",
        "plt.title('Relación entre categoria de trabajo y si tiene alto valor adquisitivo')\n",
        "plt.xticks(rotation=90)\n",
        "plt.yscale(\"log\")\n",
        "plt.show()"
      ],
      "execution_count": 38,
      "outputs": [
        {
          "output_type": "display_data",
          "data": {
            "text/plain": [
              "<Figure size 900x600 with 0 Axes>"
            ]
          },
          "metadata": {
            "tags": []
          }
        },
        {
          "output_type": "display_data",
          "data": {
            "image/png": "[encoded data removed]",
            "text/plain": [
              "<Figure size 360x360 with 1 Axes>"
            ]
          },
          "metadata": {
            "tags": [],
            "needs_background": "light"
          }
        }
      ]
    },
    {
      "cell_type": "markdown",
      "metadata": {
        "id": "6FH01pUDMwVd"
      },
      "source": [
        "**Conclusiones**\n",
        "\n",
        "Podemos observar que no tiene valores nulos.\n",
        "\n",
        "Con el fin de analizar las personas con matrimonio, unimos los valores matrimonio civil y matrimonio militar.\n",
        "\n",
        "Podemos observar que Pareja no presente tiene una baja probabilidad de tener alto nivel adquisitivo."
      ]
    },
    {
      "cell_type": "markdown",
      "metadata": {
        "id": "SgIjmOe_M9S0"
      },
      "source": [
        "## **Ganancia, perdida declarada bolsa argentina**\n",
        "\n",
        "**Preguntas:**\n",
        "\n",
        "* ¿La columna aporta información relevante?\n",
        "* ¿El dato esta completo en todas las filas?\n",
        "* ¿Aporta valor para realizar una predicción?\n",
        "\n",
        "**Análisis**"
      ]
    },
    {
      "cell_type": "code",
      "metadata": {
        "colab": {
          "base_uri": "https://localhost:8080/"
        },
        "id": "SuJ1CnJfNEf0",
        "outputId": "d6fa8fcc-471b-4f4e-a4e7-157af9d1bd8b"
      },
      "source": [
        "# ¿Tiene valores nulos?\n",
        "df[\"ganancia_perdida_declarada_bolsa_argentina\"].isnull().sum()"
      ],
      "execution_count": 39,
      "outputs": [
        {
          "output_type": "execute_result",
          "data": {
            "text/plain": [
              "0"
            ]
          },
          "metadata": {
            "tags": []
          },
          "execution_count": 39
        }
      ]
    },
    {
      "cell_type": "code",
      "metadata": {
        "colab": {
          "base_uri": "https://localhost:8080/"
        },
        "id": "_ADaHv69NHdS",
        "outputId": "22f0b560-97dc-4032-d5d3-9d4e5fa69b19"
      },
      "source": [
        "df[\"ganancia_perdida_declarada_bolsa_argentina\"].value_counts()"
      ],
      "execution_count": 40,
      "outputs": [
        {
          "output_type": "execute_result",
          "data": {
            "text/plain": [
              " 0        28311\n",
              " 15024      347\n",
              " 7688       284\n",
              " 7298       246\n",
              "-1902       202\n",
              "          ...  \n",
              " 22040        1\n",
              " 2538         1\n",
              "-2467         1\n",
              "-2163         1\n",
              "-2080         1\n",
              "Name: ganancia_perdida_declarada_bolsa_argentina, Length: 210, dtype: int64"
            ]
          },
          "metadata": {
            "tags": []
          },
          "execution_count": 40
        }
      ]
    },
    {
      "cell_type": "code",
      "metadata": {
        "id": "PXLvcivSnstf"
      },
      "source": [
        "df[\"opera_en_bolsa\"] = df[\"ganancia_perdida_declarada_bolsa_argentina\"].apply(lambda x: True if x != 0 else False)\n",
        "df.drop(columns = \"ganancia_perdida_declarada_bolsa_argentina\", inplace = True)"
      ],
      "execution_count": 41,
      "outputs": []
    },
    {
      "cell_type": "code",
      "metadata": {
        "colab": {
          "base_uri": "https://localhost:8080/"
        },
        "id": "y5nTgk3Emour",
        "outputId": "f674bfc2-e31d-4754-8435-f85dc62c0129"
      },
      "source": [
        "# Analizamos opera en bolsa vs Tiene alto valor adquisitivo \n",
        "df_no_opera_bolsa_argentina = df[df[\"opera_en_bolsa\"] == False]\n",
        "df_no_opera_bolsa_argentina[\"tiene_alto_valor_adquisitivo\"].value_counts()"
      ],
      "execution_count": 42,
      "outputs": [
        {
          "output_type": "execute_result",
          "data": {
            "text/plain": [
              "0    22920\n",
              "1     5391\n",
              "Name: tiene_alto_valor_adquisitivo, dtype: int64"
            ]
          },
          "metadata": {
            "tags": []
          },
          "execution_count": 42
        }
      ]
    },
    {
      "cell_type": "code",
      "metadata": {
        "colab": {
          "base_uri": "https://localhost:8080/"
        },
        "id": "gs4uPTFgnBgV",
        "outputId": "341f35b4-d210-4c4b-deb4-8067aca346d4"
      },
      "source": [
        "# Analizamos no opera en bolsa vs Tiene alto valor adquisitivo \n",
        "df_opera_bolsa_argentina = df[df[\"opera_en_bolsa\"] == True]\n",
        "df_opera_bolsa_argentina[\"tiene_alto_valor_adquisitivo\"].value_counts()"
      ],
      "execution_count": 43,
      "outputs": [
        {
          "output_type": "execute_result",
          "data": {
            "text/plain": [
              "1    2450\n",
              "0    1779\n",
              "Name: tiene_alto_valor_adquisitivo, dtype: int64"
            ]
          },
          "metadata": {
            "tags": []
          },
          "execution_count": 43
        }
      ]
    },
    {
      "cell_type": "code",
      "metadata": {
        "colab": {
          "base_uri": "https://localhost:8080/",
          "height": 420
        },
        "id": "0mnyYZgEnUeH",
        "outputId": "2d46b110-00d9-44ef-bec3-41bf97552ea8"
      },
      "source": [
        "# Comparamos el genero y si tiene alto valor adquisitivo\n",
        "plt.figure(dpi=150)\n",
        "df_aux = df[[\"tiene_alto_valor_adquisitivo\", \"opera_en_bolsa\"]].value_counts().reset_index()\n",
        "df_aux.columns.values[2] = 'count'\n",
        "df_aux.tiene_alto_valor_adquisitivo.replace(to_replace=[True, False], value=[\"Sí\", \"No\"], inplace=True)\n",
        "df_aux.opera_en_bolsa.replace(to_replace=[False, True], value=[\"No\", \"Si\"], inplace=True)\n",
        "\n",
        "sbn.catplot(data=df_aux, x='opera_en_bolsa', y='count', hue='tiene_alto_valor_adquisitivo', kind='bar', legend=False)\n",
        "\n",
        "plt.legend(title = \"Tiene alto valor adquisitivo \")\n",
        "plt.ylabel(\"Cantidad de registros (log)\")\n",
        "plt.xlabel(\"Opera en bolsa\")\n",
        "plt.title('Relación entre operacion en bolsa y si tiene alto valor adquisitivo')\n",
        "plt.yscale(\"log\")\n",
        "plt.show()"
      ],
      "execution_count": 44,
      "outputs": [
        {
          "output_type": "display_data",
          "data": {
            "text/plain": [
              "<Figure size 900x600 with 0 Axes>"
            ]
          },
          "metadata": {
            "tags": []
          }
        },
        {
          "output_type": "display_data",
          "data": {
            "image/png": "[encoded data removed]",
            "text/plain": [
              "<Figure size 360x360 with 1 Axes>"
            ]
          },
          "metadata": {
            "tags": [],
            "needs_background": "light"
          }
        }
      ]
    },
    {
      "cell_type": "markdown",
      "metadata": {
        "id": "qiPcLKTuNSBI"
      },
      "source": [
        "**Conclusiones**\n",
        "\n",
        "Podemos observar que no tiene valores nulos.\n",
        "\n",
        "Creamos una variable booleana para determinar que operan o no en bolsa.\n",
        "\n",
        "Tomamos los valores 0 como que no operan, pero también podria pasar que ganaron y perdieron lo mismo y por eso esten en 0.\n",
        "\n",
        "Podemos observar que la mayoria de los que registraron una ganancia o perdida tienen alto nivel adquisitivo."
      ]
    },
    {
      "cell_type": "markdown",
      "metadata": {
        "id": "dlniA-FUNeet"
      },
      "source": [
        "## **Genero**\n",
        "\n",
        "**Preguntas:**\n",
        "\n",
        "* ¿La columna aporta información relevante?\n",
        "* ¿El dato esta completo en todas las filas?\n",
        "* ¿Aporta valor para realizar una predicción?\n",
        "\n",
        "**Análisis**"
      ]
    },
    {
      "cell_type": "code",
      "metadata": {
        "colab": {
          "base_uri": "https://localhost:8080/"
        },
        "id": "ym4O8IJeNhwe",
        "outputId": "ec4c0e66-7e66-490b-892d-3a913f1207b2"
      },
      "source": [
        "# ¿Tiene valores nulos?\n",
        "df[\"genero\"].isnull().sum()"
      ],
      "execution_count": 45,
      "outputs": [
        {
          "output_type": "execute_result",
          "data": {
            "text/plain": [
              "0"
            ]
          },
          "metadata": {
            "tags": []
          },
          "execution_count": 45
        }
      ]
    },
    {
      "cell_type": "code",
      "metadata": {
        "colab": {
          "base_uri": "https://localhost:8080/"
        },
        "id": "olAb8YpNNk_m",
        "outputId": "64f14334-4746-4dfb-d259-cc87c0de929e"
      },
      "source": [
        "df[\"genero\"].value_counts()"
      ],
      "execution_count": 46,
      "outputs": [
        {
          "output_type": "execute_result",
          "data": {
            "text/plain": [
              "hombre    21776\n",
              "mujer     10764\n",
              "Name: genero, dtype: int64"
            ]
          },
          "metadata": {
            "tags": []
          },
          "execution_count": 46
        }
      ]
    },
    {
      "cell_type": "code",
      "metadata": {
        "colab": {
          "base_uri": "https://localhost:8080/",
          "height": 518
        },
        "id": "DtcahoxKGL6V",
        "outputId": "e4a8549d-9bbd-46f7-cf45-5fcd6b7af219"
      },
      "source": [
        "# Vemos en porcentaje el género \n",
        "plt.figure(dpi=150)\n",
        "df.genero.value_counts().plot(kind='pie', autopct='%1.0f%%', ylabel='Género')"
      ],
      "execution_count": 47,
      "outputs": [
        {
          "output_type": "execute_result",
          "data": {
            "text/plain": [
              "<matplotlib.axes._subplots.AxesSubplot at 0x7fe05b1e52d0>"
            ]
          },
          "metadata": {
            "tags": []
          },
          "execution_count": 47
        },
        {
          "output_type": "display_data",
          "data": {
            "image/png": "[encoded data removed]",
            "text/plain": [
              "<Figure size 900x600 with 1 Axes>"
            ]
          },
          "metadata": {
            "tags": []
          }
        }
      ]
    },
    {
      "cell_type": "code",
      "metadata": {
        "colab": {
          "base_uri": "https://localhost:8080/"
        },
        "id": "snTufz0HGi8w",
        "outputId": "8fc888c2-13eb-4544-dbc6-6fe760d9f0d6"
      },
      "source": [
        "# Analizamos hombre vs Tiene alto valor adquisitivo \n",
        "df_genero_hombre = df[df[\"genero\"] == \"hombre\"]\n",
        "df_genero_hombre[\"tiene_alto_valor_adquisitivo\"].value_counts()"
      ],
      "execution_count": 48,
      "outputs": [
        {
          "output_type": "execute_result",
          "data": {
            "text/plain": [
              "0    15114\n",
              "1     6662\n",
              "Name: tiene_alto_valor_adquisitivo, dtype: int64"
            ]
          },
          "metadata": {
            "tags": []
          },
          "execution_count": 48
        }
      ]
    },
    {
      "cell_type": "code",
      "metadata": {
        "colab": {
          "base_uri": "https://localhost:8080/"
        },
        "id": "oisPjBSlG6Qg",
        "outputId": "16690f05-d366-46b9-ee42-63188ecf36c7"
      },
      "source": [
        "# Analizamos mujer vs Tiene alto valor adquisitivo \n",
        "df_genero_mujer = df[df[\"genero\"] == \"mujer\"]\n",
        "df_genero_mujer[\"tiene_alto_valor_adquisitivo\"].value_counts()"
      ],
      "execution_count": 49,
      "outputs": [
        {
          "output_type": "execute_result",
          "data": {
            "text/plain": [
              "0    9585\n",
              "1    1179\n",
              "Name: tiene_alto_valor_adquisitivo, dtype: int64"
            ]
          },
          "metadata": {
            "tags": []
          },
          "execution_count": 49
        }
      ]
    },
    {
      "cell_type": "code",
      "metadata": {
        "colab": {
          "base_uri": "https://localhost:8080/",
          "height": 420
        },
        "id": "UmmukV6nHLqk",
        "outputId": "aff6fba9-10a0-4789-83e1-174d676bb212"
      },
      "source": [
        "# Comparamos el genero y si tiene alto valor adquisitivo\n",
        "plt.figure(dpi=150)\n",
        "df_aux = df[[\"tiene_alto_valor_adquisitivo\", \"genero\"]].value_counts().reset_index()\n",
        "df_aux.columns.values[2] = 'count'\n",
        "df_aux.tiene_alto_valor_adquisitivo.replace(to_replace=[True, False], value=[\"Sí\", \"No\"], inplace=True)\n",
        "df_aux.genero.replace(to_replace=[\"hombre\", \"mujer\"], value=[\"Hombre\", \"Mujer\"], inplace=True)\n",
        "\n",
        "sbn.catplot(data=df_aux, x='genero', y='count', hue='tiene_alto_valor_adquisitivo', kind='bar', legend=False)\n",
        "\n",
        "plt.legend(title = \"Tiene alto valor adquisitivo \")\n",
        "plt.ylabel(\"Cantidad de registros (log)\")\n",
        "plt.xlabel(\"Genero\")\n",
        "plt.title('Relación entre genero y si tiene alto valor adquisitivo')\n",
        "plt.yscale(\"log\")\n",
        "plt.show()"
      ],
      "execution_count": 50,
      "outputs": [
        {
          "output_type": "display_data",
          "data": {
            "text/plain": [
              "<Figure size 900x600 with 0 Axes>"
            ]
          },
          "metadata": {
            "tags": []
          }
        },
        {
          "output_type": "display_data",
          "data": {
            "image/png": "[encoded data removed]",
            "text/plain": [
              "<Figure size 360x360 with 1 Axes>"
            ]
          },
          "metadata": {
            "tags": [],
            "needs_background": "light"
          }
        }
      ]
    },
    {
      "cell_type": "markdown",
      "metadata": {
        "id": "M29PoauWNrEm"
      },
      "source": [
        "**Conclusiones**\n",
        "\n",
        "Podemos observar que no tiene valores nulos y solo dos valores posibles.\n",
        "\n",
        "Se observa que los registros correspondientes a mujeres tienden altamente a no tener alto valor adquisitivo.\n",
        "\n",
        "El correspondiente a hombres no aporta informacion relevante ya que no se inclina por ninguna de las dos opciones, no es concluyente.\n"
      ]
    },
    {
      "cell_type": "markdown",
      "metadata": {
        "id": "XwCjvZ_LN0tY"
      },
      "source": [
        "## **Horas de trabajo registradas**\n",
        "\n",
        "**Preguntas:**\n",
        "\n",
        "* ¿La columna aporta información relevante?\n",
        "* ¿El dato esta completo en todas las filas?\n",
        "* ¿Aporta valor para realizar una predicción?\n",
        "\n",
        "**Análisis**"
      ]
    },
    {
      "cell_type": "code",
      "metadata": {
        "colab": {
          "base_uri": "https://localhost:8080/"
        },
        "id": "yZKVSnjGN4-U",
        "outputId": "95a351ea-4d94-4736-8e49-755f4c9776ec"
      },
      "source": [
        "# ¿Tiene valores nulos?\n",
        "df[\"horas_trabajo_registradas\"].isnull().sum()"
      ],
      "execution_count": 51,
      "outputs": [
        {
          "output_type": "execute_result",
          "data": {
            "text/plain": [
              "0"
            ]
          },
          "metadata": {
            "tags": []
          },
          "execution_count": 51
        }
      ]
    },
    {
      "cell_type": "code",
      "metadata": {
        "colab": {
          "base_uri": "https://localhost:8080/"
        },
        "id": "xRXLKNPYN71U",
        "outputId": "256340c7-5dd7-4f02-ba20-441f673bb456"
      },
      "source": [
        "df[\"horas_trabajo_registradas\"].value_counts()"
      ],
      "execution_count": 52,
      "outputs": [
        {
          "output_type": "execute_result",
          "data": {
            "text/plain": [
              "40    15212\n",
              "50     2817\n",
              "45     1824\n",
              "60     1475\n",
              "35     1296\n",
              "      ...  \n",
              "92        1\n",
              "94        1\n",
              "87        1\n",
              "74        1\n",
              "82        1\n",
              "Name: horas_trabajo_registradas, Length: 94, dtype: int64"
            ]
          },
          "metadata": {
            "tags": []
          },
          "execution_count": 52
        }
      ]
    },
    {
      "cell_type": "code",
      "metadata": {
        "colab": {
          "base_uri": "https://localhost:8080/"
        },
        "id": "zgRU4Xtq8PqG",
        "outputId": "1e8c93bc-23ce-48b0-b41b-6ec2aa2835c3"
      },
      "source": [
        "df_horas_trabajadas = df[df[\"tiene_alto_valor_adquisitivo\"] == True]\n",
        "df_horas_trabajadas[\"horas_trabajo_registradas\"].value_counts()"
      ],
      "execution_count": 53,
      "outputs": [
        {
          "output_type": "execute_result",
          "data": {
            "text/plain": [
              "40    3247\n",
              "50    1276\n",
              "45     685\n",
              "60     648\n",
              "55     323\n",
              "      ... \n",
              "95       1\n",
              "29       1\n",
              "17       1\n",
              "96       1\n",
              "73       1\n",
              "Name: horas_trabajo_registradas, Length: 80, dtype: int64"
            ]
          },
          "metadata": {
            "tags": []
          },
          "execution_count": 53
        }
      ]
    },
    {
      "cell_type": "code",
      "metadata": {
        "colab": {
          "base_uri": "https://localhost:8080/"
        },
        "id": "UyrPZ7Uh8XhN",
        "outputId": "38dfdec2-08ef-47d3-e890-ebe019d21efd"
      },
      "source": [
        "df_horas_trabajadas = df[df[\"tiene_alto_valor_adquisitivo\"] == False]\n",
        "df_horas_trabajadas[\"horas_trabajo_registradas\"].value_counts()"
      ],
      "execution_count": 54,
      "outputs": [
        {
          "output_type": "execute_result",
          "data": {
            "text/plain": [
              "40    11965\n",
              "50     1541\n",
              "20     1144\n",
              "45     1139\n",
              "35     1101\n",
              "      ...  \n",
              "87        1\n",
              "73        1\n",
              "89        1\n",
              "74        1\n",
              "95        1\n",
              "Name: horas_trabajo_registradas, Length: 93, dtype: int64"
            ]
          },
          "metadata": {
            "tags": []
          },
          "execution_count": 54
        }
      ]
    },
    {
      "cell_type": "markdown",
      "metadata": {
        "id": "cpuAWPGfOSl4"
      },
      "source": [
        "**Conclusiones**\n",
        "\n",
        "Podemos observar que no tiene valores nulos. \n",
        "\n",
        "Hay una alta concentración de datos que se corresponden con 40 hs trabajadas.\n",
        "\n",
        "La gran mayoria de las personas que trabajan 40 hs tiene un nivel adquisitivo bajo pero fuera de eso los demas valores son muy parecidos en ambos casos no aportan información relevante.\n"
      ]
    },
    {
      "cell_type": "markdown",
      "metadata": {
        "id": "n3hPVRdUOgy4"
      },
      "source": [
        "## **Religion**\n",
        "\n",
        "**Preguntas:**\n",
        "\n",
        "* ¿La columna aporta información relevante?\n",
        "* ¿El dato esta completo en todas las filas?\n",
        "* ¿Aporta valor para realizar una predicción?\n",
        "* ¿Los datos estan balanceados?\n",
        "\n",
        "**Análisis**"
      ]
    },
    {
      "cell_type": "code",
      "metadata": {
        "colab": {
          "base_uri": "https://localhost:8080/"
        },
        "id": "5oeSMUQoOjPQ",
        "outputId": "a851cc7c-1ca2-4861-bdc3-86c01add8b31"
      },
      "source": [
        "# ¿Tiene valores nulos?\n",
        "df[\"religion\"].isnull().sum()"
      ],
      "execution_count": 55,
      "outputs": [
        {
          "output_type": "execute_result",
          "data": {
            "text/plain": [
              "0"
            ]
          },
          "metadata": {
            "tags": []
          },
          "execution_count": 55
        }
      ]
    },
    {
      "cell_type": "code",
      "metadata": {
        "colab": {
          "base_uri": "https://localhost:8080/"
        },
        "id": "VDV6OSSBOl66",
        "outputId": "9d1733d1-b320-4ff3-acfe-b1f2309f6ce8"
      },
      "source": [
        "df[\"religion\"].value_counts()"
      ],
      "execution_count": 56,
      "outputs": [
        {
          "output_type": "execute_result",
          "data": {
            "text/plain": [
              "cristianismo    27799\n",
              "judaismo         3121\n",
              "budismo          1038\n",
              "ateismo           311\n",
              "otro              271\n",
              "Name: religion, dtype: int64"
            ]
          },
          "metadata": {
            "tags": []
          },
          "execution_count": 56
        }
      ]
    },
    {
      "cell_type": "code",
      "metadata": {
        "colab": {
          "base_uri": "https://localhost:8080/"
        },
        "id": "eVFijXg6JLrq",
        "outputId": "ebd0ed0c-6cd8-4b7f-86a7-c89181c42b89"
      },
      "source": [
        "# Analizamos cristianismo vs Tiene alto valor adquisitivo \n",
        "df_cristianismo = df[df[\"religion\"] == \"cristianismo\"]\n",
        "df_cristianismo[\"tiene_alto_valor_adquisitivo\"].value_counts()"
      ],
      "execution_count": 57,
      "outputs": [
        {
          "output_type": "execute_result",
          "data": {
            "text/plain": [
              "0    20682\n",
              "1     7117\n",
              "Name: tiene_alto_valor_adquisitivo, dtype: int64"
            ]
          },
          "metadata": {
            "tags": []
          },
          "execution_count": 57
        }
      ]
    },
    {
      "cell_type": "code",
      "metadata": {
        "colab": {
          "base_uri": "https://localhost:8080/"
        },
        "id": "JIlzxog8Jb-4",
        "outputId": "374fbf9a-f486-4828-a2e8-cd413be5474e"
      },
      "source": [
        "# Analizamos judaismo vs Tiene alto valor adquisitivo \n",
        "df_judaismo = df[df[\"religion\"] == \"judaismo\"]\n",
        "df_judaismo[\"tiene_alto_valor_adquisitivo\"].value_counts()"
      ],
      "execution_count": 58,
      "outputs": [
        {
          "output_type": "execute_result",
          "data": {
            "text/plain": [
              "0    2734\n",
              "1     387\n",
              "Name: tiene_alto_valor_adquisitivo, dtype: int64"
            ]
          },
          "metadata": {
            "tags": []
          },
          "execution_count": 58
        }
      ]
    },
    {
      "cell_type": "code",
      "metadata": {
        "colab": {
          "base_uri": "https://localhost:8080/"
        },
        "id": "nRv6evJnJl8v",
        "outputId": "10020af7-c174-471a-8a1c-edef99c3d07a"
      },
      "source": [
        "# Analizamos budismo vs Tiene alto valor adquisitivo \n",
        "df_budismo = df[df[\"religion\"] == \"budismo\"]\n",
        "df_budismo[\"tiene_alto_valor_adquisitivo\"].value_counts()"
      ],
      "execution_count": 59,
      "outputs": [
        {
          "output_type": "execute_result",
          "data": {
            "text/plain": [
              "0    762\n",
              "1    276\n",
              "Name: tiene_alto_valor_adquisitivo, dtype: int64"
            ]
          },
          "metadata": {
            "tags": []
          },
          "execution_count": 59
        }
      ]
    },
    {
      "cell_type": "code",
      "metadata": {
        "colab": {
          "base_uri": "https://localhost:8080/"
        },
        "id": "COEr21ftJuxR",
        "outputId": "2772b238-bcd7-4982-ed67-7bb88553fa56"
      },
      "source": [
        "# Analizamos ateismo vs Tiene alto valor adquisitivo \n",
        "df_ateismo = df[df[\"religion\"] == \"ateismo\"]\n",
        "df_ateismo[\"tiene_alto_valor_adquisitivo\"].value_counts()"
      ],
      "execution_count": 60,
      "outputs": [
        {
          "output_type": "execute_result",
          "data": {
            "text/plain": [
              "0    275\n",
              "1     36\n",
              "Name: tiene_alto_valor_adquisitivo, dtype: int64"
            ]
          },
          "metadata": {
            "tags": []
          },
          "execution_count": 60
        }
      ]
    },
    {
      "cell_type": "code",
      "metadata": {
        "colab": {
          "base_uri": "https://localhost:8080/"
        },
        "id": "R4j1pEk4J5A_",
        "outputId": "683a2624-afe3-4567-e8c4-956b708b96da"
      },
      "source": [
        "# Analizamos otro vs Tiene alto valor adquisitivo \n",
        "df_otro = df[df[\"religion\"] == \"otro\"]\n",
        "df_otro[\"tiene_alto_valor_adquisitivo\"].value_counts()"
      ],
      "execution_count": 61,
      "outputs": [
        {
          "output_type": "execute_result",
          "data": {
            "text/plain": [
              "0    246\n",
              "1     25\n",
              "Name: tiene_alto_valor_adquisitivo, dtype: int64"
            ]
          },
          "metadata": {
            "tags": []
          },
          "execution_count": 61
        }
      ]
    },
    {
      "cell_type": "code",
      "metadata": {
        "colab": {
          "base_uri": "https://localhost:8080/",
          "height": 479
        },
        "id": "q7yiutnPKDNU",
        "outputId": "09e65e6f-74a1-4f34-a65e-383ded304882"
      },
      "source": [
        "# Comparamos religion y si tiene alto valor adquisitivo\n",
        "plt.figure(dpi=150)\n",
        "df_aux = df[[\"tiene_alto_valor_adquisitivo\", \"religion\"]].value_counts().reset_index()\n",
        "df_aux.columns.values[2] = 'count'\n",
        "df_aux.tiene_alto_valor_adquisitivo.replace(to_replace=[True, False], value=[\"Sí\", \"No\"], inplace=True)\n",
        "df_aux.religion.replace(to_replace=[\"cristianismo\", \"judaismo\", \"budismo\", \"ateismo\", \"otro\"], value=[\"Cristianismo\", \"Judaismo\", \"Budismo\", \"Ateismo\", \"Otro\"], inplace=True)\n",
        "\n",
        "sbn.catplot(data=df_aux, x='religion', y='count', hue='tiene_alto_valor_adquisitivo', kind='bar', legend=False)\n",
        "\n",
        "plt.legend(title = \"Tiene alto valor adquisitivo \")\n",
        "plt.ylabel(\"Cantidad de registros (log)\")\n",
        "plt.xlabel(\"Religion\")\n",
        "plt.title('Relación entre religion y si tiene alto valor adquisitivo')\n",
        "plt.xticks(rotation=90)\n",
        "plt.yscale(\"log\")\n",
        "plt.show()"
      ],
      "execution_count": 62,
      "outputs": [
        {
          "output_type": "display_data",
          "data": {
            "text/plain": [
              "<Figure size 900x600 with 0 Axes>"
            ]
          },
          "metadata": {
            "tags": []
          }
        },
        {
          "output_type": "display_data",
          "data": {
            "image/png": "[encoded data removed]",
            "text/plain": [
              "<Figure size 360x360 with 1 Axes>"
            ]
          },
          "metadata": {
            "tags": [],
            "needs_background": "light"
          }
        }
      ]
    },
    {
      "cell_type": "markdown",
      "metadata": {
        "id": "7F1juyUhOrrD"
      },
      "source": [
        "**Conclusiones**\n",
        "\n",
        "Podemos observar que no tiene valores nulos. \n",
        "\n",
        "La columna no esta balanceada, el valor cristianismo supera ampliamente a los demas como el caso del barrio Palermo.\n",
        "\n",
        "No hay informacion concluyente que nos permita determinar solo viendo esta columna si la persona posee o no un alto nivel adquisitivo."
      ]
    },
    {
      "cell_type": "markdown",
      "metadata": {
        "id": "tJSzr9lPO0L_"
      },
      "source": [
        "## **Rol familiar registrado**\n",
        "\n",
        "**Preguntas:**\n",
        "\n",
        "* ¿La columna aporta información relevante?\n",
        "* ¿El dato esta completo en todas las filas?\n",
        "* ¿Aporta valor para realizar una predicción?\n",
        "\n",
        "**Análisis**"
      ]
    },
    {
      "cell_type": "code",
      "metadata": {
        "colab": {
          "base_uri": "https://localhost:8080/"
        },
        "id": "RpoDku3RO3sW",
        "outputId": "562ad992-5151-44e3-fd2a-7710b127f9ab"
      },
      "source": [
        "# ¿Tiene valores nulos?\n",
        "df[\"rol_familiar_registrado\"].isnull().sum()"
      ],
      "execution_count": 63,
      "outputs": [
        {
          "output_type": "execute_result",
          "data": {
            "text/plain": [
              "0"
            ]
          },
          "metadata": {
            "tags": []
          },
          "execution_count": 63
        }
      ]
    },
    {
      "cell_type": "code",
      "metadata": {
        "colab": {
          "base_uri": "https://localhost:8080/"
        },
        "id": "Ay2jujSlO3x7",
        "outputId": "5e786d27-60e1-4c8f-95d9-f30b5460367d"
      },
      "source": [
        "df[\"rol_familiar_registrado\"].value_counts()"
      ],
      "execution_count": 64,
      "outputs": [
        {
          "output_type": "execute_result",
          "data": {
            "text/plain": [
              "casado         13189\n",
              "sin_familia     8304\n",
              "con_hijos       5058\n",
              "soltero_a       3444\n",
              "casada          1564\n",
              "otro             981\n",
              "Name: rol_familiar_registrado, dtype: int64"
            ]
          },
          "metadata": {
            "tags": []
          },
          "execution_count": 64
        }
      ]
    },
    {
      "cell_type": "code",
      "metadata": {
        "id": "tXfvS1lRN-2Q"
      },
      "source": [
        "df[\"rol_familiar_registrado\"].replace(to_replace =\"casada\", value =\"casado\", inplace=True)"
      ],
      "execution_count": 65,
      "outputs": []
    },
    {
      "cell_type": "code",
      "metadata": {
        "colab": {
          "base_uri": "https://localhost:8080/",
          "height": 469
        },
        "id": "-Wa-VzK3MQl7",
        "outputId": "00231e21-3829-4679-a5f0-0f9ad92e6ae8"
      },
      "source": [
        "# Comparamos la categoria de trabajo y si tiene alto valor adquisitivo\n",
        "plt.figure(dpi=150)\n",
        "df_aux = df[[\"tiene_alto_valor_adquisitivo\", \"rol_familiar_registrado\"]].value_counts().reset_index()\n",
        "df_aux.columns.values[2] = 'count'\n",
        "df_aux.tiene_alto_valor_adquisitivo.replace(to_replace=[True, False], value=[\"Sí\", \"No\"], inplace=True)\n",
        "df_aux.rol_familiar_registrado.replace(to_replace=[\"casado\", \"sin_familia\", \"con_hijos\", \"soltero_a\", \"otro\"],  value=[\"Casado/a\", \"Sin familia\", \"Con hijos\", \"Soltero/a\", \"Otro\"], inplace=True)\n",
        "\n",
        "sbn.catplot(data=df_aux, x='rol_familiar_registrado', y='count', hue='tiene_alto_valor_adquisitivo', kind='bar', legend=False)\n",
        "\n",
        "plt.legend(title = \"Tiene alto valor adquisitivo \")\n",
        "plt.ylabel(\"Cantidad de registros (log)\")\n",
        "plt.xlabel(\"Rol familiar registrado\")\n",
        "plt.title('Relación entre el rol familiar registrado y si tiene alto valor adquisitivo')\n",
        "plt.xticks(rotation=90)\n",
        "plt.yscale(\"log\")\n",
        "plt.show()"
      ],
      "execution_count": 66,
      "outputs": [
        {
          "output_type": "display_data",
          "data": {
            "text/plain": [
              "<Figure size 900x600 with 0 Axes>"
            ]
          },
          "metadata": {
            "tags": []
          }
        },
        {
          "output_type": "display_data",
          "data": {
            "image/png": "[encoded data removed]",
            "text/plain": [
              "<Figure size 360x360 with 1 Axes>"
            ]
          },
          "metadata": {
            "tags": [],
            "needs_background": "light"
          }
        }
      ]
    },
    {
      "cell_type": "markdown",
      "metadata": {
        "id": "n2qPpVt0PC0L"
      },
      "source": [
        "**Conclusiones**\n",
        "\n",
        "Podemos observar que no tiene valores nulos. \n",
        "\n",
        "Unificamos los valores de casado y casada.\n",
        "\n",
        "Se puede observar una clara tendencia a no tener un alto valor adquisitivo si la persona posee el rol Otro o Con hijos.\n",
        "\n",
        "Quizas se pueda usar como complemento para realizar una prediccion si tenemos en cuenta la tendencia descripta anteriormente.\n",
        "\n"
      ]
    },
    {
      "cell_type": "markdown",
      "metadata": {
        "id": "_zDdA4asPQNt"
      },
      "source": [
        "## **Trabajo**\n",
        "\n",
        "**Preguntas:**\n",
        "\n",
        "* ¿La columna aporta información relevante?\n",
        "* ¿El dato esta completo en todas las filas?\n",
        "* ¿Aporta valor para realizar una predicción?\n",
        "* ¿Los datos estan balanceados?\n",
        "\n",
        "**Análisis**"
      ]
    },
    {
      "cell_type": "code",
      "metadata": {
        "colab": {
          "base_uri": "https://localhost:8080/"
        },
        "id": "LklnMe_hPUT1",
        "outputId": "70391c85-6184-4a12-8a8e-6dd6ca1f3cbc"
      },
      "source": [
        "# ¿Tiene valores nulos?\n",
        "df[\"trabajo\"].isnull().sum()"
      ],
      "execution_count": 67,
      "outputs": [
        {
          "output_type": "execute_result",
          "data": {
            "text/plain": [
              "1836"
            ]
          },
          "metadata": {
            "tags": []
          },
          "execution_count": 67
        }
      ]
    },
    {
      "cell_type": "code",
      "metadata": {
        "colab": {
          "base_uri": "https://localhost:8080/"
        },
        "id": "OpgPJkD4PUYi",
        "outputId": "cd6a6681-bd44-4dd4-b5ba-e5c0313f9f27"
      },
      "source": [
        "df[\"trabajo\"].value_counts()"
      ],
      "execution_count": 68,
      "outputs": [
        {
          "output_type": "execute_result",
          "data": {
            "text/plain": [
              "profesional_especializado    4140\n",
              "reparador                    4098\n",
              "directivo_gerente            4066\n",
              "entretenimiento              3767\n",
              "ventas                       3650\n",
              "otros                        3294\n",
              "inspector                    2001\n",
              "transporte                   1596\n",
              "limpiador                    1369\n",
              "sector_primario               988\n",
              "soporte_tecnico               928\n",
              "seguridad                     649\n",
              "servicio_domestico            149\n",
              "ejercito                        9\n",
              "Name: trabajo, dtype: int64"
            ]
          },
          "metadata": {
            "tags": []
          },
          "execution_count": 68
        }
      ]
    },
    {
      "cell_type": "code",
      "metadata": {
        "colab": {
          "base_uri": "https://localhost:8080/",
          "height": 551
        },
        "id": "rKA52ItTQKfs",
        "outputId": "714c54f7-0a9f-42bb-afbf-82c2f438c305"
      },
      "source": [
        "# Comparamos trabajo y tiene alto valor adquisitivo\n",
        "plt.figure(dpi=150)\n",
        "df_aux = df[[\"tiene_alto_valor_adquisitivo\", \"trabajo\"]].value_counts().reset_index()\n",
        "df_aux.columns.values[2] = 'count'\n",
        "df_aux.tiene_alto_valor_adquisitivo.replace(to_replace=[True, False], value=[\"Sí\", \"No\"], inplace=True)\n",
        "\n",
        "sbn.catplot(data=df_aux, x='trabajo', y='count', hue='tiene_alto_valor_adquisitivo', kind='bar', legend=False)\n",
        "\n",
        "plt.legend(title = \"Tiene alto valor adquisitivo \")\n",
        "plt.ylabel(\"Cantidad de registros (log)\")\n",
        "plt.xlabel(\"Trabajo\")\n",
        "plt.title('Relación entre trabajo y tiene alto valor adquisitivo')\n",
        "plt.xticks(rotation=90)\n",
        "plt.yscale(\"log\")\n",
        "plt.show()"
      ],
      "execution_count": 69,
      "outputs": [
        {
          "output_type": "display_data",
          "data": {
            "text/plain": [
              "<Figure size 900x600 with 0 Axes>"
            ]
          },
          "metadata": {
            "tags": []
          }
        },
        {
          "output_type": "display_data",
          "data": {
            "image/png": "[encoded data removed]",
            "text/plain": [
              "<Figure size 360x360 with 1 Axes>"
            ]
          },
          "metadata": {
            "tags": [],
            "needs_background": "light"
          }
        }
      ]
    },
    {
      "cell_type": "markdown",
      "metadata": {
        "id": "BxegqGUQPgGg"
      },
      "source": [
        "**Conclusiones**\n",
        "\n",
        "Podemos observar que esta columna tiene un faltante de 1843 del total de valores (5,7 %). (Hay unos valores pocos representativos)\n",
        "\n",
        "Los datos se encuentran bastante balanceados, no hay alguno que concentre la mayoria de los registros.\n",
        "\n",
        "Luego se observa que el trabajo Servicio Domestico tiene una clara tendencia a no tener un alto nivel adquisitivo y de la misma forma pero un poco menos el Ejercito.\n",
        "\n",
        "Fuera de esto los demas datos no son concluyentes para basarnos solo en ellos a la hora de realizar la prediccion."
      ]
    },
    {
      "cell_type": "markdown",
      "metadata": {
        "id": "bW6vgP1OLFpm"
      },
      "source": [
        "# **Relación entre columnas**"
      ]
    },
    {
      "cell_type": "code",
      "metadata": {
        "colab": {
          "base_uri": "https://localhost:8080/",
          "height": 518
        },
        "id": "LbARGKmtAJBg",
        "outputId": "55bcb6b6-79f4-4ef1-8557-6af3ab1a478b"
      },
      "source": [
        "# Vemos en porcentaje cantidad de nivel adquisitivo alto \n",
        "plt.figure(dpi=150)\n",
        "df.tiene_alto_valor_adquisitivo.replace(to_replace=[True, False], value=[\"Sí\", \"No\"]).value_counts().plot(kind='pie', autopct='%1.0f%%', ylabel='¿Tiene alto valor adquisitivo?')\n"
      ],
      "execution_count": 70,
      "outputs": [
        {
          "output_type": "execute_result",
          "data": {
            "text/plain": [
              "<matplotlib.axes._subplots.AxesSubplot at 0x7fe0647921d0>"
            ]
          },
          "metadata": {
            "tags": []
          },
          "execution_count": 70
        },
        {
          "output_type": "display_data",
          "data": {
            "image/png": "[encoded data removed]",
            "text/plain": [
              "<Figure size 900x600 with 1 Axes>"
            ]
          },
          "metadata": {
            "tags": []
          }
        }
      ]
    },
    {
      "cell_type": "code",
      "metadata": {
        "id": "HPN1jbWKA9gO"
      },
      "source": [
        "new_df_alto_nivel = pd.DataFrame()\n",
        "new_df_alto_nivel = df[df.tiene_alto_valor_adquisitivo == 1].copy()"
      ],
      "execution_count": 71,
      "outputs": []
    },
    {
      "cell_type": "code",
      "metadata": {
        "colab": {
          "base_uri": "https://localhost:8080/",
          "height": 550
        },
        "id": "xYm7XkB4AsQB",
        "outputId": "0b0dcb46-c5bb-4e5f-d233-91181ab12638"
      },
      "source": [
        "df_alto_nivel_hombre = pd.DataFrame()\n",
        "df_alto_nivel_hombre = new_df_alto_nivel[new_df_alto_nivel.genero == \"hombre\"].copy()\n",
        "\n",
        "plt.figure(figsize = (10,5))\n",
        "hombre_rol_trabajo = df_alto_nivel_hombre.groupby(['rol_familiar_registrado','trabajo']).size().unstack(fill_value=0)\n",
        "hombre_rol_trabajo_heatMap = sbn.heatmap(hombre_rol_trabajo,vmin=0, cmap='Oranges', linewidths=0.5 )\n",
        "hombre_rol_trabajo_heatMap.set_ylabel(\"Rol familiar\", fontsize = 20)\n",
        "hombre_rol_trabajo_heatMap.set_xlabel(\"Trabajo\", fontsize = 20)\n",
        "hombre_rol_trabajo_heatMap.set_title(\"Relacion entre el rol familiar y el trabajo con el alto nivel adquisitivo en hombres\", fontsize = 20)\n",
        "hombre_rol_trabajo_heatMap.tick_params(axis='both', labelsize=15)\n",
        "hombre_rol_trabajo_heatMap.set_xticklabels(labels = hombre_rol_trabajo.columns.values, rotation=90);"
      ],
      "execution_count": 72,
      "outputs": [
        {
          "output_type": "display_data",
          "data": {
            "image/png": "[encoded data removed]",
            "text/plain": [
              "<Figure size 720x360 with 2 Axes>"
            ]
          },
          "metadata": {
            "tags": [],
            "needs_background": "light"
          }
        }
      ]
    },
    {
      "cell_type": "code",
      "metadata": {
        "colab": {
          "base_uri": "https://localhost:8080/",
          "height": 550
        },
        "id": "ijFV6MgoFppM",
        "outputId": "745e2811-260b-4736-ccb1-c646134e4c18"
      },
      "source": [
        "df_alto_nivel_mujer = pd.DataFrame()\n",
        "df_alto_nivel_mujer = new_df_alto_nivel[new_df_alto_nivel.genero == \"mujer\"].copy()\n",
        "\n",
        "plt.figure(figsize = (10,5))\n",
        "mujer_rol_trabajo = df_alto_nivel_mujer.groupby(['rol_familiar_registrado','trabajo']).size().unstack(fill_value=0)\n",
        "mujer_rol_trabajo_heatMap = sbn.heatmap(mujer_rol_trabajo,vmin=0, cmap='Oranges', linewidths=0.5 )\n",
        "mujer_rol_trabajo_heatMap.set_ylabel(\"Rol familiar\", fontsize = 20)\n",
        "mujer_rol_trabajo_heatMap.set_xlabel(\"Trabajo\", fontsize = 20)\n",
        "mujer_rol_trabajo_heatMap.set_title(\"Relacion entre el rol familiar y el trabajo con el alto nivel adquisitivo en mujeres\", fontsize = 20)\n",
        "mujer_rol_trabajo_heatMap.tick_params(axis='both', labelsize=15)\n",
        "mujer_rol_trabajo_heatMap.set_xticklabels(labels = mujer_rol_trabajo.columns.values, rotation=90);"
      ],
      "execution_count": 73,
      "outputs": [
        {
          "output_type": "display_data",
          "data": {
            "image/png": "[encoded data removed]",
            "text/plain": [
              "<Figure size 720x360 with 2 Axes>"
            ]
          },
          "metadata": {
            "tags": [],
            "needs_background": "light"
          }
        }
      ]
    },
    {
      "cell_type": "code",
      "metadata": {
        "colab": {
          "base_uri": "https://localhost:8080/",
          "height": 437
        },
        "id": "nAooqFPJBrEX",
        "outputId": "6898bca5-dbc9-4d0a-c830-32a4fa71d722"
      },
      "source": [
        "plt.figure(figsize = (10,5))\n",
        "rol_genero = new_df_alto_nivel.groupby(['genero','rol_familiar_registrado']).size().unstack(fill_value=0)\n",
        "rol_genero_heatMap = sbn.heatmap(rol_genero,vmin=0, cmap='Oranges', linewidths=0.5, annot_kws={\"size\": 15} )\n",
        "rol_genero_heatMap.set_ylabel(\"Genero\", fontsize = 20)\n",
        "rol_genero_heatMap.set_xlabel(\"Rol familiar\", fontsize = 20)\n",
        "rol_genero_heatMap.set_title(\"Relacion entre el rol familiar y el genero con el alto nivel adquisitivo\", fontsize = 20)\n",
        "rol_genero_heatMap.tick_params(axis='both', labelsize=15)\n",
        "rol_genero_heatMap.set_xticklabels(labels = rol_genero.columns.values, rotation=90);"
      ],
      "execution_count": 74,
      "outputs": [
        {
          "output_type": "display_data",
          "data": {
            "image/png": "[encoded data removed]",
            "text/plain": [
              "<Figure size 720x360 with 2 Axes>"
            ]
          },
          "metadata": {
            "tags": [],
            "needs_background": "light"
          }
        }
      ]
    },
    {
      "cell_type": "markdown",
      "metadata": {
        "id": "JYRQ6PDcLKLi"
      },
      "source": [
        "# **Feature Engineering**"
      ]
    },
    {
      "cell_type": "code",
      "metadata": {
        "id": "IooX5XT6LLYy"
      },
      "source": [
        "def FeatureEngineering(df):\n",
        "    \n",
        "    df_clean = df.copy()\n",
        "\n",
        "    df_clean[\"educacion_alcanzada\"].replace({\"preescolar\" : 1, \"1-4_grado\": 2, \"5-6_grado\": 3, \"7-8_grado\" : 4, \"9_grado\" : 5, \"1_anio\" : 6, \"2_anio\" : 7, \"3_anio\" : 8, \"4_anio\" : 9, \"5_anio\" : 10, \"universidad_1_anio\" : 11, \n",
        "                      \"universidad_2_anio\" : 12, \"universidad_3_anio\" : 13, \"universidad_4_anio\" : 14, \"universiada_5_anio\" : 15, \"universiada_6_anio\" : 16}, inplace = True)\n",
        "    \n",
        "    df_clean[\"opera_en_bolsa\"] = df_clean[\"ganancia_perdida_declarada_bolsa_argentina\"].apply(lambda x: True if x != 0 else False)\n",
        "    df_clean.drop(columns = \"ganancia_perdida_declarada_bolsa_argentina\", inplace = True)\n",
        "    \n",
        "    df_clean.head()\n",
        "    return df_clean"
      ],
      "execution_count": 75,
      "outputs": []
    },
    {
      "cell_type": "code",
      "metadata": {
        "id": "AiannyBKLYyD"
      },
      "source": [
        "def Predict(df):\n",
        "  pred = []\n",
        "  values = df.values\n",
        "\n",
        "  for val in values: \n",
        "    if (val[6] == \"hombre\" and val[9] == \"casado\" and (val[11] == \"profesional_especializado\" or val[11] == \"directivo_gerente\")):\n",
        "      pred.append(1)    \n",
        "    elif (val[6] == \"mujer\" and val[9] == \"casado\" and (val[11] == \"profesional_especializado\" or val[11] == \"directivo_gerente\" or val[11] == \"entretenimiento\")):\n",
        "      pred.append(1)                     \n",
        "    else:\n",
        "      pred.append(0)\n",
        "\n",
        "  return pred\n"
      ],
      "execution_count": 76,
      "outputs": []
    },
    {
      "cell_type": "code",
      "metadata": {
        "id": "GwTNIYBxLiMF"
      },
      "source": [
        "def baseline(df):\n",
        "    entrada = FeatureEngineering(df)\n",
        "    pred = Predict(entrada)\n",
        "    \n",
        "    return pred"
      ],
      "execution_count": 77,
      "outputs": []
    },
    {
      "cell_type": "code",
      "metadata": {
        "id": "yY_K4_0GLnG4",
        "colab": {
          "base_uri": "https://localhost:8080/"
        },
        "outputId": "0fa6a179-3156-45ba-d9c8-c1fc689cbf72"
      },
      "source": [
        "# Generamos dataframe para probar\n",
        "df_datos_test = GetData()\n",
        "df_datos_valor_adquisitivo = df_datos_test[\"tiene_alto_valor_adquisitivo\"]\n",
        "\n",
        "predicciones = baseline(df_datos_test)\n",
        "accuracy_score(df_datos_valor_adquisitivo, predicciones)"
      ],
      "execution_count": 78,
      "outputs": [
        {
          "output_type": "execute_result",
          "data": {
            "text/plain": [
              "0.807376923313166"
            ]
          },
          "metadata": {
            "tags": []
          },
          "execution_count": 78
        }
      ]
    },
    {
      "cell_type": "markdown",
      "metadata": {
        "id": "pqF-dWaRMoY4"
      },
      "source": [
        "# **Conclusión final**"
      ]
    },
    {
      "cell_type": "markdown",
      "metadata": {
        "id": "SJ3OFJg0Dlfj"
      },
      "source": [
        "Luego de analizar el set de datos podemos decir que el set en si esta muy desbalanceado en relacion a la variable target al punto de que el 76% del mismo corresponde al valor 0.\n",
        "\n",
        "Esto hace que a la hora de predecir solamente haciendo que nuestro algoritmo devuelva un valor 0 estariamos en 76% de aciertos, lo cual elimina la opcion de medir mediante ese numero la precisión del modelo.\n",
        "\n",
        "Luego nos encontramos que a la hora de encontrar los targets 1 ninguna de las columnas por si sola nos brindaba suficiente informacion por lo que se recurrio a la combinacion que se observa.\n",
        "\n",
        "Partimos de los valores \"Hombre\" y \"Mujer\" como base porque asi podiamos dividir los registros en dos clases y, a nuestro parecer, hacer que las comparaciones fueran mejores.\n",
        "\n",
        "Finalmente, luego de varias pruebas con muchas combinaciones de features, llegamos a nuestra mejor prediccion de 0.807%.\n"
      ]
    },
    {
      "cell_type": "code",
      "metadata": {
        "id": "OeSHHBXjRVZK"
      },
      "source": [
        ""
      ],
      "execution_count": 78,
      "outputs": []
    }
  ]
}