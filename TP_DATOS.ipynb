{
  "nbformat": 4,
  "nbformat_minor": 0,
  "metadata": {
    "colab": {
      "name": "TP_DATOS.ipynb",
      "provenance": [],
      "collapsed_sections": [
        "q0q_5L3tLF0G",
        "m-u5efnkHjy6",
        "8i6thoScIwTU",
        "9IqYpaJxKLlZ",
        "7wjyq9IkLyJy"
      ]
    },
    "kernelspec": {
      "name": "python3",
      "display_name": "Python 3"
    },
    "language_info": {
      "name": "python"
    }
  },
  "cells": [
    {
      "cell_type": "markdown",
      "metadata": {
        "id": "view-in-github"
      },
      "source": [
        "<a href=\"https://colab.research.google.com/github/LRisaro/TP_DATOS_2021/blob/main/TP_DATOS.ipynb\" target=\"_parent\"><img src=\"https://colab.research.google.com/assets/colab-badge.svg\" alt=\"Open In Colab\"/></a>"
      ]
    },
    {
      "cell_type": "code",
      "metadata": {
        "id": "-4JXiZchjruK"
      },
      "source": [
        "import pandas as pd\n",
        "import numpy as np\n",
        "from pandas_profiling import ProfileReport\n",
        "from matplotlib import pyplot as plt\n",
        "import seaborn as sbn\n",
        "from sklearn import tree\n",
        "from sklearn.metrics import accuracy_score\n",
        "\n",
        "%matplotlib inline\n",
        "\n",
        "plt.style.use('default') \n",
        "\n",
        "sbn.set(style=\"whitegrid\") "
      ],
      "execution_count": 718,
      "outputs": []
    },
    {
      "cell_type": "code",
      "metadata": {
        "id": "i0rlXS-7vHRL"
      },
      "source": [
        "def GetData():\n",
        "  return pd.read_csv(\"https://docs.google.com/spreadsheets/d/1-DWTP8uwVS-dZY402-dm0F9ICw_6PNqDGLmH0u8Eqa0/export?format=csv&gid=2054774482\")"
      ],
      "execution_count": 719,
      "outputs": []
    },
    {
      "cell_type": "markdown",
      "metadata": {
        "id": "jmhw2QgWEFX5"
      },
      "source": [
        "# **Inspección inicial del dataset**"
      ]
    },
    {
      "cell_type": "code",
      "metadata": {
        "id": "FPgxoSmxwbAP",
        "colab": {
          "base_uri": "https://localhost:8080/",
          "height": 439
        },
        "outputId": "42e4d9dc-071c-4638-fe20-f283e42e8175"
      },
      "source": [
        "# Obtengo el set de datos en un dataframe\n",
        "df = GetData()\n",
        "df"
      ],
      "execution_count": 720,
      "outputs": [
        {
          "output_type": "execute_result",
          "data": {
            "text/html": [
              "<div>\n",
              "<style scoped>\n",
              "    .dataframe tbody tr th:only-of-type {\n",
              "        vertical-align: middle;\n",
              "    }\n",
              "\n",
              "    .dataframe tbody tr th {\n",
              "        vertical-align: top;\n",
              "    }\n",
              "\n",
              "    .dataframe thead th {\n",
              "        text-align: right;\n",
              "    }\n",
              "</style>\n",
              "<table border=\"1\" class=\"dataframe\">\n",
              "  <thead>\n",
              "    <tr style=\"text-align: right;\">\n",
              "      <th></th>\n",
              "      <th>anios_estudiados</th>\n",
              "      <th>barrio</th>\n",
              "      <th>categoria_de_trabajo</th>\n",
              "      <th>edad</th>\n",
              "      <th>educacion_alcanzada</th>\n",
              "      <th>estado_marital</th>\n",
              "      <th>ganancia_perdida_declarada_bolsa_argentina</th>\n",
              "      <th>genero</th>\n",
              "      <th>horas_trabajo_registradas</th>\n",
              "      <th>religion</th>\n",
              "      <th>rol_familiar_registrado</th>\n",
              "      <th>tiene_alto_valor_adquisitivo</th>\n",
              "      <th>trabajo</th>\n",
              "    </tr>\n",
              "  </thead>\n",
              "  <tbody>\n",
              "    <tr>\n",
              "      <th>0</th>\n",
              "      <td>17</td>\n",
              "      <td>Palermo</td>\n",
              "      <td>empleado_provincial</td>\n",
              "      <td>39</td>\n",
              "      <td>universidad_3_anio</td>\n",
              "      <td>sin_matrimonio</td>\n",
              "      <td>2174</td>\n",
              "      <td>hombre</td>\n",
              "      <td>40</td>\n",
              "      <td>cristianismo</td>\n",
              "      <td>sin_familia</td>\n",
              "      <td>0</td>\n",
              "      <td>entretenimiento</td>\n",
              "    </tr>\n",
              "    <tr>\n",
              "      <th>1</th>\n",
              "      <td>17</td>\n",
              "      <td>Palermo</td>\n",
              "      <td>monotibutista</td>\n",
              "      <td>50</td>\n",
              "      <td>universidad_3_anio</td>\n",
              "      <td>matrimonio_civil</td>\n",
              "      <td>0</td>\n",
              "      <td>hombre</td>\n",
              "      <td>13</td>\n",
              "      <td>cristianismo</td>\n",
              "      <td>casado</td>\n",
              "      <td>0</td>\n",
              "      <td>directivo_gerente</td>\n",
              "    </tr>\n",
              "    <tr>\n",
              "      <th>2</th>\n",
              "      <td>13</td>\n",
              "      <td>Palermo</td>\n",
              "      <td>relacion_de_dependencia</td>\n",
              "      <td>38</td>\n",
              "      <td>4_anio</td>\n",
              "      <td>divorciado</td>\n",
              "      <td>0</td>\n",
              "      <td>hombre</td>\n",
              "      <td>40</td>\n",
              "      <td>cristianismo</td>\n",
              "      <td>sin_familia</td>\n",
              "      <td>0</td>\n",
              "      <td>limpiador</td>\n",
              "    </tr>\n",
              "    <tr>\n",
              "      <th>3</th>\n",
              "      <td>11</td>\n",
              "      <td>Palermo</td>\n",
              "      <td>relacion_de_dependencia</td>\n",
              "      <td>53</td>\n",
              "      <td>2_anio</td>\n",
              "      <td>matrimonio_civil</td>\n",
              "      <td>0</td>\n",
              "      <td>hombre</td>\n",
              "      <td>40</td>\n",
              "      <td>judaismo</td>\n",
              "      <td>casado</td>\n",
              "      <td>0</td>\n",
              "      <td>limpiador</td>\n",
              "    </tr>\n",
              "    <tr>\n",
              "      <th>4</th>\n",
              "      <td>17</td>\n",
              "      <td>Balvanera</td>\n",
              "      <td>relacion_de_dependencia</td>\n",
              "      <td>28</td>\n",
              "      <td>universidad_3_anio</td>\n",
              "      <td>matrimonio_civil</td>\n",
              "      <td>0</td>\n",
              "      <td>mujer</td>\n",
              "      <td>40</td>\n",
              "      <td>judaismo</td>\n",
              "      <td>casada</td>\n",
              "      <td>0</td>\n",
              "      <td>profesional_especializado</td>\n",
              "    </tr>\n",
              "    <tr>\n",
              "      <th>...</th>\n",
              "      <td>...</td>\n",
              "      <td>...</td>\n",
              "      <td>...</td>\n",
              "      <td>...</td>\n",
              "      <td>...</td>\n",
              "      <td>...</td>\n",
              "      <td>...</td>\n",
              "      <td>...</td>\n",
              "      <td>...</td>\n",
              "      <td>...</td>\n",
              "      <td>...</td>\n",
              "      <td>...</td>\n",
              "      <td>...</td>\n",
              "    </tr>\n",
              "    <tr>\n",
              "      <th>32556</th>\n",
              "      <td>16</td>\n",
              "      <td>Palermo</td>\n",
              "      <td>relacion_de_dependencia</td>\n",
              "      <td>27</td>\n",
              "      <td>universidad_2_anio</td>\n",
              "      <td>matrimonio_civil</td>\n",
              "      <td>0</td>\n",
              "      <td>mujer</td>\n",
              "      <td>38</td>\n",
              "      <td>cristianismo</td>\n",
              "      <td>casada</td>\n",
              "      <td>0</td>\n",
              "      <td>soporte_tecnico</td>\n",
              "    </tr>\n",
              "    <tr>\n",
              "      <th>32557</th>\n",
              "      <td>13</td>\n",
              "      <td>Palermo</td>\n",
              "      <td>relacion_de_dependencia</td>\n",
              "      <td>40</td>\n",
              "      <td>4_anio</td>\n",
              "      <td>matrimonio_civil</td>\n",
              "      <td>0</td>\n",
              "      <td>hombre</td>\n",
              "      <td>40</td>\n",
              "      <td>cristianismo</td>\n",
              "      <td>casado</td>\n",
              "      <td>1</td>\n",
              "      <td>inspector</td>\n",
              "    </tr>\n",
              "    <tr>\n",
              "      <th>32558</th>\n",
              "      <td>13</td>\n",
              "      <td>Palermo</td>\n",
              "      <td>relacion_de_dependencia</td>\n",
              "      <td>58</td>\n",
              "      <td>4_anio</td>\n",
              "      <td>viudo_a</td>\n",
              "      <td>0</td>\n",
              "      <td>mujer</td>\n",
              "      <td>40</td>\n",
              "      <td>cristianismo</td>\n",
              "      <td>soltero_a</td>\n",
              "      <td>0</td>\n",
              "      <td>entretenimiento</td>\n",
              "    </tr>\n",
              "    <tr>\n",
              "      <th>32559</th>\n",
              "      <td>13</td>\n",
              "      <td>Palermo</td>\n",
              "      <td>relacion_de_dependencia</td>\n",
              "      <td>22</td>\n",
              "      <td>4_anio</td>\n",
              "      <td>sin_matrimonio</td>\n",
              "      <td>0</td>\n",
              "      <td>hombre</td>\n",
              "      <td>20</td>\n",
              "      <td>cristianismo</td>\n",
              "      <td>con_hijos</td>\n",
              "      <td>0</td>\n",
              "      <td>entretenimiento</td>\n",
              "    </tr>\n",
              "    <tr>\n",
              "      <th>32560</th>\n",
              "      <td>13</td>\n",
              "      <td>Palermo</td>\n",
              "      <td>responsable_inscripto</td>\n",
              "      <td>52</td>\n",
              "      <td>4_anio</td>\n",
              "      <td>matrimonio_civil</td>\n",
              "      <td>15024</td>\n",
              "      <td>mujer</td>\n",
              "      <td>40</td>\n",
              "      <td>cristianismo</td>\n",
              "      <td>casada</td>\n",
              "      <td>1</td>\n",
              "      <td>directivo_gerente</td>\n",
              "    </tr>\n",
              "  </tbody>\n",
              "</table>\n",
              "<p>32561 rows × 13 columns</p>\n",
              "</div>"
            ],
            "text/plain": [
              "       anios_estudiados  ...                    trabajo\n",
              "0                    17  ...            entretenimiento\n",
              "1                    17  ...          directivo_gerente\n",
              "2                    13  ...                  limpiador\n",
              "3                    11  ...                  limpiador\n",
              "4                    17  ...  profesional_especializado\n",
              "...                 ...  ...                        ...\n",
              "32556                16  ...            soporte_tecnico\n",
              "32557                13  ...                  inspector\n",
              "32558                13  ...            entretenimiento\n",
              "32559                13  ...            entretenimiento\n",
              "32560                13  ...          directivo_gerente\n",
              "\n",
              "[32561 rows x 13 columns]"
            ]
          },
          "metadata": {
            "tags": []
          },
          "execution_count": 720
        }
      ]
    },
    {
      "cell_type": "code",
      "metadata": {
        "colab": {
          "base_uri": "https://localhost:8080/"
        },
        "id": "f3hgBmLhETTf",
        "outputId": "a8d7be44-ce10-4c7a-c54b-e909abeca8ac"
      },
      "source": [
        "# Inspeccionamos las dimensiones iniciales del dataframe\n",
        "df.shape"
      ],
      "execution_count": 721,
      "outputs": [
        {
          "output_type": "execute_result",
          "data": {
            "text/plain": [
              "(32561, 13)"
            ]
          },
          "metadata": {
            "tags": []
          },
          "execution_count": 721
        }
      ]
    },
    {
      "cell_type": "code",
      "metadata": {
        "colab": {
          "base_uri": "https://localhost:8080/"
        },
        "id": "LXTw4PeAFNz9",
        "outputId": "1c40571e-c3f1-41d5-aeb9-cdf8e4b39f98"
      },
      "source": [
        "# Verifico que \"tiene_alto_valor_adquisitivo\" no tenga valores nulos\n",
        "df['tiene_alto_valor_adquisitivo'].isnull().sum()"
      ],
      "execution_count": 722,
      "outputs": [
        {
          "output_type": "execute_result",
          "data": {
            "text/plain": [
              "0"
            ]
          },
          "metadata": {
            "tags": []
          },
          "execution_count": 722
        }
      ]
    },
    {
      "cell_type": "code",
      "metadata": {
        "colab": {
          "base_uri": "https://localhost:8080/"
        },
        "id": "7XSgy_mwFx50",
        "outputId": "711f2582-a391-4ace-817e-6e3b6064d73e"
      },
      "source": [
        "# Verificamos si hay campos con valores nulos\n",
        "df.isnull().sum()"
      ],
      "execution_count": 723,
      "outputs": [
        {
          "output_type": "execute_result",
          "data": {
            "text/plain": [
              "anios_estudiados                                 0\n",
              "barrio                                         583\n",
              "categoria_de_trabajo                          1836\n",
              "edad                                             0\n",
              "educacion_alcanzada                              0\n",
              "estado_marital                                   0\n",
              "ganancia_perdida_declarada_bolsa_argentina       0\n",
              "genero                                           0\n",
              "horas_trabajo_registradas                        0\n",
              "religion                                         0\n",
              "rol_familiar_registrado                          0\n",
              "tiene_alto_valor_adquisitivo                     0\n",
              "trabajo                                       1843\n",
              "dtype: int64"
            ]
          },
          "metadata": {
            "tags": []
          },
          "execution_count": 723
        }
      ]
    },
    {
      "cell_type": "markdown",
      "metadata": {
        "id": "2KVfwl5QHOln"
      },
      "source": [
        "# **Análisis de columnas**"
      ]
    },
    {
      "cell_type": "markdown",
      "metadata": {
        "id": "q0q_5L3tLF0G"
      },
      "source": [
        "## **Años estudiados**\n",
        "\n",
        "**Preguntas:**\n",
        "\n",
        "* ¿La columna aporta información relevante?\n",
        "* ¿El dato esta completo en todas las filas?\n",
        "* ¿Los datos tienen mucha varianza?\n",
        "* ¿Aporta valor para realizar una predicción?\n",
        "\n",
        "**Análisis**"
      ]
    },
    {
      "cell_type": "code",
      "metadata": {
        "colab": {
          "base_uri": "https://localhost:8080/"
        },
        "id": "RxT6dVQ3LSOI",
        "outputId": "4113c83a-8d89-489b-c094-26ff88313eb2"
      },
      "source": [
        "# ¿Tiene valores nulos?\n",
        "df[\"anios_estudiados\"].isnull().sum()"
      ],
      "execution_count": 724,
      "outputs": [
        {
          "output_type": "execute_result",
          "data": {
            "text/plain": [
              "0"
            ]
          },
          "metadata": {
            "tags": []
          },
          "execution_count": 724
        }
      ]
    },
    {
      "cell_type": "code",
      "metadata": {
        "colab": {
          "base_uri": "https://localhost:8080/"
        },
        "id": "1o7sljE9LZAs",
        "outputId": "faad60d2-a266-4b8a-d308-44d8d210a578"
      },
      "source": [
        "df[\"anios_estudiados\"].value_counts()"
      ],
      "execution_count": 725,
      "outputs": [
        {
          "output_type": "execute_result",
          "data": {
            "text/plain": [
              "13    10501\n",
              "14     7291\n",
              "17     5355\n",
              "18     1723\n",
              "15     1382\n",
              "11     1175\n",
              "16     1067\n",
              "10      933\n",
              "8       646\n",
              "19      576\n",
              "9       514\n",
              "12      433\n",
              "20      413\n",
              "6       333\n",
              "4       168\n",
              "1        51\n",
              "Name: anios_estudiados, dtype: int64"
            ]
          },
          "metadata": {
            "tags": []
          },
          "execution_count": 725
        }
      ]
    },
    {
      "cell_type": "code",
      "metadata": {
        "colab": {
          "base_uri": "https://localhost:8080/",
          "height": 0
        },
        "id": "tZ-TbVAbgUee",
        "outputId": "fc01f56e-0bde-4dcb-f3bd-e5bde360497f"
      },
      "source": [
        "plt.figure(dpi=150)\n",
        "plt.title(\"Distribución de años de estudio y\\n tener alto nivel adquisitivo \")\n",
        "sbn.boxplot(\n",
        "    data=df,\n",
        "    y='anios_estudiados',\n",
        "    x='tiene_alto_valor_adquisitivo'\n",
        ")\n",
        "plt.ylabel(\"Años de estudio\")\n",
        "plt.xlabel(\"Tiene alto nivel adquisitivo \")\n",
        "plt.xticks([False, True], [\"No\", \"Sí\"])\n",
        "plt.show()"
      ],
      "execution_count": 726,
      "outputs": [
        {
          "output_type": "display_data",
          "data": {
            "image/png": "[encoded data removed]",
            "text/plain": [
              "<Figure size 960x720 with 1 Axes>"
            ]
          },
          "metadata": {
            "tags": []
          }
        }
      ]
    },
    {
      "cell_type": "markdown",
      "metadata": {
        "id": "M74XVvq4Ljn5"
      },
      "source": [
        "**Conclusiones**\n",
        "\n",
        "Podemos observar que esta columna no tiene registros faltantes. \n",
        "\n",
        "Al analizar la distribución de años de estudio vemos que los que tiene entre 14 y 17 aproxidamente tienen un alto nivel adquisitivo."
      ]
    },
    {
      "cell_type": "markdown",
      "metadata": {
        "id": "m-u5efnkHjy6"
      },
      "source": [
        "## **Categoria de trabajo**\n",
        "\n",
        "**Preguntas:**\n",
        "\n",
        "* ¿La columna aporta información relevante?\n",
        "* ¿El dato esta completo en todas las filas?\n",
        "* ¿Los datos tienen mucha varianza?\n",
        "* ¿Aporta valor para realizar una predicción?\n",
        "\n",
        "**Análisis**\n"
      ]
    },
    {
      "cell_type": "code",
      "metadata": {
        "colab": {
          "base_uri": "https://localhost:8080/"
        },
        "id": "vLcEJGiUJgYu",
        "outputId": "d4c529e2-4469-4439-c9f5-8819c1100ce5"
      },
      "source": [
        "# ¿Tiene valores nulos?\n",
        "df[\"categoria_de_trabajo\"].isnull().sum()"
      ],
      "execution_count": 727,
      "outputs": [
        {
          "output_type": "execute_result",
          "data": {
            "text/plain": [
              "1836"
            ]
          },
          "metadata": {
            "tags": []
          },
          "execution_count": 727
        }
      ]
    },
    {
      "cell_type": "code",
      "metadata": {
        "colab": {
          "base_uri": "https://localhost:8080/"
        },
        "id": "qqUmKIdEHQI8",
        "outputId": "a375f73a-43f4-4e33-b1d3-15963d17b7a1"
      },
      "source": [
        "df[\"categoria_de_trabajo\"].value_counts()"
      ],
      "execution_count": 728,
      "outputs": [
        {
          "output_type": "execute_result",
          "data": {
            "text/plain": [
              "relacion_de_dependencia    22696\n",
              "monotibutista               2541\n",
              "empleado_municipal          2093\n",
              "empleado_provincial         1298\n",
              "responsable_inscripto       1116\n",
              "empleadao_estatal            960\n",
              "trabajo_voluntariado          14\n",
              "sin_trabajo                    7\n",
              "Name: categoria_de_trabajo, dtype: int64"
            ]
          },
          "metadata": {
            "tags": []
          },
          "execution_count": 728
        }
      ]
    },
    {
      "cell_type": "code",
      "metadata": {
        "id": "eR_sxRO11W8j"
      },
      "source": [
        "# Eliminamos las categorias trabajo_voluntariado y sin_trabajo por tener tan solo 21 registros entre ambos\n",
        "df = df.drop(df[df[\"categoria_de_trabajo\"] == \"trabajo_voluntariado\"].index)\n",
        "df = df.drop(df[df[\"categoria_de_trabajo\"] == \"sin_trabajo\"].index)"
      ],
      "execution_count": 729,
      "outputs": []
    },
    {
      "cell_type": "code",
      "metadata": {
        "colab": {
          "base_uri": "https://localhost:8080/"
        },
        "id": "c7MfzCI1wXO5",
        "outputId": "a927065f-e581-4ccb-d133-c2d70c06afc7"
      },
      "source": [
        "df[\"categoria_de_trabajo\"].value_counts()"
      ],
      "execution_count": 730,
      "outputs": [
        {
          "output_type": "execute_result",
          "data": {
            "text/plain": [
              "relacion_de_dependencia    22696\n",
              "monotibutista               2541\n",
              "empleado_municipal          2093\n",
              "empleado_provincial         1298\n",
              "responsable_inscripto       1116\n",
              "empleadao_estatal            960\n",
              "Name: categoria_de_trabajo, dtype: int64"
            ]
          },
          "metadata": {
            "tags": []
          },
          "execution_count": 730
        }
      ]
    },
    {
      "cell_type": "code",
      "metadata": {
        "colab": {
          "base_uri": "https://localhost:8080/"
        },
        "id": "ChLTPWHPu2Gj",
        "outputId": "7bf0221e-c384-4349-c299-dbcfb289d6fc"
      },
      "source": [
        "# Analizamos categoria relacion de dependencia\n",
        "df_categoria_trabajo_dependiente = df[df[\"categoria_de_trabajo\"] == \"relacion_de_dependencia\"]\n",
        "df_categoria_trabajo_dependiente[\"tiene_alto_valor_adquisitivo\"].value_counts()"
      ],
      "execution_count": 731,
      "outputs": [
        {
          "output_type": "execute_result",
          "data": {
            "text/plain": [
              "0    17733\n",
              "1     4963\n",
              "Name: tiene_alto_valor_adquisitivo, dtype: int64"
            ]
          },
          "metadata": {
            "tags": []
          },
          "execution_count": 731
        }
      ]
    },
    {
      "cell_type": "code",
      "metadata": {
        "colab": {
          "base_uri": "https://localhost:8080/"
        },
        "id": "lw113Txvvy3v",
        "outputId": "8a5831fd-c252-4b62-b9a8-d7b4fd7afc6a"
      },
      "source": [
        "# Analizamos categoria monotibutista\n",
        "df_categoria_trabajo_monotributista = df[df[\"categoria_de_trabajo\"] == \"monotibutista\"]\n",
        "df_categoria_trabajo_monotributista[\"tiene_alto_valor_adquisitivo\"].value_counts()"
      ],
      "execution_count": 732,
      "outputs": [
        {
          "output_type": "execute_result",
          "data": {
            "text/plain": [
              "0    1817\n",
              "1     724\n",
              "Name: tiene_alto_valor_adquisitivo, dtype: int64"
            ]
          },
          "metadata": {
            "tags": []
          },
          "execution_count": 732
        }
      ]
    },
    {
      "cell_type": "code",
      "metadata": {
        "colab": {
          "base_uri": "https://localhost:8080/"
        },
        "id": "x1gIvS-Twjbp",
        "outputId": "de63c803-7d56-43ff-97f8-f51f5b2311ba"
      },
      "source": [
        "# Analizamos categoria empleado municipal          \n",
        "df_categoria_trabajo_municipal = df[df[\"categoria_de_trabajo\"] == \"empleado_municipal\"]\n",
        "df_categoria_trabajo_municipal[\"tiene_alto_valor_adquisitivo\"].value_counts()"
      ],
      "execution_count": 733,
      "outputs": [
        {
          "output_type": "execute_result",
          "data": {
            "text/plain": [
              "0    1476\n",
              "1     617\n",
              "Name: tiene_alto_valor_adquisitivo, dtype: int64"
            ]
          },
          "metadata": {
            "tags": []
          },
          "execution_count": 733
        }
      ]
    },
    {
      "cell_type": "code",
      "metadata": {
        "colab": {
          "base_uri": "https://localhost:8080/"
        },
        "id": "y0R051x68WVU",
        "outputId": "fe6105cc-a3d6-4349-c034-50fb9a8f5055"
      },
      "source": [
        "# Analizamos categoria empleado provincial\n",
        "df_categoria_trabajo_provincial = df[df[\"categoria_de_trabajo\"] == \"empleado_provincial\"]\n",
        "df_categoria_trabajo_provincial[\"tiene_alto_valor_adquisitivo\"].value_counts()"
      ],
      "execution_count": 734,
      "outputs": [
        {
          "output_type": "execute_result",
          "data": {
            "text/plain": [
              "0    945\n",
              "1    353\n",
              "Name: tiene_alto_valor_adquisitivo, dtype: int64"
            ]
          },
          "metadata": {
            "tags": []
          },
          "execution_count": 734
        }
      ]
    },
    {
      "cell_type": "code",
      "metadata": {
        "colab": {
          "base_uri": "https://localhost:8080/"
        },
        "id": "abfHpvBvwyVo",
        "outputId": "5df2bc01-f6fd-4707-962b-a56f22295002"
      },
      "source": [
        "# Analizamos por categoria responsable inscripto\n",
        "df_categoria_trabajo_responsable_inscripto = df[df[\"categoria_de_trabajo\"] == \"responsable_inscripto\"]\n",
        "df_categoria_trabajo_responsable_inscripto[\"tiene_alto_valor_adquisitivo\"].value_counts()"
      ],
      "execution_count": 735,
      "outputs": [
        {
          "output_type": "execute_result",
          "data": {
            "text/plain": [
              "1    622\n",
              "0    494\n",
              "Name: tiene_alto_valor_adquisitivo, dtype: int64"
            ]
          },
          "metadata": {
            "tags": []
          },
          "execution_count": 735
        }
      ]
    },
    {
      "cell_type": "code",
      "metadata": {
        "colab": {
          "base_uri": "https://localhost:8080/"
        },
        "id": "7MBDSwDk8t_P",
        "outputId": "b363a9e2-a4ae-400f-dd01-ffa37e3a9011"
      },
      "source": [
        "# Analizamos por categoria empleado estatal            \n",
        "df_categoria_trabajo_estatal = df[df[\"categoria_de_trabajo\"] == \"empleadao_estatal\"]\n",
        "df_categoria_trabajo_estatal[\"tiene_alto_valor_adquisitivo\"].value_counts()"
      ],
      "execution_count": 736,
      "outputs": [
        {
          "output_type": "execute_result",
          "data": {
            "text/plain": [
              "0    589\n",
              "1    371\n",
              "Name: tiene_alto_valor_adquisitivo, dtype: int64"
            ]
          },
          "metadata": {
            "tags": []
          },
          "execution_count": 736
        }
      ]
    },
    {
      "cell_type": "code",
      "metadata": {
        "colab": {
          "base_uri": "https://localhost:8080/",
          "height": 0
        },
        "id": "lcKLJ_u93pQa",
        "outputId": "06a07c46-4b0c-45d6-8309-ee947fa522e1"
      },
      "source": [
        "# Comparamos la categoria de trabajo y si tiene alto valor adquisitivo\n",
        "plt.figure(dpi=150)\n",
        "df_aux = df[[\"tiene_alto_valor_adquisitivo\", \"categoria_de_trabajo\"]].value_counts().reset_index()\n",
        "df_aux.columns.values[2] = 'count'\n",
        "df_aux.tiene_alto_valor_adquisitivo.replace(to_replace=[True, False], value=[\"Sí\", \"No\"], inplace=True)\n",
        "df_aux.categoria_de_trabajo.replace(to_replace=[\"relacion_de_dependencia\", \"monotibutista\", \"empleado_municipal\", \"empleado_provincial\", \"responsable_inscripto\", \"empleadao_estatal\"], \n",
        "    value=[\"Relacion de dependencia\", \"Monotribustista\", \"Empleado municipal\", \"Empleado provincial\", \"Responsable inscripto\", \"Empleado estatal\"], inplace=True)\n",
        "\n",
        "sbn.catplot(data=df_aux, x='categoria_de_trabajo', y='count', hue='tiene_alto_valor_adquisitivo', kind='bar', legend=False)\n",
        "\n",
        "plt.legend(title = \"Tiene alto valor adquisitivo \")\n",
        "plt.ylabel(\"Cantidad de registros (log)\")\n",
        "plt.xlabel(\"Categoria de trabajo\")\n",
        "plt.title('Relación entre categoria de trabajo y si tiene alto valor adquisitivo')\n",
        "plt.xticks(rotation=90)\n",
        "plt.yscale(\"log\")\n",
        "plt.show()"
      ],
      "execution_count": 737,
      "outputs": [
        {
          "output_type": "display_data",
          "data": {
            "text/plain": [
              "<Figure size 960x720 with 0 Axes>"
            ]
          },
          "metadata": {
            "tags": []
          }
        },
        {
          "output_type": "display_data",
          "data": {
            "image/png": "[encoded data removed]",
            "text/plain": [
              "<Figure size 500x500 with 1 Axes>"
            ]
          },
          "metadata": {
            "tags": []
          }
        }
      ]
    },
    {
      "cell_type": "markdown",
      "metadata": {
        "id": "p0jl_KDaI17S"
      },
      "source": [
        "**Conclusiones**\n",
        "\n",
        "Podemos observar que faltan 1632 de los 32561 valores (5,6 %). \n",
        "\n",
        "Como entre las categorias \"trabajo_voluntariado\" y \"sin_trabajo\" hay tan solo 21 registros los eliminamos al no ser representativa la cantidad con esos tipos (0,06 %).\n",
        "\n",
        "Podemos observar que la mayoria de los registros corresponden a valor \"relacion_de_dependencia\"."
      ]
    },
    {
      "cell_type": "markdown",
      "metadata": {
        "id": "8i6thoScIwTU"
      },
      "source": [
        "## **Barrio**\n",
        "\n",
        "**Preguntas:**\n",
        "\n",
        "* ¿La columna aporta información relevante?\n",
        "* ¿El dato esta completo en todas las filas?\n",
        "* ¿Los datos tienen mucha varianza?\n",
        "* ¿Aporta valor para realizar una predicción?\n",
        "* ¿Los datos estan balanceados?\n",
        "\n",
        "**Análisis**"
      ]
    },
    {
      "cell_type": "code",
      "metadata": {
        "colab": {
          "base_uri": "https://localhost:8080/"
        },
        "id": "c7Mu3AcsJUNU",
        "outputId": "ad18bf0c-c1cb-494e-f7b8-f1a5e8cb2484"
      },
      "source": [
        "# ¿Tiene valores nulos?\n",
        "df[\"barrio\"].isnull().sum()"
      ],
      "execution_count": 738,
      "outputs": [
        {
          "output_type": "execute_result",
          "data": {
            "text/plain": [
              "583"
            ]
          },
          "metadata": {
            "tags": []
          },
          "execution_count": 738
        }
      ]
    },
    {
      "cell_type": "code",
      "metadata": {
        "colab": {
          "base_uri": "https://localhost:8080/"
        },
        "id": "ODOwfzX7IyYi",
        "outputId": "36c8c7a9-9b32-4623-fed1-6b28d58b00d4"
      },
      "source": [
        "df[\"barrio\"].value_counts()"
      ],
      "execution_count": 739,
      "outputs": [
        {
          "output_type": "execute_result",
          "data": {
            "text/plain": [
              "Palermo                29150\n",
              "Belgrano                 643\n",
              "San Isidro               197\n",
              "Villa Urquiza            137\n",
              "Recoleta                 121\n",
              "La Boca                  114\n",
              "Agronomia                106\n",
              "Almagro                  100\n",
              "Balvanera                 95\n",
              "Puerto Madero             90\n",
              "Caballito                 81\n",
              "Boedo                     80\n",
              "Barracas                  75\n",
              "Chacarita                 73\n",
              "Coghland                  70\n",
              "Floresta                  67\n",
              "Constitucion              64\n",
              "Colegiales                62\n",
              "Flores                    60\n",
              "Liniers                   59\n",
              "Monte Castro              51\n",
              "Mataderos                 44\n",
              "Nueva Pompeya             43\n",
              "Monserrat                 37\n",
              "nuñez                     34\n",
              "Parque Chacabuco          31\n",
              "Villa Luro                29\n",
              "Parque Avellaneda         29\n",
              "Parque Chas               28\n",
              "La Paternal               24\n",
              "Retiro                    20\n",
              "Villa Soldati             19\n",
              "Villa Devoto              19\n",
              "San Telmo                 18\n",
              "Villa Real                18\n",
              "Santa Rita                16\n",
              "Villa General Mitre       14\n",
              "Versalles                 13\n",
              "Velez Sarsfield           13\n",
              "Villa Pueyrredon          12\n",
              "Cilla Riachuelo            1\n",
              "Name: barrio, dtype: int64"
            ]
          },
          "metadata": {
            "tags": []
          },
          "execution_count": 739
        }
      ]
    },
    {
      "cell_type": "markdown",
      "metadata": {
        "id": "PnBrE21YJlYH"
      },
      "source": [
        "**Conclusiones**\n",
        "\n",
        "Podemos observar que esta columna solo tiene un faltante de 583 sobre los 32561 valores (1,8 %). La mayoria de los registros corresponde al barrio de Palermo, los datos no estan balanceados."
      ]
    },
    {
      "cell_type": "markdown",
      "metadata": {
        "id": "9IqYpaJxKLlZ"
      },
      "source": [
        "## **Edad**\n",
        "\n",
        "**Preguntas:**\n",
        "\n",
        "* ¿La columna aporta información relevante?\n",
        "* ¿El dato esta completo en todas las filas?\n",
        "* ¿Los datos tienen mucha varianza?\n",
        "* ¿Aporta valor para realizar una predicción?\n",
        "* ¿Los datos estan balanceados?\n",
        "\n",
        "**Análisis**"
      ]
    },
    {
      "cell_type": "code",
      "metadata": {
        "colab": {
          "base_uri": "https://localhost:8080/"
        },
        "id": "W608EPdmKcPm",
        "outputId": "295000f4-088d-43a1-ec01-4dfdb6423e65"
      },
      "source": [
        "# ¿Tiene valores nulos?\n",
        "df[\"edad\"].isnull().sum()"
      ],
      "execution_count": 740,
      "outputs": [
        {
          "output_type": "execute_result",
          "data": {
            "text/plain": [
              "0"
            ]
          },
          "metadata": {
            "tags": []
          },
          "execution_count": 740
        }
      ]
    },
    {
      "cell_type": "code",
      "metadata": {
        "colab": {
          "base_uri": "https://localhost:8080/"
        },
        "id": "fZj5ca_XKhAK",
        "outputId": "859e68a9-5622-427a-b394-a39f1b614a94"
      },
      "source": [
        "df[\"edad\"].value_counts()"
      ],
      "execution_count": 741,
      "outputs": [
        {
          "output_type": "execute_result",
          "data": {
            "text/plain": [
              "36    898\n",
              "31    888\n",
              "34    886\n",
              "23    876\n",
              "35    876\n",
              "     ... \n",
              "83      6\n",
              "88      3\n",
              "85      3\n",
              "87      1\n",
              "86      1\n",
              "Name: edad, Length: 73, dtype: int64"
            ]
          },
          "metadata": {
            "tags": []
          },
          "execution_count": 741
        }
      ]
    },
    {
      "cell_type": "markdown",
      "metadata": {
        "id": "--CHPgYRK4vO"
      },
      "source": [
        "**Conclusiones**\n",
        "\n",
        "Podemos observar que no tiene valores nulos.\n",
        "\n",
        "\"Conclusion\""
      ]
    },
    {
      "cell_type": "markdown",
      "metadata": {
        "id": "7wjyq9IkLyJy"
      },
      "source": [
        "## **Educación alcanzada**\n",
        "\n",
        "**Preguntas:**\n",
        "\n",
        "* ¿La columna aporta información relevante?\n",
        "* ¿El dato esta completo en todas las filas?\n",
        "* ¿Los datos tienen mucha varianza?\n",
        "* ¿Aporta valor para realizar una predicción?\n",
        "* ¿Los datos estan balanceados?\n",
        "\n",
        "**Análisis**"
      ]
    },
    {
      "cell_type": "code",
      "metadata": {
        "colab": {
          "base_uri": "https://localhost:8080/"
        },
        "id": "ufNa8VrxL4U0",
        "outputId": "548f3de5-7b4a-4b84-a709-3c6b1cdada6d"
      },
      "source": [
        "# ¿Tiene valores nulos?\n",
        "df[\"educacion_alcanzada\"].isnull().sum()"
      ],
      "execution_count": 742,
      "outputs": [
        {
          "output_type": "execute_result",
          "data": {
            "text/plain": [
              "0"
            ]
          },
          "metadata": {
            "tags": []
          },
          "execution_count": 742
        }
      ]
    },
    {
      "cell_type": "code",
      "metadata": {
        "colab": {
          "base_uri": "https://localhost:8080/"
        },
        "id": "nJFoGEOKL9ti",
        "outputId": "5a6325c0-cd3c-4dae-9149-49d6dcbc520a"
      },
      "source": [
        "df[\"educacion_alcanzada\"].value_counts()"
      ],
      "execution_count": 743,
      "outputs": [
        {
          "output_type": "execute_result",
          "data": {
            "text/plain": [
              "4_anio                10491\n",
              "5_anio                 7286\n",
              "universidad_3_anio     5355\n",
              "universidad_4_anio     1723\n",
              "universidad_1_anio     1382\n",
              "2_anio                 1174\n",
              "universidad_2_anio     1066\n",
              "1_anio                  931\n",
              "7-8_grado               644\n",
              "universiada_5_anio      576\n",
              "9_grado                 514\n",
              "3_anio                  433\n",
              "universiada_6_anio      413\n",
              "5-6_grado               333\n",
              "1-4_grado               168\n",
              "preescolar               51\n",
              "Name: educacion_alcanzada, dtype: int64"
            ]
          },
          "metadata": {
            "tags": []
          },
          "execution_count": 743
        }
      ]
    },
    {
      "cell_type": "code",
      "metadata": {
        "id": "Hm6gJS7Hhq9H"
      },
      "source": [
        "df.replace({\"preescolar\" : 1, \"1-4_grado\": 2, \"5-6_grado\": 3, \"7-8_grado\" : 4, \"9_grado\" : 5, \"1_anio\" : 6, \"2_anio\" : 7, \"3_anio\" : 8, \"4_anio\" : 9, \"5_anio\" : 10, \"universidad_1_anio\" : 11, \"universidad_2_anio\" : 12,\n",
        "              \"universidad_3_anio\" : 13, \"universidad_4_anio\" : 14, \"universiada_5_anio\" : 15, \"universiada_6_anio\" : 16}, inplace = True)"
      ],
      "execution_count": 744,
      "outputs": []
    },
    {
      "cell_type": "code",
      "metadata": {
        "colab": {
          "base_uri": "https://localhost:8080/",
          "height": 0
        },
        "id": "48N8Hxpxh3Bi",
        "outputId": "18a77b4e-3d76-4cbc-e7f8-cb62cd22e229"
      },
      "source": [
        "plt.figure(dpi=150)\n",
        "plt.title(\"Distribución de educación alcanzada y\\n tener alto nivel adquisitivo \")\n",
        "sbn.boxplot(\n",
        "    data=df,\n",
        "    y='educacion_alcanzada',\n",
        "    x='tiene_alto_valor_adquisitivo'\n",
        ")\n",
        "plt.ylabel(\"Educación alcanzada\")\n",
        "plt.xlabel(\"Tiene alto nivel adquisitivo \")\n",
        "plt.xticks([False, True], [\"No\", \"Sí\"])\n",
        "plt.show()"
      ],
      "execution_count": 745,
      "outputs": [
        {
          "output_type": "display_data",
          "data": {
            "image/png": "[encoded data removed]",
            "text/plain": [
              "<Figure size 960x720 with 1 Axes>"
            ]
          },
          "metadata": {
            "tags": []
          }
        }
      ]
    },
    {
      "cell_type": "markdown",
      "metadata": {
        "id": "GXNlmnKoMJY8"
      },
      "source": [
        "**Conclusiones**\n",
        "\n",
        "Podemos observar que no tiene valores nulos.\n",
        "\n",
        "Con el fin de tener una variable con cardinalidad convertimos los valores de string a números.\n",
        "\n",
        "Vemos que si tiene un nivel de estudio de entre 5° año de secundaria y 3 de universidad tiene mas probabilidad de tener alto nivel adquisitivo."
      ]
    },
    {
      "cell_type": "markdown",
      "metadata": {
        "id": "HLmQvcDuMT5q"
      },
      "source": [
        "## **Estado marital**\n",
        "\n",
        "**Preguntas:**\n",
        "\n",
        "* ¿La columna aporta información relevante?\n",
        "* ¿El dato esta completo en todas las filas?\n",
        "* ¿Los datos tienen mucha varianza?\n",
        "* ¿Aporta valor para realizar una predicción?\n",
        "* ¿Los datos estan balanceados?\n",
        "\n",
        "**Análisis**"
      ]
    },
    {
      "cell_type": "code",
      "metadata": {
        "colab": {
          "base_uri": "https://localhost:8080/"
        },
        "id": "b6AxC27EMZo3",
        "outputId": "64abdae6-0507-4ac7-b96b-75651f6b9c3b"
      },
      "source": [
        "# ¿Tiene valores nulos?\n",
        "df[\"estado_marital\"].isnull().sum()"
      ],
      "execution_count": 746,
      "outputs": [
        {
          "output_type": "execute_result",
          "data": {
            "text/plain": [
              "0"
            ]
          },
          "metadata": {
            "tags": []
          },
          "execution_count": 746
        }
      ]
    },
    {
      "cell_type": "code",
      "metadata": {
        "colab": {
          "base_uri": "https://localhost:8080/"
        },
        "id": "_3770cUgMfUk",
        "outputId": "4c1d4d84-f548-46cc-867f-a1d7892e9513"
      },
      "source": [
        "df[\"estado_marital\"].value_counts()"
      ],
      "execution_count": 747,
      "outputs": [
        {
          "output_type": "execute_result",
          "data": {
            "text/plain": [
              "matrimonio_civil      14967\n",
              "sin_matrimonio        10674\n",
              "divorciado             4442\n",
              "separado               1025\n",
              "viudo_a                 992\n",
              "pareja_no_presente      417\n",
              "matrimonio_militar       23\n",
              "Name: estado_marital, dtype: int64"
            ]
          },
          "metadata": {
            "tags": []
          },
          "execution_count": 747
        }
      ]
    },
    {
      "cell_type": "code",
      "metadata": {
        "id": "S4zs63IZkfni"
      },
      "source": [
        "df[\"estado_marital\"].replace(to_replace =\"matrimonio_militar\", value =\"matrimonio\", inplace=True)\n",
        "df[\"estado_marital\"].replace(to_replace =\"matrimonio_civil\", value =\"matrimonio\", inplace=True)"
      ],
      "execution_count": 748,
      "outputs": []
    },
    {
      "cell_type": "code",
      "metadata": {
        "colab": {
          "base_uri": "https://localhost:8080/"
        },
        "id": "xAU_oosZk0H7",
        "outputId": "1cbd6d26-6dee-4c95-bddf-721d173d6194"
      },
      "source": [
        "df[\"estado_marital\"].value_counts()"
      ],
      "execution_count": 749,
      "outputs": [
        {
          "output_type": "execute_result",
          "data": {
            "text/plain": [
              "matrimonio            14990\n",
              "sin_matrimonio        10674\n",
              "divorciado             4442\n",
              "separado               1025\n",
              "viudo_a                 992\n",
              "pareja_no_presente      417\n",
              "Name: estado_marital, dtype: int64"
            ]
          },
          "metadata": {
            "tags": []
          },
          "execution_count": 749
        }
      ]
    },
    {
      "cell_type": "code",
      "metadata": {
        "colab": {
          "base_uri": "https://localhost:8080/",
          "height": 693
        },
        "id": "1amLDiy4jb6W",
        "outputId": "00634f53-335f-43fc-a716-92dd36b8bff5"
      },
      "source": [
        "# Comparamos la categoria de trabajo y si tiene alto valor adquisitivo\n",
        "plt.figure(dpi=150)\n",
        "df_aux = df[[\"tiene_alto_valor_adquisitivo\", \"estado_marital\"]].value_counts().reset_index()\n",
        "df_aux.columns.values[2] = 'count'\n",
        "df_aux.estado_marital.replace(to_replace=[True, False], value=[\"Sí\", \"No\"], inplace=True)\n",
        "df_aux.estado_marital.replace(to_replace=[\"sin_matrimonio\", \"viudo_a\", \"pareja_no_presente\"], value=[\"Sin matrimonio\", \"viudo/a\", \"Pareja no presente\"], inplace=True)\n",
        "\n",
        "sbn.catplot(data=df_aux, x='estado_marital', y='count', hue='tiene_alto_valor_adquisitivo', kind='bar', legend=False)\n",
        "\n",
        "plt.legend(title = \"Tiene alto valor adquisitivo \")\n",
        "plt.ylabel(\"Cantidad de registros (log)\")\n",
        "plt.xlabel(\"Categoria de trabajo\")\n",
        "plt.title('Relación entre categoria de trabajo y si tiene alto valor adquisitivo')\n",
        "plt.xticks(rotation=90)\n",
        "plt.yscale(\"log\")\n",
        "plt.show()"
      ],
      "execution_count": 750,
      "outputs": [
        {
          "output_type": "display_data",
          "data": {
            "text/plain": [
              "<Figure size 960x720 with 0 Axes>"
            ]
          },
          "metadata": {
            "tags": []
          }
        },
        {
          "output_type": "display_data",
          "data": {
            "image/png": "[encoded data removed]",
            "text/plain": [
              "<Figure size 500x500 with 1 Axes>"
            ]
          },
          "metadata": {
            "tags": []
          }
        }
      ]
    },
    {
      "cell_type": "markdown",
      "metadata": {
        "id": "6FH01pUDMwVd"
      },
      "source": [
        "**Conclusiones**\n",
        "\n",
        "Podemos observar que no tiene valores nulos.\n",
        "\n",
        "Podemos observar que Pareja no presente tiene una baja probabilidad de tener alto nivel adquisitivo."
      ]
    },
    {
      "cell_type": "markdown",
      "metadata": {
        "id": "SgIjmOe_M9S0"
      },
      "source": [
        "## **Ganancia, perdida declarada bolsa argentina**\n",
        "\n",
        "**Preguntas:**\n",
        "\n",
        "* ¿La columna aporta información relevante?\n",
        "* ¿El dato esta completo en todas las filas?\n",
        "* ¿Los datos tienen mucha varianza?\n",
        "* ¿Aporta valor para realizar una predicción?\n",
        "* ¿Los datos estan balanceados?\n",
        "\n",
        "**Análisis**"
      ]
    },
    {
      "cell_type": "code",
      "metadata": {
        "colab": {
          "base_uri": "https://localhost:8080/"
        },
        "id": "SuJ1CnJfNEf0",
        "outputId": "0872f251-28be-43ac-e997-c664dd29bcd6"
      },
      "source": [
        "# ¿Tiene valores nulos?\n",
        "df[\"ganancia_perdida_declarada_bolsa_argentina\"].isnull().sum()"
      ],
      "execution_count": 751,
      "outputs": [
        {
          "output_type": "execute_result",
          "data": {
            "text/plain": [
              "0"
            ]
          },
          "metadata": {
            "tags": []
          },
          "execution_count": 751
        }
      ]
    },
    {
      "cell_type": "code",
      "metadata": {
        "colab": {
          "base_uri": "https://localhost:8080/"
        },
        "id": "_ADaHv69NHdS",
        "outputId": "5421e785-bf53-4539-ac93-5c0c34e6aa34"
      },
      "source": [
        "df[\"ganancia_perdida_declarada_bolsa_argentina\"].value_counts()"
      ],
      "execution_count": 752,
      "outputs": [
        {
          "output_type": "execute_result",
          "data": {
            "text/plain": [
              " 0        28311\n",
              " 15024      347\n",
              " 7688       284\n",
              " 7298       246\n",
              "-1902       202\n",
              "          ...  \n",
              " 22040        1\n",
              " 2538         1\n",
              "-2467         1\n",
              "-2163         1\n",
              "-2080         1\n",
              "Name: ganancia_perdida_declarada_bolsa_argentina, Length: 210, dtype: int64"
            ]
          },
          "metadata": {
            "tags": []
          },
          "execution_count": 752
        }
      ]
    },
    {
      "cell_type": "code",
      "metadata": {
        "id": "PXLvcivSnstf"
      },
      "source": [
        "df[\"opera_en_bolsa\"] = df[\"ganancia_perdida_declarada_bolsa_argentina\"].apply(lambda x: True if x != 0 else False)\n",
        "df.drop(columns = \"ganancia_perdida_declarada_bolsa_argentina\", inplace = True)"
      ],
      "execution_count": 753,
      "outputs": []
    },
    {
      "cell_type": "code",
      "metadata": {
        "colab": {
          "base_uri": "https://localhost:8080/"
        },
        "id": "y5nTgk3Emour",
        "outputId": "f4f9cced-0ff3-482a-b6a4-dcc9e9fda316"
      },
      "source": [
        "# Analizamos opera en bolsa vs Tiene alto valor adquisitivo \n",
        "df_no_opera_bolsa_argentina = df[df[\"opera_en_bolsa\"] == False]\n",
        "df_no_opera_bolsa_argentina[\"tiene_alto_valor_adquisitivo\"].value_counts()"
      ],
      "execution_count": 754,
      "outputs": [
        {
          "output_type": "execute_result",
          "data": {
            "text/plain": [
              "0    22920\n",
              "1     5391\n",
              "Name: tiene_alto_valor_adquisitivo, dtype: int64"
            ]
          },
          "metadata": {
            "tags": []
          },
          "execution_count": 754
        }
      ]
    },
    {
      "cell_type": "code",
      "metadata": {
        "colab": {
          "base_uri": "https://localhost:8080/"
        },
        "id": "gs4uPTFgnBgV",
        "outputId": "ce8a71d0-1498-407d-fca2-44522b6d45f1"
      },
      "source": [
        "# Analizamos no opera en bolsa vs Tiene alto valor adquisitivo \n",
        "df_opera_bolsa_argentina = df[df[\"opera_en_bolsa\"] == True]\n",
        "df_opera_bolsa_argentina[\"tiene_alto_valor_adquisitivo\"].value_counts()"
      ],
      "execution_count": 755,
      "outputs": [
        {
          "output_type": "execute_result",
          "data": {
            "text/plain": [
              "1    2450\n",
              "0    1779\n",
              "Name: tiene_alto_valor_adquisitivo, dtype: int64"
            ]
          },
          "metadata": {
            "tags": []
          },
          "execution_count": 755
        }
      ]
    },
    {
      "cell_type": "code",
      "metadata": {
        "colab": {
          "base_uri": "https://localhost:8080/",
          "height": 564
        },
        "id": "0mnyYZgEnUeH",
        "outputId": "6e8ef105-d900-4428-88d8-fbe461fc3327"
      },
      "source": [
        "# Comparamos el genero y si tiene alto valor adquisitivo\n",
        "plt.figure(dpi=150)\n",
        "df_aux = df[[\"tiene_alto_valor_adquisitivo\", \"opera_en_bolsa\"]].value_counts().reset_index()\n",
        "df_aux.columns.values[2] = 'count'\n",
        "df_aux.tiene_alto_valor_adquisitivo.replace(to_replace=[True, False], value=[\"Sí\", \"No\"], inplace=True)\n",
        "df_aux.opera_en_bolsa.replace(to_replace=[False, True], value=[\"No\", \"Si\"], inplace=True)\n",
        "\n",
        "sbn.catplot(data=df_aux, x='opera_en_bolsa', y='count', hue='tiene_alto_valor_adquisitivo', kind='bar', legend=False)\n",
        "\n",
        "plt.legend(title = \"Tiene alto valor adquisitivo \")\n",
        "plt.ylabel(\"Cantidad de registros (log)\")\n",
        "plt.xlabel(\"Opera en bolsa\")\n",
        "plt.title('Relación entre operacion en bolsa y si tiene alto valor adquisitivo')\n",
        "plt.yscale(\"log\")\n",
        "plt.show()"
      ],
      "execution_count": 756,
      "outputs": [
        {
          "output_type": "display_data",
          "data": {
            "text/plain": [
              "<Figure size 960x720 with 0 Axes>"
            ]
          },
          "metadata": {
            "tags": []
          }
        },
        {
          "output_type": "display_data",
          "data": {
            "image/png": "[encoded data removed]",
            "text/plain": [
              "<Figure size 500x500 with 1 Axes>"
            ]
          },
          "metadata": {
            "tags": []
          }
        }
      ]
    },
    {
      "cell_type": "markdown",
      "metadata": {
        "id": "qiPcLKTuNSBI"
      },
      "source": [
        "**Conclusiones**\n",
        "\n",
        "Podemos observar que no tiene valores nulos.\n",
        "\n",
        "Creamos una variable booleana para determinar que operan o no en bolsa, podemos observar que los que si operan tienen alto nivel adquisitivo."
      ]
    },
    {
      "cell_type": "markdown",
      "metadata": {
        "id": "dlniA-FUNeet"
      },
      "source": [
        "## **Genero**\n",
        "\n",
        "**Preguntas:**\n",
        "\n",
        "* ¿La columna aporta información relevante?\n",
        "* ¿El dato esta completo en todas las filas?\n",
        "* ¿Los datos tienen mucha varianza?\n",
        "* ¿Aporta valor para realizar una predicción?\n",
        "* ¿Los datos estan balanceados?\n",
        "\n",
        "**Análisis**"
      ]
    },
    {
      "cell_type": "code",
      "metadata": {
        "colab": {
          "base_uri": "https://localhost:8080/"
        },
        "id": "ym4O8IJeNhwe",
        "outputId": "79957eea-802f-4912-c041-ee3926ebf2af"
      },
      "source": [
        "# ¿Tiene valores nulos?\n",
        "df[\"genero\"].isnull().sum()"
      ],
      "execution_count": 757,
      "outputs": [
        {
          "output_type": "execute_result",
          "data": {
            "text/plain": [
              "0"
            ]
          },
          "metadata": {
            "tags": []
          },
          "execution_count": 757
        }
      ]
    },
    {
      "cell_type": "code",
      "metadata": {
        "colab": {
          "base_uri": "https://localhost:8080/"
        },
        "id": "olAb8YpNNk_m",
        "outputId": "ebe57f3d-6d54-4209-ce3b-acf019e61a33"
      },
      "source": [
        "df[\"genero\"].value_counts()"
      ],
      "execution_count": 758,
      "outputs": [
        {
          "output_type": "execute_result",
          "data": {
            "text/plain": [
              "hombre    21776\n",
              "mujer     10764\n",
              "Name: genero, dtype: int64"
            ]
          },
          "metadata": {
            "tags": []
          },
          "execution_count": 758
        }
      ]
    },
    {
      "cell_type": "code",
      "metadata": {
        "colab": {
          "base_uri": "https://localhost:8080/",
          "height": 618
        },
        "id": "DtcahoxKGL6V",
        "outputId": "e4a9cbc8-16d5-4da5-9b10-e15c3e1bd42a"
      },
      "source": [
        "# Vemos en porcentaje el género \n",
        "plt.figure(dpi=150)\n",
        "df.genero.value_counts().plot(kind='pie', autopct='%1.0f%%', ylabel='Género')"
      ],
      "execution_count": 759,
      "outputs": [
        {
          "output_type": "execute_result",
          "data": {
            "text/plain": [
              "<matplotlib.axes._subplots.AxesSubplot at 0x7fd335f0c090>"
            ]
          },
          "metadata": {
            "tags": []
          },
          "execution_count": 759
        },
        {
          "output_type": "display_data",
          "data": {
            "image/png": "[encoded data removed]",
            "text/plain": [
              "<Figure size 960x720 with 1 Axes>"
            ]
          },
          "metadata": {
            "tags": []
          }
        }
      ]
    },
    {
      "cell_type": "code",
      "metadata": {
        "colab": {
          "base_uri": "https://localhost:8080/"
        },
        "id": "snTufz0HGi8w",
        "outputId": "4a145d89-9143-46f2-dc0b-0eb98fb7cd11"
      },
      "source": [
        "# Analizamos hombre vs Tiene alto valor adquisitivo \n",
        "df_genero_hombre = df[df[\"genero\"] == \"hombre\"]\n",
        "df_genero_hombre[\"tiene_alto_valor_adquisitivo\"].value_counts()"
      ],
      "execution_count": 760,
      "outputs": [
        {
          "output_type": "execute_result",
          "data": {
            "text/plain": [
              "0    15114\n",
              "1     6662\n",
              "Name: tiene_alto_valor_adquisitivo, dtype: int64"
            ]
          },
          "metadata": {
            "tags": []
          },
          "execution_count": 760
        }
      ]
    },
    {
      "cell_type": "code",
      "metadata": {
        "colab": {
          "base_uri": "https://localhost:8080/"
        },
        "id": "oisPjBSlG6Qg",
        "outputId": "3e723457-019f-43d9-bed9-0328a3f722cc"
      },
      "source": [
        "# Analizamos mujer vs Tiene alto valor adquisitivo \n",
        "df_genero_mujer = df[df[\"genero\"] == \"mujer\"]\n",
        "df_genero_mujer[\"tiene_alto_valor_adquisitivo\"].value_counts()"
      ],
      "execution_count": 761,
      "outputs": [
        {
          "output_type": "execute_result",
          "data": {
            "text/plain": [
              "0    9585\n",
              "1    1179\n",
              "Name: tiene_alto_valor_adquisitivo, dtype: int64"
            ]
          },
          "metadata": {
            "tags": []
          },
          "execution_count": 761
        }
      ]
    },
    {
      "cell_type": "code",
      "metadata": {
        "colab": {
          "base_uri": "https://localhost:8080/",
          "height": 564
        },
        "id": "UmmukV6nHLqk",
        "outputId": "edeaf254-02a0-4960-835f-ef0fce545022"
      },
      "source": [
        "# Comparamos el genero y si tiene alto valor adquisitivo\n",
        "plt.figure(dpi=150)\n",
        "df_aux = df[[\"tiene_alto_valor_adquisitivo\", \"genero\"]].value_counts().reset_index()\n",
        "df_aux.columns.values[2] = 'count'\n",
        "df_aux.tiene_alto_valor_adquisitivo.replace(to_replace=[True, False], value=[\"Sí\", \"No\"], inplace=True)\n",
        "df_aux.genero.replace(to_replace=[\"hombre\", \"mujer\"], value=[\"Hombre\", \"Mujer\"], inplace=True)\n",
        "\n",
        "sbn.catplot(data=df_aux, x='genero', y='count', hue='tiene_alto_valor_adquisitivo', kind='bar', legend=False)\n",
        "\n",
        "plt.legend(title = \"Tiene alto valor adquisitivo \")\n",
        "plt.ylabel(\"Cantidad de registros (log)\")\n",
        "plt.xlabel(\"Genero\")\n",
        "plt.title('Relación entre genero y si tiene alto valor adquisitivo')\n",
        "plt.yscale(\"log\")\n",
        "plt.show()"
      ],
      "execution_count": 762,
      "outputs": [
        {
          "output_type": "display_data",
          "data": {
            "text/plain": [
              "<Figure size 960x720 with 0 Axes>"
            ]
          },
          "metadata": {
            "tags": []
          }
        },
        {
          "output_type": "display_data",
          "data": {
            "image/png": "[encoded data removed]",
            "text/plain": [
              "<Figure size 500x500 with 1 Axes>"
            ]
          },
          "metadata": {
            "tags": []
          }
        }
      ]
    },
    {
      "cell_type": "markdown",
      "metadata": {
        "id": "M29PoauWNrEm"
      },
      "source": [
        "**Conclusiones**\n",
        "\n",
        "Podemos observar que no tiene valores nulos y solo dos valores posibles. La mayoria de los datos corresponde el valor hombre.\n",
        "\n",
        "\"Conclusion\""
      ]
    },
    {
      "cell_type": "markdown",
      "metadata": {
        "id": "XwCjvZ_LN0tY"
      },
      "source": [
        "## **Horas de trabajo registradas**\n",
        "\n",
        "**Preguntas:**\n",
        "\n",
        "* ¿La columna aporta información relevante?\n",
        "* ¿El dato esta completo en todas las filas?\n",
        "* ¿Los datos tienen mucha varianza?\n",
        "* ¿Aporta valor para realizar una predicción?\n",
        "* ¿Los datos estan balanceados?\n",
        "\n",
        "**Análisis**"
      ]
    },
    {
      "cell_type": "code",
      "metadata": {
        "colab": {
          "base_uri": "https://localhost:8080/"
        },
        "id": "yZKVSnjGN4-U",
        "outputId": "f5c8b2b4-edfe-4dea-a981-5ca45e9f8bb4"
      },
      "source": [
        "# ¿Tiene valores nulos?\n",
        "df[\"horas_trabajo_registradas\"].isnull().sum()"
      ],
      "execution_count": 763,
      "outputs": [
        {
          "output_type": "execute_result",
          "data": {
            "text/plain": [
              "0"
            ]
          },
          "metadata": {
            "tags": []
          },
          "execution_count": 763
        }
      ]
    },
    {
      "cell_type": "code",
      "metadata": {
        "colab": {
          "base_uri": "https://localhost:8080/"
        },
        "id": "xRXLKNPYN71U",
        "outputId": "9f047db9-0ec2-4d2b-b316-c76e05d86295"
      },
      "source": [
        "df[\"horas_trabajo_registradas\"].value_counts()"
      ],
      "execution_count": 764,
      "outputs": [
        {
          "output_type": "execute_result",
          "data": {
            "text/plain": [
              "40    15212\n",
              "50     2817\n",
              "45     1824\n",
              "60     1475\n",
              "35     1296\n",
              "      ...  \n",
              "92        1\n",
              "94        1\n",
              "87        1\n",
              "74        1\n",
              "82        1\n",
              "Name: horas_trabajo_registradas, Length: 94, dtype: int64"
            ]
          },
          "metadata": {
            "tags": []
          },
          "execution_count": 764
        }
      ]
    },
    {
      "cell_type": "markdown",
      "metadata": {
        "id": "cpuAWPGfOSl4"
      },
      "source": [
        "**Conclusiones**\n",
        "\n",
        "Podemos observar que no tiene valores nulos. (Hay unos valores mas representativos)\n",
        "\n",
        "\"Conclusion\""
      ]
    },
    {
      "cell_type": "markdown",
      "metadata": {
        "id": "n3hPVRdUOgy4"
      },
      "source": [
        "## **Religion**\n",
        "\n",
        "**Preguntas:**\n",
        "\n",
        "* ¿La columna aporta información relevante?\n",
        "* ¿El dato esta completo en todas las filas?\n",
        "* ¿Los datos tienen mucha varianza?\n",
        "* ¿Aporta valor para realizar una predicción?\n",
        "* ¿Los datos estan balanceados?\n",
        "\n",
        "**Análisis**"
      ]
    },
    {
      "cell_type": "code",
      "metadata": {
        "colab": {
          "base_uri": "https://localhost:8080/"
        },
        "id": "5oeSMUQoOjPQ",
        "outputId": "3d54a41a-1d03-4eff-efe9-ec161e96a970"
      },
      "source": [
        "# ¿Tiene valores nulos?\n",
        "df[\"religion\"].isnull().sum()"
      ],
      "execution_count": 765,
      "outputs": [
        {
          "output_type": "execute_result",
          "data": {
            "text/plain": [
              "0"
            ]
          },
          "metadata": {
            "tags": []
          },
          "execution_count": 765
        }
      ]
    },
    {
      "cell_type": "code",
      "metadata": {
        "colab": {
          "base_uri": "https://localhost:8080/"
        },
        "id": "VDV6OSSBOl66",
        "outputId": "dbb766df-b366-4478-d14c-ae5d35964c5e"
      },
      "source": [
        "df[\"religion\"].value_counts()"
      ],
      "execution_count": 766,
      "outputs": [
        {
          "output_type": "execute_result",
          "data": {
            "text/plain": [
              "cristianismo    27799\n",
              "judaismo         3121\n",
              "budismo          1038\n",
              "ateismo           311\n",
              "otro              271\n",
              "Name: religion, dtype: int64"
            ]
          },
          "metadata": {
            "tags": []
          },
          "execution_count": 766
        }
      ]
    },
    {
      "cell_type": "code",
      "metadata": {
        "colab": {
          "base_uri": "https://localhost:8080/"
        },
        "id": "eVFijXg6JLrq",
        "outputId": "4f122afe-2ed2-41c4-ce08-6a9d556bfd9f"
      },
      "source": [
        "# Analizamos cristianismo vs Tiene alto valor adquisitivo \n",
        "df_cristianismo = df[df[\"religion\"] == \"cristianismo\"]\n",
        "df_cristianismo[\"tiene_alto_valor_adquisitivo\"].value_counts()"
      ],
      "execution_count": 767,
      "outputs": [
        {
          "output_type": "execute_result",
          "data": {
            "text/plain": [
              "0    20682\n",
              "1     7117\n",
              "Name: tiene_alto_valor_adquisitivo, dtype: int64"
            ]
          },
          "metadata": {
            "tags": []
          },
          "execution_count": 767
        }
      ]
    },
    {
      "cell_type": "code",
      "metadata": {
        "colab": {
          "base_uri": "https://localhost:8080/"
        },
        "id": "JIlzxog8Jb-4",
        "outputId": "979e0541-6528-40c7-ced8-947a258ae12e"
      },
      "source": [
        "# Analizamos judaismo vs Tiene alto valor adquisitivo \n",
        "df_judaismo = df[df[\"religion\"] == \"judaismo\"]\n",
        "df_judaismo[\"tiene_alto_valor_adquisitivo\"].value_counts()"
      ],
      "execution_count": 768,
      "outputs": [
        {
          "output_type": "execute_result",
          "data": {
            "text/plain": [
              "0    2734\n",
              "1     387\n",
              "Name: tiene_alto_valor_adquisitivo, dtype: int64"
            ]
          },
          "metadata": {
            "tags": []
          },
          "execution_count": 768
        }
      ]
    },
    {
      "cell_type": "code",
      "metadata": {
        "colab": {
          "base_uri": "https://localhost:8080/"
        },
        "id": "nRv6evJnJl8v",
        "outputId": "122c2218-ec96-4a4e-800c-047fa0f99c01"
      },
      "source": [
        "# Analizamos budismo vs Tiene alto valor adquisitivo \n",
        "df_budismo = df[df[\"religion\"] == \"budismo\"]\n",
        "df_budismo[\"tiene_alto_valor_adquisitivo\"].value_counts()"
      ],
      "execution_count": 769,
      "outputs": [
        {
          "output_type": "execute_result",
          "data": {
            "text/plain": [
              "0    762\n",
              "1    276\n",
              "Name: tiene_alto_valor_adquisitivo, dtype: int64"
            ]
          },
          "metadata": {
            "tags": []
          },
          "execution_count": 769
        }
      ]
    },
    {
      "cell_type": "code",
      "metadata": {
        "colab": {
          "base_uri": "https://localhost:8080/"
        },
        "id": "COEr21ftJuxR",
        "outputId": "ad811464-7dd1-4d80-fe7d-603ac898424b"
      },
      "source": [
        "# Analizamos ateismo vs Tiene alto valor adquisitivo \n",
        "df_ateismo = df[df[\"religion\"] == \"ateismo\"]\n",
        "df_ateismo[\"tiene_alto_valor_adquisitivo\"].value_counts()"
      ],
      "execution_count": 770,
      "outputs": [
        {
          "output_type": "execute_result",
          "data": {
            "text/plain": [
              "0    275\n",
              "1     36\n",
              "Name: tiene_alto_valor_adquisitivo, dtype: int64"
            ]
          },
          "metadata": {
            "tags": []
          },
          "execution_count": 770
        }
      ]
    },
    {
      "cell_type": "code",
      "metadata": {
        "colab": {
          "base_uri": "https://localhost:8080/"
        },
        "id": "R4j1pEk4J5A_",
        "outputId": "f63673bb-7372-4ad0-ad1b-2d254f6e2c29"
      },
      "source": [
        "# Analizamos otro vs Tiene alto valor adquisitivo \n",
        "df_otro = df[df[\"religion\"] == \"otro\"]\n",
        "df_otro[\"tiene_alto_valor_adquisitivo\"].value_counts()"
      ],
      "execution_count": 771,
      "outputs": [
        {
          "output_type": "execute_result",
          "data": {
            "text/plain": [
              "0    246\n",
              "1     25\n",
              "Name: tiene_alto_valor_adquisitivo, dtype: int64"
            ]
          },
          "metadata": {
            "tags": []
          },
          "execution_count": 771
        }
      ]
    },
    {
      "cell_type": "code",
      "metadata": {
        "colab": {
          "base_uri": "https://localhost:8080/",
          "height": 644
        },
        "id": "q7yiutnPKDNU",
        "outputId": "a466c8e1-3224-48ac-dc6a-90da0b2b9576"
      },
      "source": [
        "# Comparamos religion y si tiene alto valor adquisitivo\n",
        "plt.figure(dpi=150)\n",
        "df_aux = df[[\"tiene_alto_valor_adquisitivo\", \"religion\"]].value_counts().reset_index()\n",
        "df_aux.columns.values[2] = 'count'\n",
        "df_aux.tiene_alto_valor_adquisitivo.replace(to_replace=[True, False], value=[\"Sí\", \"No\"], inplace=True)\n",
        "df_aux.religion.replace(to_replace=[\"cristianismo\", \"judaismo\", \"budismo\", \"ateismo\", \"otro\"], value=[\"Cristianismo\", \"Judaismo\", \"Budismo\", \"Ateismo\", \"Otro\"], inplace=True)\n",
        "\n",
        "sbn.catplot(data=df_aux, x='religion', y='count', hue='tiene_alto_valor_adquisitivo', kind='bar', legend=False)\n",
        "\n",
        "plt.legend(title = \"Tiene alto valor adquisitivo \")\n",
        "plt.ylabel(\"Cantidad de registros (log)\")\n",
        "plt.xlabel(\"Religion\")\n",
        "plt.title('Relación entre religion y si tiene alto valor adquisitivo')\n",
        "plt.xticks(rotation=90)\n",
        "plt.yscale(\"log\")\n",
        "plt.show()"
      ],
      "execution_count": 772,
      "outputs": [
        {
          "output_type": "display_data",
          "data": {
            "text/plain": [
              "<Figure size 960x720 with 0 Axes>"
            ]
          },
          "metadata": {
            "tags": []
          }
        },
        {
          "output_type": "display_data",
          "data": {
            "image/png": "[encoded data removed]",
            "text/plain": [
              "<Figure size 500x500 with 1 Axes>"
            ]
          },
          "metadata": {
            "tags": []
          }
        }
      ]
    },
    {
      "cell_type": "markdown",
      "metadata": {
        "id": "7F1juyUhOrrD"
      },
      "source": [
        "**Conclusiones**\n",
        "\n",
        "Podemos observar que no tiene valores nulos. La mayoria de los valores corresponde a Cristianismo.\n",
        "\n",
        "\"Conclusion\""
      ]
    },
    {
      "cell_type": "markdown",
      "metadata": {
        "id": "tJSzr9lPO0L_"
      },
      "source": [
        "## **Rol familiar registrado**\n",
        "\n",
        "**Preguntas:**\n",
        "\n",
        "* ¿La columna aporta información relevante?\n",
        "* ¿El dato esta completo en todas las filas?\n",
        "* ¿Los datos tienen mucha varianza?\n",
        "* ¿Aporta valor para realizar una predicción?\n",
        "* ¿Los datos estan balanceados?\n",
        "\n",
        "**Análisis**"
      ]
    },
    {
      "cell_type": "code",
      "metadata": {
        "colab": {
          "base_uri": "https://localhost:8080/"
        },
        "id": "RpoDku3RO3sW",
        "outputId": "b75279c4-d6cb-4a9e-d83f-455efdf3386a"
      },
      "source": [
        "# ¿Tiene valores nulos?\n",
        "df[\"rol_familiar_registrado\"].isnull().sum()"
      ],
      "execution_count": 773,
      "outputs": [
        {
          "output_type": "execute_result",
          "data": {
            "text/plain": [
              "0"
            ]
          },
          "metadata": {
            "tags": []
          },
          "execution_count": 773
        }
      ]
    },
    {
      "cell_type": "code",
      "metadata": {
        "colab": {
          "base_uri": "https://localhost:8080/"
        },
        "id": "Ay2jujSlO3x7",
        "outputId": "aedd35ff-f033-4301-d947-b09c81d424bb"
      },
      "source": [
        "df[\"rol_familiar_registrado\"].value_counts()"
      ],
      "execution_count": 774,
      "outputs": [
        {
          "output_type": "execute_result",
          "data": {
            "text/plain": [
              "casado         13189\n",
              "sin_familia     8304\n",
              "con_hijos       5058\n",
              "soltero_a       3444\n",
              "casada          1564\n",
              "otro             981\n",
              "Name: rol_familiar_registrado, dtype: int64"
            ]
          },
          "metadata": {
            "tags": []
          },
          "execution_count": 774
        }
      ]
    },
    {
      "cell_type": "code",
      "metadata": {
        "id": "tXfvS1lRN-2Q"
      },
      "source": [
        "df[\"rol_familiar_registrado\"].replace(to_replace =\"casada\", value =\"casado\", inplace=True)"
      ],
      "execution_count": 775,
      "outputs": []
    },
    {
      "cell_type": "code",
      "metadata": {
        "colab": {
          "base_uri": "https://localhost:8080/",
          "height": 629
        },
        "id": "-Wa-VzK3MQl7",
        "outputId": "76459c94-f13b-4c16-de9a-1a9fe4a2c115"
      },
      "source": [
        "# Comparamos la categoria de trabajo y si tiene alto valor adquisitivo\n",
        "plt.figure(dpi=150)\n",
        "df_aux = df[[\"tiene_alto_valor_adquisitivo\", \"rol_familiar_registrado\"]].value_counts().reset_index()\n",
        "df_aux.columns.values[2] = 'count'\n",
        "df_aux.tiene_alto_valor_adquisitivo.replace(to_replace=[True, False], value=[\"Sí\", \"No\"], inplace=True)\n",
        "df_aux.rol_familiar_registrado.replace(to_replace=[\"casado\", \"sin_familia\", \"con_hijos\", \"soltero_a\", \"otro\"],  value=[\"Casado/a\", \"Sin familia\", \"Con hijos\", \"Soltero/a\", \"Otro\"], inplace=True)\n",
        "\n",
        "sbn.catplot(data=df_aux, x='rol_familiar_registrado', y='count', hue='tiene_alto_valor_adquisitivo', kind='bar', legend=False)\n",
        "\n",
        "plt.legend(title = \"Tiene alto valor adquisitivo \")\n",
        "plt.ylabel(\"Cantidad de registros (log)\")\n",
        "plt.xlabel(\"Rol familiar registrado\")\n",
        "plt.title('Relación entre el rol familiar registrado y si tiene alto valor adquisitivo')\n",
        "plt.xticks(rotation=90)\n",
        "plt.yscale(\"log\")\n",
        "plt.show()"
      ],
      "execution_count": 776,
      "outputs": [
        {
          "output_type": "display_data",
          "data": {
            "text/plain": [
              "<Figure size 960x720 with 0 Axes>"
            ]
          },
          "metadata": {
            "tags": []
          }
        },
        {
          "output_type": "display_data",
          "data": {
            "image/png": "[encoded data removed]",
            "text/plain": [
              "<Figure size 500x500 with 1 Axes>"
            ]
          },
          "metadata": {
            "tags": []
          }
        }
      ]
    },
    {
      "cell_type": "markdown",
      "metadata": {
        "id": "n2qPpVt0PC0L"
      },
      "source": [
        "**Conclusiones**\n",
        "\n",
        "Podemos observar que no tiene valores nulos. \n",
        "\n",
        "Unificamos los valores de casado y casada.\n",
        "\n"
      ]
    },
    {
      "cell_type": "markdown",
      "metadata": {
        "id": "_zDdA4asPQNt"
      },
      "source": [
        "## **Trabajo**\n",
        "\n",
        "**Preguntas:**\n",
        "\n",
        "* ¿La columna aporta información relevante?\n",
        "* ¿El dato esta completo en todas las filas?\n",
        "* ¿Los datos tienen mucha varianza?\n",
        "* ¿Aporta valor para realizar una predicción?\n",
        "* ¿Los datos estan balanceados?\n",
        "\n",
        "**Análisis**"
      ]
    },
    {
      "cell_type": "code",
      "metadata": {
        "colab": {
          "base_uri": "https://localhost:8080/"
        },
        "id": "LklnMe_hPUT1",
        "outputId": "4e0cc583-e2af-47fb-e1d8-2738406d2274"
      },
      "source": [
        "# ¿Tiene valores nulos?\n",
        "df[\"trabajo\"].isnull().sum()"
      ],
      "execution_count": 777,
      "outputs": [
        {
          "output_type": "execute_result",
          "data": {
            "text/plain": [
              "1836"
            ]
          },
          "metadata": {
            "tags": []
          },
          "execution_count": 777
        }
      ]
    },
    {
      "cell_type": "code",
      "metadata": {
        "colab": {
          "base_uri": "https://localhost:8080/"
        },
        "id": "OpgPJkD4PUYi",
        "outputId": "3cb796cd-7c23-4932-8970-8c9b27ec5e44"
      },
      "source": [
        "df[\"trabajo\"].value_counts()"
      ],
      "execution_count": 778,
      "outputs": [
        {
          "output_type": "execute_result",
          "data": {
            "text/plain": [
              "profesional_especializado    4140\n",
              "reparador                    4098\n",
              "directivo_gerente            4066\n",
              "entretenimiento              3767\n",
              "ventas                       3650\n",
              "otros                        3294\n",
              "inspector                    2001\n",
              "transporte                   1596\n",
              "limpiador                    1369\n",
              "sector_primario               988\n",
              "soporte_tecnico               928\n",
              "seguridad                     649\n",
              "servicio_domestico            149\n",
              "ejercito                        9\n",
              "Name: trabajo, dtype: int64"
            ]
          },
          "metadata": {
            "tags": []
          },
          "execution_count": 778
        }
      ]
    },
    {
      "cell_type": "markdown",
      "metadata": {
        "id": "BxegqGUQPgGg"
      },
      "source": [
        "**Conclusiones**\n",
        "\n",
        "Podemos observar que esta columna tiene un faltante de 1843 del total de valores (5,7 %). (Hay unos valores pocos representativos)\n",
        "\n",
        "\"Conclusion\""
      ]
    },
    {
      "cell_type": "markdown",
      "metadata": {
        "id": "bW6vgP1OLFpm"
      },
      "source": [
        "# **Relación entre columnas**"
      ]
    },
    {
      "cell_type": "code",
      "metadata": {
        "colab": {
          "base_uri": "https://localhost:8080/",
          "height": 618
        },
        "id": "LbARGKmtAJBg",
        "outputId": "c27f41b7-0d59-4c0f-c4aa-00611c2afa7c"
      },
      "source": [
        "# Vemos en porcentaje cantidad de nivel adquisitivo alto \n",
        "plt.figure(dpi=150)\n",
        "df.tiene_alto_valor_adquisitivo.replace(to_replace=[True, False], value=[\"Sí\", \"No\"]).value_counts().plot(kind='pie', autopct='%1.0f%%', ylabel='¿Tiene alto valor adquisitivo?')\n"
      ],
      "execution_count": 779,
      "outputs": [
        {
          "output_type": "execute_result",
          "data": {
            "text/plain": [
              "<matplotlib.axes._subplots.AxesSubplot at 0x7fd3344f1fd0>"
            ]
          },
          "metadata": {
            "tags": []
          },
          "execution_count": 779
        },
        {
          "output_type": "display_data",
          "data": {
            "image/png": "[encoded data removed]",
            "text/plain": [
              "<Figure size 960x720 with 1 Axes>"
            ]
          },
          "metadata": {
            "tags": []
          }
        }
      ]
    },
    {
      "cell_type": "markdown",
      "metadata": {
        "id": "pqF-dWaRMoY4"
      },
      "source": [
        "# **Conclusión final**"
      ]
    },
    {
      "cell_type": "markdown",
      "metadata": {
        "id": "JYRQ6PDcLKLi"
      },
      "source": [
        "# **Feature Engineering**"
      ]
    },
    {
      "cell_type": "code",
      "metadata": {
        "id": "IooX5XT6LLYy"
      },
      "source": [
        "def FeatureEngineering(df):\n",
        "    \n",
        "    df_clean = df.copy()\n",
        "\n",
        "    df_clean[\"educacion_alcanzada\"].replace({\"preescolar\" : 1, \"1-4_grado\": 2, \"5-6_grado\": 3, \"7-8_grado\" : 4, \"9_grado\" : 5, \"1_anio\" : 6, \"2_anio\" : 7, \"3_anio\" : 8, \"4_anio\" : 9, \"5_anio\" : 10, \"universidad_1_anio\" : 11, \n",
        "                      \"universidad_2_anio\" : 12, \"universidad_3_anio\" : 13, \"universidad_4_anio\" : 14, \"universiada_5_anio\" : 15, \"universiada_6_anio\" : 16}, inplace = True)\n",
        "    \n",
        "    df_clean[\"opera_en_bolsa\"] = df_clean[\"ganancia_perdida_declarada_bolsa_argentina\"].apply(lambda x: True if x != 0 else False)\n",
        "    df_clean.drop(columns = \"ganancia_perdida_declarada_bolsa_argentina\", inplace = True)\n",
        "            \n",
        "    return df_clean"
      ],
      "execution_count": 780,
      "outputs": []
    },
    {
      "cell_type": "code",
      "metadata": {
        "id": "AiannyBKLYyD"
      },
      "source": [
        "def Predict(df):\n",
        "  pred = []\n",
        "  values = df.values\n",
        "\n",
        "  for val in values:\n",
        "    if ((val[12] == True) or (val[2] == \"responsable_inscripto\")):\n",
        "      pred.append(1)\n",
        "    else:\n",
        "      pred.append(0)\n",
        "\n",
        "  return pred\n",
        "\n",
        "\n",
        "# Tiene alto valor adquisitivo \n",
        "# responsable inscripto\n",
        "# Opera en bolsa\n",
        "# 14 y 17 años de estudio\n",
        "# 10 y 13 nivel de educacion\n",
        "# Casado\n",
        "\n",
        "# NO\n",
        "# genero == mujer\n",
        "# barrio == Palermo "
      ],
      "execution_count": 781,
      "outputs": []
    },
    {
      "cell_type": "code",
      "metadata": {
        "id": "GwTNIYBxLiMF"
      },
      "source": [
        "def baseline(df):\n",
        "    entrada = FeatureEngineering(df)\n",
        "    pred = Predict(entrada)\n",
        "    \n",
        "    return pred"
      ],
      "execution_count": 782,
      "outputs": []
    },
    {
      "cell_type": "code",
      "metadata": {
        "id": "yY_K4_0GLnG4",
        "colab": {
          "base_uri": "https://localhost:8080/"
        },
        "outputId": "af84574f-6cc8-474d-aa39-87885ba018ec"
      },
      "source": [
        "# Generamos dataframe para probar\n",
        "df_datos_test = GetData()\n",
        "df_datos_valor_adquisitivo = df_datos_test[\"tiene_alto_valor_adquisitivo\"]\n",
        "\n",
        "predicciones = baseline(df_datos_test)\n",
        "accuracy_score(df_datos_valor_adquisitivo, predicciones)"
      ],
      "execution_count": 783,
      "outputs": [
        {
          "output_type": "execute_result",
          "data": {
            "text/plain": [
              "0.7772795675808483"
            ]
          },
          "metadata": {
            "tags": []
          },
          "execution_count": 783
        }
      ]
    },
    {
      "cell_type": "code",
      "metadata": {
        "id": "n_gqowdMMeJG"
      },
      "source": [
        ""
      ],
      "execution_count": 783,
      "outputs": []
    }
  ]
}