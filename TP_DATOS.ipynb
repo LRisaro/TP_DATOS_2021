{
  "nbformat": 4,
  "nbformat_minor": 0,
  "metadata": {
    "colab": {
      "name": "TP_DATOS.ipynb",
      "provenance": [],
      "collapsed_sections": []
    },
    "kernelspec": {
      "name": "python3",
      "display_name": "Python 3"
    },
    "language_info": {
      "name": "python"
    }
  },
  "cells": [
    {
      "cell_type": "markdown",
      "metadata": {
        "id": "view-in-github"
      },
      "source": [
        "<a href=\"https://colab.research.google.com/github/LRisaro/TP_DATOS_2021/blob/main/TP_DATOS.ipynb\" target=\"_parent\"><img src=\"https://colab.research.google.com/assets/colab-badge.svg\" alt=\"Open In Colab\"/></a>"
      ]
    },
    {
      "cell_type": "code",
      "metadata": {
        "id": "-4JXiZchjruK"
      },
      "source": [
        "import pandas as pd\n",
        "import numpy as np\n",
        "from pandas_profiling import ProfileReport\n",
        "from matplotlib import pyplot as plt\n",
        "import seaborn as sbn\n",
        "from sklearn import tree\n",
        "from sklearn.metrics import accuracy_score\n",
        "\n",
        "%matplotlib inline\n",
        "\n",
        "plt.style.use('default') \n",
        "\n",
        "sbn.set(style=\"whitegrid\") "
      ],
      "execution_count": 1,
      "outputs": []
    },
    {
      "cell_type": "code",
      "metadata": {
        "id": "i0rlXS-7vHRL"
      },
      "source": [
        "def GetData():\n",
        "  return pd.read_csv(\"https://docs.google.com/spreadsheets/d/1-DWTP8uwVS-dZY402-dm0F9ICw_6PNqDGLmH0u8Eqa0/export?format=csv&gid=2054774482\")"
      ],
      "execution_count": 2,
      "outputs": []
    },
    {
      "cell_type": "markdown",
      "metadata": {
        "id": "jmhw2QgWEFX5"
      },
      "source": [
        "**Inspección inicial de datos**"
      ]
    },
    {
      "cell_type": "code",
      "metadata": {
        "id": "FPgxoSmxwbAP",
        "colab": {
          "base_uri": "https://localhost:8080/",
          "height": 439
        },
        "outputId": "7d4d2799-1066-4777-d234-a37943b1cdb8"
      },
      "source": [
        "df = GetData()\n",
        "df"
      ],
      "execution_count": 3,
      "outputs": [
        {
          "output_type": "execute_result",
          "data": {
            "text/html": [
              "<div>\n",
              "<style scoped>\n",
              "    .dataframe tbody tr th:only-of-type {\n",
              "        vertical-align: middle;\n",
              "    }\n",
              "\n",
              "    .dataframe tbody tr th {\n",
              "        vertical-align: top;\n",
              "    }\n",
              "\n",
              "    .dataframe thead th {\n",
              "        text-align: right;\n",
              "    }\n",
              "</style>\n",
              "<table border=\"1\" class=\"dataframe\">\n",
              "  <thead>\n",
              "    <tr style=\"text-align: right;\">\n",
              "      <th></th>\n",
              "      <th>anios_estudiados</th>\n",
              "      <th>barrio</th>\n",
              "      <th>categoria_de_trabajo</th>\n",
              "      <th>edad</th>\n",
              "      <th>educacion_alcanzada</th>\n",
              "      <th>estado_marital</th>\n",
              "      <th>ganancia_perdida_declarada_bolsa_argentina</th>\n",
              "      <th>genero</th>\n",
              "      <th>horas_trabajo_registradas</th>\n",
              "      <th>religion</th>\n",
              "      <th>rol_familiar_registrado</th>\n",
              "      <th>tiene_alto_valor_adquisitivo</th>\n",
              "      <th>trabajo</th>\n",
              "    </tr>\n",
              "  </thead>\n",
              "  <tbody>\n",
              "    <tr>\n",
              "      <th>0</th>\n",
              "      <td>17</td>\n",
              "      <td>Palermo</td>\n",
              "      <td>empleado_provincial</td>\n",
              "      <td>39</td>\n",
              "      <td>universidad_3_anio</td>\n",
              "      <td>sin_matrimonio</td>\n",
              "      <td>2174</td>\n",
              "      <td>hombre</td>\n",
              "      <td>40</td>\n",
              "      <td>cristianismo</td>\n",
              "      <td>sin_familia</td>\n",
              "      <td>0</td>\n",
              "      <td>entretenimiento</td>\n",
              "    </tr>\n",
              "    <tr>\n",
              "      <th>1</th>\n",
              "      <td>17</td>\n",
              "      <td>Palermo</td>\n",
              "      <td>monotibutista</td>\n",
              "      <td>50</td>\n",
              "      <td>universidad_3_anio</td>\n",
              "      <td>matrimonio_civil</td>\n",
              "      <td>0</td>\n",
              "      <td>hombre</td>\n",
              "      <td>13</td>\n",
              "      <td>cristianismo</td>\n",
              "      <td>casado</td>\n",
              "      <td>0</td>\n",
              "      <td>directivo_gerente</td>\n",
              "    </tr>\n",
              "    <tr>\n",
              "      <th>2</th>\n",
              "      <td>13</td>\n",
              "      <td>Palermo</td>\n",
              "      <td>relacion_de_dependencia</td>\n",
              "      <td>38</td>\n",
              "      <td>4_anio</td>\n",
              "      <td>divorciado</td>\n",
              "      <td>0</td>\n",
              "      <td>hombre</td>\n",
              "      <td>40</td>\n",
              "      <td>cristianismo</td>\n",
              "      <td>sin_familia</td>\n",
              "      <td>0</td>\n",
              "      <td>limpiador</td>\n",
              "    </tr>\n",
              "    <tr>\n",
              "      <th>3</th>\n",
              "      <td>11</td>\n",
              "      <td>Palermo</td>\n",
              "      <td>relacion_de_dependencia</td>\n",
              "      <td>53</td>\n",
              "      <td>2_anio</td>\n",
              "      <td>matrimonio_civil</td>\n",
              "      <td>0</td>\n",
              "      <td>hombre</td>\n",
              "      <td>40</td>\n",
              "      <td>judaismo</td>\n",
              "      <td>casado</td>\n",
              "      <td>0</td>\n",
              "      <td>limpiador</td>\n",
              "    </tr>\n",
              "    <tr>\n",
              "      <th>4</th>\n",
              "      <td>17</td>\n",
              "      <td>Balvanera</td>\n",
              "      <td>relacion_de_dependencia</td>\n",
              "      <td>28</td>\n",
              "      <td>universidad_3_anio</td>\n",
              "      <td>matrimonio_civil</td>\n",
              "      <td>0</td>\n",
              "      <td>mujer</td>\n",
              "      <td>40</td>\n",
              "      <td>judaismo</td>\n",
              "      <td>casada</td>\n",
              "      <td>0</td>\n",
              "      <td>profesional_especializado</td>\n",
              "    </tr>\n",
              "    <tr>\n",
              "      <th>...</th>\n",
              "      <td>...</td>\n",
              "      <td>...</td>\n",
              "      <td>...</td>\n",
              "      <td>...</td>\n",
              "      <td>...</td>\n",
              "      <td>...</td>\n",
              "      <td>...</td>\n",
              "      <td>...</td>\n",
              "      <td>...</td>\n",
              "      <td>...</td>\n",
              "      <td>...</td>\n",
              "      <td>...</td>\n",
              "      <td>...</td>\n",
              "    </tr>\n",
              "    <tr>\n",
              "      <th>32556</th>\n",
              "      <td>16</td>\n",
              "      <td>Palermo</td>\n",
              "      <td>relacion_de_dependencia</td>\n",
              "      <td>27</td>\n",
              "      <td>universidad_2_anio</td>\n",
              "      <td>matrimonio_civil</td>\n",
              "      <td>0</td>\n",
              "      <td>mujer</td>\n",
              "      <td>38</td>\n",
              "      <td>cristianismo</td>\n",
              "      <td>casada</td>\n",
              "      <td>0</td>\n",
              "      <td>soporte_tecnico</td>\n",
              "    </tr>\n",
              "    <tr>\n",
              "      <th>32557</th>\n",
              "      <td>13</td>\n",
              "      <td>Palermo</td>\n",
              "      <td>relacion_de_dependencia</td>\n",
              "      <td>40</td>\n",
              "      <td>4_anio</td>\n",
              "      <td>matrimonio_civil</td>\n",
              "      <td>0</td>\n",
              "      <td>hombre</td>\n",
              "      <td>40</td>\n",
              "      <td>cristianismo</td>\n",
              "      <td>casado</td>\n",
              "      <td>1</td>\n",
              "      <td>inspector</td>\n",
              "    </tr>\n",
              "    <tr>\n",
              "      <th>32558</th>\n",
              "      <td>13</td>\n",
              "      <td>Palermo</td>\n",
              "      <td>relacion_de_dependencia</td>\n",
              "      <td>58</td>\n",
              "      <td>4_anio</td>\n",
              "      <td>viudo_a</td>\n",
              "      <td>0</td>\n",
              "      <td>mujer</td>\n",
              "      <td>40</td>\n",
              "      <td>cristianismo</td>\n",
              "      <td>soltero_a</td>\n",
              "      <td>0</td>\n",
              "      <td>entretenimiento</td>\n",
              "    </tr>\n",
              "    <tr>\n",
              "      <th>32559</th>\n",
              "      <td>13</td>\n",
              "      <td>Palermo</td>\n",
              "      <td>relacion_de_dependencia</td>\n",
              "      <td>22</td>\n",
              "      <td>4_anio</td>\n",
              "      <td>sin_matrimonio</td>\n",
              "      <td>0</td>\n",
              "      <td>hombre</td>\n",
              "      <td>20</td>\n",
              "      <td>cristianismo</td>\n",
              "      <td>con_hijos</td>\n",
              "      <td>0</td>\n",
              "      <td>entretenimiento</td>\n",
              "    </tr>\n",
              "    <tr>\n",
              "      <th>32560</th>\n",
              "      <td>13</td>\n",
              "      <td>Palermo</td>\n",
              "      <td>responsable_inscripto</td>\n",
              "      <td>52</td>\n",
              "      <td>4_anio</td>\n",
              "      <td>matrimonio_civil</td>\n",
              "      <td>15024</td>\n",
              "      <td>mujer</td>\n",
              "      <td>40</td>\n",
              "      <td>cristianismo</td>\n",
              "      <td>casada</td>\n",
              "      <td>1</td>\n",
              "      <td>directivo_gerente</td>\n",
              "    </tr>\n",
              "  </tbody>\n",
              "</table>\n",
              "<p>32561 rows × 13 columns</p>\n",
              "</div>"
            ],
            "text/plain": [
              "       anios_estudiados  ...                    trabajo\n",
              "0                    17  ...            entretenimiento\n",
              "1                    17  ...          directivo_gerente\n",
              "2                    13  ...                  limpiador\n",
              "3                    11  ...                  limpiador\n",
              "4                    17  ...  profesional_especializado\n",
              "...                 ...  ...                        ...\n",
              "32556                16  ...            soporte_tecnico\n",
              "32557                13  ...                  inspector\n",
              "32558                13  ...            entretenimiento\n",
              "32559                13  ...            entretenimiento\n",
              "32560                13  ...          directivo_gerente\n",
              "\n",
              "[32561 rows x 13 columns]"
            ]
          },
          "metadata": {
            "tags": []
          },
          "execution_count": 3
        }
      ]
    },
    {
      "cell_type": "code",
      "metadata": {
        "colab": {
          "base_uri": "https://localhost:8080/"
        },
        "id": "f3hgBmLhETTf",
        "outputId": "6ffba2a9-13cd-4937-e685-ce1607640a29"
      },
      "source": [
        "# Inspeccionamos las dimensiones iniciales del dataframe\n",
        "df.shape"
      ],
      "execution_count": 4,
      "outputs": [
        {
          "output_type": "execute_result",
          "data": {
            "text/plain": [
              "(32561, 13)"
            ]
          },
          "metadata": {
            "tags": []
          },
          "execution_count": 4
        }
      ]
    },
    {
      "cell_type": "code",
      "metadata": {
        "colab": {
          "base_uri": "https://localhost:8080/"
        },
        "id": "LXTw4PeAFNz9",
        "outputId": "719cf6ed-dbfc-4119-f799-18a4dcc26ace"
      },
      "source": [
        "# Verifico que \"tiene_alto_valor_adquisitivo\" no tenga valores nulos\n",
        "df['tiene_alto_valor_adquisitivo'].isnull().sum()"
      ],
      "execution_count": 5,
      "outputs": [
        {
          "output_type": "execute_result",
          "data": {
            "text/plain": [
              "0"
            ]
          },
          "metadata": {
            "tags": []
          },
          "execution_count": 5
        }
      ]
    },
    {
      "cell_type": "code",
      "metadata": {
        "colab": {
          "base_uri": "https://localhost:8080/"
        },
        "id": "7XSgy_mwFx50",
        "outputId": "cc89bbfd-07cb-467b-a2ae-b5f43d04c417"
      },
      "source": [
        "# Verificamos si hay campos con valores nulos\n",
        "df.isnull().sum()"
      ],
      "execution_count": 6,
      "outputs": [
        {
          "output_type": "execute_result",
          "data": {
            "text/plain": [
              "anios_estudiados                                 0\n",
              "barrio                                         583\n",
              "categoria_de_trabajo                          1836\n",
              "edad                                             0\n",
              "educacion_alcanzada                              0\n",
              "estado_marital                                   0\n",
              "ganancia_perdida_declarada_bolsa_argentina       0\n",
              "genero                                           0\n",
              "horas_trabajo_registradas                        0\n",
              "religion                                         0\n",
              "rol_familiar_registrado                          0\n",
              "tiene_alto_valor_adquisitivo                     0\n",
              "trabajo                                       1843\n",
              "dtype: int64"
            ]
          },
          "metadata": {
            "tags": []
          },
          "execution_count": 6
        }
      ]
    },
    {
      "cell_type": "markdown",
      "metadata": {
        "id": "2KVfwl5QHOln"
      },
      "source": [
        "**Análisis de columnas**"
      ]
    },
    {
      "cell_type": "markdown",
      "metadata": {
        "id": "q0q_5L3tLF0G"
      },
      "source": [
        "**Años estudiados**\n",
        "\n",
        "**Preguntas:**\n",
        "\n",
        "* ¿La columna aporta información relevante?\n",
        "* ¿El dato esta completo en todas las filas?\n",
        "* ¿Los datos tienen mucha varianza?\n",
        "* ¿Aporta valor para realizar una predicción?\n",
        "\n",
        "**Análisis**"
      ]
    },
    {
      "cell_type": "code",
      "metadata": {
        "colab": {
          "base_uri": "https://localhost:8080/"
        },
        "id": "RxT6dVQ3LSOI",
        "outputId": "0b7ad1e1-5eb1-4163-f660-3870abd5d371"
      },
      "source": [
        "# ¿Tiene valores nulos?\n",
        "df[\"anios_estudiados\"].isnull().sum()"
      ],
      "execution_count": 16,
      "outputs": [
        {
          "output_type": "execute_result",
          "data": {
            "text/plain": [
              "0"
            ]
          },
          "metadata": {
            "tags": []
          },
          "execution_count": 16
        }
      ]
    },
    {
      "cell_type": "code",
      "metadata": {
        "colab": {
          "base_uri": "https://localhost:8080/"
        },
        "id": "1o7sljE9LZAs",
        "outputId": "857738b8-ed97-40e2-bc5f-f1afc475f218"
      },
      "source": [
        "df[\"anios_estudiados\"].value_counts()"
      ],
      "execution_count": 17,
      "outputs": [
        {
          "output_type": "execute_result",
          "data": {
            "text/plain": [
              "13    10501\n",
              "14     7291\n",
              "17     5355\n",
              "18     1723\n",
              "15     1382\n",
              "11     1175\n",
              "16     1067\n",
              "10      933\n",
              "8       646\n",
              "19      576\n",
              "9       514\n",
              "12      433\n",
              "20      413\n",
              "6       333\n",
              "4       168\n",
              "1        51\n",
              "Name: anios_estudiados, dtype: int64"
            ]
          },
          "metadata": {
            "tags": []
          },
          "execution_count": 17
        }
      ]
    },
    {
      "cell_type": "markdown",
      "metadata": {
        "id": "M74XVvq4Ljn5"
      },
      "source": [
        "**Conclusiones**\n",
        "\n",
        "Podemos observar que no tiene registros faltantes. "
      ]
    },
    {
      "cell_type": "markdown",
      "metadata": {
        "id": "m-u5efnkHjy6"
      },
      "source": [
        "**Categoria de trabajo**\n",
        "\n",
        "**Preguntas:**\n",
        "\n",
        "* ¿La columna aporta información relevante?\n",
        "* ¿El dato esta completo en todas las filas?\n",
        "* ¿Los datos tienen mucha varianza?\n",
        "* ¿Aporta valor para realizar una predicción?\n",
        "\n",
        "**Análisis**\n"
      ]
    },
    {
      "cell_type": "code",
      "metadata": {
        "colab": {
          "base_uri": "https://localhost:8080/"
        },
        "id": "qqUmKIdEHQI8",
        "outputId": "ce57923c-c3c3-484b-d3a0-db99946bdc41"
      },
      "source": [
        "df[\"categoria_de_trabajo\"].value_counts()"
      ],
      "execution_count": 7,
      "outputs": [
        {
          "output_type": "execute_result",
          "data": {
            "text/plain": [
              "relacion_de_dependencia    22696\n",
              "monotibutista               2541\n",
              "empleado_municipal          2093\n",
              "empleado_provincial         1298\n",
              "responsable_inscripto       1116\n",
              "empleadao_estatal            960\n",
              "trabajo_voluntariado          14\n",
              "sin_trabajo                    7\n",
              "Name: categoria_de_trabajo, dtype: int64"
            ]
          },
          "metadata": {
            "tags": []
          },
          "execution_count": 7
        }
      ]
    },
    {
      "cell_type": "code",
      "metadata": {
        "colab": {
          "base_uri": "https://localhost:8080/"
        },
        "id": "vLcEJGiUJgYu",
        "outputId": "51e7ae76-16ce-4094-82a4-f833d9597a31"
      },
      "source": [
        "# ¿Tiene valores nulos?\n",
        "df[\"categoria_de_trabajo\"].isnull().sum()"
      ],
      "execution_count": 8,
      "outputs": [
        {
          "output_type": "execute_result",
          "data": {
            "text/plain": [
              "1836"
            ]
          },
          "metadata": {
            "tags": []
          },
          "execution_count": 8
        }
      ]
    },
    {
      "cell_type": "markdown",
      "metadata": {
        "id": "p0jl_KDaI17S"
      },
      "source": [
        "**Conclusiones**\n",
        "\n",
        "Podemos observar que faltan 1836 de los 32561 valores (5,6 %). "
      ]
    },
    {
      "cell_type": "markdown",
      "metadata": {
        "id": "8i6thoScIwTU"
      },
      "source": [
        "**Barrio**\n",
        "\n",
        "**Preguntas:**\n",
        "\n",
        "* ¿La columna aporta información relevante?\n",
        "* ¿El dato esta completo en todas las filas?\n",
        "* ¿Los datos tienen mucha varianza?\n",
        "* ¿Aporta valor para realizar una predicción?\n",
        "* ¿Los datos estan balanceados?\n",
        "\n",
        "**Análisis**"
      ]
    },
    {
      "cell_type": "code",
      "metadata": {
        "colab": {
          "base_uri": "https://localhost:8080/"
        },
        "id": "c7Mu3AcsJUNU",
        "outputId": "2db93d63-cb41-4ac8-89e1-40be3c2571ed"
      },
      "source": [
        "# ¿Tiene valores nulos?\n",
        "df[\"barrio\"].isnull().sum()"
      ],
      "execution_count": 11,
      "outputs": [
        {
          "output_type": "execute_result",
          "data": {
            "text/plain": [
              "583"
            ]
          },
          "metadata": {
            "tags": []
          },
          "execution_count": 11
        }
      ]
    },
    {
      "cell_type": "code",
      "metadata": {
        "colab": {
          "base_uri": "https://localhost:8080/"
        },
        "id": "ODOwfzX7IyYi",
        "outputId": "51aac332-93d7-4899-a499-93ca05c9efb1"
      },
      "source": [
        "df[\"barrio\"].value_counts()"
      ],
      "execution_count": 9,
      "outputs": [
        {
          "output_type": "execute_result",
          "data": {
            "text/plain": [
              "Palermo                29170\n",
              "Belgrano                 643\n",
              "San Isidro               198\n",
              "Villa Urquiza            137\n",
              "Recoleta                 121\n",
              "La Boca                  114\n",
              "Agronomia                106\n",
              "Almagro                  100\n",
              "Balvanera                 95\n",
              "Puerto Madero             90\n",
              "Caballito                 81\n",
              "Boedo                     80\n",
              "Barracas                  75\n",
              "Chacarita                 73\n",
              "Coghland                  70\n",
              "Floresta                  67\n",
              "Constitucion              64\n",
              "Colegiales                62\n",
              "Flores                    60\n",
              "Liniers                   59\n",
              "Monte Castro              51\n",
              "Mataderos                 44\n",
              "Nueva Pompeya             43\n",
              "Monserrat                 37\n",
              "nuñez                     34\n",
              "Parque Chacabuco          31\n",
              "Villa Luro                29\n",
              "Parque Avellaneda         29\n",
              "Parque Chas               28\n",
              "La Paternal               24\n",
              "Retiro                    20\n",
              "Villa Devoto              19\n",
              "Villa Soldati             19\n",
              "Villa Real                18\n",
              "San Telmo                 18\n",
              "Santa Rita                16\n",
              "Villa General Mitre       14\n",
              "Versalles                 13\n",
              "Velez Sarsfield           13\n",
              "Villa Pueyrredon          12\n",
              "Cilla Riachuelo            1\n",
              "Name: barrio, dtype: int64"
            ]
          },
          "metadata": {
            "tags": []
          },
          "execution_count": 9
        }
      ]
    },
    {
      "cell_type": "markdown",
      "metadata": {
        "id": "PnBrE21YJlYH"
      },
      "source": [
        "**Conclusiones**\n",
        "\n",
        "Podemos observar que esta columna solo tiene un faltante de 583 sobre los 32561 valores (1,8 %). La mayoria de los registros corresponde al valor Palermo, los datos no estan balanceados."
      ]
    },
    {
      "cell_type": "markdown",
      "metadata": {
        "id": "9IqYpaJxKLlZ"
      },
      "source": [
        "**Edad**\n",
        "\n",
        "**Preguntas:**\n",
        "\n",
        "* ¿La columna aporta información relevante?\n",
        "* ¿El dato esta completo en todas las filas?\n",
        "* ¿Los datos tienen mucha varianza?\n",
        "* ¿Aporta valor para realizar una predicción?\n",
        "* ¿Los datos estan balanceados?\n",
        "\n",
        "**Análisis**"
      ]
    },
    {
      "cell_type": "code",
      "metadata": {
        "colab": {
          "base_uri": "https://localhost:8080/"
        },
        "id": "W608EPdmKcPm",
        "outputId": "ec1b9725-c9f8-4d4d-8edb-8fe93d3057bc"
      },
      "source": [
        "# ¿Tiene valores nulos?\n",
        "df[\"edad\"].isnull().sum()"
      ],
      "execution_count": 14,
      "outputs": [
        {
          "output_type": "execute_result",
          "data": {
            "text/plain": [
              "0"
            ]
          },
          "metadata": {
            "tags": []
          },
          "execution_count": 14
        }
      ]
    },
    {
      "cell_type": "code",
      "metadata": {
        "colab": {
          "base_uri": "https://localhost:8080/"
        },
        "id": "fZj5ca_XKhAK",
        "outputId": "947b4bf2-6a3f-4354-964d-d5f7e2310cd7"
      },
      "source": [
        "df[\"edad\"].value_counts()"
      ],
      "execution_count": 15,
      "outputs": [
        {
          "output_type": "execute_result",
          "data": {
            "text/plain": [
              "36    898\n",
              "31    888\n",
              "34    886\n",
              "23    877\n",
              "35    876\n",
              "     ... \n",
              "83      6\n",
              "85      3\n",
              "88      3\n",
              "87      1\n",
              "86      1\n",
              "Name: edad, Length: 73, dtype: int64"
            ]
          },
          "metadata": {
            "tags": []
          },
          "execution_count": 15
        }
      ]
    },
    {
      "cell_type": "markdown",
      "metadata": {
        "id": "--CHPgYRK4vO"
      },
      "source": [
        "**Conclusiones**\n",
        "\n",
        "Podemos observar que no tiene valores nulos.\n",
        "\n",
        "\"Conclusion\""
      ]
    },
    {
      "cell_type": "markdown",
      "metadata": {
        "id": "7wjyq9IkLyJy"
      },
      "source": [
        "**Educación alcanzada**\n",
        "\n",
        "**Preguntas:**\n",
        "\n",
        "* ¿La columna aporta información relevante?\n",
        "* ¿El dato esta completo en todas las filas?\n",
        "* ¿Los datos tienen mucha varianza?\n",
        "* ¿Aporta valor para realizar una predicción?\n",
        "* ¿Los datos estan balanceados?\n",
        "\n",
        "**Análisis**"
      ]
    },
    {
      "cell_type": "code",
      "metadata": {
        "colab": {
          "base_uri": "https://localhost:8080/"
        },
        "id": "ufNa8VrxL4U0",
        "outputId": "a0562ca3-0e09-4b85-99b8-c0b25c4f56e0"
      },
      "source": [
        "# ¿Tiene valores nulos?\n",
        "df[\"educacion_alcanzada\"].isnull().sum()"
      ],
      "execution_count": 18,
      "outputs": [
        {
          "output_type": "execute_result",
          "data": {
            "text/plain": [
              "0"
            ]
          },
          "metadata": {
            "tags": []
          },
          "execution_count": 18
        }
      ]
    },
    {
      "cell_type": "code",
      "metadata": {
        "colab": {
          "base_uri": "https://localhost:8080/"
        },
        "id": "nJFoGEOKL9ti",
        "outputId": "8ef68365-8d42-424b-9d97-d1f1b4a527b7"
      },
      "source": [
        "df[\"educacion_alcanzada\"].value_counts()"
      ],
      "execution_count": 19,
      "outputs": [
        {
          "output_type": "execute_result",
          "data": {
            "text/plain": [
              "4_anio                10501\n",
              "5_anio                 7291\n",
              "universidad_3_anio     5355\n",
              "universidad_4_anio     1723\n",
              "universidad_1_anio     1382\n",
              "2_anio                 1175\n",
              "universidad_2_anio     1067\n",
              "1_anio                  933\n",
              "7-8_grado               646\n",
              "universiada_5_anio      576\n",
              "9_grado                 514\n",
              "3_anio                  433\n",
              "universiada_6_anio      413\n",
              "5-6_grado               333\n",
              "1-4_grado               168\n",
              "preescolar               51\n",
              "Name: educacion_alcanzada, dtype: int64"
            ]
          },
          "metadata": {
            "tags": []
          },
          "execution_count": 19
        }
      ]
    },
    {
      "cell_type": "markdown",
      "metadata": {
        "id": "GXNlmnKoMJY8"
      },
      "source": [
        "**Conclusiones**\n",
        "\n",
        "Podemos observar que no tiene valores nulos.\n",
        "\n",
        "\"Conclusion\""
      ]
    },
    {
      "cell_type": "markdown",
      "metadata": {
        "id": "HLmQvcDuMT5q"
      },
      "source": [
        "**Estado marital**\n",
        "\n",
        "**Preguntas:**\n",
        "\n",
        "* ¿La columna aporta información relevante?\n",
        "* ¿El dato esta completo en todas las filas?\n",
        "* ¿Los datos tienen mucha varianza?\n",
        "* ¿Aporta valor para realizar una predicción?\n",
        "* ¿Los datos estan balanceados?\n",
        "\n",
        "**Análisis**"
      ]
    },
    {
      "cell_type": "code",
      "metadata": {
        "colab": {
          "base_uri": "https://localhost:8080/"
        },
        "id": "b6AxC27EMZo3",
        "outputId": "06ce9444-ce54-4112-eacc-241d50340e61"
      },
      "source": [
        "# ¿Tiene valores nulos?\n",
        "df[\"estado_marital\"].isnull().sum()"
      ],
      "execution_count": 20,
      "outputs": [
        {
          "output_type": "execute_result",
          "data": {
            "text/plain": [
              "0"
            ]
          },
          "metadata": {
            "tags": []
          },
          "execution_count": 20
        }
      ]
    },
    {
      "cell_type": "code",
      "metadata": {
        "colab": {
          "base_uri": "https://localhost:8080/"
        },
        "id": "_3770cUgMfUk",
        "outputId": "f306c319-2ede-4c96-8b78-5381ba7bc41c"
      },
      "source": [
        "df[\"estado_marital\"].value_counts()"
      ],
      "execution_count": 21,
      "outputs": [
        {
          "output_type": "execute_result",
          "data": {
            "text/plain": [
              "matrimonio_civil      14976\n",
              "sin_matrimonio        10683\n",
              "divorciado             4443\n",
              "separado               1025\n",
              "viudo_a                 993\n",
              "pareja_no_presente      418\n",
              "matrimonio_militar       23\n",
              "Name: estado_marital, dtype: int64"
            ]
          },
          "metadata": {
            "tags": []
          },
          "execution_count": 21
        }
      ]
    },
    {
      "cell_type": "markdown",
      "metadata": {
        "id": "6FH01pUDMwVd"
      },
      "source": [
        "**Conclusiones**\n",
        "\n",
        "Podemos observar que no tiene valores nulos.\n",
        "\n",
        "\"Conclusion\""
      ]
    },
    {
      "cell_type": "markdown",
      "metadata": {
        "id": "SgIjmOe_M9S0"
      },
      "source": [
        "**Ganancia, perdida declarada bolsa argentina**\n",
        "\n",
        "**Preguntas:**\n",
        "\n",
        "* ¿La columna aporta información relevante?\n",
        "* ¿El dato esta completo en todas las filas?\n",
        "* ¿Los datos tienen mucha varianza?\n",
        "* ¿Aporta valor para realizar una predicción?\n",
        "* ¿Los datos estan balanceados?\n",
        "\n",
        "**Análisis**"
      ]
    },
    {
      "cell_type": "code",
      "metadata": {
        "colab": {
          "base_uri": "https://localhost:8080/"
        },
        "id": "SuJ1CnJfNEf0",
        "outputId": "3ad4b997-3172-4ac8-f88e-21b0f6f215ae"
      },
      "source": [
        "# ¿Tiene valores nulos?\n",
        "df[\"ganancia_perdida_declarada_bolsa_argentina\"].isnull().sum()"
      ],
      "execution_count": 22,
      "outputs": [
        {
          "output_type": "execute_result",
          "data": {
            "text/plain": [
              "0"
            ]
          },
          "metadata": {
            "tags": []
          },
          "execution_count": 22
        }
      ]
    },
    {
      "cell_type": "code",
      "metadata": {
        "colab": {
          "base_uri": "https://localhost:8080/"
        },
        "id": "_ADaHv69NHdS",
        "outputId": "d9e93524-b164-432c-ff97-2b0c45c0cca3"
      },
      "source": [
        "df[\"ganancia_perdida_declarada_bolsa_argentina\"].value_counts()"
      ],
      "execution_count": 23,
      "outputs": [
        {
          "output_type": "execute_result",
          "data": {
            "text/plain": [
              " 0        28330\n",
              " 15024      347\n",
              " 7688       284\n",
              " 7298       246\n",
              "-1902       202\n",
              "          ...  \n",
              " 22040        1\n",
              " 2538         1\n",
              "-2467         1\n",
              "-2163         1\n",
              "-2080         1\n",
              "Name: ganancia_perdida_declarada_bolsa_argentina, Length: 210, dtype: int64"
            ]
          },
          "metadata": {
            "tags": []
          },
          "execution_count": 23
        }
      ]
    },
    {
      "cell_type": "markdown",
      "metadata": {
        "id": "qiPcLKTuNSBI"
      },
      "source": [
        "**Conclusiones**\n",
        "\n",
        "Podemos observar que no tiene valores nulos.\n",
        "\n",
        "\"Conclusion\""
      ]
    },
    {
      "cell_type": "markdown",
      "metadata": {
        "id": "dlniA-FUNeet"
      },
      "source": [
        "**Genero**\n",
        "\n",
        "**Preguntas:**\n",
        "\n",
        "* ¿La columna aporta información relevante?\n",
        "* ¿El dato esta completo en todas las filas?\n",
        "* ¿Los datos tienen mucha varianza?\n",
        "* ¿Aporta valor para realizar una predicción?\n",
        "* ¿Los datos estan balanceados?\n",
        "\n",
        "**Análisis**"
      ]
    },
    {
      "cell_type": "code",
      "metadata": {
        "colab": {
          "base_uri": "https://localhost:8080/"
        },
        "id": "ym4O8IJeNhwe",
        "outputId": "8738e5f3-37e7-4984-b1bd-1ebc9f7a1360"
      },
      "source": [
        "# ¿Tiene valores nulos?\n",
        "df[\"genero\"].isnull().sum()"
      ],
      "execution_count": 24,
      "outputs": [
        {
          "output_type": "execute_result",
          "data": {
            "text/plain": [
              "0"
            ]
          },
          "metadata": {
            "tags": []
          },
          "execution_count": 24
        }
      ]
    },
    {
      "cell_type": "code",
      "metadata": {
        "colab": {
          "base_uri": "https://localhost:8080/"
        },
        "id": "olAb8YpNNk_m",
        "outputId": "dd6b6962-298f-4e91-a38c-5e0898fad121"
      },
      "source": [
        "df[\"genero\"].value_counts()"
      ],
      "execution_count": 25,
      "outputs": [
        {
          "output_type": "execute_result",
          "data": {
            "text/plain": [
              "hombre    21790\n",
              "mujer     10771\n",
              "Name: genero, dtype: int64"
            ]
          },
          "metadata": {
            "tags": []
          },
          "execution_count": 25
        }
      ]
    },
    {
      "cell_type": "markdown",
      "metadata": {
        "id": "M29PoauWNrEm"
      },
      "source": [
        "**Conclusiones**\n",
        "\n",
        "Podemos observar que no tiene valores nulos y solo dos valores posibles.\n",
        "\n",
        "\"Conclusion\""
      ]
    },
    {
      "cell_type": "markdown",
      "metadata": {
        "id": "XwCjvZ_LN0tY"
      },
      "source": [
        "**Horas de trabajo registradas**\n",
        "\n",
        "**Preguntas:**\n",
        "\n",
        "* ¿La columna aporta información relevante?\n",
        "* ¿El dato esta completo en todas las filas?\n",
        "* ¿Los datos tienen mucha varianza?\n",
        "* ¿Aporta valor para realizar una predicción?\n",
        "* ¿Los datos estan balanceados?\n",
        "\n",
        "**Análisis**"
      ]
    },
    {
      "cell_type": "code",
      "metadata": {
        "colab": {
          "base_uri": "https://localhost:8080/"
        },
        "id": "yZKVSnjGN4-U",
        "outputId": "9e33347e-b1ff-40e2-97cc-814b86715570"
      },
      "source": [
        "# ¿Tiene valores nulos?\n",
        "df[\"horas_trabajo_registradas\"].isnull().sum()"
      ],
      "execution_count": 26,
      "outputs": [
        {
          "output_type": "execute_result",
          "data": {
            "text/plain": [
              "0"
            ]
          },
          "metadata": {
            "tags": []
          },
          "execution_count": 26
        }
      ]
    },
    {
      "cell_type": "code",
      "metadata": {
        "colab": {
          "base_uri": "https://localhost:8080/"
        },
        "id": "xRXLKNPYN71U",
        "outputId": "b7b3699c-dcd0-4de0-ffef-3d512e3519f9"
      },
      "source": [
        "df[\"horas_trabajo_registradas\"].value_counts()"
      ],
      "execution_count": 27,
      "outputs": [
        {
          "output_type": "execute_result",
          "data": {
            "text/plain": [
              "40    15217\n",
              "50     2819\n",
              "45     1824\n",
              "60     1475\n",
              "35     1297\n",
              "      ...  \n",
              "92        1\n",
              "94        1\n",
              "87        1\n",
              "74        1\n",
              "82        1\n",
              "Name: horas_trabajo_registradas, Length: 94, dtype: int64"
            ]
          },
          "metadata": {
            "tags": []
          },
          "execution_count": 27
        }
      ]
    },
    {
      "cell_type": "markdown",
      "metadata": {
        "id": "cpuAWPGfOSl4"
      },
      "source": [
        "**Conclusiones**\n",
        "\n",
        "Podemos observar que no tiene valores nulos. (Hay unos valores mas representativos)\n",
        "\n",
        "\"Conclusion\""
      ]
    },
    {
      "cell_type": "markdown",
      "metadata": {
        "id": "n3hPVRdUOgy4"
      },
      "source": [
        "**Religion**\n",
        "\n",
        "**Preguntas:**\n",
        "\n",
        "* ¿La columna aporta información relevante?\n",
        "* ¿El dato esta completo en todas las filas?\n",
        "* ¿Los datos tienen mucha varianza?\n",
        "* ¿Aporta valor para realizar una predicción?\n",
        "* ¿Los datos estan balanceados?\n",
        "\n",
        "**Análisis**"
      ]
    },
    {
      "cell_type": "code",
      "metadata": {
        "colab": {
          "base_uri": "https://localhost:8080/"
        },
        "id": "5oeSMUQoOjPQ",
        "outputId": "3f084676-0019-456a-8abc-6a00b68bc56d"
      },
      "source": [
        "# ¿Tiene valores nulos?\n",
        "df[\"religion\"].isnull().sum()"
      ],
      "execution_count": 28,
      "outputs": [
        {
          "output_type": "execute_result",
          "data": {
            "text/plain": [
              "0"
            ]
          },
          "metadata": {
            "tags": []
          },
          "execution_count": 28
        }
      ]
    },
    {
      "cell_type": "code",
      "metadata": {
        "colab": {
          "base_uri": "https://localhost:8080/"
        },
        "id": "VDV6OSSBOl66",
        "outputId": "a4d606c8-894f-4c2d-82af-96f0c11b1fe4"
      },
      "source": [
        "df[\"religion\"].value_counts()"
      ],
      "execution_count": 29,
      "outputs": [
        {
          "output_type": "execute_result",
          "data": {
            "text/plain": [
              "cristianismo    27816\n",
              "judaismo         3124\n",
              "budismo          1039\n",
              "ateismo           311\n",
              "otro              271\n",
              "Name: religion, dtype: int64"
            ]
          },
          "metadata": {
            "tags": []
          },
          "execution_count": 29
        }
      ]
    },
    {
      "cell_type": "markdown",
      "metadata": {
        "id": "7F1juyUhOrrD"
      },
      "source": [
        "**Conclusiones**\n",
        "\n",
        "Podemos observar que no tiene valores nulos. (Hay unos valores mas representativos)\n",
        "\n",
        "\"Conclusion\""
      ]
    },
    {
      "cell_type": "markdown",
      "metadata": {
        "id": "tJSzr9lPO0L_"
      },
      "source": [
        "**Rol familiar registrado**\n",
        "\n",
        "**Preguntas:**\n",
        "\n",
        "* ¿La columna aporta información relevante?\n",
        "* ¿El dato esta completo en todas las filas?\n",
        "* ¿Los datos tienen mucha varianza?\n",
        "* ¿Aporta valor para realizar una predicción?\n",
        "* ¿Los datos estan balanceados?\n",
        "\n",
        "**Análisis**"
      ]
    },
    {
      "cell_type": "code",
      "metadata": {
        "colab": {
          "base_uri": "https://localhost:8080/"
        },
        "id": "RpoDku3RO3sW",
        "outputId": "1ef00a53-f32e-42fb-8604-90e1edbeebbc"
      },
      "source": [
        "# ¿Tiene valores nulos?\n",
        "df[\"rol_familiar_registrado\"].isnull().sum()"
      ],
      "execution_count": 30,
      "outputs": [
        {
          "output_type": "execute_result",
          "data": {
            "text/plain": [
              "0"
            ]
          },
          "metadata": {
            "tags": []
          },
          "execution_count": 30
        }
      ]
    },
    {
      "cell_type": "code",
      "metadata": {
        "colab": {
          "base_uri": "https://localhost:8080/"
        },
        "id": "Ay2jujSlO3x7",
        "outputId": "48fec0f4-c566-4cb6-c2a8-8e8f3c1d1d0e"
      },
      "source": [
        "df[\"rol_familiar_registrado\"].value_counts()"
      ],
      "execution_count": 31,
      "outputs": [
        {
          "output_type": "execute_result",
          "data": {
            "text/plain": [
              "casado         13193\n",
              "sin_familia     8305\n",
              "con_hijos       5068\n",
              "soltero_a       3446\n",
              "casada          1568\n",
              "otro             981\n",
              "Name: rol_familiar_registrado, dtype: int64"
            ]
          },
          "metadata": {
            "tags": []
          },
          "execution_count": 31
        }
      ]
    },
    {
      "cell_type": "markdown",
      "metadata": {
        "id": "n2qPpVt0PC0L"
      },
      "source": [
        "**Conclusiones**\n",
        "\n",
        "Podemos observar que no tiene valores nulos. (Hay unos valores mas representativos y tambien hay que unificar los valores de casado y casada)\n",
        "\n",
        "\"Conclusion\""
      ]
    },
    {
      "cell_type": "markdown",
      "metadata": {
        "id": "_zDdA4asPQNt"
      },
      "source": [
        "**Trabajo**\n",
        "\n",
        "**Preguntas:**\n",
        "\n",
        "* ¿La columna aporta información relevante?\n",
        "* ¿El dato esta completo en todas las filas?\n",
        "* ¿Los datos tienen mucha varianza?\n",
        "* ¿Aporta valor para realizar una predicción?\n",
        "* ¿Los datos estan balanceados?\n",
        "\n",
        "**Análisis**"
      ]
    },
    {
      "cell_type": "code",
      "metadata": {
        "colab": {
          "base_uri": "https://localhost:8080/"
        },
        "id": "LklnMe_hPUT1",
        "outputId": "d741e422-5b3a-45ed-da17-6de30daea9b4"
      },
      "source": [
        "# ¿Tiene valores nulos?\n",
        "df[\"trabajo\"].isnull().sum()"
      ],
      "execution_count": 32,
      "outputs": [
        {
          "output_type": "execute_result",
          "data": {
            "text/plain": [
              "1843"
            ]
          },
          "metadata": {
            "tags": []
          },
          "execution_count": 32
        }
      ]
    },
    {
      "cell_type": "code",
      "metadata": {
        "colab": {
          "base_uri": "https://localhost:8080/"
        },
        "id": "OpgPJkD4PUYi",
        "outputId": "5b82dcb8-d390-4c09-d6af-237183c8e44b"
      },
      "source": [
        "df[\"trabajo\"].value_counts()"
      ],
      "execution_count": 33,
      "outputs": [
        {
          "output_type": "execute_result",
          "data": {
            "text/plain": [
              "profesional_especializado    4140\n",
              "reparador                    4099\n",
              "directivo_gerente            4066\n",
              "entretenimiento              3770\n",
              "ventas                       3650\n",
              "otros                        3295\n",
              "inspector                    2002\n",
              "transporte                   1597\n",
              "limpiador                    1370\n",
              "sector_primario               994\n",
              "soporte_tecnico               928\n",
              "seguridad                     649\n",
              "servicio_domestico            149\n",
              "ejercito                        9\n",
              "Name: trabajo, dtype: int64"
            ]
          },
          "metadata": {
            "tags": []
          },
          "execution_count": 33
        }
      ]
    },
    {
      "cell_type": "markdown",
      "metadata": {
        "id": "BxegqGUQPgGg"
      },
      "source": [
        "**Conclusiones**\n",
        "\n",
        "Podemos observar que esta columna tiene un faltante de 1843 del total de valores (5,7 %). (Hay unos valores pocos representativos)\n",
        "\n",
        "\"Conclusion\""
      ]
    },
    {
      "cell_type": "markdown",
      "metadata": {
        "id": "bW6vgP1OLFpm"
      },
      "source": [
        "**Relación entre columnas**"
      ]
    },
    {
      "cell_type": "markdown",
      "metadata": {
        "id": "pqF-dWaRMoY4"
      },
      "source": [
        "**Conclusión final**"
      ]
    },
    {
      "cell_type": "markdown",
      "metadata": {
        "id": "JYRQ6PDcLKLi"
      },
      "source": [
        "**Feature Engineering**"
      ]
    },
    {
      "cell_type": "code",
      "metadata": {
        "id": "IooX5XT6LLYy"
      },
      "source": [
        "def FeatureEngineering(df):\n",
        "    \n",
        "    df_clean = df.copy()\n",
        "            \n",
        "    return df_clean"
      ],
      "execution_count": null,
      "outputs": []
    },
    {
      "cell_type": "code",
      "metadata": {
        "id": "AiannyBKLYyD"
      },
      "source": [
        "def Predict(df):\n",
        "    pred = []\n",
        "    values = df.values\n",
        "\n",
        "    # for val in values:\n",
        "    #     if val[1] == 'hombre':\n",
        "    #         pred.append(0)\n",
        "    #     else:\n",
        "    #         if (val[0] == '4d' and val[4] == 'Palermo'):\n",
        "    #             pred.append(0)\n",
        "    #         else:\n",
        "    #             pred.append(1)\n",
        "     \n",
        "    return pred"
      ],
      "execution_count": null,
      "outputs": []
    },
    {
      "cell_type": "code",
      "metadata": {
        "id": "GwTNIYBxLiMF"
      },
      "source": [
        "def baseline(df):\n",
        "    \"\"\"    \n",
        "    Input: dataframe\n",
        "    Output: lista con las predicciones    \n",
        "    \"\"\"    \n",
        "    # Aplicamos feature engineering a los datos de entrada\n",
        "    entrada = FeatureEngineering(df)\n",
        "    pred = Predict(entrada)\n",
        "    \n",
        "    return pred"
      ],
      "execution_count": null,
      "outputs": []
    },
    {
      "cell_type": "code",
      "metadata": {
        "id": "yY_K4_0GLnG4"
      },
      "source": [
        "# Generamos dataframe para probar\n",
        "df_datos_test = GetData()\n",
        "df_datos_valor_adquisitivo = df_datos_test[\"tiene_alto_valor_adquisitivo\"]\n",
        "\n",
        "predicciones = baseline(df_datos_test)\n",
        "accuracy_score(df_datos_valor_adquisitivo, predicciones)"
      ],
      "execution_count": null,
      "outputs": []
    },
    {
      "cell_type": "code",
      "metadata": {
        "id": "n_gqowdMMeJG"
      },
      "source": [
        ""
      ],
      "execution_count": null,
      "outputs": []
    }
  ]
}