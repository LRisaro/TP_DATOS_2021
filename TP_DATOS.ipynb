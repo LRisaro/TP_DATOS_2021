{
  "nbformat": 4,
  "nbformat_minor": 0,
  "metadata": {
    "colab": {
      "name": "TP_DATOS.ipynb",
      "provenance": []
    },
    "kernelspec": {
      "name": "python3",
      "display_name": "Python 3"
    },
    "language_info": {
      "name": "python"
    }
  },
  "cells": [
    {
      "cell_type": "markdown",
      "metadata": {
        "id": "view-in-github"
      },
      "source": [
        "<a href=\"https://colab.research.google.com/github/LRisaro/TP_DATOS_2021/blob/main/TP_DATOS.ipynb\" target=\"_parent\"><img src=\"https://colab.research.google.com/assets/colab-badge.svg\" alt=\"Open In Colab\"/></a>"
      ]
    },
    {
      "cell_type": "code",
      "metadata": {
        "id": "-4JXiZchjruK"
      },
      "source": [
        "import pandas as pd\n",
        "import numpy as np\n",
        "from pandas_profiling import ProfileReport\n",
        "from matplotlib import pyplot as plt\n",
        "import seaborn as sbn\n",
        "from sklearn import tree\n",
        "from sklearn.metrics import accuracy_score\n",
        "\n",
        "%matplotlib inline\n",
        "\n",
        "plt.style.use('default') \n",
        "\n",
        "sbn.set(style=\"whitegrid\") "
      ],
      "execution_count": 2,
      "outputs": []
    },
    {
      "cell_type": "code",
      "metadata": {
        "id": "i0rlXS-7vHRL"
      },
      "source": [
        "def GetData():\n",
        "  return pd.read_csv(\"https://docs.google.com/spreadsheets/d/1-DWTP8uwVS-dZY402-dm0F9ICw_6PNqDGLmH0u8Eqa0/export?format=csv&gid=2054774482\")"
      ],
      "execution_count": 7,
      "outputs": []
    },
    {
      "cell_type": "markdown",
      "metadata": {
        "id": "jmhw2QgWEFX5"
      },
      "source": [
        "**Inspección inicial de datos**"
      ]
    },
    {
      "cell_type": "code",
      "metadata": {
        "id": "FPgxoSmxwbAP",
        "colab": {
          "base_uri": "https://localhost:8080/",
          "height": 439
        },
        "outputId": "0739b953-4c74-4f0e-9c19-5ca90b2aaf1a"
      },
      "source": [
        "df = GetData()\n",
        "df"
      ],
      "execution_count": 11,
      "outputs": [
        {
          "output_type": "execute_result",
          "data": {
            "text/html": [
              "<div>\n",
              "<style scoped>\n",
              "    .dataframe tbody tr th:only-of-type {\n",
              "        vertical-align: middle;\n",
              "    }\n",
              "\n",
              "    .dataframe tbody tr th {\n",
              "        vertical-align: top;\n",
              "    }\n",
              "\n",
              "    .dataframe thead th {\n",
              "        text-align: right;\n",
              "    }\n",
              "</style>\n",
              "<table border=\"1\" class=\"dataframe\">\n",
              "  <thead>\n",
              "    <tr style=\"text-align: right;\">\n",
              "      <th></th>\n",
              "      <th>anios_estudiados</th>\n",
              "      <th>barrio</th>\n",
              "      <th>categoria_de_trabajo</th>\n",
              "      <th>edad</th>\n",
              "      <th>educacion_alcanzada</th>\n",
              "      <th>estado_marital</th>\n",
              "      <th>ganancia_perdida_declarada_bolsa_argentina</th>\n",
              "      <th>genero</th>\n",
              "      <th>horas_trabajo_registradas</th>\n",
              "      <th>religion</th>\n",
              "      <th>rol_familiar_registrado</th>\n",
              "      <th>tiene_alto_valor_adquisitivo</th>\n",
              "      <th>trabajo</th>\n",
              "    </tr>\n",
              "  </thead>\n",
              "  <tbody>\n",
              "    <tr>\n",
              "      <th>0</th>\n",
              "      <td>17</td>\n",
              "      <td>Palermo</td>\n",
              "      <td>empleado_provincial</td>\n",
              "      <td>39</td>\n",
              "      <td>universidad_3_anio</td>\n",
              "      <td>sin_matrimonio</td>\n",
              "      <td>2174</td>\n",
              "      <td>hombre</td>\n",
              "      <td>40</td>\n",
              "      <td>cristianismo</td>\n",
              "      <td>sin_familia</td>\n",
              "      <td>0</td>\n",
              "      <td>entretenimiento</td>\n",
              "    </tr>\n",
              "    <tr>\n",
              "      <th>1</th>\n",
              "      <td>17</td>\n",
              "      <td>Palermo</td>\n",
              "      <td>monotibutista</td>\n",
              "      <td>50</td>\n",
              "      <td>universidad_3_anio</td>\n",
              "      <td>matrimonio_civil</td>\n",
              "      <td>0</td>\n",
              "      <td>hombre</td>\n",
              "      <td>13</td>\n",
              "      <td>cristianismo</td>\n",
              "      <td>casado</td>\n",
              "      <td>0</td>\n",
              "      <td>directivo_gerente</td>\n",
              "    </tr>\n",
              "    <tr>\n",
              "      <th>2</th>\n",
              "      <td>13</td>\n",
              "      <td>Palermo</td>\n",
              "      <td>relacion_de_dependencia</td>\n",
              "      <td>38</td>\n",
              "      <td>4_anio</td>\n",
              "      <td>divorciado</td>\n",
              "      <td>0</td>\n",
              "      <td>hombre</td>\n",
              "      <td>40</td>\n",
              "      <td>cristianismo</td>\n",
              "      <td>sin_familia</td>\n",
              "      <td>0</td>\n",
              "      <td>limpiador</td>\n",
              "    </tr>\n",
              "    <tr>\n",
              "      <th>3</th>\n",
              "      <td>11</td>\n",
              "      <td>Palermo</td>\n",
              "      <td>relacion_de_dependencia</td>\n",
              "      <td>53</td>\n",
              "      <td>2_anio</td>\n",
              "      <td>matrimonio_civil</td>\n",
              "      <td>0</td>\n",
              "      <td>hombre</td>\n",
              "      <td>40</td>\n",
              "      <td>judaismo</td>\n",
              "      <td>casado</td>\n",
              "      <td>0</td>\n",
              "      <td>limpiador</td>\n",
              "    </tr>\n",
              "    <tr>\n",
              "      <th>4</th>\n",
              "      <td>17</td>\n",
              "      <td>Balvanera</td>\n",
              "      <td>relacion_de_dependencia</td>\n",
              "      <td>28</td>\n",
              "      <td>universidad_3_anio</td>\n",
              "      <td>matrimonio_civil</td>\n",
              "      <td>0</td>\n",
              "      <td>mujer</td>\n",
              "      <td>40</td>\n",
              "      <td>judaismo</td>\n",
              "      <td>casada</td>\n",
              "      <td>0</td>\n",
              "      <td>profesional_especializado</td>\n",
              "    </tr>\n",
              "    <tr>\n",
              "      <th>...</th>\n",
              "      <td>...</td>\n",
              "      <td>...</td>\n",
              "      <td>...</td>\n",
              "      <td>...</td>\n",
              "      <td>...</td>\n",
              "      <td>...</td>\n",
              "      <td>...</td>\n",
              "      <td>...</td>\n",
              "      <td>...</td>\n",
              "      <td>...</td>\n",
              "      <td>...</td>\n",
              "      <td>...</td>\n",
              "      <td>...</td>\n",
              "    </tr>\n",
              "    <tr>\n",
              "      <th>32556</th>\n",
              "      <td>16</td>\n",
              "      <td>Palermo</td>\n",
              "      <td>relacion_de_dependencia</td>\n",
              "      <td>27</td>\n",
              "      <td>universidad_2_anio</td>\n",
              "      <td>matrimonio_civil</td>\n",
              "      <td>0</td>\n",
              "      <td>mujer</td>\n",
              "      <td>38</td>\n",
              "      <td>cristianismo</td>\n",
              "      <td>casada</td>\n",
              "      <td>0</td>\n",
              "      <td>soporte_tecnico</td>\n",
              "    </tr>\n",
              "    <tr>\n",
              "      <th>32557</th>\n",
              "      <td>13</td>\n",
              "      <td>Palermo</td>\n",
              "      <td>relacion_de_dependencia</td>\n",
              "      <td>40</td>\n",
              "      <td>4_anio</td>\n",
              "      <td>matrimonio_civil</td>\n",
              "      <td>0</td>\n",
              "      <td>hombre</td>\n",
              "      <td>40</td>\n",
              "      <td>cristianismo</td>\n",
              "      <td>casado</td>\n",
              "      <td>1</td>\n",
              "      <td>inspector</td>\n",
              "    </tr>\n",
              "    <tr>\n",
              "      <th>32558</th>\n",
              "      <td>13</td>\n",
              "      <td>Palermo</td>\n",
              "      <td>relacion_de_dependencia</td>\n",
              "      <td>58</td>\n",
              "      <td>4_anio</td>\n",
              "      <td>viudo_a</td>\n",
              "      <td>0</td>\n",
              "      <td>mujer</td>\n",
              "      <td>40</td>\n",
              "      <td>cristianismo</td>\n",
              "      <td>soltero_a</td>\n",
              "      <td>0</td>\n",
              "      <td>entretenimiento</td>\n",
              "    </tr>\n",
              "    <tr>\n",
              "      <th>32559</th>\n",
              "      <td>13</td>\n",
              "      <td>Palermo</td>\n",
              "      <td>relacion_de_dependencia</td>\n",
              "      <td>22</td>\n",
              "      <td>4_anio</td>\n",
              "      <td>sin_matrimonio</td>\n",
              "      <td>0</td>\n",
              "      <td>hombre</td>\n",
              "      <td>20</td>\n",
              "      <td>cristianismo</td>\n",
              "      <td>con_hijos</td>\n",
              "      <td>0</td>\n",
              "      <td>entretenimiento</td>\n",
              "    </tr>\n",
              "    <tr>\n",
              "      <th>32560</th>\n",
              "      <td>13</td>\n",
              "      <td>Palermo</td>\n",
              "      <td>responsable_inscripto</td>\n",
              "      <td>52</td>\n",
              "      <td>4_anio</td>\n",
              "      <td>matrimonio_civil</td>\n",
              "      <td>15024</td>\n",
              "      <td>mujer</td>\n",
              "      <td>40</td>\n",
              "      <td>cristianismo</td>\n",
              "      <td>casada</td>\n",
              "      <td>1</td>\n",
              "      <td>directivo_gerente</td>\n",
              "    </tr>\n",
              "  </tbody>\n",
              "</table>\n",
              "<p>32561 rows × 13 columns</p>\n",
              "</div>"
            ],
            "text/plain": [
              "       anios_estudiados  ...                    trabajo\n",
              "0                    17  ...            entretenimiento\n",
              "1                    17  ...          directivo_gerente\n",
              "2                    13  ...                  limpiador\n",
              "3                    11  ...                  limpiador\n",
              "4                    17  ...  profesional_especializado\n",
              "...                 ...  ...                        ...\n",
              "32556                16  ...            soporte_tecnico\n",
              "32557                13  ...                  inspector\n",
              "32558                13  ...            entretenimiento\n",
              "32559                13  ...            entretenimiento\n",
              "32560                13  ...          directivo_gerente\n",
              "\n",
              "[32561 rows x 13 columns]"
            ]
          },
          "metadata": {
            "tags": []
          },
          "execution_count": 11
        }
      ]
    },
    {
      "cell_type": "code",
      "metadata": {
        "colab": {
          "base_uri": "https://localhost:8080/"
        },
        "id": "f3hgBmLhETTf",
        "outputId": "4186f327-b5c1-4851-d8b2-c2637a29c168"
      },
      "source": [
        "# Inspeccionamos las dimensiones iniciales del dataframe\n",
        "df.shape"
      ],
      "execution_count": 12,
      "outputs": [
        {
          "output_type": "execute_result",
          "data": {
            "text/plain": [
              "(32561, 13)"
            ]
          },
          "metadata": {
            "tags": []
          },
          "execution_count": 12
        }
      ]
    },
    {
      "cell_type": "code",
      "metadata": {
        "colab": {
          "base_uri": "https://localhost:8080/"
        },
        "id": "LXTw4PeAFNz9",
        "outputId": "68e0a6e4-3262-4622-f3bd-374d11e20775"
      },
      "source": [
        "# Verifico que \"tiene_alto_valor_adquisitivo\" no tenga valores nulos\n",
        "df['tiene_alto_valor_adquisitivo'].isnull().sum()"
      ],
      "execution_count": 14,
      "outputs": [
        {
          "output_type": "execute_result",
          "data": {
            "text/plain": [
              "0"
            ]
          },
          "metadata": {
            "tags": []
          },
          "execution_count": 14
        }
      ]
    },
    {
      "cell_type": "code",
      "metadata": {
        "colab": {
          "base_uri": "https://localhost:8080/"
        },
        "id": "7XSgy_mwFx50",
        "outputId": "94833ab1-205a-48dd-9f26-8896c8cae449"
      },
      "source": [
        "# Verificamos si hay campos con valores nulos\n",
        "df.isnull().sum()"
      ],
      "execution_count": 19,
      "outputs": [
        {
          "output_type": "execute_result",
          "data": {
            "text/plain": [
              "anios_estudiados                                 0\n",
              "barrio                                         583\n",
              "categoria_de_trabajo                          1836\n",
              "edad                                             0\n",
              "educacion_alcanzada                              0\n",
              "estado_marital                                   0\n",
              "ganancia_perdida_declarada_bolsa_argentina       0\n",
              "genero                                           0\n",
              "horas_trabajo_registradas                        0\n",
              "religion                                         0\n",
              "rol_familiar_registrado                          0\n",
              "tiene_alto_valor_adquisitivo                     0\n",
              "trabajo                                       1843\n",
              "dtype: int64"
            ]
          },
          "metadata": {
            "tags": []
          },
          "execution_count": 19
        }
      ]
    },
    {
      "cell_type": "markdown",
      "metadata": {
        "id": "2KVfwl5QHOln"
      },
      "source": [
        "**Análisis de columnas**"
      ]
    },
    {
      "cell_type": "markdown",
      "metadata": {
        "id": "m-u5efnkHjy6"
      },
      "source": [
        "**Categoria de trabajo**\n",
        "\n",
        "**Preguntas:**\n",
        "\n",
        "* ¿La columna aporta información relevante?\n",
        "* ¿El dato esta completo en todas las filas?\n",
        "* ¿Los datos tienen mucha varianza?\n",
        "* ¿Aporta valor para realizar una predicción?\n",
        "\n",
        "**Análisis**\n"
      ]
    },
    {
      "cell_type": "code",
      "metadata": {
        "colab": {
          "base_uri": "https://localhost:8080/"
        },
        "id": "qqUmKIdEHQI8",
        "outputId": "922b34a0-4028-4ab6-beba-4988cd99934c"
      },
      "source": [
        "df[\"categoria_de_trabajo\"].value_counts()"
      ],
      "execution_count": 24,
      "outputs": [
        {
          "output_type": "execute_result",
          "data": {
            "text/plain": [
              "relacion_de_dependencia    22696\n",
              "monotibutista               2541\n",
              "empleado_municipal          2093\n",
              "empleado_provincial         1298\n",
              "responsable_inscripto       1116\n",
              "empleadao_estatal            960\n",
              "trabajo_voluntariado          14\n",
              "sin_trabajo                    7\n",
              "Name: categoria_de_trabajo, dtype: int64"
            ]
          },
          "metadata": {
            "tags": []
          },
          "execution_count": 24
        }
      ]
    },
    {
      "cell_type": "code",
      "metadata": {
        "colab": {
          "base_uri": "https://localhost:8080/"
        },
        "id": "vLcEJGiUJgYu",
        "outputId": "e67c23bd-4b7e-4d17-c40b-12bc01791d0c"
      },
      "source": [
        "# Tiene valores nulos?\n",
        "df[\"categoria_de_trabajo\"].isnull().sum()"
      ],
      "execution_count": 26,
      "outputs": [
        {
          "output_type": "execute_result",
          "data": {
            "text/plain": [
              "1836"
            ]
          },
          "metadata": {
            "tags": []
          },
          "execution_count": 26
        }
      ]
    },
    {
      "cell_type": "markdown",
      "metadata": {
        "id": "p0jl_KDaI17S"
      },
      "source": [
        "**Conclusiones**\n",
        "\n",
        "Podemos observar que faltan 1836 de los 32561 valores (5,6 %)."
      ]
    },
    {
      "cell_type": "markdown",
      "metadata": {
        "id": "bW6vgP1OLFpm"
      },
      "source": [
        "**Relación entre columnas**"
      ]
    },
    {
      "cell_type": "markdown",
      "metadata": {
        "id": "pqF-dWaRMoY4"
      },
      "source": [
        "**Conclusión final**"
      ]
    },
    {
      "cell_type": "markdown",
      "metadata": {
        "id": "JYRQ6PDcLKLi"
      },
      "source": [
        "**Feature Engineering**"
      ]
    },
    {
      "cell_type": "code",
      "metadata": {
        "id": "IooX5XT6LLYy"
      },
      "source": [
        "def FeatureEngineering(df):\n",
        "    \n",
        "    df_clean = df.copy()\n",
        "            \n",
        "    return df_clean"
      ],
      "execution_count": 27,
      "outputs": []
    },
    {
      "cell_type": "code",
      "metadata": {
        "id": "AiannyBKLYyD"
      },
      "source": [
        "def Predict(df):\n",
        "    pred = []\n",
        "    values = df.values\n",
        "\n",
        "    # for val in values:\n",
        "    #     if val[1] == 'hombre':\n",
        "    #         pred.append(0)\n",
        "    #     else:\n",
        "    #         if (val[0] == '4d' and val[4] == 'Palermo'):\n",
        "    #             pred.append(0)\n",
        "    #         else:\n",
        "    #             pred.append(1)\n",
        "     \n",
        "    return pred"
      ],
      "execution_count": 28,
      "outputs": []
    },
    {
      "cell_type": "code",
      "metadata": {
        "id": "GwTNIYBxLiMF"
      },
      "source": [
        "def baseline(df):\n",
        "    \"\"\"    \n",
        "    Input: dataframe\n",
        "    Output: lista con las predicciones    \n",
        "    \"\"\"    \n",
        "    # Aplicamos feature engineering a los datos de entrada\n",
        "    entrada = FeatureEngineering(df)\n",
        "    pred = Predict(entrada)\n",
        "    \n",
        "    return pred"
      ],
      "execution_count": 29,
      "outputs": []
    },
    {
      "cell_type": "code",
      "metadata": {
        "id": "yY_K4_0GLnG4"
      },
      "source": [
        "# Generamos dataframe para probar\n",
        "df_datos_test = GetData()\n",
        "df_datos_valor_adquisitivo = df_datos_test[\"tiene_alto_valor_adquisitivo\"]\n",
        "\n",
        "predicciones = baseline(df_datos_test)\n",
        "accuracy_score(df_datos_valor_adquisitivo, predicciones)"
      ],
      "execution_count": null,
      "outputs": []
    },
    {
      "cell_type": "code",
      "metadata": {
        "id": "n_gqowdMMeJG"
      },
      "source": [
        ""
      ],
      "execution_count": null,
      "outputs": []
    }
  ]
}